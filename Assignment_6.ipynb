{
 "cells": [
  {
   "cell_type": "markdown",
   "id": "44d39ed7-2825-427e-be9e-cdc85ae2bfd6",
   "metadata": {},
   "source": [
    "# Assignment_6"
   ]
  },
  {
   "cell_type": "markdown",
   "id": "27ab7d77-168d-44ed-b8bb-63f74197b284",
   "metadata": {},
   "source": [
    "## 1. What are escape characters, and how do you use them?"
   ]
  },
  {
   "cell_type": "code",
   "execution_count": null,
   "id": "f74db6e8-70cd-4e0a-abce-fc250e3a324c",
   "metadata": {},
   "outputs": [],
   "source": [
    "#Solution\n",
    "Escape characters are special characters that are used to represent certain non-printable or reserved characters within strings. They allow us to include characters in strings that would otherwise be difficult or impossible to include directly. Escape characters are typically preceded by a backslash (\\) to indicate that the following character should be treated specially.\n",
    "Here are some commonly used escape characters and their meanings:\n",
    "1.  \\n: Represents a newline character. It is used to create a new line in the string.\n",
    "    print(\"Hello,\\nWorld!\")\n",
    "    Output:\n",
    "    Hello,\n",
    "    World!\n",
    "2.  \\t: Represents a tab character. It adds horizontal indentation to the string.\n",
    "    print(\"Name:\\tJohn\")\n",
    "    Output:\n",
    "    Name:   John\n",
    "3.  \\\\: Represents a literal backslash character.\n",
    "    print(\"This is a backslash: \\\\\")\n",
    "    Output:\n",
    "    This is a backslash: \\\n",
    "4.  \\\" and \\': Represent double and single quotation marks within a string, respectively.\n",
    "    print(\"She said, \\\"Hello!\\\"\")\n",
    "    print('He\\'s coming.')\n",
    "    Output:\n",
    "    She said, \"Hello!\"\n",
    "    He's coming.\n",
    "5.  '\\b': Represents a backspace character, which moves the cursor one space backward.\n",
    "    print(\"Hello\\bWorld\")\n",
    "    Output:\n",
    "    HellWorld\n",
    "6.  '\\r': Represents a carriage return, which moves the cursor to the beginning of the current line.\n",
    "    print(\"Hello\\rWorld\")\n",
    "    Output:\n",
    "    World\n",
    "7.  '\\u' and '\\U': Used to represent Unicode characters using their hexadecimal code points.\n",
    "    print(\"\\u03A9\")  # Represents the Greek letter Omega (Ω)"
   ]
  },
  {
   "cell_type": "markdown",
   "id": "a311bf4b-8625-4880-af53-5a31a99f9dd9",
   "metadata": {},
   "source": [
    "## 2. What do the escape characters n and t stand for?"
   ]
  },
  {
   "cell_type": "code",
   "execution_count": null,
   "id": "a70f7bf9-9291-4536-960f-41426de45fce",
   "metadata": {},
   "outputs": [],
   "source": [
    "#Solution\n",
    "1.  \\n: The escape sequence '\\n' represents a newline character. It is used to create a new line in the string.\n",
    "    print(\"Hello,\\nWorld!\")\n",
    "    Output:\n",
    "    Hello,\n",
    "    World!\n",
    "2.  \\t: The escape sequence '\\t 'represents a tab character. It adds horizontal indentation to the string.\n",
    "    print(\"Name:\\tJohn\")\n",
    "    Output:\n",
    "    Name:   John"
   ]
  },
  {
   "cell_type": "markdown",
   "id": "f8864a03-20f2-4f37-b872-c687da0bee89",
   "metadata": {},
   "source": [
    "## 3. What is the way to include backslash characters in a string?"
   ]
  },
  {
   "cell_type": "code",
   "execution_count": null,
   "id": "5fd431f1-58b9-4540-9fd8-d04fecb90642",
   "metadata": {},
   "outputs": [],
   "source": [
    "#Solution\n",
    "To include a backslash character (\\) in a string in Python, we need to use a double backslash \\\\. This is because the backslash is an escape character itself, and using \\\\ represents a literal backslash.\n",
    "Here's an example:\n",
    "print(\"This is a backslash: \\\\\")\n",
    "Output:\n",
    "This is a backslash: \\    "
   ]
  },
  {
   "cell_type": "markdown",
   "id": "d969ee29-e71e-465f-9030-46349efa0b35",
   "metadata": {},
   "source": [
    "## 4. The string \"Howl's Moving Castle\" is a correct value. Why isn't the single quote character in the word Howl's not escaped a problem?"
   ]
  },
  {
   "cell_type": "code",
   "execution_count": null,
   "id": "57e99974-8be6-43b2-8ed4-21a499a6541a",
   "metadata": {},
   "outputs": [],
   "source": [
    "#Solution\n",
    "In Python, we can include single quotes within a string that is enclosed by double quotes, and vice versa, without needing to escape them. This is because Python allows us to use one type of quote as long as the other type is included within the string. In our example, the single quote within the double-quoted string \"Howl's Moving Castle\" is not causing a problem because it's considered part of the string itself.\n",
    "For example:\n",
    "title = \"Howl's Moving Castle\"\n",
    "print(title)\n",
    "Output:\n",
    "Howl's Moving Castle  "
   ]
  },
  {
   "cell_type": "markdown",
   "id": "bec7b475-b41b-4990-ae2a-96e5147789fa",
   "metadata": {},
   "source": [
    "## 5. How do you write a string of newlines if you don't want to use the n character?"
   ]
  },
  {
   "cell_type": "code",
   "execution_count": null,
   "id": "6bc05aff-13a0-457b-b41c-6add2c9818d9",
   "metadata": {},
   "outputs": [],
   "source": [
    "#Solution\n",
    "If we don't want to use the escape character \\n to represent newlines, we can achieve the same result using multi-line string literals. Multi-line strings allow us to write strings that span multiple lines without explicitly using the \\n escape sequence.\n",
    "In Python, we can create multi-line strings using triple quotes (''' or \"\"\"). Here's an example:\n",
    "    multiline_string = '''This is a string\n",
    "    that spans multiple lines\n",
    "    without using \\\\n.'''\n",
    "    print(multiline_string)\n",
    "Output:\n",
    "    This is a string\n",
    "    that spans multiple lines\n",
    "    without using \\n."
   ]
  },
  {
   "cell_type": "markdown",
   "id": "6c862e48-4b02-4c52-a0b9-52fd2589cb86",
   "metadata": {},
   "source": [
    "## 6. What are the values of the given expressions?\n",
    "    'Hello, world!'[1]\n",
    "    'Hello, world!'[0:5]\n",
    "    'Hello, world!'[:5]\n",
    "    'Hello, world!'[3:]"
   ]
  },
  {
   "cell_type": "code",
   "execution_count": 3,
   "id": "1e7504ac-c452-4611-8089-f0bbce5bfe54",
   "metadata": {},
   "outputs": [
    {
     "name": "stdout",
     "output_type": "stream",
     "text": [
      "e\n",
      "Hello\n",
      "Hello\n",
      "lo, world!\n"
     ]
    }
   ],
   "source": [
    "#Solution\n",
    "#The respective output of the above code are as follows:\n",
    "print('Hello, world!'[1])\n",
    "print('Hello, world!'[0:5])\n",
    "print('Hello, world!'[:5])\n",
    "print('Hello, world!'[3:])"
   ]
  },
  {
   "cell_type": "markdown",
   "id": "1d315249-9370-43fa-8a43-ba39c55443b8",
   "metadata": {},
   "source": [
    "## 7. What are the values of the following expressions?\n",
    "    'Hello'.upper()\n",
    "    'Hello'.upper().isupper()\n",
    "    'Hello'.upper().lower()"
   ]
  },
  {
   "cell_type": "code",
   "execution_count": 4,
   "id": "539346ff-5349-4682-a1fc-efb6bcf615c2",
   "metadata": {},
   "outputs": [
    {
     "name": "stdout",
     "output_type": "stream",
     "text": [
      "HELLO\n",
      "True\n",
      "hello\n"
     ]
    }
   ],
   "source": [
    "#Solution\n",
    "#The respective output of the above code are as follows:\n",
    "print('Hello'.upper())\n",
    "print('Hello'.upper().isupper())\n",
    "print('Hello'.upper().lower())"
   ]
  },
  {
   "cell_type": "markdown",
   "id": "edbbae26-97d2-4591-a698-f2def8ce19ed",
   "metadata": {},
   "source": [
    "## 8. What are the values of the following expressions?\n",
    "    'Remember, remember, the fifth of July'.split()\n",
    "    '-'.join(\"There can only one'.split())"
   ]
  },
  {
   "cell_type": "code",
   "execution_count": 6,
   "id": "d154c80d-eef9-48d4-9ed0-4164d8be3ae0",
   "metadata": {},
   "outputs": [
    {
     "name": "stdout",
     "output_type": "stream",
     "text": [
      "['Remember,', 'remember,', 'the', 'fifth', 'of', 'July']\n",
      "There-can-only-one\n"
     ]
    }
   ],
   "source": [
    "#Solution\n",
    "#The respective output of the above code are as follows:\n",
    "print('Remember, remember, the fifth of July'.split())\n",
    "print('-'.join('There can only one'.split()))"
   ]
  },
  {
   "cell_type": "markdown",
   "id": "b37986d5-30ac-46cf-aa4d-1979a8498fb4",
   "metadata": {},
   "source": [
    "## 9. What are the methods for right-justifying, left-justifying, and centering a string?"
   ]
  },
  {
   "cell_type": "code",
   "execution_count": null,
   "id": "a658c244-e920-4010-9245-232b742cb0b6",
   "metadata": {},
   "outputs": [],
   "source": [
    "#Solution\n",
    "In Python, strings have three methods that allow you to adjust their alignment within a specified width:\n",
    "1. Right-justifying: The str.rjust(width, fillchar) method is used to right-justify a string within a specified width. It pads the string with the fillchar character on the left side to reach the specified width.\n",
    "    text = \"Hello\"\n",
    "    width = 10\n",
    "    padded_text = text.rjust(width, '-')\n",
    "    print(padded_text)\n",
    "    Output:\n",
    "    -----Hello\n",
    "2. Left-justifying: The str.ljust(width, fillchar) method is used to left-justify a string within a specified width. It pads the string with the fillchar character on the right side to reach the specified width.\n",
    "    text = \"Hello\"\n",
    "    width = 10\n",
    "    padded_text = text.ljust(width, '-')\n",
    "    print(padded_text)\n",
    "    Output:\n",
    "    Hello-----\n",
    "3.  Centering: The str.center(width, fillchar) method is used to center a string within a specified width. It pads the string with the fillchar character on both sides to achieve the centered alignment.\n",
    "    text = \"Hello\"\n",
    "    width = 10\n",
    "    padded_text = text.center(width, '-')\n",
    "    print(padded_text)\n",
    "    Output:\n",
    "    --Hello---"
   ]
  },
  {
   "cell_type": "markdown",
   "id": "bebb2467-5518-4081-9294-78b4fa82d30a",
   "metadata": {},
   "source": [
    "## 10. What is the best way to remove whitespace characters from the start or end?"
   ]
  },
  {
   "cell_type": "code",
   "execution_count": null,
   "id": "78d77472-4cb3-47d6-b3b4-88f61748f3ae",
   "metadata": {},
   "outputs": [],
   "source": [
    "#Solution\n",
    "To remove whitespace characters from the start or end of a string in Python, we can use the following string methods:\n",
    "1. 'str.strip()': This method removes whitespace characters (spaces, tabs, newlines) from both the beginning and end of the string.  \n",
    "    text = \"   Hello, World!   \"\n",
    "    cleaned_text = text.strip()\n",
    "    print(cleaned_text)\n",
    "    Output:\n",
    "    Hello, World!\n",
    "2. 'str.lstrip()': This method removes whitespace characters from the beginning (left side) of the string.\n",
    "    text = \"   Hello, World!   \"\n",
    "    cleaned_text = text.lstrip()\n",
    "    print(cleaned_text)\n",
    "    Output:\n",
    "    Hello, World!  \n",
    "3. 'str.rstrip()': This method removes whitespace characters from the end (right side) of the string.\n",
    "    text = \"   Hello, World!   \"\n",
    "    cleaned_text = text.rstrip()\n",
    "    print(cleaned_text)\n",
    "    Output:\n",
    "       Hello, World!"
   ]
  }
 ],
 "metadata": {
  "kernelspec": {
   "display_name": "Python 3 (ipykernel)",
   "language": "python",
   "name": "python3"
  },
  "language_info": {
   "codemirror_mode": {
    "name": "ipython",
    "version": 3
   },
   "file_extension": ".py",
   "mimetype": "text/x-python",
   "name": "python",
   "nbconvert_exporter": "python",
   "pygments_lexer": "ipython3",
   "version": "3.10.6"
  }
 },
 "nbformat": 4,
 "nbformat_minor": 5
}
