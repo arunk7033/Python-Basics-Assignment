{
 "cells": [
  {
   "cell_type": "markdown",
   "id": "44d39ed7-2825-427e-be9e-cdc85ae2bfd6",
   "metadata": {},
   "source": [
    "### Assignment_5"
   ]
  },
  {
   "cell_type": "markdown",
   "id": "27ab7d77-168d-44ed-b8bb-63f74197b284",
   "metadata": {},
   "source": [
    "## 1. What does an empty dictionary&#39;s code look like?"
   ]
  },
  {
   "cell_type": "code",
   "execution_count": null,
   "id": "f74db6e8-70cd-4e0a-abce-fc250e3a324c",
   "metadata": {},
   "outputs": [],
   "source": [
    "#Solution\n",
    "empty_dict = {}"
   ]
  },
  {
   "cell_type": "markdown",
   "id": "a311bf4b-8625-4880-af53-5a31a99f9dd9",
   "metadata": {},
   "source": [
    "## 2. What do the escape characters n and t stand for?"
   ]
  },
  {
   "cell_type": "code",
   "execution_count": null,
   "id": "8100a7c8-e140-4f84-a324-9ca5a61263d1",
   "metadata": {},
   "outputs": [],
   "source": [
    "#Solution\n",
    "The escape characters \\n and \\t are used to represent special characters within strings:\n",
    "1. \\n: This represents a newline character. When included in a string, it signifies the start of a new line. For example:\n",
    "   print(\"Hello,\\nWorld!\")\n",
    "   Output:\n",
    "   Hello,\n",
    "   World!\n",
    "2. \\t: This represents a tab character. When included in a string, it adds a horizontal tab indentation. For example:\n",
    "   print(\"Name:\\tJohn\")\n",
    "   Output:\n",
    "   Name:   John\n"
   ]
  },
  {
   "cell_type": "markdown",
   "id": "994f5e85-3a03-470f-bd5c-91db219c276c",
   "metadata": {},
   "source": [
    "## 3. What is the way to include backslash characters in a string?"
   ]
  },
  {
   "cell_type": "code",
   "execution_count": null,
   "id": "5fd431f1-58b9-4540-9fd8-d04fecb90642",
   "metadata": {},
   "outputs": [],
   "source": [
    "#Solution\n"
   ]
  },
  {
   "cell_type": "markdown",
   "id": "d969ee29-e71e-465f-9030-46349efa0b35",
   "metadata": {},
   "source": [
    "## 4. The string \"Howl's Moving Castle\" is a correct value. Why isn't the single quote character in the word How's not escaped a problem?"
   ]
  },
  {
   "cell_type": "code",
   "execution_count": null,
   "id": "6339016f-eeda-49f1-9f9a-2d8f98894143",
   "metadata": {},
   "outputs": [],
   "source": [
    "#Solution\n"
   ]
  },
  {
   "cell_type": "markdown",
   "id": "bec7b475-b41b-4990-ae2a-96e5147789fa",
   "metadata": {},
   "source": [
    "## 5. "
   ]
  },
  {
   "cell_type": "code",
   "execution_count": null,
   "id": "6bc05aff-13a0-457b-b41c-6add2c9818d9",
   "metadata": {},
   "outputs": [],
   "source": [
    "#Solution\n"
   ]
  },
  {
   "cell_type": "markdown",
   "id": "6c862e48-4b02-4c52-a0b9-52fd2589cb86",
   "metadata": {},
   "source": [
    "## 6. If a dictionary is stored in spam, what is the difference between the expressions 'cat' in spam and 'cat' in spam.values()?"
   ]
  },
  {
   "cell_type": "code",
   "execution_count": null,
   "id": "1e7504ac-c452-4611-8089-f0bbce5bfe54",
   "metadata": {},
   "outputs": [],
   "source": [
    "#Solution"
   ]
  },
  {
   "cell_type": "markdown",
   "id": "1d315249-9370-43fa-8a43-ba39c55443b8",
   "metadata": {},
   "source": [
    "## 7. What is a shortcut for the following code?\n",
    "## if 'color' not in spam:\n",
    "## spam['color'] ='black'"
   ]
  },
  {
   "cell_type": "code",
   "execution_count": 3,
   "id": "b85f6138-f8df-417b-9db4-fe8bc5de60c1",
   "metadata": {},
   "outputs": [
    {
     "ename": "SyntaxError",
     "evalue": "unterminated string literal (detected at line 4) (3051000969.py, line 4)",
     "output_type": "error",
     "traceback": [
      "\u001b[0;36m  Cell \u001b[0;32mIn [3], line 4\u001b[0;36m\u001b[0m\n\u001b[0;31m    The setdefault() method checks if the key 'color' exists in the dictionary spam. If it doesn't exist, it adds the key with the specified default value 'black'. If the key already exists, it does nothing.\u001b[0m\n\u001b[0m                                                                                                                                                                 ^\u001b[0m\n\u001b[0;31mSyntaxError\u001b[0m\u001b[0;31m:\u001b[0m unterminated string literal (detected at line 4)\n"
     ]
    }
   ],
   "source": [
    "#Solution\n",
    "The shortcut for the code you provided, using the setdefault() method, would be as follows:\n",
    "    spam.setdefault('color', 'black')\n",
    "The setdefault() method checks if the key 'color' exists in the dictionary spam. If it doesn't exist, it adds the key with the specified default value 'black'. If the key already exists, it does nothing."
   ]
  },
  {
   "cell_type": "markdown",
   "id": "edbbae26-97d2-4591-a698-f2def8ce19ed",
   "metadata": {},
   "source": [
    "## 8. How do you 'pretty print' dictionary values using which module and function?"
   ]
  },
  {
   "cell_type": "code",
   "execution_count": null,
   "id": "d154c80d-eef9-48d4-9ed0-4164d8be3ae0",
   "metadata": {},
   "outputs": [],
   "source": [
    "#Solution\n",
    "\n",
    "To \"pretty print\" dictionary values in Python, we can use the pprint module, which stands for \"pretty print.\" The pprint module provides a function called pprint() that formats and displays data structures, including dictionaries, in a more human-readable and organized format. This is particularly useful for printing nested and complex structures.\n",
    "Here's how you can use the pprint() function from the pprint module to pretty print a dictionary:\n",
    "    import pprint\n",
    "\n",
    "    my_dict = {\n",
    "        'name': 'John',\n",
    "        'age': 30,\n",
    "        'address': {\n",
    "            'street': '123 Main St',\n",
    "            'city': 'Anytown',\n",
    "            'state': 'CA'\n",
    "        }\n",
    "    }\n",
    "\n",
    "    pprint.pprint(my_dict)\n",
    "This will output the dictionary in a formatted and indented manner that makes it easier to read, especially when dealing with nested dictionaries or other complex structures."
   ]
  },
  {
   "cell_type": "code",
   "execution_count": 2,
   "id": "6362bbe0-a061-48ba-863f-0893d7826d10",
   "metadata": {},
   "outputs": [
    {
     "name": "stdout",
     "output_type": "stream",
     "text": [
      "{'address': {'city': 'Anytown', 'state': 'CA', 'street': '123 Main St'},\n",
      " 'age': 30,\n",
      " 'name': 'John'}\n"
     ]
    }
   ],
   "source": [
    "import pprint\n",
    "\n",
    "my_dict = {\n",
    "    'name': 'John',\n",
    "    'age': 30,\n",
    "    'address': {\n",
    "        'street': '123 Main St',\n",
    "        'city': 'Anytown',\n",
    "        'state': 'CA'\n",
    "    }\n",
    "}\n",
    "\n",
    "pprint.pprint(my_dict)\n"
   ]
  }
 ],
 "metadata": {
  "kernelspec": {
   "display_name": "Python 3 (ipykernel)",
   "language": "python",
   "name": "python3"
  },
  "language_info": {
   "codemirror_mode": {
    "name": "ipython",
    "version": 3
   },
   "file_extension": ".py",
   "mimetype": "text/x-python",
   "name": "python",
   "nbconvert_exporter": "python",
   "pygments_lexer": "ipython3",
   "version": "3.10.6"
  }
 },
 "nbformat": 4,
 "nbformat_minor": 5
}
