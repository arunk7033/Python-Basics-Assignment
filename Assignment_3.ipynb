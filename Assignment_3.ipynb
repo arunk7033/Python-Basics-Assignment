{
 "cells": [
  {
   "cell_type": "markdown",
   "id": "215f384a-451e-43e0-8c5f-96d711da6398",
   "metadata": {},
   "source": [
    "# Assignment_3"
   ]
  },
  {
   "cell_type": "markdown",
   "id": "8e5ae2f1-b5c3-4d38-8ad4-591532a82de4",
   "metadata": {},
   "source": [
    "## 1. Why are functions advantageous to have in your programs?"
   ]
  },
  {
   "cell_type": "markdown",
   "id": "360e8932-73ad-4c94-acf5-50e4e68f8ef0",
   "metadata": {},
   "source": [
    "### Solution:\n",
    "    Functions offer several advantages that makes programs more organized, readable, maintainable, and efficient. Here are some key reasons why functions are advantageous in programs:\n",
    "\n",
    "1. Modularity and Reusability: Functions allow to break down a complex problem into smaller, manageable pieces of code. These smaller units of code can be reused across your program or in different programs altogether. This promotes modularity, which makes your codebase easier to maintain and update.\n",
    "\n",
    "2. Readability: By using functions, we can give meaningful names to different parts of your code. This improves the overall readability of your program, making it easier for us  and other developers to understand the purpose and functionality of each part.\n",
    "\n",
    "3. Abstraction: Functions abstract away the implementation details of a certain task. We can call a function to perform a specific task without needing to understand how the task is accomplished internally. This separation of concerns makes our codebase more organized and easier to manage.\n",
    "\n",
    "4. Code Organization: Functions provide a structured way to organize our code. Instead of having a single monolithic block of code, we can organize related tasks into separate functions. This makes it easier to locate and modify specific functionality as our program grows.\n",
    "\n",
    "5. Testing and Debugging: Isolating different parts of our code in functions allows us to test and debug them independently. This helps in identifying and fixing issues more efficiently, as we can focus on a specific function's behavior without worrying about the rest of the program.\n",
    "\n",
    "6. Collaboration: When working in a team, functions help distribute the workload among team members. Different developers can work on different functions simultaneously without interfering with each other's work.\n",
    "\n",
    "7. Efficiency: Functions can improve the efficiency of our program by reducing redundant code. Instead of writing the same code multiple times, we can write it once within a function and call that function whenever needed.\n",
    "\n",
    "8. Parameterization: Functions can accept parameters, allowing us to create flexible and customizable behavior. By passing different values to function parameters, you can achieve different outcomes without duplicating code.\n",
    "\n",
    "9. Encapsulation: Functions can encapsulate complex operations or algorithms, making the main program logic cleaner and more high-level. This encapsulation hides the complexity and provides a clean interface for the rest of the program.\n",
    "\n",
    "10. Library and Framework Usage: In Python, many libraries and frameworks are built around functions. By utilizing these pre-built functions, we can save time and effort, as well as leverage the expertise of the Python community.\n",
    "\n",
    "Overall, functions enhance the structure, readability, and maintainability of your Python programs. They help us build organized, efficient, and modular codebases, which are essential for both small and large-scale software projects.\n"
   ]
  },
  {
   "cell_type": "markdown",
   "id": "1723e4f6-690e-4f67-8da8-8d138d75900a",
   "metadata": {},
   "source": [
    "## 2. When does the code in a function run: when it is specified or when it's called?"
   ]
  },
  {
   "cell_type": "markdown",
   "id": "d6ffdbfc-bcb1-4f79-ba52-e3a329fbf448",
   "metadata": {},
   "source": [
    "### Solution:\n",
    "\n",
    "The code within a Python function runs when the function is called, not when it is defined. When we define a function, we are essentially creating a reusable block of code with a specific name and a set of parameters (if any). This code doesn't execute immediately upon definition. Instead, it is only executed when we explicitly call the function using its name and provide any required arguments.\n",
    "\n",
    "Here's a simple example to illustrate this:\n",
    "\n",
    "    def greet(name):\n",
    "        print(f\"Hello, {name}!\")\n",
    "\n",
    "    # The function \"greet\" is defined above, but no code has been executed yet.\n",
    "\n",
    "    greet(\"Alice\")\n",
    "    # Now the code within the \"greet\" function is executed, and it prints \"Hello, Alice!\".\n",
    "\n",
    "    greet(\"Bob\")\n",
    "    # The code within the \"greet\" function is executed again, and it prints \"Hello, Bob!\".\n",
    "    \n",
    "As we can see, the code inside the greet function is only executed when the function is called (in this case, twice), not when the function is defined. This behavior allows us to control when and how many times a particular piece of code is executed by encapsulating it within a function and calling the function whenever needed."
   ]
  },
  {
   "cell_type": "markdown",
   "id": "f7200216-fa31-421e-8c5d-2f986cd9994e",
   "metadata": {},
   "source": [
    "## 3. What statement creates a function?"
   ]
  },
  {
   "cell_type": "markdown",
   "id": "a7ff6c68-10c8-4bfb-ae12-fb53f6a01853",
   "metadata": {},
   "source": [
    "## Solution:\n",
    "\n",
    "The def statement is used to create a function. The def statement defines a new function with a specified name, parameters (if any), and a block of code that will be executed when the function is called.\n",
    "\n",
    "The basic syntax of defining a function in Python using the def statement is as follows:\n",
    "    \n",
    "    def function_name(parameters):\n",
    "    #Function code\n",
    "    # ...\n",
    "    return result  # Optional return statement\n",
    "\n",
    "Here's a breakdown of the components:\n",
    "\n",
    "1.  def: This keyword indicates the start of a function definition.\n",
    "\n",
    "2. function_name: This is the name we choose for our function. It should follow Python's naming rules and conventions.\n",
    "\n",
    "3. parameters: These are the input values that the function can accept. They are enclosed in parentheses and separated by commas if there are multiple parameters.\n",
    "\n",
    "4. : The colon marks the end of the function header and the beginning of the indented block of code that constitutes the function's body.\n",
    "\n",
    "5. #Function code: This is where we write the code that defines the behavior of the function.\n",
    "\n",
    "6. return result: This line is optional. If used, it specifies the value that the function will return when it is called. If omitted, the function will return None by default.\n",
    "    "
   ]
  },
  {
   "cell_type": "markdown",
   "id": "5ef74fa2-d787-4528-a428-41aed2f458fe",
   "metadata": {},
   "source": [
    "## 4. What is the difference between a function and a function call?"
   ]
  },
  {
   "cell_type": "markdown",
   "id": "59386402-8e19-4dca-9679-899f100fc16f",
   "metadata": {},
   "source": [
    "### Solution: \n",
    "\n",
    "A function and a function call are two related concepts in programming, but they refer to different things:\n",
    "    \n",
    "1. Function: A function is a block of code that performs a specific task. It is a reusable piece of code that can take input (arguments), process that input, and optionally produce an output (return value). Functions are defined using the def statement in Python.\n",
    "Here's an example of a function definition:\n",
    "    def add_numbers(a, b):\n",
    "    return a + b\n",
    "\n",
    "2. Function Call: A function call is the act of invoking or executing a specific function with a set of arguments. When we call a function, we are instructing the program to execute the code within that function's body. The values we provide as arguments are passed to the function's parameters for processing.\n",
    "Here's an example of a function call:\n",
    "    result = add_numbers(5, 7)\n",
    "    \n",
    "In this example, the add_numbers function is called with arguments 5 and 7, and the returned result (12) is stored in the result variable.\n",
    "\n"
   ]
  },
  {
   "cell_type": "markdown",
   "id": "26367b11-48fb-43d3-86a0-dd082221fbe5",
   "metadata": {},
   "source": [
    "## 5. How many global scopes are there in a Python program? How many local scopes?"
   ]
  },
  {
   "cell_type": "markdown",
   "id": "ad23b455-5666-4aa5-a358-c5fde2653f8a",
   "metadata": {},
   "source": [
    "### Solution: \n",
    "In a Python program, there is one global scope and multiple local scopes.\n",
    "1. Global Scope: The global scope refers to the outermost level of a Python program. It's the top-level scope where variables, functions, and classes are defined outside of any function or class. Variables defined in the global scope are accessible throughout the entire program.\n",
    "2. Local Scopes: Local scopes are created within functions or code blocks. Each function has its own local scope, and any variables defined within that function are only accessible within that function's scope. Additionally, code blocks such as those within conditional statements or loops also create local scopes.\n",
    "\n",
    "Here's a simple example to illustrate:\n",
    "\n",
    "    global_var = 10  # This is in the global scope\n",
    "\n",
    "    def my_function():\n",
    "        local_var = 20  # This is in the local scope of the function\n",
    "        print(global_var)  # Accessing global_var from the local scope\n",
    "\n",
    "    my_function()\n",
    "\n",
    "    print(global_var)  # Accessing global_var again in the global scope\n",
    "    # print(local_var)  # This would result in an error since local_var is not accessible here\n",
    "    \n",
    "In this example, global_var is defined in the global scope and is accessible both within and outside the function my_function. local_var is defined within the function's local scope and is only accessible within the function. Attempting to access local_var outside the function would result in an error."
   ]
  },
  {
   "cell_type": "markdown",
   "id": "41547c4b-9a8b-41ec-a8ba-501903f50dd0",
   "metadata": {},
   "source": [
    "## 6. What happens to variables in a local scope when the function call returns?"
   ]
  },
  {
   "cell_type": "markdown",
   "id": "07e1aed1-6a73-4454-8ddb-1f3bc8fae285",
   "metadata": {},
   "source": [
    "### Solution:\n",
    "When a function call returns in Python, the variables defined within the local scope of that function are typically destroyed. This process is part of Python's memory management and garbage collection mechanism. Here's what happens when a function call returns:\n",
    "1. Function Execution: When a function is called, a new local scope is created for that function's execution. Variables defined within the function are stored in this local scope.\n",
    "\n",
    "2. Variable Lifespan: The variables in the local scope have a lifespan that corresponds to the duration of the function's execution. They are created when the function is called and become accessible only within the function's scope.\n",
    "\n",
    "3. Function Completion: When the function's execution completes (either by reaching the end of the function code or encountering a return statement), the local scope associated with that function is discarded.\n",
    "\n",
    "4. Variable Deletion: As the local scope is discarded, the variables defined within it are also deleted from memory. This frees up memory resources and prevents those variables from being accessible outside of their intended scope.\n",
    "\n",
    "Here's an example to illustrate this process:\n",
    "\n",
    "    def example_function():\n",
    "        local_var = 42\n",
    "        print(local_var)  # This will print 42\n",
    "\n",
    "    example_function()  # Calling the function\n",
    "\n",
    "    # print(local_var)  # This would result in an error since local_var is not accessible here\n",
    "\n",
    "In this example, local_var is defined within the local scope of the example_function function. When the function is called, the variable is created and can be used within the function's code. However, once the function returns, the local scope is discarded, and the variable local_var is deleted from memory.   \n",
    "\n",
    "    \n",
    "    "
   ]
  },
  {
   "cell_type": "markdown",
   "id": "3f354ee6-7539-4549-bf23-d0fbb568af3a",
   "metadata": {},
   "source": [
    "## 7. What is the concept of a return value? Is it possible to have a return value in an expression?"
   ]
  },
  {
   "cell_type": "markdown",
   "id": "f363eae6-24a6-4fd9-ac59-fbf79c3e25b2",
   "metadata": {},
   "source": [
    "### Solution:\n",
    "The concept of a return value in programming refers to the value that a function produces and provides back to the caller when the function is executed. When a function completes its execution, it can optionally return a value to the caller using the return statement. The return value can be of any data type, such as numbers, strings, lists, dictionaries, and even other functions.\n",
    "\n",
    "Here's the general syntax of a function with a return value:\n",
    "\n",
    "    def function_with_return():\n",
    "        # Function code\n",
    "        # ...\n",
    "        return result  # Return statement with the value to be returned\n",
    "    \n",
    "The result value is the value that the function will send back to the caller when the function is called.\n",
    "\n",
    "Second part of the question: Is it possible to have a return value in an expression?\n",
    "\n",
    "A return value is not an expression itself, but it can be used within expressions. When a function returns a value, we can directly use that returned value in an expression, assign it to a variable, or pass it as an argument to another function call. This allows us to utilize the result of a function's computation in various ways within our code.\n",
    "\n",
    "For instance:\n",
    "\n",
    "    total = add(10, 20)  # The return value of add() is used in an assignment\n",
    "    print(total * 2)     # The return value is used in an expression\n",
    "\n",
    "    # The return value of add() is passed as an argument to another function\n",
    "    print(len(str(add(7, 8))))\n",
    "    \n",
    "In these examples, the return value of the add function is seamlessly integrated into expressions, assignments, and other function calls.\n"
   ]
  },
  {
   "cell_type": "markdown",
   "id": "23c33782-943a-4a92-8b8c-0f0cd4e66f51",
   "metadata": {},
   "source": [
    "## 8. If a function does not have a return statement, what is the return value of a call to that function?"
   ]
  },
  {
   "cell_type": "markdown",
   "id": "0ad4da3c-d56e-4849-a6f8-a989c3b5a6a7",
   "metadata": {},
   "source": [
    "### Solution:\n",
    "If a function does not have a return statement, it implicitly returns None when it completes its execution. None is a special Python object that represents the absence of a value. This means that if we don't specify a return statement in our function, the function will still return something – that something being None.\n",
    "\n",
    "Here's an example to illustrate this:\n",
    "\n",
    "    def no_return():\n",
    "        print(\"This function doesn't have a return statement\")\n",
    "\n",
    "    result = no_return()\n",
    "    print(result)  # This will print \"None\"\n",
    "    \n",
    "In this example, the no_return function does not have a return statement. When we call this function, it prints a message but doesn't explicitly return a value. However, when we assign the result of the function call to the result variable, we will see that result holds the value None."
   ]
  },
  {
   "cell_type": "markdown",
   "id": "5de1a0b2-add5-491f-8e11-cccc9a9133db",
   "metadata": {},
   "source": [
    "### 9. How do you make a function variable refer to the global variable?"
   ]
  },
  {
   "cell_type": "markdown",
   "id": "4e85e74a-3ae2-4d92-b7c3-45c234e13ca5",
   "metadata": {
    "tags": []
   },
   "source": [
    "## Solution:\n",
    "\n",
    "If we want to access a global variable within a function and possibly modify its value, we can use the global keyword before the variable name. This tells Python that we intend to work with the global variable rather than create a new local variable with the same name.\n",
    "\n",
    "Here's an example:\n",
    "\n",
    "    global_var = 10\n",
    "\n",
    "    def modify_global():\n",
    "        global global_var  # Declare that you are using the global variable\n",
    "        global_var = 20    # Modify the global variable\n",
    "\n",
    "    modify_global()\n",
    "    print(global_var)  # This will print \"20\"\n",
    "    \n",
    "\n",
    "In this example, the modify_global function uses the global keyword before global_var to indicate that it wants to work with the global variable of the same name. As a result, the assignment inside the function modifies the global variable's value, and when we print it outside the function, we will see that it has been updated.\n"
   ]
  },
  {
   "cell_type": "markdown",
   "id": "ef647b6e-7d00-428d-9aed-43bff7a2c5d1",
   "metadata": {},
   "source": [
    "### 10. What is the data type of None?"
   ]
  },
  {
   "cell_type": "markdown",
   "id": "6f411fe8-5020-4dc7-a21a-4f741a0c6a26",
   "metadata": {},
   "source": [
    "## Solution:\n",
    "The data type of None is simply called NoneType.\n",
    "\n",
    "result = None\n",
    "print(type(result))  # This will print \"<class 'NoneType'>\""
   ]
  },
  {
   "cell_type": "markdown",
   "id": "232f7b29-7967-4842-98f5-1bae91fb7a7e",
   "metadata": {},
   "source": [
    "### 11. What does the sentence import areallyourpetsnamederic do?"
   ]
  },
  {
   "cell_type": "markdown",
   "id": "6567b2f8-42bb-43cd-b691-719672498b62",
   "metadata": {},
   "source": [
    "## Solution:\n",
    "import areallyourpetsnamederic throws an error:ModuleNotFoundError after execution that means there is no module named \"areallyourpetsnamederic\" and import areallyourpetsnamederic is not a valid or recognizable import statement."
   ]
  },
  {
   "cell_type": "code",
   "execution_count": 1,
   "id": "f6c93f61-a4a5-41eb-ac4a-8eda5f0d9ee4",
   "metadata": {},
   "outputs": [
    {
     "ename": "ModuleNotFoundError",
     "evalue": "No module named 'areallyourpetsnamederic'",
     "output_type": "error",
     "traceback": [
      "\u001b[0;31m---------------------------------------------------------------------------\u001b[0m",
      "\u001b[0;31mModuleNotFoundError\u001b[0m                       Traceback (most recent call last)",
      "Cell \u001b[0;32mIn [1], line 1\u001b[0m\n\u001b[0;32m----> 1\u001b[0m \u001b[38;5;28;01mimport\u001b[39;00m \u001b[38;5;21;01mareallyourpetsnamederic\u001b[39;00m\n",
      "\u001b[0;31mModuleNotFoundError\u001b[0m: No module named 'areallyourpetsnamederic'"
     ]
    }
   ],
   "source": [
    "import areallyourpetsnamederic"
   ]
  },
  {
   "cell_type": "markdown",
   "id": "15403b98-aa0b-4ff3-a229-656b398777bf",
   "metadata": {},
   "source": [
    "### 12. If you had a bacon() feature in a spam module, what would you call it after importing spam?"
   ]
  },
  {
   "cell_type": "markdown",
   "id": "c22c58c5-eb7f-479c-916d-e62e6484bd92",
   "metadata": {},
   "source": [
    "## Solution:\n",
    "After importing the \"spam\" module that contains a \"bacon()\" feature, we would call the \"bacon()\" function using the following syntax:\n",
    "    \n",
    "import spam\n",
    "\n",
    "spam.bacon()\n",
    "\n",
    "This code snippet imports the \"spam\" module and then calls the \"bacon()\" function from that module using the dot notation. \n",
    "  "
   ]
  },
  {
   "cell_type": "markdown",
   "id": "a0b7cb09-c690-4fb7-bb7e-cde75430291f",
   "metadata": {},
   "source": [
    "### 13. What can you do to save a programme from crashing if it encounters an error?"
   ]
  },
  {
   "cell_type": "markdown",
   "id": "ef136306-1811-4028-9b5a-1585f2d0c9bf",
   "metadata": {},
   "source": [
    "## Solution:\n",
    "\n",
    "To prevent a program from crashing when it encounters an error, we can implement error handling mechanisms in our code. In Python, one commonly used approach is to use try-except blocks. Here's how we can do it:\n",
    "\n",
    "    try:\n",
    "        # Code that might cause an error\n",
    "        result = 10 / 0  # This will raise a ZeroDivisionError\n",
    "    except ZeroDivisionError:\n",
    "        # Code to handle the specific error\n",
    "        print(\"An error occurred: Division by zero\")\n",
    "    except Exception as e:\n",
    "        # Code to handle other unexpected exceptions\n",
    "        print(\"An error occurred:\", e)\n"
   ]
  },
  {
   "cell_type": "markdown",
   "id": "8c6a1116-9a99-4c3d-a8cc-021af12fdacd",
   "metadata": {},
   "source": [
    "### 14. What is the purpose of the try clause? What is the purpose of the except clause?"
   ]
  },
  {
   "cell_type": "markdown",
   "id": "8a062b14-d27d-4aab-acf6-8ab216b78452",
   "metadata": {},
   "source": [
    "## Solution:\n",
    "The try and except clauses are used in error handling They allow us to control how our program responds to errors or exceptions that might occur during the execution of our code.\n",
    "\n",
    "Purpose of the try Clause:\n",
    "The try clause is used to enclose a block of code where we expect exceptions might occur. This block of code is monitored for exceptions. If an exception occurs within the try block, the normal flow of execution is interrupted, and the control is transferred to the corresponding except block (if present).\n",
    "\n",
    "Purpose of the except Clause:\n",
    "The except clause is used to specify how our program should handle a specific type of exception. It defines the actions to be taken if a particular exception occurs within the associated try block. Multiple except blocks can be used to handle different types of exceptions.\n",
    "\n",
    "Here's a basic example to illustrate their purposes:\n",
    "\n",
    "    try:\n",
    "        # Code that might cause an error\n",
    "        result = 10 / 0  # This will raise a ZeroDivisionError\n",
    "    except ZeroDivisionError:\n",
    "        # Code to handle the specific error\n",
    "        print(\"An error occurred: Division by zero\")"
   ]
  },
  {
   "cell_type": "code",
   "execution_count": null,
   "id": "7004d65b-1f2b-44d0-9ac9-958ebbdcaff8",
   "metadata": {},
   "outputs": [],
   "source": []
  }
 ],
 "metadata": {
  "kernelspec": {
   "display_name": "Python 3 (ipykernel)",
   "language": "python",
   "name": "python3"
  },
  "language_info": {
   "codemirror_mode": {
    "name": "ipython",
    "version": 3
   },
   "file_extension": ".py",
   "mimetype": "text/x-python",
   "name": "python",
   "nbconvert_exporter": "python",
   "pygments_lexer": "ipython3",
   "version": "3.10.6"
  }
 },
 "nbformat": 4,
 "nbformat_minor": 5
}
