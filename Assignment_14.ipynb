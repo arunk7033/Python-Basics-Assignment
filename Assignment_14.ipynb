{
 "cells": [
  {
   "cell_type": "markdown",
   "id": "48e27239-3301-46a0-92bd-f3d65a9c7e96",
   "metadata": {},
   "source": [
    "# Assignment_14"
   ]
  },
  {
   "cell_type": "markdown",
   "id": "4faf62a9-ce79-4510-8a29-d791173c1049",
   "metadata": {},
   "source": [
    "##  1. What does RGBA stand for?"
   ]
  },
  {
   "cell_type": "code",
   "execution_count": null,
   "id": "2295f8d2-2db3-4031-a14b-e02c9f6b36d8",
   "metadata": {},
   "outputs": [],
   "source": [
    "#Solution\n",
    "RGBA stands for Red, Green, Blue, and Alpha. It is a color representation format often used in computer graphics and image processing. Each component represents a different aspect of the color:\n",
    "1. R: Red - This component specifies the amount of red color in the pixel. It can range from 0 (no red) to 255 (full red).\n",
    "2. G: Green - This component specifies the amount of green color in the pixel. Like the red component, it can also range from 0 (no green) to 255 (full green).\n",
    "3. B: Blue - This component specifies the amount of blue color in the pixel, with values ranging from 0 (no blue) to 255 (full blue).\n",
    "4. A: Alpha - The alpha component represents the pixel's transparency or opacity. It ranges from 0 (fully transparent) to 255 (fully opaque).\n",
    "RGBA is commonly used when working with images, as it allows us to control both the color and transparency of individual pixels or regions within an image. This format is often represented as a tuple or list of four integers, where each integer corresponds to one of the RGBA components. For example, (255, 0, 0, 128) represents a semi-transparent red color."
   ]
  },
  {
   "cell_type": "markdown",
   "id": "60927b6b-7adf-4b55-9aa9-f93c5ac54081",
   "metadata": {},
   "source": [
    "## 2. From the Pillow module, how do you get the RGBA value of any images?"
   ]
  },
  {
   "cell_type": "code",
   "execution_count": null,
   "id": "7053bfa3-3e24-4049-99d3-166000bcefab",
   "metadata": {},
   "outputs": [],
   "source": [
    "#Solution\n",
    "In the Pillow module (PIL), we can open an image and get the RGBA values of its pixels using the following steps:\n",
    "1. First, we need to install the Pillow library if we haven't already. We can install it using pip:\n",
    "    pip install pillow\n",
    "2. Next, we can use the Pillow Image class to open an image and then use the getdata() method to retrieve the pixel data. Here's an example of how to do it:\n",
    "    from PIL import Image\n",
    "\n",
    "    # Open an image\n",
    "    image = Image.open(\"your_image.png\")  # Replace \"your_image.png\" with your image file path\n",
    "\n",
    "    # Get the RGBA pixel data as a sequence of tuples\n",
    "    pixel_data = list(image.getdata())\n",
    "\n",
    "    # We can now access individual RGBA values for each pixel in pixel_data\n",
    "    for pixel in pixel_data:\n",
    "        r, g, b, a = pixel\n",
    "        print(f\"RGBA: ({r}, {g}, {b}, {a})\")\n",
    "In the code above, replace \"your_image.png\" with the path to the image you want to analyze. The getdata() method returns a sequence of pixel values as tuples, where each tuple contains the RGBA values for a pixel. We can then iterate through this sequence to access and print the RGBA values for each pixel."
   ]
  },
  {
   "cell_type": "markdown",
   "id": "639a0b20-e784-42f1-9a26-74fa2b31c18f",
   "metadata": {},
   "source": [
    "## 3. What is a box tuple, and how does it work?"
   ]
  },
  {
   "cell_type": "code",
   "execution_count": null,
   "id": "203918f5-9c09-44df-bfbb-5c76c0aea9fb",
   "metadata": {},
   "outputs": [],
   "source": [
    "#Solution\n",
    "In the context of the Python Imaging Library (PIL), which is now known as Pillow, a \"box tuple\" is a tuple that defines a rectangular region or bounding box within an image. This tuple typically contains four values that specify the coordinates of the top-left and bottom-right corners of the box. The format of a box tuple is usually (left, upper, right, lower).\n",
    "Here's what each component of the box tuple represents:\n",
    "1. left: The X-coordinate of the left edge of the bounding box.\n",
    "2. upper: The Y-coordinate of the upper edge of the bounding box.\n",
    "3. right: The X-coordinate of the right edge of the bounding box.\n",
    "4. lower: The Y-coordinate of the lower edge of the bounding box.\n",
    "The left and upper coordinates represent the top-left corner of the box, while the right and lower coordinates represent the bottom-right corner. This tuple format is commonly used in Pillow and many other image processing libraries to define regions of interest within an image, crop images, or perform various operations on specific parts of an image.\n",
    "\n",
    "Here's an example of how you might use a box tuple to crop an image using Pillow:\n",
    "\n",
    "    from PIL import Image\n",
    "\n",
    "    # Open an image\n",
    "    image = Image.open(\"input_image.jpg\")\n",
    "\n",
    "    # Define a box tuple for cropping (left, upper, right, lower)\n",
    "    box = (100, 100, 400, 400)\n",
    "\n",
    "    # Crop the image using the box tuple\n",
    "    cropped_image = image.crop(box)\n",
    "\n",
    "    # Save the cropped image\n",
    "    cropped_image.save(\"output_image.jpg\")\n",
    "    \n",
    "In this example, the crop() method is used with the box tuple to extract a region from the input image, and the result is saved as an output image. The values in the box tuple (left, upper, right, and lower) determine the coordinates of the area we want to crop."
   ]
  },
  {
   "cell_type": "markdown",
   "id": "d284e2a8-8922-49a5-bd82-4027ac856d24",
   "metadata": {},
   "source": [
    "## 4. Use your image and load in notebook then, How can you find out the width and height of an Image object?"
   ]
  },
  {
   "cell_type": "code",
   "execution_count": null,
   "id": "bdc89d17-cf47-4022-94d7-a5de99053a31",
   "metadata": {},
   "outputs": [],
   "source": [
    "#Solution\n",
    "To find out the width and height of an image object in Python, we can use the Pillow library (PIL), which is commonly used for image processing. Here's how we can do it in a Jupyter Notebook:\n",
    "1. First, we need to install the Pillow library if we haven't already. We can install it using pip:\n",
    "    pip install pillow\n",
    "2. Next, we can load an image using Pillow and then obtain its width and height as follows:\n",
    "    \n",
    "    from PIL import Image\n",
    "\n",
    "    # Open an image\n",
    "    image = Image.open(\"your_image.jpg\")  # Replace \"your_image.jpg\" with the path to your image file\n",
    "\n",
    "    # Get the width and height of the image\n",
    "    width, height = image.size\n",
    "\n",
    "    # Print the width and height\n",
    "    print(f\"Width: {width} pixels\")\n",
    "    print(f\"Height: {height} pixels\")\n",
    "    \n",
    "The Image.open() function opens the image file, and then the .size attribute of the image object provides the width and height of the image in pixels. We can then print these values as shown in the example code."
   ]
  },
  {
   "cell_type": "code",
   "execution_count": 12,
   "id": "2b909ff1-3e2b-49cf-9ebf-0e2a86600f15",
   "metadata": {},
   "outputs": [
    {
     "name": "stdout",
     "output_type": "stream",
     "text": [
      "Width: 272 pixels\n",
      "Height: 170 pixels\n"
     ]
    }
   ],
   "source": [
    "#Code to illustrate the same where your_image.jpg is replaced by our image\n",
    "from PIL import Image\n",
    "\n",
    "# Open an image\n",
    "image = Image.open(\"SamplePNGImage_100kbmb.png\")  # Replace \"your_image.jpg\" with the path to your image file\n",
    "\n",
    "# Get the width and height of the image\n",
    "width, height = image.size\n",
    "\n",
    "# Print the width and height\n",
    "print(f\"Width: {width} pixels\")\n",
    "print(f\"Height: {height} pixels\")"
   ]
  },
  {
   "cell_type": "markdown",
   "id": "684009f1-2934-4271-a744-bd56bfa5b206",
   "metadata": {},
   "source": [
    "## 5. What method would you call to get Image object for a 100×100 image, excluding the lower-left quarter of it?"
   ]
  },
  {
   "cell_type": "code",
   "execution_count": null,
   "id": "d2081e91-c2e6-4e7d-b452-72ab66d78167",
   "metadata": {},
   "outputs": [],
   "source": [
    "#Solution\n",
    "To get an Image object for a 100x100 image that excludes the lower-left quarter of it, we can use the crop() method provided by the Pillow (PIL) library. Here's how we can do it:\n",
    "    \n",
    "    from PIL import Image\n",
    "\n",
    "    # Open an image\n",
    "    image = Image.open(\"your_image.jpg\")  # Replace \"your_image.jpg\" with the path to your image file\n",
    "\n",
    "    # Get the width and height of the image\n",
    "    width, height = image.size\n",
    "\n",
    "    # Define a box tuple to crop the upper-right quarter (left, upper, right, lower)\n",
    "    box = (width // 2, 0, width, height // 2)\n",
    "\n",
    "    # Crop the image using the box tuple\n",
    "    cropped_image = image.crop(box)\n",
    "\n",
    "    # Display or save the cropped image\n",
    "    cropped_image.show()  # Display the cropped image\n",
    "    # cropped_image.save(\"cropped_image.jpg\")  # Save the cropped image to a file\n",
    "\n",
    "In this code, we first open the image using Image.open(). Then, we calculate the width and height of the image using the .size attribute. To exclude the lower-left quarter, we define a box tuple where the left and upper coordinates are set to half of the image's width and 0, respectively, and the right and lower coordinates are set to the full width and half of the image's height, respectively. This box tuple defines the region to be cropped.\n",
    "Finally, we use the crop() method to crop the image using the specified box tuple. We can either display the cropped image using .show() or save it to a file using .save() as shown in the comments."
   ]
  },
  {
   "cell_type": "code",
   "execution_count": 4,
   "id": "f1823731-ff70-46f4-a3da-b53f25ec4151",
   "metadata": {},
   "outputs": [],
   "source": [
    "#Code to illustrate the same where your_image.jpg is replaced by our image\n",
    "from PIL import Image\n",
    "\n",
    "# Open an image\n",
    "image = Image.open(\"SamplePNGImage_100kbmb.png\")  # Replace \"your_image.jpg\" with the path to your image file\n",
    "\n",
    "# Get the width and height of the image\n",
    "width, height = image.size\n",
    "\n",
    "# Define a box tuple to crop the upper-right quarter (left, upper, right, lower)\n",
    "box = (width // 2, 0, width, height // 2)\n",
    "\n",
    "# Crop the image using the box tuple\n",
    "cropped_image = image.crop(box)\n",
    "\n",
    "# Display or save the cropped image\n",
    "#cropped_image.show()  # Display the cropped image\n",
    "cropped_image.save(\"cropped_image.png\")  # Save the cropped image to a file"
   ]
  },
  {
   "cell_type": "markdown",
   "id": "9b98a1f2-b5bd-4993-8424-48cf2267a473",
   "metadata": {},
   "source": [
    "## 6. After making changes to an Image object, how could you save it as an image file?"
   ]
  },
  {
   "cell_type": "code",
   "execution_count": null,
   "id": "24dd1954-58d2-4d13-a634-04fb069d9394",
   "metadata": {},
   "outputs": [],
   "source": [
    "#Solution\n",
    "After making changes to an Image object using the Pillow (PIL) library in Python, we can save it as an image file using the .save() method. Here's how we can do it:\n",
    "\n",
    "from PIL import Image\n",
    "\n",
    "# Open an image\n",
    "image = Image.open(\"your_image.jpg\")  # Replace \"your_image.jpg\" with the path to your image file\n",
    "\n",
    "# Perform some operations on the image (e.g., cropping, resizing, filtering, etc.)\n",
    "# ...\n",
    "\n",
    "# Save the modified image to a file\n",
    "image.save(\"output_image.jpg\")  # Replace \"output_image.jpg\" with the desired output file name and format\n"
   ]
  },
  {
   "cell_type": "markdown",
   "id": "3a846c4f-b08d-413d-ba0a-e2bc0f10edd5",
   "metadata": {},
   "source": [
    "## 7. What module contains Pillow’s shape-drawing code?"
   ]
  },
  {
   "cell_type": "code",
   "execution_count": null,
   "id": "09a1168f-c509-414e-9965-738a350342bd",
   "metadata": {},
   "outputs": [],
   "source": [
    "#Solution\n",
    "Pillow's shape-drawing code is contained within the ImageDraw module, which is a part of the Pillow (PIL) library. The ImageDraw module provides various functions and methods to draw shapes, text, and other graphical elements onto image objects created with Pillow.\n",
    "We can use ImageDraw to draw shapes such as lines, rectangles, circles, polygons, and text onto images, allowing us to annotate or manipulate images programmatically. Here's how we can import and use ImageDraw to draw shapes on an image:\n",
    "\n",
    "from PIL import Image, ImageDraw\n",
    "\n",
    "# Open an image\n",
    "image = Image.open(\"SamplePNGImage_100kbmb.png\")\n",
    "\n",
    "# Create an ImageDraw object for drawing on the image\n",
    "draw = ImageDraw.Draw(image)\n",
    "\n",
    "# Draw a red rectangle\n",
    "draw.rectangle([50, 50, 150, 150], outline=\"red\")\n",
    "\n",
    "image2=image.save(\"image2.png\")\n",
    "# Savethe modified image"
   ]
  },
  {
   "cell_type": "markdown",
   "id": "8169397c-2009-4772-8607-919c8b5e68e5",
   "metadata": {},
   "source": [
    "## 8. Image objects do not have drawing methods. What kind of object does? How do you get this kind of object?"
   ]
  },
  {
   "cell_type": "code",
   "execution_count": null,
   "id": "c8b3cfbd-2806-4820-8bd4-f18314e00536",
   "metadata": {},
   "outputs": [],
   "source": [
    "#Solution\n",
    "Image objects in Pillow (PIL) themselves do not have drawing methods. Instead, we use a separate object called an ImageDraw.Draw object to draw shapes, text, and other graphical elements on an image.\n",
    "To get an ImageDraw.Draw object, we can follow these steps:\n",
    "1. Open an image using Image.open() to create an Image object.\n",
    "2. Use the ImageDraw.Draw() method, passing the Image object as an argument, to create an ImageDraw.Draw object. This object allows us to draw on the image.\n",
    "Here's an example of how to do it:\n",
    "    from PIL import Image, ImageDraw\n",
    "\n",
    "    # Open an image\n",
    "    image = Image.open(\"SamplePNGImage_100kbmb.png\") \n",
    "\n",
    "    # Create an ImageDraw.Draw object\n",
    "    draw = ImageDraw.Draw(image)\n",
    "\n",
    "    # Now we can use the 'draw' object to draw shapes, text, etc. on the image\n",
    "    \n",
    "With the draw object, we can use methods like line(), rectangle(), ellipse(), polygon(), and text() to draw various elements onto the image."
   ]
  }
 ],
 "metadata": {
  "kernelspec": {
   "display_name": "Python 3 (ipykernel)",
   "language": "python",
   "name": "python3"
  },
  "language_info": {
   "codemirror_mode": {
    "name": "ipython",
    "version": 3
   },
   "file_extension": ".py",
   "mimetype": "text/x-python",
   "name": "python",
   "nbconvert_exporter": "python",
   "pygments_lexer": "ipython3",
   "version": "3.10.6"
  },
  "toc-showcode": true,
  "toc-showmarkdowntxt": true
 },
 "nbformat": 4,
 "nbformat_minor": 5
}
