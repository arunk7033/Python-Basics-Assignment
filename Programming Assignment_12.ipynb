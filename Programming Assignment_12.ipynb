{
 "cells": [
  {
   "cell_type": "markdown",
   "id": "0cdc6190-882a-4b8e-ae89-dfda87c34f0a",
   "metadata": {},
   "source": [
    "## Programming Assignment_12"
   ]
  },
  {
   "cell_type": "code",
   "execution_count": null,
   "id": "c2afa538-47c9-4880-9719-d3c3ca1b956e",
   "metadata": {},
   "outputs": [],
   "source": [
    "1. Write a Python program to Extract Unique values dictionary values?"
   ]
  },
  {
   "cell_type": "code",
   "execution_count": null,
   "id": "30eb5e08-12fb-442f-84ae-9bdd07291228",
   "metadata": {},
   "outputs": [
    {
     "name": "stdout",
     "output_type": "stream",
     "text": [
      "Unique values in the dictionary: {1, 2, 3, 4, 5}\n"
     ]
    }
   ],
   "source": [
    "#Solution:\n",
    "def extract_unique_values(dictionary):\n",
    "    # Using a set to store unique values\n",
    "    unique_values = set()\n",
    "\n",
    "    # Iterating through the values in the dictionary\n",
    "    for values in dictionary.values():\n",
    "        # If the value is not already in the set, add it\n",
    "        unique_values.update(values)\n",
    "\n",
    "    return unique_values\n",
    "\n",
    "# Example usage:\n",
    "my_dict = {'a': [1, 2, 3], 'b': [2, 3, 4], 'c': [3, 4, 5]}\n",
    "result = extract_unique_values(my_dict)\n",
    "\n",
    "print(f\"Unique values in the dictionary: {result}\")"
   ]
  },
  {
   "cell_type": "code",
   "execution_count": null,
   "id": "4833e72c-400a-408e-bee4-d2f3fce6651d",
   "metadata": {},
   "outputs": [],
   "source": [
    "2. Write a Python program to find the sum of all items in a dictionary?"
   ]
  },
  {
   "cell_type": "code",
   "execution_count": 2,
   "id": "2b315517-3376-4adf-ae15-8b556b28ff59",
   "metadata": {},
   "outputs": [
    {
     "name": "stdout",
     "output_type": "stream",
     "text": [
      "The sum of all values in the dictionary: 100\n"
     ]
    }
   ],
   "source": [
    "#Solution:\n",
    "def sum_of_dictionary_values(dictionary):\n",
    "    # Using the sum() function to calculate the sum of all values in the dictionary\n",
    "    total_sum = sum(dictionary.values())\n",
    "    return total_sum\n",
    "\n",
    "# Example usage:\n",
    "my_dict = {'a': 10, 'b': 20, 'c': 30, 'd': 40}\n",
    "result = sum_of_dictionary_values(my_dict)\n",
    "\n",
    "print(f\"The sum of all values in the dictionary: {result}\")"
   ]
  },
  {
   "cell_type": "code",
   "execution_count": null,
   "id": "d6abe08e-d017-43c1-b2fc-15e8f7bc290e",
   "metadata": {},
   "outputs": [],
   "source": [
    "3. Write a Python program to Merging two Dictionaries?"
   ]
  },
  {
   "cell_type": "code",
   "execution_count": 1,
   "id": "ed76c59e-4421-4434-a5c2-6ead4bf6de63",
   "metadata": {},
   "outputs": [
    {
     "name": "stdout",
     "output_type": "stream",
     "text": [
      "Merged Dictionary: {'a': 1, 'b': 3, 'c': 4}\n"
     ]
    }
   ],
   "source": [
    "#Solution:\n",
    "def merge_dictionaries(dict1, dict2):\n",
    "    merged_dict = dict1.copy()\n",
    "    merged_dict.update(dict2)\n",
    "    return merged_dict\n",
    "\n",
    "# Example dictionaries\n",
    "dict1 = {'a': 1, 'b': 2}\n",
    "dict2 = {'b': 3, 'c': 4}\n",
    "\n",
    "# Merge dictionaries\n",
    "result = merge_dictionaries(dict1, dict2)\n",
    "\n",
    "# Display the result\n",
    "print(\"Merged Dictionary:\", result)"
   ]
  },
  {
   "cell_type": "code",
   "execution_count": null,
   "id": "30909c4a-729d-4e0c-bd43-7e976a4dce63",
   "metadata": {},
   "outputs": [],
   "source": [
    "4. Write a Python program to convert key-values list to flat dictionary?"
   ]
  },
  {
   "cell_type": "code",
   "execution_count": 2,
   "id": "75b3d5b6-553d-4b7a-b23b-36ec52275503",
   "metadata": {},
   "outputs": [
    {
     "name": "stdout",
     "output_type": "stream",
     "text": [
      "Flat Dictionary: {'a': 1, 'b': 2, 'c': 3}\n"
     ]
    }
   ],
   "source": [
    "#Solution:\n",
    "def convert_to_flat_dictionary(key_value_list):\n",
    "    flat_dictionary = {key: value for key, value in key_value_list}\n",
    "    return flat_dictionary\n",
    "\n",
    "# Example list of key-value pairs\n",
    "key_value_list = [('a', 1), ('b', 2), ('c', 3)]\n",
    "\n",
    "# Convert to flat dictionary\n",
    "result = convert_to_flat_dictionary(key_value_list)\n",
    "\n",
    "# Display the result\n",
    "print(\"Flat Dictionary:\", result)"
   ]
  },
  {
   "cell_type": "code",
   "execution_count": null,
   "id": "ac786760-b777-4ce1-bdfe-e93b1d903140",
   "metadata": {},
   "outputs": [],
   "source": [
    "5. Write a Python program to insertion at the beginning in OrderedDict?"
   ]
  },
  {
   "cell_type": "code",
   "execution_count": 3,
   "id": "5869f603-9864-442f-919e-59a44ce4c60d",
   "metadata": {},
   "outputs": [
    {
     "name": "stdout",
     "output_type": "stream",
     "text": [
      "OrderedDict after insertion at the beginning: OrderedDict([('x', 10), ('a', 1), ('b', 2), ('c', 3)])\n"
     ]
    }
   ],
   "source": [
    "#Solution:\n",
    "from collections import OrderedDict\n",
    "\n",
    "def insert_at_beginning(ordered_dict, key_value_pair):\n",
    "    # Create a new OrderedDict with the new key-value pair\n",
    "    new_ordered_dict = OrderedDict([key_value_pair])\n",
    "\n",
    "    # Update the new OrderedDict with the original OrderedDict\n",
    "    new_ordered_dict.update(ordered_dict)\n",
    "\n",
    "    return new_ordered_dict\n",
    "\n",
    "# Example OrderedDict\n",
    "ordered_dict = OrderedDict([('a', 1), ('b', 2), ('c', 3)])\n",
    "\n",
    "# Key-value pair to insert at the beginning\n",
    "new_key_value_pair = ('x', 10)\n",
    "\n",
    "# Insert at the beginning\n",
    "result = insert_at_beginning(ordered_dict, new_key_value_pair)\n",
    "\n",
    "# Display the result\n",
    "print(\"OrderedDict after insertion at the beginning:\", result)"
   ]
  },
  {
   "cell_type": "code",
   "execution_count": null,
   "id": "e7526052-01d3-4a78-83e0-ae7ad4b261f9",
   "metadata": {},
   "outputs": [],
   "source": [
    "6. Write a Python program to check order of character in string using OrderedDict()?"
   ]
  },
  {
   "cell_type": "code",
   "execution_count": 4,
   "id": "13832e70-44a1-4a68-ae48-db34bd8cfd11",
   "metadata": {},
   "outputs": [
    {
     "name": "stdout",
     "output_type": "stream",
     "text": [
      "The characters in 'hlo' do not appear in order in the string.\n"
     ]
    }
   ],
   "source": [
    "#Solution:\n",
    "from collections import OrderedDict\n",
    "\n",
    "def check_order(input_string, pattern):\n",
    "    # Create an OrderedDict to store the occurrences of characters in the input string\n",
    "    char_occurrences = OrderedDict.fromkeys(input_string, 0)\n",
    "\n",
    "    # Iterate through the input string and update the occurrences\n",
    "    for char in input_string:\n",
    "        char_occurrences[char] += 1\n",
    "\n",
    "    # Check if the pattern exists in the ordered dictionary keys\n",
    "    return ''.join(char_occurrences.keys()).find(pattern) != -1\n",
    "\n",
    "# Example\n",
    "input_str = \"hello world\"\n",
    "pattern_to_check = \"hlo\"\n",
    "\n",
    "# Check the order\n",
    "result = check_order(input_str, pattern_to_check)\n",
    "\n",
    "# Display the result\n",
    "if result:\n",
    "    print(f\"The characters in '{pattern_to_check}' appear in order in the string.\")\n",
    "else:\n",
    "    print(f\"The characters in '{pattern_to_check}' do not appear in order in the string.\")"
   ]
  },
  {
   "cell_type": "code",
   "execution_count": null,
   "id": "e05cf9b6-09ba-4fec-a30e-21d28328c232",
   "metadata": {},
   "outputs": [],
   "source": [
    "7. Write a Python program to sort Python Dictionaries by Key or Value?"
   ]
  },
  {
   "cell_type": "code",
   "execution_count": 1,
   "id": "9796385b-cbf4-48d2-b82b-93b576f164db",
   "metadata": {},
   "outputs": [
    {
     "name": "stdout",
     "output_type": "stream",
     "text": [
      "Sorted by Key: [('apple', 3), ('banana', 1), ('grape', 4), ('orange', 2)]\n",
      "Sorted by Value: [('banana', 1), ('orange', 2), ('apple', 3), ('grape', 4)]\n"
     ]
    }
   ],
   "source": [
    "#Solution:\n",
    "def sort_dictionary(dictionary, by_key=True):\n",
    "    \"\"\"\n",
    "    Sort a dictionary by key or value.\n",
    "\n",
    "    Parameters:\n",
    "    - dictionary: The dictionary to be sorted.\n",
    "    - by_key: If True, sort by key; if False, sort by value.\n",
    "\n",
    "    Returns:\n",
    "    - A sorted list of tuples (key, value) if sorting by key.\n",
    "    - A sorted list of tuples (key, value) if sorting by value.\n",
    "    \"\"\"\n",
    "    if by_key:\n",
    "        sorted_items = sorted(dictionary.items())\n",
    "    else:\n",
    "        sorted_items = sorted(dictionary.items(), key=lambda x: x[1])\n",
    "\n",
    "    return sorted_items\n",
    "\n",
    "# Example usage:\n",
    "\n",
    "my_dict = {'apple': 3, 'banana': 1, 'orange': 2, 'grape': 4}\n",
    "\n",
    "# Sort by key\n",
    "sorted_by_key = sort_dictionary(my_dict, by_key=True)\n",
    "print(\"Sorted by Key:\", sorted_by_key)\n",
    "\n",
    "# Sort by value\n",
    "sorted_by_value = sort_dictionary(my_dict, by_key=False)\n",
    "print(\"Sorted by Value:\", sorted_by_value)"
   ]
  }
 ],
 "metadata": {
  "kernelspec": {
   "display_name": "Python 3 (ipykernel)",
   "language": "python",
   "name": "python3"
  },
  "language_info": {
   "codemirror_mode": {
    "name": "ipython",
    "version": 3
   },
   "file_extension": ".py",
   "mimetype": "text/x-python",
   "name": "python",
   "nbconvert_exporter": "python",
   "pygments_lexer": "ipython3",
   "version": "3.10.6"
  }
 },
 "nbformat": 4,
 "nbformat_minor": 5
}
