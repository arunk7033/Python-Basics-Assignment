{
 "cells": [
  {
   "cell_type": "code",
   "execution_count": null,
   "id": "00c6d463-1d50-41eb-b48b-602f1f5ae45e",
   "metadata": {},
   "outputs": [],
   "source": [
    "1. Write a Python Program to find sum of array?"
   ]
  },
  {
   "cell_type": "code",
   "execution_count": 1,
   "id": "70532dc7-3a0e-45c1-a6d7-a4cf753ff0c3",
   "metadata": {},
   "outputs": [
    {
     "name": "stdout",
     "output_type": "stream",
     "text": [
      "Sum of the array: 15\n"
     ]
    }
   ],
   "source": [
    "#Solution:\n",
    "def find_sum(arr):\n",
    "    sum = 0\n",
    "    for num in arr:\n",
    "        sum += num\n",
    "    return sum\n",
    "\n",
    "# Example usage\n",
    "array = [1, 2, 3, 4, 5]\n",
    "array_sum = find_sum(array)\n",
    "print(\"Sum of the array:\", array_sum)\n"
   ]
  },
  {
   "cell_type": "code",
   "execution_count": null,
   "id": "4833e72c-400a-408e-bee4-d2f3fce6651d",
   "metadata": {},
   "outputs": [],
   "source": [
    "2. Write a Python Program to find largest element in an array?"
   ]
  },
  {
   "cell_type": "code",
   "execution_count": 2,
   "id": "36a67dc8-eaa0-4843-95ec-7a79ecca3725",
   "metadata": {},
   "outputs": [
    {
     "name": "stdout",
     "output_type": "stream",
     "text": [
      "Largest element in the array: 25\n"
     ]
    }
   ],
   "source": [
    "#Solution:\n",
    "def find_largest(arr):\n",
    "    largest = arr[0]\n",
    "    for num in arr:\n",
    "        if num > largest:\n",
    "            largest = num\n",
    "    return largest\n",
    "\n",
    "# Example usage\n",
    "array = [10, 5, 25, 8, 15]\n",
    "largest_element = find_largest(array)\n",
    "print(\"Largest element in the array:\", largest_element)"
   ]
  },
  {
   "cell_type": "code",
   "execution_count": null,
   "id": "07fa4b66-322f-4a87-b4f6-49cc233483db",
   "metadata": {},
   "outputs": [],
   "source": [
    "3. Write a Python Program for array rotation?"
   ]
  },
  {
   "cell_type": "code",
   "execution_count": 3,
   "id": "9a24c4fd-72ae-4205-9e4a-e5b533da7dff",
   "metadata": {},
   "outputs": [
    {
     "name": "stdout",
     "output_type": "stream",
     "text": [
      "Array after rotation: [3, 4, 5, 1, 2]\n"
     ]
    }
   ],
   "source": [
    "#Solution:\n",
    "def rotate_array(arr, k):\n",
    "    n = len(arr)\n",
    "    # Adjust the rotation if it exceeds the array length\n",
    "    k = k % n\n",
    "    rotated = arr[k:] + arr[:k]\n",
    "    return rotated\n",
    "\n",
    "# Example usage\n",
    "array = [1, 2, 3, 4, 5]\n",
    "rotation = 2\n",
    "rotated_array = rotate_array(array, rotation)\n",
    "print(\"Array after rotation:\", rotated_array)\n"
   ]
  },
  {
   "cell_type": "code",
   "execution_count": null,
   "id": "30909c4a-729d-4e0c-bd43-7e976a4dce63",
   "metadata": {},
   "outputs": [],
   "source": [
    "4. Write a Python Program to Split the array and add the first part to the end?"
   ]
  },
  {
   "cell_type": "code",
   "execution_count": 4,
   "id": "ab5490e2-c9ca-4b1a-957f-731129ee06ad",
   "metadata": {},
   "outputs": [
    {
     "name": "stdout",
     "output_type": "stream",
     "text": [
      "Array after splitting and adding: [3, 4, 5, 1, 2]\n"
     ]
    }
   ],
   "source": [
    "#Solution:\n",
    "def split_and_add(arr, n):\n",
    "    if n <= 0 or n >= len(arr):\n",
    "        return arr\n",
    "    else:\n",
    "        split_point = n\n",
    "        return arr[split_point:] + arr[:split_point]\n",
    "\n",
    "# Example usage\n",
    "array = [1, 2, 3, 4, 5]\n",
    "split_position = 2\n",
    "new_array = split_and_add(array, split_position)\n",
    "print(\"Array after splitting and adding:\", new_array)\n"
   ]
  },
  {
   "cell_type": "code",
   "execution_count": null,
   "id": "ac786760-b777-4ce1-bdfe-e93b1d903140",
   "metadata": {},
   "outputs": [],
   "source": [
    "5. Write a Python Program to check if given array is Monotonic?"
   ]
  },
  {
   "cell_type": "code",
   "execution_count": 5,
   "id": "bd332080-8e3e-43e5-b8e2-1de91e5327b7",
   "metadata": {},
   "outputs": [
    {
     "name": "stdout",
     "output_type": "stream",
     "text": [
      "Is array_1 monotonic? True\n",
      "Is array_2 monotonic? True\n",
      "Is array_3 monotonic? False\n"
     ]
    }
   ],
   "source": [
    "#Solution:\n",
    "def is_monotonic(arr):\n",
    "    increasing = decreasing = True\n",
    "\n",
    "    for i in range(1, len(arr)):\n",
    "        if arr[i] < arr[i - 1]:\n",
    "            increasing = False\n",
    "        if arr[i] > arr[i - 1]:\n",
    "            decreasing = False\n",
    "\n",
    "    return increasing or decreasing\n",
    "\n",
    "# Example usage\n",
    "array_1 = [1, 2, 3, 4, 5]\n",
    "array_2 = [5, 4, 3, 2, 1]\n",
    "array_3 = [1, 2, 4, 3, 5]\n",
    "\n",
    "print(\"Is array_1 monotonic?\", is_monotonic(array_1))\n",
    "print(\"Is array_2 monotonic?\", is_monotonic(array_2))\n",
    "print(\"Is array_3 monotonic?\", is_monotonic(array_3))"
   ]
  },
  {
   "cell_type": "code",
   "execution_count": null,
   "id": "cb9fe12c-1524-4fc4-bfa8-15f45eece1b6",
   "metadata": {},
   "outputs": [],
   "source": []
  }
 ],
 "metadata": {
  "kernelspec": {
   "display_name": "Python 3 (ipykernel)",
   "language": "python",
   "name": "python3"
  },
  "language_info": {
   "codemirror_mode": {
    "name": "ipython",
    "version": 3
   },
   "file_extension": ".py",
   "mimetype": "text/x-python",
   "name": "python",
   "nbconvert_exporter": "python",
   "pygments_lexer": "ipython3",
   "version": "3.10.6"
  }
 },
 "nbformat": 4,
 "nbformat_minor": 5
}
