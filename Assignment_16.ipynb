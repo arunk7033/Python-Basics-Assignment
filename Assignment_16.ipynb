{
 "cells": [
  {
   "cell_type": "markdown",
   "id": "48e27239-3301-46a0-92bd-f3d65a9c7e96",
   "metadata": {},
   "source": [
    "# Assignment_16"
   ]
  },
  {
   "cell_type": "markdown",
   "id": "4faf62a9-ce79-4510-8a29-d791173c1049",
   "metadata": {},
   "source": [
    "## 1. Create a list called years_list, starting with the year of your birth, and each year thereafter until the year of your fifth birthday. For example, if you were born in 1980. the list would be years_list = [1980, 1981, 1982, 1983, 1984, 1985]."
   ]
  },
  {
   "cell_type": "code",
   "execution_count": 2,
   "id": "2295f8d2-2db3-4031-a14b-e02c9f6b36d8",
   "metadata": {},
   "outputs": [
    {
     "data": {
      "text/plain": [
       "[1995, 1996, 1997, 1998, 1999, 2000]"
      ]
     },
     "execution_count": 2,
     "metadata": {},
     "output_type": "execute_result"
    }
   ],
   "source": [
    "#Solution\n",
    "birth_year = 1995\n",
    "years_list = [year for year in range(birth_year, birth_year + 6)]\n",
    "years_list"
   ]
  },
  {
   "cell_type": "markdown",
   "id": "60927b6b-7adf-4b55-9aa9-f93c5ac54081",
   "metadata": {},
   "source": [
    "## 2. In which year in years_list was your third birthday? Remember, you were 0 years of age for your first year."
   ]
  },
  {
   "cell_type": "code",
   "execution_count": 3,
   "id": "7053bfa3-3e24-4049-99d3-166000bcefab",
   "metadata": {},
   "outputs": [
    {
     "data": {
      "text/plain": [
       "1998"
      ]
     },
     "execution_count": 3,
     "metadata": {},
     "output_type": "execute_result"
    }
   ],
   "source": [
    "#Solution\n",
    "years_list[3] # Third_birthday: 1998"
   ]
  },
  {
   "cell_type": "markdown",
   "id": "639a0b20-e784-42f1-9a26-74fa2b31c18f",
   "metadata": {},
   "source": [
    "## 3. In the years list, which year were you the oldest?"
   ]
  },
  {
   "cell_type": "code",
   "execution_count": 4,
   "id": "f053affd-593d-4be9-a24d-c8ba6568384c",
   "metadata": {},
   "outputs": [
    {
     "data": {
      "text/plain": [
       "2000"
      ]
     },
     "execution_count": 4,
     "metadata": {},
     "output_type": "execute_result"
    }
   ],
   "source": [
    "#Solution\n",
    "years_list[-1] # Oldest: 2000"
   ]
  },
  {
   "cell_type": "markdown",
   "id": "d284e2a8-8922-49a5-bd82-4027ac856d24",
   "metadata": {},
   "source": [
    "## 4. Make a list called things with these three strings as elements: &quot;mozzarella&quot;, &quot;cinderella&quot;,&quot;salmonella&quot;."
   ]
  },
  {
   "cell_type": "code",
   "execution_count": 5,
   "id": "a24f08e7-cf14-4cc2-915f-c03138426fe5",
   "metadata": {},
   "outputs": [
    {
     "data": {
      "text/plain": [
       "['mozzarella', 'cinderella', 'salmonella']"
      ]
     },
     "execution_count": 5,
     "metadata": {},
     "output_type": "execute_result"
    }
   ],
   "source": [
    "#Solution\n",
    "things=[\"mozzarella\",\"cinderella\",\"salmonella\"]\n",
    "things"
   ]
  },
  {
   "cell_type": "markdown",
   "id": "684009f1-2934-4271-a744-bd56bfa5b206",
   "metadata": {},
   "source": [
    "## 5. Capitalize the element in things that refers to a person and then print the list. Did it change the element in the list?"
   ]
  },
  {
   "cell_type": "code",
   "execution_count": 6,
   "id": "6d6b922f-77f6-4c8c-a9c6-e1e22959b95f",
   "metadata": {},
   "outputs": [
    {
     "name": "stdout",
     "output_type": "stream",
     "text": [
      "['mozzarella', 'Cinderella', 'salmonella']\n"
     ]
    }
   ],
   "source": [
    "#Solution\n",
    "things = [\"mozzarella\", \"cinderella\", \"salmonella\"]\n",
    "things[1] = things[1].capitalize()  # Capitalize the element referring to a person\n",
    "print(things)"
   ]
  },
  {
   "cell_type": "code",
   "execution_count": null,
   "id": "2727db91-fef1-4351-b1cc-888bf06f9cc6",
   "metadata": {},
   "outputs": [],
   "source": [
    "As we can see, the element \"cinderella\" has been capitalized to \"Cinderella\" in the list, but it didn't change the original list; it created a new list with the modified element."
   ]
  },
  {
   "cell_type": "markdown",
   "id": "9b98a1f2-b5bd-4993-8424-48cf2267a473",
   "metadata": {},
   "source": [
    "## 6. Make a surprise list with the elements &quot;Groucho,&quot; &quot;Chico,&quot; and &quot;Harpo.&quot;"
   ]
  },
  {
   "cell_type": "code",
   "execution_count": null,
   "id": "39c435ac-24ae-4102-8597-877f5e0191e2",
   "metadata": {},
   "outputs": [],
   "source": [
    "#Solution\n",
    "surprise = [\"Groucho\", \"Chico\", \"Harpo\"]"
   ]
  },
  {
   "cell_type": "markdown",
   "id": "3a846c4f-b08d-413d-ba0a-e2bc0f10edd5",
   "metadata": {},
   "source": [
    "## 7. Lowercase the last element of the surprise list, reverse it, and then capitalize it."
   ]
  },
  {
   "cell_type": "code",
   "execution_count": 10,
   "id": "f0b02b98-5c03-4a77-8e4d-bb3b60d950c9",
   "metadata": {},
   "outputs": [
    {
     "name": "stdout",
     "output_type": "stream",
     "text": [
      "['Groucho', 'Chico', 'harpo']\n",
      "['harpo', 'Chico', 'Groucho']\n",
      "['HARPO', 'CHICO', 'GROUCHO']\n"
     ]
    }
   ],
   "source": [
    "#Solution\n",
    "surprise = [\"Groucho\", \"Chico\", \"Harpo\"]\n",
    "surprise[-1] = surprise[-1].lower()\n",
    "print(surprise)\n",
    "surprise.reverse()\n",
    "print(surprise)\n",
    "for i in range(len(surprise)):\n",
    "    surprise[i] = surprise[i].upper()\n",
    "print(surprise)"
   ]
  },
  {
   "cell_type": "markdown",
   "id": "b4f2df25-b828-47f0-ab09-af6bc648a1c1",
   "metadata": {},
   "source": [
    "## 8. Make an English-to-French dictionary called e2f and print it. Here are your starter words: dog is chien, cat is chat, and walrus is morse."
   ]
  },
  {
   "cell_type": "code",
   "execution_count": 11,
   "id": "f93fd32a-c135-44d6-b03a-66ccae829c9a",
   "metadata": {},
   "outputs": [
    {
     "name": "stdout",
     "output_type": "stream",
     "text": [
      "{'dog': 'chien', 'cat': 'chat', 'walrus': 'morse'}\n"
     ]
    }
   ],
   "source": [
    "#Solution\n",
    "e2f = {\n",
    "    \"dog\": \"chien\",\n",
    "    \"cat\": \"chat\",\n",
    "    \"walrus\": \"morse\"\n",
    "}\n",
    "\n",
    "print(e2f)\n"
   ]
  },
  {
   "cell_type": "markdown",
   "id": "51f6ef13-78b0-4d41-91ca-96fce9c021a5",
   "metadata": {},
   "source": [
    "## 9. Write the French word for walrus in your three-word dictionary e2f."
   ]
  },
  {
   "cell_type": "code",
   "execution_count": 13,
   "id": "a6b7aa5b-d204-4cbc-831e-a9cb16fd5255",
   "metadata": {},
   "outputs": [
    {
     "data": {
      "text/plain": [
       "'morse'"
      ]
     },
     "execution_count": 13,
     "metadata": {},
     "output_type": "execute_result"
    }
   ],
   "source": [
    "#Solution\n",
    "e2f[\"walrus\"] # morse is the french word for walrus"
   ]
  },
  {
   "cell_type": "markdown",
   "id": "214c2ce1-701a-4564-96a7-65857087a2e2",
   "metadata": {},
   "source": [
    "## 10. Make a French-to-English dictionary called f2e from e2f. Use the items method."
   ]
  },
  {
   "cell_type": "code",
   "execution_count": 14,
   "id": "d1504dd9-0d9a-4b4a-ab01-1c1b333152d2",
   "metadata": {},
   "outputs": [
    {
     "name": "stdout",
     "output_type": "stream",
     "text": [
      "{'chien': 'dog', 'chat': 'cat', 'morse': 'walrus'}\n"
     ]
    }
   ],
   "source": [
    "#Solution\n",
    "e2f = {\n",
    "    \"dog\": \"chien\",\n",
    "    \"cat\": \"chat\",\n",
    "    \"walrus\": \"morse\"\n",
    "}\n",
    "\n",
    "f2e = {value: key for key, value in e2f.items()}\n",
    "\n",
    "print(f2e)"
   ]
  },
  {
   "cell_type": "markdown",
   "id": "c38c42cf-4294-4130-afa7-c8e38d596182",
   "metadata": {},
   "source": [
    "## 11. Print the English version of the French word chien using f2e."
   ]
  },
  {
   "cell_type": "code",
   "execution_count": 15,
   "id": "5a6ead00-f1a0-4ac6-b3be-445f318e66d8",
   "metadata": {},
   "outputs": [
    {
     "data": {
      "text/plain": [
       "'dog'"
      ]
     },
     "execution_count": 15,
     "metadata": {},
     "output_type": "execute_result"
    }
   ],
   "source": [
    "#Solution\n",
    "f2e[\"chien\"] #  dog is the english word for chien"
   ]
  },
  {
   "cell_type": "markdown",
   "id": "141d4077-5a6b-4d3c-927c-6bc9207fef61",
   "metadata": {},
   "source": [
    "## 12. Make and print a set of English words from the keys in e2f."
   ]
  },
  {
   "cell_type": "code",
   "execution_count": 16,
   "id": "39e8fbbb-d31a-4ee4-97b7-190a9e195c88",
   "metadata": {},
   "outputs": [
    {
     "name": "stdout",
     "output_type": "stream",
     "text": [
      "{'dog', 'walrus', 'cat'}\n"
     ]
    }
   ],
   "source": [
    "#Solution\n",
    "e2f = {\n",
    "    \"dog\": \"chien\",\n",
    "    \"cat\": \"chat\",\n",
    "    \"walrus\": \"morse\"\n",
    "}\n",
    "\n",
    "english_words = set(e2f.keys())\n",
    "\n",
    "print(english_words)"
   ]
  },
  {
   "cell_type": "markdown",
   "id": "ae4b5da8-0ee4-4f55-9978-e1cfe4895b3d",
   "metadata": {},
   "source": [
    "## 13. Make a multilevel dictionary called life. Use these strings for the topmost keys: &#39;animals&#39;, &#39;plants&#39;,and &#39;other&#39;. Make the &#39;animals&#39; key refer to another dictionary with the keys &#39;cats&#39;, &#39;octopi&#39;, and &#39;emus&#39;. Make the &#39;cats&#39; key refer to a list of strings with the values &#39;Henri&#39;, &#39;Grumpy&#39;, and &#39;Lucy&#39;.Make all the other keys refer to empty dictionaries."
   ]
  },
  {
   "cell_type": "code",
   "execution_count": 23,
   "id": "0309d664-8995-4067-b6ba-c525774a68b1",
   "metadata": {},
   "outputs": [
    {
     "data": {
      "text/plain": [
       "{'animals': {'cats': ['Herni', 'Grumpy', 'Lucy'], 'octopi': {}, 'emus': {}},\n",
       " 'plants': {},\n",
       " 'other': {}}"
      ]
     },
     "execution_count": 23,
     "metadata": {},
     "output_type": "execute_result"
    }
   ],
   "source": [
    "#Solution\n",
    "life = {\n",
    "    \"animals\": {\"cats\":[\"Herni\",\"Grumpy\",\"Lucy\"],\"octopi\":{},\"emus\":{}},\n",
    "    \"plants\": {},\n",
    "    \"other\": {}\n",
    "}\n",
    "life"
   ]
  },
  {
   "cell_type": "markdown",
   "id": "89993399-cdb3-4f2a-b3b2-1bf7c0ed647f",
   "metadata": {},
   "source": [
    "## 14. Print the top-level keys of life."
   ]
  },
  {
   "cell_type": "code",
   "execution_count": 24,
   "id": "39df9993-0694-4f33-a27a-17e84f8d27d5",
   "metadata": {},
   "outputs": [
    {
     "name": "stdout",
     "output_type": "stream",
     "text": [
      "dict_keys(['animals', 'plants', 'other'])\n"
     ]
    }
   ],
   "source": [
    "#Solution\n",
    "top_level_keys = life.keys()\n",
    "print(top_level_keys)"
   ]
  },
  {
   "cell_type": "markdown",
   "id": "657e9ada-e5af-474b-a9d0-7e78948464aa",
   "metadata": {},
   "source": [
    "## 15. Print the keys for life[&#39;animals&#39;]."
   ]
  },
  {
   "cell_type": "code",
   "execution_count": 25,
   "id": "0eb69ef2-525b-498d-99bc-f3c9935281e0",
   "metadata": {},
   "outputs": [
    {
     "name": "stdout",
     "output_type": "stream",
     "text": [
      "dict_keys(['cats', 'octopi', 'emus'])\n"
     ]
    }
   ],
   "source": [
    "#Solution\n",
    "animals_keys = life['animals'].keys()\n",
    "print(animals_keys)"
   ]
  },
  {
   "cell_type": "markdown",
   "id": "9d7a9999-1525-4136-80d9-af1d93cdddad",
   "metadata": {},
   "source": [
    "## 16. Print the values for life[&#39;animals&#39;][&#39;cats&#39;]"
   ]
  },
  {
   "cell_type": "code",
   "execution_count": 26,
   "id": "d4dfd223-d88f-4ddf-bebf-84c8c466a0cf",
   "metadata": {},
   "outputs": [
    {
     "name": "stdout",
     "output_type": "stream",
     "text": [
      "['Herni', 'Grumpy', 'Lucy']\n"
     ]
    }
   ],
   "source": [
    "#Solution\n",
    "cats_values = life['animals']['cats']\n",
    "print(cats_values)"
   ]
  }
 ],
 "metadata": {
  "kernelspec": {
   "display_name": "Python 3 (ipykernel)",
   "language": "python",
   "name": "python3"
  },
  "language_info": {
   "codemirror_mode": {
    "name": "ipython",
    "version": 3
   },
   "file_extension": ".py",
   "mimetype": "text/x-python",
   "name": "python",
   "nbconvert_exporter": "python",
   "pygments_lexer": "ipython3",
   "version": "3.10.6"
  },
  "toc-showcode": true,
  "toc-showmarkdowntxt": true
 },
 "nbformat": 4,
 "nbformat_minor": 5
}
