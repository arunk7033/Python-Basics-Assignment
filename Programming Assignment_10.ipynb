{
 "cells": [
  {
   "cell_type": "markdown",
   "id": "0cdc6190-882a-4b8e-ae89-dfda87c34f0a",
   "metadata": {},
   "source": [
    "## Programming Assignment_10"
   ]
  },
  {
   "cell_type": "code",
   "execution_count": null,
   "id": "c2afa538-47c9-4880-9719-d3c3ca1b956e",
   "metadata": {},
   "outputs": [],
   "source": [
    "1. Write a Python program to find sum of elements in list?"
   ]
  },
  {
   "cell_type": "code",
   "execution_count": 1,
   "id": "768c17e6-4df9-42d0-afa8-0bac12543a0e",
   "metadata": {},
   "outputs": [
    {
     "name": "stdout",
     "output_type": "stream",
     "text": [
      "The sum of elements in the list [1, 2, 3, 4, 5] is: 15\n"
     ]
    }
   ],
   "source": [
    "#Solution:\n",
    "def find_sum(lst):\n",
    "    # Using the built-in sum() function to find the sum of elements in the list\n",
    "    total_sum = sum(lst)\n",
    "    return total_sum\n",
    "\n",
    "# Example usage:\n",
    "my_list = [1, 2, 3, 4, 5]\n",
    "result = find_sum(my_list)\n",
    "\n",
    "print(f\"The sum of elements in the list {my_list} is: {result}\")"
   ]
  },
  {
   "cell_type": "code",
   "execution_count": null,
   "id": "4833e72c-400a-408e-bee4-d2f3fce6651d",
   "metadata": {},
   "outputs": [],
   "source": [
    "2. Write a Python program to Multiply all numbers in the list?"
   ]
  },
  {
   "cell_type": "code",
   "execution_count": 2,
   "id": "cd75b411-a2f8-44ad-9512-1e53e0d53656",
   "metadata": {},
   "outputs": [
    {
     "name": "stdout",
     "output_type": "stream",
     "text": [
      "The product of all numbers in the list [1, 2, 3, 4, 5] is: 120\n"
     ]
    }
   ],
   "source": [
    "#Solution:\n",
    "def multiply_numbers(lst):\n",
    "    # Initializing the product to 1\n",
    "    product = 1\n",
    "\n",
    "    # Multiplying each element in the list\n",
    "    for num in lst:\n",
    "        product *= num\n",
    "\n",
    "    return product\n",
    "\n",
    "# Example usage:\n",
    "my_list = [1, 2, 3, 4, 5]\n",
    "result = multiply_numbers(my_list)\n",
    "\n",
    "print(f\"The product of all numbers in the list {my_list} is: {result}\")"
   ]
  },
  {
   "cell_type": "code",
   "execution_count": null,
   "id": "d6abe08e-d017-43c1-b2fc-15e8f7bc290e",
   "metadata": {},
   "outputs": [],
   "source": [
    "3. Write a Python program to find smallest number in a list?"
   ]
  },
  {
   "cell_type": "code",
   "execution_count": 3,
   "id": "6763badb-9972-4d23-aff5-fb78e79c0949",
   "metadata": {},
   "outputs": [
    {
     "name": "stdout",
     "output_type": "stream",
     "text": [
      "The smallest number in the list [5, 2, 8, 1, 6] is: 1\n"
     ]
    }
   ],
   "source": [
    "#Solution:\n",
    "def find_smallest(lst):\n",
    "    # Using the built-in min() function to find the smallest number in the list\n",
    "    smallest_number = min(lst)\n",
    "    return smallest_number\n",
    "\n",
    "# Example usage:\n",
    "my_list = [5, 2, 8, 1, 6]\n",
    "result = find_smallest(my_list)\n",
    "\n",
    "print(f\"The smallest number in the list {my_list} is: {result}\")"
   ]
  },
  {
   "cell_type": "code",
   "execution_count": null,
   "id": "30909c4a-729d-4e0c-bd43-7e976a4dce63",
   "metadata": {},
   "outputs": [],
   "source": [
    "4. Write a Python program to find largest number in a list?"
   ]
  },
  {
   "cell_type": "code",
   "execution_count": 4,
   "id": "00d8796d-1315-4c51-9304-b2ff175372f4",
   "metadata": {},
   "outputs": [
    {
     "name": "stdout",
     "output_type": "stream",
     "text": [
      "The largest number in the list [5, 2, 8, 1, 6] is: 8\n"
     ]
    }
   ],
   "source": [
    "#Solution:\n",
    "def find_largest(lst):\n",
    "    # Using the built-in max() function to find the largest number in the list\n",
    "    largest_number = max(lst)\n",
    "    return largest_number\n",
    "\n",
    "# Example usage:\n",
    "my_list = [5, 2, 8, 1, 6]\n",
    "result = find_largest(my_list)\n",
    "\n",
    "print(f\"The largest number in the list {my_list} is: {result}\")"
   ]
  },
  {
   "cell_type": "code",
   "execution_count": null,
   "id": "ac786760-b777-4ce1-bdfe-e93b1d903140",
   "metadata": {},
   "outputs": [],
   "source": [
    "5. Write a Python program to find second largest number in a list?"
   ]
  },
  {
   "cell_type": "code",
   "execution_count": 5,
   "id": "8c4240f7-040f-4966-a020-09bdd6e24e50",
   "metadata": {},
   "outputs": [
    {
     "name": "stdout",
     "output_type": "stream",
     "text": [
      "The second-largest number in the list [5, 2, 8, 1, 6] is: 6\n"
     ]
    }
   ],
   "source": [
    "#Solution:\n",
    "def find_second_largest(lst):\n",
    "    # Checking if the list has at least two elements\n",
    "    if len(lst) < 2:\n",
    "        return \"List should have at least two elements.\"\n",
    "\n",
    "    # Sorting the list in descending order\n",
    "    sorted_list = sorted(lst, reverse=True)\n",
    "\n",
    "    # The second-largest number is the element at index 1 in the sorted list\n",
    "    second_largest = sorted_list[1]\n",
    "\n",
    "    return second_largest\n",
    "\n",
    "# Example usage:\n",
    "my_list = [5, 2, 8, 1, 6]\n",
    "result = find_second_largest(my_list)\n",
    "\n",
    "print(f\"The second-largest number in the list {my_list} is: {result}\")"
   ]
  },
  {
   "cell_type": "code",
   "execution_count": null,
   "id": "e7526052-01d3-4a78-83e0-ae7ad4b261f9",
   "metadata": {},
   "outputs": [],
   "source": [
    "6. Write a Python program to find N largest elements from a list?"
   ]
  },
  {
   "cell_type": "code",
   "execution_count": 7,
   "id": "b8190673-13c5-4648-9337-7ad8af961df0",
   "metadata": {},
   "outputs": [
    {
     "name": "stdout",
     "output_type": "stream",
     "text": [
      "The 3 largest elements in the list [5, 2, 8, 1, 6, 9, 12, 4] are: [12, 9, 8]\n"
     ]
    }
   ],
   "source": [
    "#Solution:\n",
    "def find_n_largest(lst, n):\n",
    "    # Checking if the list has at least N elements\n",
    "    if len(lst) < n:\n",
    "        return f\"List should have at least {n} elements.\"\n",
    "\n",
    "    # Sorting the list in descending order\n",
    "    sorted_list = sorted(lst, reverse=True)\n",
    "\n",
    "    # The N largest elements are the first N elements in the sorted list\n",
    "    n_largest_elements = sorted_list[:n]\n",
    "\n",
    "    return n_largest_elements\n",
    "\n",
    "# Example usage:\n",
    "my_list = [5, 2, 8, 1, 6, 9, 12, 4]\n",
    "n = 3\n",
    "result = find_n_largest(my_list, n)\n",
    "\n",
    "print(f\"The {n} largest elements in the list {my_list} are: {result}\")\n"
   ]
  },
  {
   "cell_type": "code",
   "execution_count": null,
   "id": "e05cf9b6-09ba-4fec-a30e-21d28328c232",
   "metadata": {},
   "outputs": [],
   "source": [
    "7. Write a Python program to print even numbers in a list?"
   ]
  },
  {
   "cell_type": "code",
   "execution_count": 8,
   "id": "32a8178e-7a64-4162-8a7b-931353b1d6cc",
   "metadata": {},
   "outputs": [
    {
     "name": "stdout",
     "output_type": "stream",
     "text": [
      "Even numbers in the list:\n",
      "2\n",
      "4\n",
      "6\n",
      "8\n",
      "10\n"
     ]
    }
   ],
   "source": [
    "#Solution:\n",
    "def print_even_numbers(lst):\n",
    "    # Using a for loop to iterate through each element in the list\n",
    "    for num in lst:\n",
    "        # Checking if the number is even\n",
    "        if num % 2 == 0:\n",
    "            print(num)\n",
    "\n",
    "# Example usage:\n",
    "my_list = [1, 2, 3, 4, 5, 6, 7, 8, 9, 10]\n",
    "print(\"Even numbers in the list:\")\n",
    "print_even_numbers(my_list)"
   ]
  },
  {
   "cell_type": "code",
   "execution_count": null,
   "id": "8a5d38e2-9623-4f71-979c-c99151b8a6fd",
   "metadata": {},
   "outputs": [],
   "source": [
    "8. Write a Python program to print odd numbers in a List?"
   ]
  },
  {
   "cell_type": "code",
   "execution_count": 9,
   "id": "0cad7eee-afdc-4e08-870d-a27e82d26631",
   "metadata": {},
   "outputs": [
    {
     "name": "stdout",
     "output_type": "stream",
     "text": [
      "Odd numbers in the list:\n",
      "1\n",
      "3\n",
      "5\n",
      "7\n",
      "9\n"
     ]
    }
   ],
   "source": [
    "#Solution:\n",
    "def print_odd_numbers(lst):\n",
    "    # Using a for loop to iterate through each element in the list\n",
    "    for num in lst:\n",
    "        # Checking if the number is odd\n",
    "        if num % 2 != 0:\n",
    "            print(num)\n",
    "\n",
    "# Example usage:\n",
    "my_list = [1, 2, 3, 4, 5, 6, 7, 8, 9, 10]\n",
    "print(\"Odd numbers in the list:\")\n",
    "print_odd_numbers(my_list)"
   ]
  },
  {
   "cell_type": "code",
   "execution_count": null,
   "id": "db876942-be05-4ee2-986c-7d9fb864109d",
   "metadata": {},
   "outputs": [],
   "source": [
    "9. Write a Python program to Remove empty List from List?"
   ]
  },
  {
   "cell_type": "code",
   "execution_count": 10,
   "id": "1263f9ec-6669-415c-9620-b77ac32863c9",
   "metadata": {},
   "outputs": [
    {
     "name": "stdout",
     "output_type": "stream",
     "text": [
      "List after removing empty lists: [1, 2, 3, 4, 5]\n"
     ]
    }
   ],
   "source": [
    "#Solution:\n",
    "def remove_empty_lists(lst):\n",
    "    # Using a list comprehension to filter out empty lists\n",
    "    filtered_list = [sublist for sublist in lst if sublist]\n",
    "    return filtered_list\n",
    "\n",
    "# Example usage:\n",
    "my_list = [1, 2, [], 3, [], 4, [], 5, [], []]\n",
    "result = remove_empty_lists(my_list)\n",
    "\n",
    "print(f\"List after removing empty lists: {result}\")"
   ]
  },
  {
   "cell_type": "code",
   "execution_count": null,
   "id": "c1869cff-49ec-42c6-8b4f-b0817110379b",
   "metadata": {},
   "outputs": [],
   "source": [
    "10. Write a Python program to Cloning or Copying a list?"
   ]
  },
  {
   "cell_type": "code",
   "execution_count": 11,
   "id": "5fa112a0-e9dd-4404-82f2-8e878a68559c",
   "metadata": {},
   "outputs": [
    {
     "name": "stdout",
     "output_type": "stream",
     "text": [
      "Original List: [1, 2, 3, 4, 5]\n",
      "Cloned List: [1, 2, 3, 4, 5]\n"
     ]
    }
   ],
   "source": [
    "#Solution:\n",
    "def clone_list(original_list):\n",
    "    # Using the copy() method to create a copy of the list\n",
    "    cloned_list = original_list.copy()\n",
    "    return cloned_list\n",
    "\n",
    "# Example usage:\n",
    "original_list = [1, 2, 3, 4, 5]\n",
    "cloned_list = clone_list(original_list)\n",
    "\n",
    "print(f\"Original List: {original_list}\")\n",
    "print(f\"Cloned List: {cloned_list}\")"
   ]
  },
  {
   "cell_type": "code",
   "execution_count": null,
   "id": "b4b08fab-70ab-4ec3-a0c4-5dfc9a32e4fa",
   "metadata": {},
   "outputs": [],
   "source": [
    "11. Write a Python program to Count occurrences of an element in a list?"
   ]
  },
  {
   "cell_type": "code",
   "execution_count": null,
   "id": "ae81a419-08c6-4508-b2ac-4f6117a5eec5",
   "metadata": {},
   "outputs": [],
   "source": [
    "#Solution:\n",
    "def count_occurrences(lst, element):\n",
    "    # Using the count() method to count occurrences of the element in the list\n",
    "    occurrences = lst.count(element)\n",
    "    return occurrences\n",
    "\n",
    "# Example usage:\n",
    "my_list = [1, 2, 3, 4, 2, 5, 2, 6, 2]\n",
    "element_to_count = 2\n",
    "result = count_occurrences(my_list, element_to_count)\n",
    "\n",
    "print(f\"The element {element_to_count} occurs {result} times in the list.\")"
   ]
  }
 ],
 "metadata": {
  "kernelspec": {
   "display_name": "Python 3 (ipykernel)",
   "language": "python",
   "name": "python3"
  },
  "language_info": {
   "codemirror_mode": {
    "name": "ipython",
    "version": 3
   },
   "file_extension": ".py",
   "mimetype": "text/x-python",
   "name": "python",
   "nbconvert_exporter": "python",
   "pygments_lexer": "ipython3",
   "version": "3.10.6"
  }
 },
 "nbformat": 4,
 "nbformat_minor": 5
}
