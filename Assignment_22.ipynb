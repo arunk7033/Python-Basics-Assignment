{
 "cells": [
  {
   "cell_type": "markdown",
   "id": "48e27239-3301-46a0-92bd-f3d65a9c7e96",
   "metadata": {},
   "source": [
    "# Assignment_22"
   ]
  },
  {
   "cell_type": "markdown",
   "id": "4faf62a9-ce79-4510-8a29-d791173c1049",
   "metadata": {},
   "source": [
    "## 1. What is the result of the code, and explain?\n",
    "    >>> X = 'iNeuron'\n",
    "    >>> def func():\n",
    "            print(X)\n",
    "    >>> func()"
   ]
  },
  {
   "cell_type": "code",
   "execution_count": 2,
   "id": "4c417cde-405c-4c89-bfd6-41e30c00cfaf",
   "metadata": {},
   "outputs": [
    {
     "name": "stdout",
     "output_type": "stream",
     "text": [
      "iNeuron\n"
     ]
    }
   ],
   "source": [
    "#Solution\n",
    "X = 'iNeuron'\n",
    "\n",
    "def func():\n",
    "    print(X)\n",
    "\n",
    "func()\n",
    "\n",
    "# Result of the above code is \"iNeuron\". When func() is called, it will look for the variable X within its local scope. Since there's no X defined within the function, it will search for X in the global scope. It finds the variable X = 'iNeuron' defined outside the function.  Therefore, when the function func() is executed, it will print the value of X, which is 'iNeuron'. "
   ]
  },
  {
   "cell_type": "markdown",
   "id": "60927b6b-7adf-4b55-9aa9-f93c5ac54081",
   "metadata": {},
   "source": [
    "## 2. What is the result of the code, and explain?\n",
    "     >>> X = 'iNeuron'\n",
    "    >>> def func():\n",
    "            X=\"NI!\"\n",
    "    >>> func()\n",
    "    >>> print(X)"
   ]
  },
  {
   "cell_type": "code",
   "execution_count": 3,
   "id": "0f143459-5ac5-4aa6-a075-93fc9b71b637",
   "metadata": {},
   "outputs": [
    {
     "name": "stdout",
     "output_type": "stream",
     "text": [
      "iNeuron\n"
     ]
    }
   ],
   "source": [
    "#Solution\n",
    "X = 'iNeuron'\n",
    "\n",
    "def func():\n",
    "    X = \"NI!\"\n",
    "\n",
    "func()\n",
    "print(X)\n",
    "# Result of the above code is \"iNeuron\".  When func() is executed, it creates a local variable X with the value \"NI!\" but this variable is limited to the scope of the function. It doesn't affect the global variable X.After func() is called, the print(X) statement outside the function is executed. It prints the global variable X which retains its original value, 'iNeuron'. The function func() doesn't modify the global variable, it just creates a separate local variable X within its scope."
   ]
  },
  {
   "cell_type": "markdown",
   "id": "1f165555-2c57-4942-a775-084de2591a71",
   "metadata": {},
   "source": [
    "# 3. What is the result of the code, and explain?\n",
    "     >>> X = 'iNeuron'\n",
    "    >>> def func():\n",
    "            X=\"NI\"\n",
    "            print(X)\n",
    "    >>> func()\n",
    "    >>> print(X)"
   ]
  },
  {
   "cell_type": "code",
   "execution_count": 6,
   "id": "865c934e-d550-4512-9f30-1a03a022189e",
   "metadata": {},
   "outputs": [
    {
     "name": "stdout",
     "output_type": "stream",
     "text": [
      "NI\n",
      "iNeuron\n"
     ]
    }
   ],
   "source": [
    "#Solution\n",
    "X = 'iNeuron'\n",
    "\n",
    "def func():\n",
    "    X = \"NI\"\n",
    "    print(X)\n",
    "\n",
    "func()\n",
    "print(X)\n",
    "\n",
    "# Result of the above code is:\n",
    "#NI\n",
    "#iNeuron\n",
    "#The function func() contains a local variable X which is assigned the value \"NI\". This variable X is local to the function and doesn't affect the global variable X = 'iNeuron'. When func() is called, it prints the value of the local variable X within the function, which is \"NI!\". The print(X) statement within the function prints the value of the local X.After the func() call, the print(X) statement outside the function is executed. It prints the value of the global variable X, which remains unaffected by the local variable X defined in the function. Therefore, it prints the original value of the global variable, which is 'iNeuron'."
   ]
  },
  {
   "cell_type": "markdown",
   "id": "d284e2a8-8922-49a5-bd82-4027ac856d24",
   "metadata": {},
   "source": [
    "## 4. What output does this code produce? why?\n",
    "     >>> X = 'iNeuron'\n",
    "    >>> def func():\n",
    "            global X\n",
    "            X=\"NI\"\n",
    "    >>> func()\n",
    "    >>> print(X)"
   ]
  },
  {
   "cell_type": "code",
   "execution_count": 7,
   "id": "122eec35-4891-44a7-b7ce-60cd5df3fc9c",
   "metadata": {},
   "outputs": [
    {
     "name": "stdout",
     "output_type": "stream",
     "text": [
      "NI\n"
     ]
    }
   ],
   "source": [
    "#Solution\n",
    "X = 'iNeuron'\n",
    "\n",
    "def func():\n",
    "    global X\n",
    "    X = \"NI\"\n",
    "\n",
    "func()\n",
    "print(X)\n",
    "# Result of the above code is:\n",
    "#NI\n",
    "#When func() is executed, it modifies the global variable X by assigning it a new value of \"NI\" using the global keyword. This means that within the func() function, the X variable is the same global variable X defined outside the function.After the func() call, the print(X) statement outside the function is executed. It prints the updated value of the global variable X, which was changed within the func() function to \"NI\"."
   ]
  },
  {
   "cell_type": "markdown",
   "id": "684009f1-2934-4271-a744-bd56bfa5b206",
   "metadata": {},
   "source": [
    "## 5. What about this code—what’s the output, and why?\n",
    "     >>> X = 'iNeuron'\n",
    "    >>> def func():\n",
    "            X=\"NI\"\n",
    "            def nested():\n",
    "                print(X)\n",
    "            nested()\n",
    "    >>> func()\n",
    "    >>> X"
   ]
  },
  {
   "cell_type": "code",
   "execution_count": 8,
   "id": "ff740012-260c-4138-84a2-c5fa69bbd614",
   "metadata": {},
   "outputs": [
    {
     "name": "stdout",
     "output_type": "stream",
     "text": [
      "NI\n"
     ]
    },
    {
     "data": {
      "text/plain": [
       "'iNeuron'"
      ]
     },
     "execution_count": 8,
     "metadata": {},
     "output_type": "execute_result"
    }
   ],
   "source": [
    "#Solution\n",
    "X = 'iNeuron'\n",
    "\n",
    "def func():\n",
    "    X = \"NI\"\n",
    "    def nested():\n",
    "        print(X)\n",
    "    nested()\n",
    "\n",
    "func()\n",
    "X\n",
    "# Result of the above code is:\n",
    "#NI\n",
    "#'iNeuron'\n",
    "#The func() function defines a local variable X with the value \"NI\". Then, it defines a nested function nested() that attempts to print the value of X.When func() is called, it executes the nested() function within it. The nested() function prints the value of X which is in its enclosing scope, looking for a variable named X in the scope of func(). Since there's a local variable X defined within func(), the nested() function will print the value of this local X, which is \"NI\".After the execution of func(), the global variable X remains unchanged. When the code X is called after func() execution, it doesn't print the value of X within the function; rather, it merely evaluates the value of the global X. This code X on its own doesn't print the value; the result is simply the value of the global variable X."
   ]
  },
  {
   "cell_type": "markdown",
   "id": "9b98a1f2-b5bd-4993-8424-48cf2267a473",
   "metadata": {},
   "source": [
    "## 6. How about this code: what is its output in Python 3, and explain?\n",
    "    >>> def func():\n",
    "            X=\"NI\"\n",
    "            def nested():\n",
    "                nonlocal X\n",
    "                X=\"Spam\"\n",
    "            nested()\n",
    "            print(X)\n",
    "    >>> func()"
   ]
  },
  {
   "cell_type": "code",
   "execution_count": 9,
   "id": "a594bfb2-135c-40f2-a0b0-ed7230313dd2",
   "metadata": {},
   "outputs": [
    {
     "name": "stdout",
     "output_type": "stream",
     "text": [
      "Spam\n"
     ]
    }
   ],
   "source": [
    "#Solution\n",
    "def func():\n",
    "    X=\"NI\"\n",
    "    def nested():\n",
    "        nonlocal X\n",
    "        X=\"Spam\"\n",
    "    nested()\n",
    "    print(X)\n",
    "func()\n",
    "# Result of the above code is:\n",
    "# Spam\n",
    "#This code is a demonstration of using the nonlocal keyword in Python. The nonlocal keyword is used to modify a variable in an immediate enclosing scope (not in the global or local scope). In this case, it attempts to modify the variable X defined in the scope of the func() function from within the nested function nested()."
   ]
  }
 ],
 "metadata": {
  "kernelspec": {
   "display_name": "Python 3 (ipykernel)",
   "language": "python",
   "name": "python3"
  },
  "language_info": {
   "codemirror_mode": {
    "name": "ipython",
    "version": 3
   },
   "file_extension": ".py",
   "mimetype": "text/x-python",
   "name": "python",
   "nbconvert_exporter": "python",
   "pygments_lexer": "ipython3",
   "version": "3.10.6"
  },
  "toc-showcode": true,
  "toc-showmarkdowntxt": true
 },
 "nbformat": 4,
 "nbformat_minor": 5
}
