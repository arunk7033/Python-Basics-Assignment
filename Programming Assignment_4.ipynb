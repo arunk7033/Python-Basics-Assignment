{
 "cells": [
  {
   "cell_type": "code",
   "execution_count": null,
   "id": "b49d7187-ce6f-4783-a932-1d59bd226453",
   "metadata": {},
   "outputs": [],
   "source": [
    "1. Write a Python Program to Find the Factorial of a Number?"
   ]
  },
  {
   "cell_type": "code",
   "execution_count": 1,
   "id": "141c39f8-f7c1-45b6-aeb8-ceee0ddcd50c",
   "metadata": {},
   "outputs": [
    {
     "name": "stdin",
     "output_type": "stream",
     "text": [
      "Enter a number:  10\n"
     ]
    },
    {
     "name": "stdout",
     "output_type": "stream",
     "text": [
      "The factorial of 10 is 3628800\n"
     ]
    }
   ],
   "source": [
    "#Solution:\n",
    "def factorial(n):\n",
    "    if n == 0:\n",
    "        return 1\n",
    "    else:\n",
    "        return n * factorial(n - 1)\n",
    "\n",
    "number = int(input(\"Enter a number: \"))\n",
    "\n",
    "if number < 0:\n",
    "    print(\"Factorial does not exist for negative numbers.\")\n",
    "elif number == 0:\n",
    "    print(\"The factorial of 0 is 1.\")\n",
    "else:\n",
    "    result = factorial(number)\n",
    "    print(\"The factorial of\", number, \"is\", result)\n"
   ]
  },
  {
   "cell_type": "code",
   "execution_count": null,
   "id": "bc12bee5-3999-47d5-a107-1e4439cdf676",
   "metadata": {},
   "outputs": [],
   "source": [
    "2. Write a Python Program to Display the multiplication Table?"
   ]
  },
  {
   "cell_type": "code",
   "execution_count": 2,
   "id": "127af63e-c622-41a6-b44f-8628aa3ce8f7",
   "metadata": {},
   "outputs": [
    {
     "name": "stdin",
     "output_type": "stream",
     "text": [
      "Enter a number:  17\n"
     ]
    },
    {
     "name": "stdout",
     "output_type": "stream",
     "text": [
      "Multiplication Table for 17\n",
      "17 x 1 = 17\n",
      "17 x 2 = 34\n",
      "17 x 3 = 51\n",
      "17 x 4 = 68\n",
      "17 x 5 = 85\n",
      "17 x 6 = 102\n",
      "17 x 7 = 119\n",
      "17 x 8 = 136\n",
      "17 x 9 = 153\n",
      "17 x 10 = 170\n"
     ]
    }
   ],
   "source": [
    "#Solution:\n",
    "number = int(input(\"Enter a number: \"))\n",
    "\n",
    "print(\"Multiplication Table for\", number)\n",
    "\n",
    "for i in range(1, 11):\n",
    "    result = number * i\n",
    "    print(number, \"x\", i, \"=\", result)"
   ]
  },
  {
   "cell_type": "code",
   "execution_count": null,
   "id": "a56d4ecb-a27e-425c-bad2-1b973092ca78",
   "metadata": {},
   "outputs": [],
   "source": [
    "3. Write a Python Program to Print the Fibonacci sequence?"
   ]
  },
  {
   "cell_type": "code",
   "execution_count": 3,
   "id": "d1277532-de14-4b4b-b059-9447b3085291",
   "metadata": {},
   "outputs": [
    {
     "name": "stdin",
     "output_type": "stream",
     "text": [
      "Enter the number of Fibonacci numbers to print:  15\n"
     ]
    },
    {
     "name": "stdout",
     "output_type": "stream",
     "text": [
      "Fibonacci Sequence:\n",
      "[0, 1, 1, 2, 3, 5, 8, 13, 21, 34, 55, 89, 144, 233, 377]\n"
     ]
    }
   ],
   "source": [
    "#Solution:\n",
    "def fibonacci(n):\n",
    "    sequence = [0, 1]  # Initialize the sequence with the first two Fibonacci numbers\n",
    "\n",
    "    if n <= 0:\n",
    "        return []\n",
    "\n",
    "    elif n == 1:\n",
    "        return [0]\n",
    "\n",
    "    elif n == 2:\n",
    "        return sequence\n",
    "\n",
    "    else:\n",
    "        while len(sequence) < n:\n",
    "            next_number = sequence[-1] + sequence[-2]\n",
    "            sequence.append(next_number)\n",
    "\n",
    "        return sequence\n",
    "\n",
    "\n",
    "# Get the input from the user\n",
    "number = int(input(\"Enter the number of Fibonacci numbers to print: \"))\n",
    "\n",
    "# Call the fibonacci() function and print the result\n",
    "fibonacci_sequence = fibonacci(number)\n",
    "print(\"Fibonacci Sequence:\")\n",
    "print(fibonacci_sequence)"
   ]
  },
  {
   "cell_type": "code",
   "execution_count": null,
   "id": "1b468561-082c-4a6c-b7d0-4778278e6e02",
   "metadata": {},
   "outputs": [],
   "source": [
    "4. Write a Python Program to Check Armstrong Number?"
   ]
  },
  {
   "cell_type": "code",
   "execution_count": 5,
   "id": "10d40faf-548e-455a-b75b-c97f61d926b4",
   "metadata": {},
   "outputs": [
    {
     "name": "stdin",
     "output_type": "stream",
     "text": [
      "Enter a number:  9474\n"
     ]
    },
    {
     "name": "stdout",
     "output_type": "stream",
     "text": [
      "9474 is an Armstrong number.\n"
     ]
    }
   ],
   "source": [
    "#Solution:\n",
    "def is_armstrong_number(number):\n",
    "    # Convert the number to a string to determine its length\n",
    "    num_str = str(number)\n",
    "    num_len = len(num_str)\n",
    "\n",
    "    # Calculate the sum of the cubes of each digit\n",
    "    armstrong_sum = 0\n",
    "    for digit in num_str:\n",
    "        armstrong_sum += int(digit) ** num_len\n",
    "\n",
    "    # Check if the sum is equal to the original number\n",
    "    if armstrong_sum == number:\n",
    "        return True\n",
    "    else:\n",
    "        return False\n",
    "\n",
    "\n",
    "# Get the input from the user\n",
    "number = int(input(\"Enter a number: \"))\n",
    "\n",
    "# Call the is_armstrong_number() function and print the result\n",
    "if is_armstrong_number(number):\n",
    "    print(number, \"is an Armstrong number.\")\n",
    "else:\n",
    "    print(number, \"is not an Armstrong number.\")"
   ]
  },
  {
   "cell_type": "code",
   "execution_count": null,
   "id": "f4907dc6-ccaa-4a73-ad27-4aebd4302659",
   "metadata": {},
   "outputs": [],
   "source": [
    "5. Write a Python Program to Find Armstrong Number in an Interval?"
   ]
  },
  {
   "cell_type": "code",
   "execution_count": 6,
   "id": "f3f21193-fee9-47b0-9e58-3de65b7a9731",
   "metadata": {},
   "outputs": [
    {
     "name": "stdin",
     "output_type": "stream",
     "text": [
      "Enter the starting number of the interval:  1\n",
      "Enter the ending number of the interval:  1000\n"
     ]
    },
    {
     "name": "stdout",
     "output_type": "stream",
     "text": [
      "Armstrong numbers within the interval 1 to 1000 :\n",
      "1\n",
      "2\n",
      "3\n",
      "4\n",
      "5\n",
      "6\n",
      "7\n",
      "8\n",
      "9\n",
      "153\n",
      "370\n",
      "371\n",
      "407\n"
     ]
    }
   ],
   "source": [
    "#Solution:\n",
    "def is_armstrong_number(number):\n",
    "    # Convert the number to a string to determine its length\n",
    "    num_str = str(number)\n",
    "    num_len = len(num_str)\n",
    "\n",
    "    # Calculate the sum of the cubes of each digit\n",
    "    armstrong_sum = 0\n",
    "    for digit in num_str:\n",
    "        armstrong_sum += int(digit) ** num_len\n",
    "\n",
    "    # Check if the sum is equal to the original number\n",
    "    if armstrong_sum == number:\n",
    "        return True\n",
    "    else:\n",
    "        return False\n",
    "\n",
    "\n",
    "# Get the input from the user\n",
    "start = int(input(\"Enter the starting number of the interval: \"))\n",
    "end = int(input(\"Enter the ending number of the interval: \"))\n",
    "\n",
    "# Find and print the Armstrong numbers within the interval\n",
    "print(\"Armstrong numbers within the interval\", start, \"to\", end, \":\")\n",
    "\n",
    "for number in range(start, end + 1):\n",
    "    if is_armstrong_number(number):\n",
    "        print(number)"
   ]
  },
  {
   "cell_type": "code",
   "execution_count": null,
   "id": "ca001e8b-987b-40b4-b6a1-e2b435d7be73",
   "metadata": {},
   "outputs": [],
   "source": [
    "6. Write a Python Program to Find the Sum of Natural Numbers?"
   ]
  },
  {
   "cell_type": "code",
   "execution_count": 7,
   "id": "00afa439-8c53-4b95-9598-80ede30d296c",
   "metadata": {},
   "outputs": [
    {
     "name": "stdin",
     "output_type": "stream",
     "text": [
      "Enter a positive integer:  15\n"
     ]
    },
    {
     "name": "stdout",
     "output_type": "stream",
     "text": [
      "The sum of natural numbers up to 15 is 120\n"
     ]
    }
   ],
   "source": [
    "#Solution:\n",
    "limit = int(input(\"Enter a positive integer: \"))\n",
    "\n",
    "# Check if the limit is a positive integer\n",
    "if limit <= 0:\n",
    "    print(\"Invalid input. Please enter a positive integer.\")\n",
    "else:\n",
    "    # Calculate the sum of natural numbers\n",
    "    sum_of_numbers = 0\n",
    "    for num in range(1, limit + 1):\n",
    "        sum_of_numbers += num\n",
    "\n",
    "    print(\"The sum of natural numbers up to\", limit, \"is\", sum_of_numbers)"
   ]
  }
 ],
 "metadata": {
  "kernelspec": {
   "display_name": "Python 3 (ipykernel)",
   "language": "python",
   "name": "python3"
  },
  "language_info": {
   "codemirror_mode": {
    "name": "ipython",
    "version": 3
   },
   "file_extension": ".py",
   "mimetype": "text/x-python",
   "name": "python",
   "nbconvert_exporter": "python",
   "pygments_lexer": "ipython3",
   "version": "3.10.6"
  }
 },
 "nbformat": 4,
 "nbformat_minor": 5
}
