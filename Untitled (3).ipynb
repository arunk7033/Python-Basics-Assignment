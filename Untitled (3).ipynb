{
 "cells": [
  {
   "cell_type": "code",
   "execution_count": null,
   "id": "558faf0f-e68a-4c37-8fcb-856e2c8349d1",
   "metadata": {},
   "outputs": [],
   "source": [
    "1. Write a Python program to print \"Hello Python\"?"
   ]
  },
  {
   "cell_type": "code",
   "execution_count": null,
   "id": "a82183ee-e575-481d-9cb7-2ffbc7f7ea21",
   "metadata": {},
   "outputs": [],
   "source": [
    "Solution:\n",
    "    \n",
    "    print('\"Hello Python\"')\n",
    "    \n",
    "    Output:\n",
    "        \"Hello Python\""
   ]
  },
  {
   "cell_type": "code",
   "execution_count": null,
   "id": "ffd98bcb-af5b-43d2-a25f-654767e19e93",
   "metadata": {},
   "outputs": [],
   "source": [
    "2. Write a Python program to do arithmetical operations addition and division?"
   ]
  },
  {
   "cell_type": "code",
   "execution_count": null,
   "id": "d5f549c6-1523-4aa8-947f-f4cda47aa92c",
   "metadata": {},
   "outputs": [],
   "source": [
    "   def addition(a, b):\n",
    "        \n",
    "        c= a+b\n",
    "        return c\n",
    "\n",
    "    def division(a, b):\n",
    "    \n",
    "        d= a/b\n",
    "        return d\n",
    "\n",
    "# Get the inputs from the user\n",
    "a = float(input(\"Enter the first number \"))\n",
    "b = float(input(\"Enter the Second number\"))\n",
    "\n",
    "c = addition(a,b)\n",
    "d = division(a,b)\n",
    "\n",
    "print(\"Addition:\", c)\n",
    "print(\"Division:\", d)"
   ]
  },
  {
   "cell_type": "code",
   "execution_count": null,
   "id": "b3c287b8-3cbd-4cc0-80ae-741b63b974d2",
   "metadata": {},
   "outputs": [],
   "source": [
    "3. Write a Python program to find the area of a triangle?"
   ]
  },
  {
   "cell_type": "code",
   "execution_count": 3,
   "id": "d3f7a605-8cc7-43d3-8a98-0294d7c8fcad",
   "metadata": {},
   "outputs": [
    {
     "name": "stdin",
     "output_type": "stream",
     "text": [
      "Enter the length of side 1:  5\n",
      "Enter the length of side 2:  4\n",
      "Enter the length of side 3:  3\n"
     ]
    },
    {
     "name": "stdout",
     "output_type": "stream",
     "text": [
      "The area of the triangle is: 6.0\n"
     ]
    }
   ],
   "source": [
    "Solution:\n",
    "    def calculate_area(a, b, c):\n",
    "    # Calculate the semi-perimeter\n",
    "    s = (a + b + c) / 2\n",
    "\n",
    "    # Calculate the area using Heron's formula\n",
    "    area = (s * (s - a) * (s - b) * (s - c)) ** 0.5\n",
    "\n",
    "    return area\n",
    "\n",
    "# Get the lengths of the triangle's sides from the user\n",
    "side1 = float(input(\"Enter the length of side 1: \"))\n",
    "side2 = float(input(\"Enter the length of side 2: \"))\n",
    "side3 = float(input(\"Enter the length of side 3: \"))\n",
    "\n",
    "# Calculate and display the area of the triangle\n",
    "triangle_area = calculate_area(side1, side2, side3)\n",
    "print(\"The area of the triangle is:\", triangle_area)"
   ]
  },
  {
   "cell_type": "code",
   "execution_count": null,
   "id": "3f99fc32-db13-4790-99ec-1a88cf96318f",
   "metadata": {},
   "outputs": [],
   "source": [
    "4. Write a Python program to swap two variables?"
   ]
  },
  {
   "cell_type": "code",
   "execution_count": null,
   "id": "ce193220-473c-4913-9994-2217ac6992ed",
   "metadata": {},
   "outputs": [],
   "source": [
    "def swap_variables(a, b):\n",
    "    temp = a\n",
    "    a = b\n",
    "    b = temp\n",
    "    return a, b\n",
    "\n",
    "variable1 = input(\"Enter the value of variable 1: \")\n",
    "variable2 = input(\"Enter the value of variable 2: \")\n",
    "\n",
    "variable1, variable2 = swap_variables(variable1, variable2)\n",
    "\n",
    "print(\"Swapped values:\")\n",
    "print(\"Variable 1:\", variable1)\n",
    "print(\"Variable 2:\", variable2)\n"
   ]
  },
  {
   "cell_type": "code",
   "execution_count": null,
   "id": "a2ff5ee7-10a5-4852-a77a-36c338196591",
   "metadata": {},
   "outputs": [],
   "source": [
    "5. Write a Python program to generate a random number?"
   ]
  },
  {
   "cell_type": "code",
   "execution_count": null,
   "id": "158e0d28-cf62-4c11-b011-91b43202d2cc",
   "metadata": {},
   "outputs": [],
   "source": [
    "import random\n",
    "\n",
    "random_number = random.randint(1, 1000)\n",
    "\n",
    "print(\"Random number:\", random_number)\n"
   ]
  },
  {
   "cell_type": "code",
   "execution_count": null,
   "id": "f9d62752-7c1a-4246-99ed-62843f27b230",
   "metadata": {},
   "outputs": [],
   "source": []
  }
 ],
 "metadata": {
  "kernelspec": {
   "display_name": "Python 3 (ipykernel)",
   "language": "python",
   "name": "python3"
  },
  "language_info": {
   "codemirror_mode": {
    "name": "ipython",
    "version": 3
   },
   "file_extension": ".py",
   "mimetype": "text/x-python",
   "name": "python",
   "nbconvert_exporter": "python",
   "pygments_lexer": "ipython3",
   "version": "3.10.6"
  }
 },
 "nbformat": 4,
 "nbformat_minor": 5
}
