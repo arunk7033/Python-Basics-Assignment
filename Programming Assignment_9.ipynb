{
 "cells": [
  {
   "cell_type": "code",
   "execution_count": null,
   "id": "00c6d463-1d50-41eb-b48b-602f1f5ae45e",
   "metadata": {},
   "outputs": [],
   "source": [
    "1. Write a Python program to check if the given number is a Disarium Number?"
   ]
  },
  {
   "cell_type": "code",
   "execution_count": 25,
   "id": "656b77b5-d3ea-4735-9dd5-28c0f03be7f4",
   "metadata": {},
   "outputs": [
    {
     "name": "stdin",
     "output_type": "stream",
     "text": [
      "Enter a number to check if it's a Disarium number:  35\n"
     ]
    },
    {
     "name": "stdout",
     "output_type": "stream",
     "text": [
      "35 is not a Disarium number.\n"
     ]
    }
   ],
   "source": [
    "#Solution:\n",
    "def is_disarium_number(number):\n",
    "    # Convert the number to a string to iterate through digits\n",
    "    num_str = str(number)\n",
    "\n",
    "    # Calculate the sum of digits each raised to the power of their positions\n",
    "    digit_sum = 0\n",
    "    for index, digit in enumerate(num_str):\n",
    "        digit_sum+=(int(digit)**(index + 1))\n",
    "\n",
    "    # Check if the sum is equal to the original number\n",
    "    return digit_sum == number\n",
    "\n",
    "# Example usage\n",
    "number_to_check = int(input(\"Enter a number to check if it's a Disarium number: \"))\n",
    "\n",
    "# Check if the number is a Disarium number\n",
    "if is_disarium_number(number_to_check):\n",
    "    print(f\"{number_to_check} is a Disarium number.\")\n",
    "else:\n",
    "    print(f\"{number_to_check} is not a Disarium number.\")\n"
   ]
  },
  {
   "cell_type": "code",
   "execution_count": null,
   "id": "4833e72c-400a-408e-bee4-d2f3fce6651d",
   "metadata": {},
   "outputs": [],
   "source": [
    "2. Write a Python program to print all disarium numbers between 1 to 100?"
   ]
  },
  {
   "cell_type": "code",
   "execution_count": 28,
   "id": "0375b3d0-d7da-4753-beb9-25a050dc1159",
   "metadata": {},
   "outputs": [
    {
     "name": "stdout",
     "output_type": "stream",
     "text": [
      "Disarium numbers between 1 and 100:\n",
      "1\n",
      "2\n",
      "3\n",
      "4\n",
      "5\n",
      "6\n",
      "7\n",
      "8\n",
      "9\n",
      "89\n"
     ]
    }
   ],
   "source": [
    "#Solution:\n",
    "def is_disarium_number(number):\n",
    "    num_str = str(number)\n",
    "    digit_sum = 0\n",
    "    for index, digit in enumerate(num_str):\n",
    "        digit_sum+=(int(digit)**(index + 1))\n",
    "   \n",
    "    return digit_sum == number\n",
    "\n",
    "# Print Disarium numbers between 1 and 100\n",
    "print(\"Disarium numbers between 1 and 100:\")\n",
    "for num in range(1, 101):\n",
    "    if is_disarium_number(num):\n",
    "        print(num)"
   ]
  },
  {
   "cell_type": "code",
   "execution_count": null,
   "id": "07fa4b66-322f-4a87-b4f6-49cc233483db",
   "metadata": {},
   "outputs": [],
   "source": [
    "3. Write a Python program to check if the given number is Happy Number?"
   ]
  },
  {
   "cell_type": "code",
   "execution_count": 1,
   "id": "8e6a6166-4c9f-4f2f-a18b-ce58bda7c531",
   "metadata": {},
   "outputs": [
    {
     "name": "stdin",
     "output_type": "stream",
     "text": [
      "Enter a number to check if it's a Happy Number:  12\n"
     ]
    },
    {
     "name": "stdout",
     "output_type": "stream",
     "text": [
      "12 is not a Happy Number.\n"
     ]
    }
   ],
   "source": [
    "def is_happy_number(num):\n",
    "    seen_numbers = set()\n",
    "\n",
    "    while num != 1 and num not in seen_numbers:\n",
    "        seen_numbers.add(num)\n",
    "        num = sum(int(digit) ** 2 for digit in str(num))\n",
    "\n",
    "    return num == 1\n",
    "\n",
    "# Example usage:\n",
    "number_to_check = int(input(\"Enter a number to check if it's a Happy Number: \"))\n",
    "if is_happy_number(number_to_check):\n",
    "    print(f\"{number_to_check} is a Happy Number!\")\n",
    "else:\n",
    "    print(f\"{number_to_check} is not a Happy Number.\")\n"
   ]
  },
  {
   "cell_type": "code",
   "execution_count": null,
   "id": "30909c4a-729d-4e0c-bd43-7e976a4dce63",
   "metadata": {},
   "outputs": [],
   "source": [
    "4. Write a Python program to print all happy numbers between 1 and 100?"
   ]
  },
  {
   "cell_type": "code",
   "execution_count": 2,
   "id": "7f6d8ce0-f430-4321-ab81-7b15b78600de",
   "metadata": {},
   "outputs": [
    {
     "name": "stdout",
     "output_type": "stream",
     "text": [
      "1\n",
      "7\n",
      "10\n",
      "13\n",
      "19\n",
      "23\n",
      "28\n",
      "31\n",
      "32\n",
      "44\n",
      "49\n",
      "68\n",
      "70\n",
      "79\n",
      "82\n",
      "86\n",
      "91\n",
      "94\n",
      "97\n",
      "100\n"
     ]
    }
   ],
   "source": [
    "#Solution:\n",
    "def is_happy_number(num):\n",
    "    seen_numbers = set()\n",
    "\n",
    "    while num != 1 and num not in seen_numbers:\n",
    "        seen_numbers.add(num)\n",
    "        num = sum(int(digit) ** 2 for digit in str(num))\n",
    "\n",
    "    return num == 1\n",
    "\n",
    "    if is_happy_number(i):\n",
    "        print(i)"
   ]
  },
  {
   "cell_type": "code",
   "execution_count": null,
   "id": "ac786760-b777-4ce1-bdfe-e93b1d903140",
   "metadata": {},
   "outputs": [],
   "source": [
    "5. Write a Python program to determine whether the given number is a Harshad Number?"
   ]
  },
  {
   "cell_type": "code",
   "execution_count": 3,
   "id": "adc716ca-fc1f-42ae-b0c0-6e665f0e874f",
   "metadata": {},
   "outputs": [
    {
     "name": "stdin",
     "output_type": "stream",
     "text": [
      "Enter a number to check if it's a Harshad Number:  55\n"
     ]
    },
    {
     "name": "stdout",
     "output_type": "stream",
     "text": [
      "55 is not a Harshad Number.\n"
     ]
    }
   ],
   "source": [
    "#Solution:\n",
    "def is_harshad_number(num):\n",
    "    # Calculate the sum of digits\n",
    "    sum_of_digits = sum(int(digit) for digit in str(num))\n",
    "\n",
    "    # Check if the number is divisible by the sum of its digits\n",
    "    return num % sum_of_digits == 0\n",
    "\n",
    "# Example usage:\n",
    "number_to_check = int(input(\"Enter a number to check if it's a Harshad Number: \"))\n",
    "if is_harshad_number(number_to_check):\n",
    "    print(f\"{number_to_check} is a Harshad Number!\")\n",
    "else:\n",
    "    print(f\"{number_to_check} is not a Harshad Number.\")"
   ]
  },
  {
   "cell_type": "code",
   "execution_count": null,
   "id": "dc5db979-0421-48cb-92fb-049429d46b50",
   "metadata": {},
   "outputs": [],
   "source": [
    "6. Write a Python program to print all pronic numbers between 1 and 100?"
   ]
  },
  {
   "cell_type": "code",
   "execution_count": 4,
   "id": "27ac3386-3375-490b-b57d-df96816eb8b9",
   "metadata": {},
   "outputs": [
    {
     "name": "stdout",
     "output_type": "stream",
     "text": [
      "Pronic numbers between 1 and 100:\n",
      "[2, 6, 12, 20, 30, 42, 56, 72, 90]\n"
     ]
    }
   ],
   "source": [
    "#Solution:\n",
    "def is_pronic_number(num):\n",
    "    for i in range(int(num**0.5) + 1):\n",
    "        if i * (i + 1) == num:\n",
    "            return True\n",
    "    return False\n",
    "\n",
    "def print_pronic_numbers(limit):\n",
    "    pronic_numbers = [num for num in range(1, limit + 1) if is_pronic_number(num)]\n",
    "    print(f\"Pronic numbers between 1 and {limit}:\")\n",
    "    print(pronic_numbers)\n",
    "\n",
    "# Example usage:\n",
    "print_pronic_numbers(100)"
   ]
  }
 ],
 "metadata": {
  "kernelspec": {
   "display_name": "Python 3 (ipykernel)",
   "language": "python",
   "name": "python3"
  },
  "language_info": {
   "codemirror_mode": {
    "name": "ipython",
    "version": 3
   },
   "file_extension": ".py",
   "mimetype": "text/x-python",
   "name": "python",
   "nbconvert_exporter": "python",
   "pygments_lexer": "ipython3",
   "version": "3.10.6"
  }
 },
 "nbformat": 4,
 "nbformat_minor": 5
}
