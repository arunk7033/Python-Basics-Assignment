{
 "cells": [
  {
   "cell_type": "code",
   "execution_count": null,
   "id": "7c58473d-4bd7-41ba-935f-0d287cda2ebc",
   "metadata": {},
   "outputs": [],
   "source": [
    "1.What are the two values of the Boolean data type? How do you write them?"
   ]
  },
  {
   "cell_type": "code",
   "execution_count": null,
   "id": "f8bb3c23-8f83-40ae-8019-6c59d1133a85",
   "metadata": {},
   "outputs": [],
   "source": [
    "Solution:\n",
    "\n",
    "    The two values of the Boolean data type are: True & False\n",
    "    Here's an example of assigning Boolean values to variables in Python:\n",
    "    x = True\n",
    "    y = False"
   ]
  },
  {
   "cell_type": "code",
   "execution_count": null,
   "id": "84b13d24-879e-482c-81ae-5991160db991",
   "metadata": {},
   "outputs": [],
   "source": [
    "2. What are the three different types of Boolean operators?"
   ]
  },
  {
   "cell_type": "code",
   "execution_count": null,
   "id": "360a1aa3-f1ab-4d41-973c-4a143b2f6598",
   "metadata": {},
   "outputs": [],
   "source": [
    "Solution:\n",
    "    \n",
    "The three different types of Boolean operators are:\n",
    "    1. and operator\n",
    "        and operator:  The \"and\" operator returns True if both operands are True, and False in all other conditions.\n",
    "        For example:\n",
    "        x = True\n",
    "        y = False\n",
    "        result = x and y  # Evaluates to False\n",
    "    2. or operator\n",
    "        or operator: The \"or\" operator returns True if at least one of the operands is True, and False if both operands \n",
    "        are False.\n",
    "        For example:\n",
    "        x = True\n",
    "        y = False\n",
    "        result = x or y  # Evaluates to True\n",
    "\n",
    "    3. not operator\n",
    "        not operator: The \"not\" operator returns True if the operand is False, and False if the operand is True.\n",
    "        For example:\n",
    "        x = True\n",
    "        result = not x  # Evaluates to False"
   ]
  },
  {
   "cell_type": "code",
   "execution_count": null,
   "id": "295ccffc-8430-4c5d-beeb-8272c6ffe25f",
   "metadata": {},
   "outputs": [],
   "source": [
    "3. Make a list of each Boolean operators truth tables (i.e. every possible combination of Boolean\n",
    "values for the operator and what it evaluate )."
   ]
  },
  {
   "cell_type": "code",
   "execution_count": null,
   "id": "acfeeaf6-89b6-4f33-a1a5-583a583516ad",
   "metadata": {},
   "outputs": [],
   "source": [
    "Solution:\n",
    "    1. and operator\n",
    "    \n",
    "        | Operand 1 | Operand 2 | Result |\n",
    "        |-----------|-----------|--------|\n",
    "        |   False   |   False   | False  |\n",
    "        |   False   |   True    | False  |\n",
    "        |   True    |   False   | False  |\n",
    "        |   True    |   True    | True   |\n",
    "\n",
    "    \n",
    "    2. or operator\n",
    "    \n",
    "        | Operand 1 | Operand 2 | Result |\n",
    "        |-----------|-----------|--------|\n",
    "        |   False   |   False   | False  |\n",
    "        |   False   |   True    | True   |\n",
    "        |   True    |   False   | True   |\n",
    "        |   True    |   True    | True   |\n",
    "\n",
    "    3. not operator\n",
    "    \n",
    "        | Operand | Result |\n",
    "        |---------|--------|\n",
    "        |  False  |  True  |\n",
    "        |  True   | False  |\n",
    "\n"
   ]
  },
  {
   "cell_type": "code",
   "execution_count": null,
   "id": "0cc83b28-34cb-477c-b83d-401e3f1935c2",
   "metadata": {},
   "outputs": [],
   "source": [
    "4. What are the values of the following expressions?\n",
    "    (5 > 4) and (3 == 5)\n",
    "    not (5 > 4)\n",
    "    (5 > 4) or (3 == 5)\n",
    "    not ((5 > 4) or (3 == 5))\n",
    "    (True and True) and (True == False)\n",
    "    (not False) or (not True)"
   ]
  },
  {
   "cell_type": "code",
   "execution_count": null,
   "id": "469cd6b0-7d03-4208-946b-4acba30ddcd5",
   "metadata": {},
   "outputs": [],
   "source": [
    "Solution:\n",
    "    1.False\n",
    "    2.False\n",
    "    3.True\n",
    "    4.False\n",
    "    5.False\n",
    "    6.True"
   ]
  },
  {
   "cell_type": "code",
   "execution_count": null,
   "id": "38b85972-3525-483f-ab0f-414f7f1c43a2",
   "metadata": {},
   "outputs": [],
   "source": [
    "5. What are the six comparison operators?"
   ]
  },
  {
   "cell_type": "code",
   "execution_count": null,
   "id": "aa6cf113-7ca1-4495-8703-3ec5cff45e7d",
   "metadata": {},
   "outputs": [],
   "source": [
    "Solution:\n",
    "    1. Equal to (==): This operator checks if the values on both sides are equal.\n",
    "\n",
    "    2. Not equal to (!=): This operator checks if the values on both sides are not equal.\n",
    "\n",
    "    3. Greater than (>): This operator checks if the value on the left side is greater than the value \n",
    "    on the right side.\n",
    "\n",
    "    4. Less than (<): This operator checks if the value on the left side is less than the value on the \n",
    "    right side.\n",
    "\n",
    "    5. Greater than or equal to (>=): This operator checks if the value on the left side is greater than\n",
    "    or equal to the value on the right side.\n",
    "\n",
    "    6.Less than or equal to (<=): This operator checks if the value on the left side is less than or equal\n",
    "    to the value on the right side"
   ]
  },
  {
   "cell_type": "code",
   "execution_count": null,
   "id": "568bfa92-c576-451d-93b0-1dcc5c774abd",
   "metadata": {},
   "outputs": [],
   "source": [
    "6. How do you tell the difference between the equal to and assignment operators? Describe a\n",
    "   condition and when you would use one."
   ]
  },
  {
   "cell_type": "code",
   "execution_count": null,
   "id": "5402afdc-9335-4dad-8cf2-792b109a52a0",
   "metadata": {},
   "outputs": [],
   "source": [
    "Solution:\n",
    "    The equal to operator (==) is a comparison operator used to check if two values are equal.\n",
    "    It compares the values on both sides of the operator and returns True if they are equal, and False otherwise.\n",
    "    \n",
    "    For example:\n",
    "        x = 5\n",
    "        y = 7\n",
    "        if x == y:\n",
    "            print(\"x and y are equal\")\n",
    "        else:\n",
    "            print(\"x and y are not equal\")\n",
    "            \n",
    "        In this example, the == operator is used to compare the values of x and y.\n",
    "        Since x and y have different values, the condition evaluates to False and the output will be\n",
    "        \"x and y are not equal\".\n",
    "        \n",
    "    On the other hand, the assignment operator (=) is used to assign a value to a variable.\n",
    "    It takes the value on the right side and assigns it to the variable on the left side.\n",
    "    \n",
    "    For example:\n",
    "        x = 5\n",
    "        y = x + 3\n",
    "        print(y)  # Output: 8\n",
    "        \n",
    "    In this example, the value of x + 3 is assigned to the variable y using the assignment operator.\n",
    "    The value of x (5) is added to 3, resulting in y being assigned the value 8."
   ]
  },
  {
   "cell_type": "code",
   "execution_count": null,
   "id": "0b2d8990-d5da-4719-ba13-fcba222e489e",
   "metadata": {},
   "outputs": [],
   "source": [
    "7. Identify the three blocks in this code:\n",
    "spam = 0\n",
    "if spam == 10:\n",
    "print('eggs')\n",
    "if spam >= 5:\n",
    "print('bacon')\n",
    "else:\n",
    "print('ham')\n",
    "print('spam')\n",
    "print('spam')"
   ]
  },
  {
   "cell_type": "code",
   "execution_count": null,
   "id": "51dda2f9-0b2f-402d-9582-c5718f56ffe1",
   "metadata": {},
   "outputs": [],
   "source": [
    "Solution:\n",
    "    \n",
    "    Block 1:\n",
    "        if spam == 10:\n",
    "            print('eggs')\n",
    "            \n",
    "    Block 2:\n",
    "        if spam >= 5:\n",
    "            print('bacon') \n",
    "            \n",
    "    Block 3:\n",
    "        else:\n",
    "            print('ham')\n",
    "            print('spam')\n",
    "            print('spam')"
   ]
  },
  {
   "cell_type": "code",
   "execution_count": null,
   "id": "4c14e389-bf57-4dcc-982e-c47880208dc2",
   "metadata": {},
   "outputs": [],
   "source": [
    "8. Write code that prints Hello if 1 is stored in spam, prints Howdy if 2 is stored in spam, and prints\n",
    "Greetings! if anything else is stored in spam.9.If your programme is stuck in an endless loop, what keys you’ll press?"
   ]
  },
  {
   "cell_type": "code",
   "execution_count": null,
   "id": "9925c248-18d0-4424-80be-d59960f51dc5",
   "metadata": {},
   "outputs": [],
   "source": [
    "Solution:\n",
    "    if spam==1:\n",
    "        print(\"Hello\")\n",
    "    elif spam==2:\n",
    "        print(\"Howdy\")\n",
    "    else:\n",
    "        print(\"Greetings!\")"
   ]
  },
  {
   "cell_type": "code",
   "execution_count": null,
   "id": "3b754c59-cd6d-4263-896b-bc348537756d",
   "metadata": {},
   "outputs": [],
   "source": [
    "9.If your programme is stuck in an endless loop, what keys you’ll press?"
   ]
  },
  {
   "cell_type": "code",
   "execution_count": null,
   "id": "7393a74b-a4ea-4422-8d5b-21da441e957c",
   "metadata": {},
   "outputs": [],
   "source": [
    "Solution:\n",
    "    Ctrl+C"
   ]
  },
  {
   "cell_type": "code",
   "execution_count": null,
   "id": "414ce0db-1600-4597-ad28-1560cad5231b",
   "metadata": {},
   "outputs": [],
   "source": [
    "10. How can you tell the difference between break and continue?"
   ]
  },
  {
   "cell_type": "code",
   "execution_count": null,
   "id": "fc0a4609-4517-43ff-ba06-7c3497961a33",
   "metadata": {},
   "outputs": [],
   "source": [
    "Solution:\n",
    "    When break statement is encountered inside a loop (such as a for loop or while loop), it immediately terminates the       loop and transfers the control to the next statement after the loop.\n",
    "    \n",
    "    for example:\n",
    "\n",
    "    for num in range(1, 6):\n",
    "    if num == 4:\n",
    "        break\n",
    "    print(num)\n",
    "\n",
    "    # Output:\n",
    "    # 1\n",
    "    # 2\n",
    "    # 3\n",
    "    \n",
    "    When continue statement isencountered inside a loop, \"continue\" causes the loop to skip the remaining code in the         current iteration and move on to the next iteration.\n",
    "    \n",
    "    for example:\n",
    "\n",
    "    # Example 2: Using \"continue\"\n",
    "\n",
    "    for num in range(1, 6):\n",
    "        if num == 3:\n",
    "            continue\n",
    "        print(num)\n",
    "\n",
    "    # Output:\n",
    "    # 1\n",
    "    # 2\n",
    "    # 4\n",
    "    # 5"
   ]
  },
  {
   "cell_type": "code",
   "execution_count": null,
   "id": "96b00224-9e59-4ab3-b3db-e2598b752314",
   "metadata": {},
   "outputs": [],
   "source": [
    "11. In a for loop, what is the difference between range(10), range(0, 10), and range(0, 10, 1)?"
   ]
  },
  {
   "cell_type": "code",
   "execution_count": null,
   "id": "1bd5eb90-ec04-42aa-9138-8cbea4008529",
   "metadata": {},
   "outputs": [],
   "source": [
    "Solution:\n",
    "    range(10), range(0, 10), and range(0, 10, 1) all are same and iterates from 0 to 9.\n",
    "    \n",
    "    for example:\n",
    "        \n",
    "        #Code1\n",
    "        for i in range(10):\n",
    "            print(i)\n",
    "        \n",
    "        #Code2\n",
    "        for i in range(0,10):\n",
    "             print(i)\n",
    "        \n",
    "        #Code3\n",
    "        for i in range(0,10,1):\n",
    "             print(i)\n",
    "                \n",
    "        output for #code1, #code2 & #code3:\n",
    "        \n",
    "        0\n",
    "        1\n",
    "        2\n",
    "        3\n",
    "        4\n",
    "        5\n",
    "        6\n",
    "        7\n",
    "        8\n",
    "        9"
   ]
  },
  {
   "cell_type": "code",
   "execution_count": null,
   "id": "bc7b1729-d9ed-41bb-9100-7c81cc7c2817",
   "metadata": {},
   "outputs": [],
   "source": [
    "12. Write a short program that prints the numbers 1 to 10 using a for loop. Then write an equivalent\n",
    "program that prints the numbers 1 to 10 using a while loop."
   ]
  },
  {
   "cell_type": "code",
   "execution_count": null,
   "id": "6c7d6c97-bb03-4f81-ae20-08ce445f2934",
   "metadata": {},
   "outputs": [],
   "source": [
    "Solution:\n",
    "    \n",
    "    #program to print 1 to 10 using for loop\n",
    "    for i in range(1,11):\n",
    "        print(i)\n",
    "       \n",
    "    #program to print 1 to 10 using while loop\n",
    "    i=1\n",
    "    while(i<11):\n",
    "        print(i)\n",
    "        i+=1"
   ]
  },
  {
   "cell_type": "code",
   "execution_count": null,
   "id": "8a319564-7e9d-4248-bf20-f8b571dc6cf7",
   "metadata": {},
   "outputs": [],
   "source": [
    "13. If you had a function named bacon() inside a module named spam, how would you call it after\n",
    "importing spam?"
   ]
  },
  {
   "cell_type": "code",
   "execution_count": null,
   "id": "01a1dcc8-8873-490f-ac39-22990603f4b1",
   "metadata": {},
   "outputs": [],
   "source": [
    "Solution:\n",
    "    import spam\n",
    "    spam.bacon()"
   ]
  }
 ],
 "metadata": {
  "kernelspec": {
   "display_name": "Python 3 (ipykernel)",
   "language": "python",
   "name": "python3"
  },
  "language_info": {
   "codemirror_mode": {
    "name": "ipython",
    "version": 3
   },
   "file_extension": ".py",
   "mimetype": "text/x-python",
   "name": "python",
   "nbconvert_exporter": "python",
   "pygments_lexer": "ipython3",
   "version": "3.10.6"
  }
 },
 "nbformat": 4,
 "nbformat_minor": 5
}
