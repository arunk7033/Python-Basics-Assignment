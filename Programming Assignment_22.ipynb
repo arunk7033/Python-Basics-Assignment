{
 "cells": [
  {
   "cell_type": "markdown",
   "id": "0cdc6190-882a-4b8e-ae89-dfda87c34f0a",
   "metadata": {},
   "source": [
    "## Programming Assignment_22"
   ]
  },
  {
   "cell_type": "code",
   "execution_count": null,
   "id": "c2afa538-47c9-4880-9719-d3c3ca1b956e",
   "metadata": {},
   "outputs": [],
   "source": [
    "Question1\n",
    "Create a function that takes three parameters where:\n",
    " x is the start of the range (inclusive).\n",
    " y is the end of the range (inclusive).\n",
    " n is the divisor to be checked against.\n",
    "Return an ordered list with numbers in the range that are divisible by the third parameter n.\n",
    "Return an empty list if there are no numbers that are divisible by n.\n",
    "Examples\n",
    "list_operation(1, 10, 3) ➞ [3, 6, 9]\n",
    "list_operation(7, 9, 2) ➞ [8]\n",
    "list_operation(15, 20, 7) ➞ []"
   ]
  },
  {
   "cell_type": "code",
   "execution_count": 1,
   "id": "5b581104-5456-4f54-8203-5c2d40726074",
   "metadata": {},
   "outputs": [
    {
     "name": "stdout",
     "output_type": "stream",
     "text": [
      "[3, 6, 9]\n",
      "[8]\n",
      "[]\n"
     ]
    }
   ],
   "source": [
    "#Solution:\n",
    "def list_operation(x, y, n):\n",
    "    return [num for num in range(x, y + 1) if num % n == 0]\n",
    "\n",
    "# Examples\n",
    "print(list_operation(1, 10, 3))  # Output: [3, 6, 9]\n",
    "print(list_operation(7, 9, 2))   # Output: [8]\n",
    "print(list_operation(15, 20, 7))  # Output: []"
   ]
  },
  {
   "cell_type": "code",
   "execution_count": null,
   "id": "04af6af6-baa5-4870-8f23-fc3e0fc5d4d6",
   "metadata": {},
   "outputs": [],
   "source": [
    "Question2\n",
    "Create a function that takes in two lists and returns True if the second list follows the first list\n",
    "by one element, and False otherwise. In other words, determine if the second list is the first\n",
    "list shifted to the right by 1.\n",
    "Examples\n",
    "simon_says([1, 2], [5, 1]) ➞ True\n",
    "simon_says([1, 2], [5, 5]) ➞ False\n",
    "simon_says([1, 2, 3, 4, 5], [0, 1, 2, 3, 4]) ➞ True\n",
    "simon_says([1, 2, 3, 4, 5], [5, 5, 1, 2, 3]) ➞ False\n",
    "Notes\n",
    " Both input lists will be of the same length, and will have a minimum length of 2.\n",
    " The values of the 0-indexed element in the second list and the n-1th indexed element\n",
    "in the first list do not matter."
   ]
  },
  {
   "cell_type": "code",
   "execution_count": 2,
   "id": "37f73a58-ff7c-4ddd-bc99-9a7a75febcb3",
   "metadata": {},
   "outputs": [
    {
     "name": "stdout",
     "output_type": "stream",
     "text": [
      "True\n",
      "False\n",
      "True\n",
      "False\n"
     ]
    }
   ],
   "source": [
    "#Solution:\n",
    "def simon_says(list1, list2):\n",
    "    return list1[:-1] == list2[1:]\n",
    "\n",
    "# Examples\n",
    "print(simon_says([1, 2], [5, 1]))  # Output: True\n",
    "print(simon_says([1, 2], [5, 5]))  # Output: False\n",
    "print(simon_says([1, 2, 3, 4, 5], [0, 1, 2, 3, 4]))  # Output: True\n",
    "print(simon_says([1, 2, 3, 4, 5], [5, 5, 1, 2, 3]))  # Output: False"
   ]
  },
  {
   "cell_type": "code",
   "execution_count": null,
   "id": "d6abe08e-d017-43c1-b2fc-15e8f7bc290e",
   "metadata": {},
   "outputs": [],
   "source": [
    "Question3\n",
    "A group of friends have decided to start a secret society. The name will be the first letter of\n",
    "each of their names, sorted in alphabetical order.\n",
    "Create a function that takes in a list of names and returns the name of the secret society.\n",
    "\n",
    "Examples\n",
    "society_name([\"Adam\", \"Sarah\", \"Malcolm\"]) ➞ \"AMS\"\n",
    "society_name([\"Harry\", \"Newt\", \"Luna\", \"Cho\"]) ➞ \"CHLN\"\n",
    "society_name([\"Phoebe\", \"Chandler\", \"Rachel\", \"Ross\", \"Monica\", \"Joey\"])"
   ]
  },
  {
   "cell_type": "code",
   "execution_count": 7,
   "id": "ac7e8d8a-e390-45fa-8b8f-f4742110fd49",
   "metadata": {},
   "outputs": [
    {
     "name": "stdout",
     "output_type": "stream",
     "text": [
      "AMS\n",
      "CHLN\n",
      "CJMPRR\n"
     ]
    }
   ],
   "source": [
    "#Solution:\n",
    "def society_name(names):\n",
    "    return ''.join(sorted(name[0] for name in names))\n",
    "\n",
    "# Examples\n",
    "print(society_name([\"Adam\", \"Sarah\", \"Malcolm\"]))  # Output: \"AMS\"\n",
    "print(society_name([\"Harry\", \"Newt\", \"Luna\", \"Cho\"]))  # Output: \"CHLN\"\n",
    "print(society_name([\"Phoebe\", \"Chandler\", \"Rachel\", \"Ross\", \"Monica\", \"Joey\"]))  # Output: \"CCJMR\""
   ]
  },
  {
   "cell_type": "code",
   "execution_count": null,
   "id": "30909c4a-729d-4e0c-bd43-7e976a4dce63",
   "metadata": {},
   "outputs": [],
   "source": [
    "Question4\n",
    "An isogram is a word that has no duplicate letters. Create a function that takes a string and\n",
    "returns either True or False depending on whether or not it's an \"isogram\".\n",
    "Examples\n",
    "is_isogram(\"Algorism\") ➞ True\n",
    "is_isogram(\"PasSword\") ➞ False\n",
    "# Not case sensitive.\n",
    "is_isogram(\"Consecutive\") ➞ False\n",
    "Notes\n",
    " Ignore letter case (should not be case sensitive).\n",
    " All test cases contain valid one word strings."
   ]
  },
  {
   "cell_type": "code",
   "execution_count": 8,
   "id": "10a66c2e-7e26-4ed8-b368-d88de131b487",
   "metadata": {},
   "outputs": [
    {
     "name": "stdout",
     "output_type": "stream",
     "text": [
      "True\n",
      "False\n",
      "False\n"
     ]
    }
   ],
   "source": [
    "#Solution:\n",
    "def is_isogram(word):\n",
    "    # Convert the word to lowercase to make it case-insensitive\n",
    "    word_lower = word.lower()\n",
    "    \n",
    "    # Check if the length of the set of characters is equal to the length of the word\n",
    "    return len(set(word_lower)) == len(word_lower)\n",
    "\n",
    "# Examples\n",
    "print(is_isogram(\"Algorism\"))  # Output: True\n",
    "print(is_isogram(\"PasSword\"))  # Output: False\n",
    "print(is_isogram(\"Consecutive\"))  # Output: False"
   ]
  },
  {
   "cell_type": "code",
   "execution_count": null,
   "id": "ac786760-b777-4ce1-bdfe-e93b1d903140",
   "metadata": {},
   "outputs": [],
   "source": [
    "Question5\n",
    "Create a function that takes a string and returns True or False, depending on whether the\n",
    "characters are in order or not.\n",
    "Examples\n",
    "is_in_order(\"abc\") ➞ True\n",
    "is_in_order(\"edabit\") ➞ False\n",
    "is_in_order(\"123\") ➞ True\n",
    "is_in_order(\"xyzz\") ➞ True\n",
    "Notes\n",
    "You don't have to handle empty strings."
   ]
  },
  {
   "cell_type": "code",
   "execution_count": 9,
   "id": "fb0fd354-ed00-48d8-8baf-da8503f63076",
   "metadata": {},
   "outputs": [
    {
     "name": "stdout",
     "output_type": "stream",
     "text": [
      "True\n",
      "False\n",
      "True\n",
      "True\n"
     ]
    }
   ],
   "source": [
    "#Solution:\n",
    "def is_in_order(s):\n",
    "    # Compare the string with its sorted version\n",
    "    return s == ''.join(sorted(s))\n",
    "\n",
    "# Examples\n",
    "print(is_in_order(\"abc\"))  # Output: True\n",
    "print(is_in_order(\"edabit\"))  # Output: False\n",
    "print(is_in_order(\"123\"))  # Output: True\n",
    "print(is_in_order(\"xyzz\"))  # Output: True"
   ]
  }
 ],
 "metadata": {
  "kernelspec": {
   "display_name": "Python 3 (ipykernel)",
   "language": "python",
   "name": "python3"
  },
  "language_info": {
   "codemirror_mode": {
    "name": "ipython",
    "version": 3
   },
   "file_extension": ".py",
   "mimetype": "text/x-python",
   "name": "python",
   "nbconvert_exporter": "python",
   "pygments_lexer": "ipython3",
   "version": "3.10.6"
  }
 },
 "nbformat": 4,
 "nbformat_minor": 5
}
