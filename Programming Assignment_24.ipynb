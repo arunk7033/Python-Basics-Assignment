{
 "cells": [
  {
   "cell_type": "markdown",
   "id": "0cdc6190-882a-4b8e-ae89-dfda87c34f0a",
   "metadata": {},
   "source": [
    "## Programming Assignment_24"
   ]
  },
  {
   "cell_type": "code",
   "execution_count": null,
   "id": "c2afa538-47c9-4880-9719-d3c3ca1b956e",
   "metadata": {},
   "outputs": [],
   "source": [
    "Question1\n",
    "Create a function that takes an integer and returns a list from 1 to the given number, where:\n",
    "1. If the number can be divided evenly by 4, amplify it by 10 (i.e. return 10 times the\n",
    "number).\n",
    "2. If the number cannot be divided evenly by 4, simply return the number.\n",
    "Examples\n",
    "amplify(4) ➞ [1, 2, 3, 40]\n",
    "amplify(3) ➞ [1, 2, 3]\n",
    "amplify(25) ➞ [1, 2, 3, 40, 5, 6, 7, 80, 9, 10, 11, 120, 13, 14, 15, 160,\n",
    "17, 18, 19, 200, 21, 22, 23, 240, 25]\n",
    "Notes\n",
    " The given integer will always be equal to or greater than 1.\n",
    " Include the number (see example above).\n",
    " To perform this problem with its intended purpose, try doing it with list\n",
    "comprehensions. If that's too difficult, just solve the challenge any way you can."
   ]
  },
  {
   "cell_type": "code",
   "execution_count": 1,
   "id": "249786c0-eda3-4f08-897f-7d3fa8eef16c",
   "metadata": {},
   "outputs": [
    {
     "name": "stdout",
     "output_type": "stream",
     "text": [
      "[1, 2, 3, 40]\n",
      "[1, 2, 3]\n",
      "[1, 2, 3, 40, 5, 6, 7, 80, 9, 10, 11, 120, 13, 14, 15, 160, 17, 18, 19, 200, 21, 22, 23, 240, 25]\n"
     ]
    }
   ],
   "source": [
    "#Solution:\n",
    "def amplify(number):\n",
    "    # Use list comprehension to generate the list with amplification condition\n",
    "    result = [num * 10 if num % 4 == 0 else num for num in range(1, number + 1)]\n",
    "    return result\n",
    "\n",
    "# Test cases\n",
    "print(amplify(4))   # [1, 2, 3, 40]\n",
    "print(amplify(3))   # [1, 2, 3]\n",
    "print(amplify(25))  # [1, 2, 3, 40, 5, 6, 7, 80, 9, 10, 11, 120, 13, 14, 15, 160, 17, 18, 19, 200, 21, 22, 23, 240, 25]"
   ]
  },
  {
   "cell_type": "code",
   "execution_count": null,
   "id": "04af6af6-baa5-4870-8f23-fc3e0fc5d4d6",
   "metadata": {},
   "outputs": [],
   "source": [
    "Question2\n",
    "Create a function that takes a list of numbers and return the number that's unique.\n",
    "Examples\n",
    "unique([3, 3, 3, 7, 3, 3]) ➞ 7\n",
    "unique([0, 0, 0.77, 0, 0]) ➞ 0.77\n",
    "unique([0, 1, 1, 1, 1, 1, 1, 1]) ➞ 0\n",
    "Notes\n",
    "Test cases will always have exactly one unique number while all others are the same."
   ]
  },
  {
   "cell_type": "code",
   "execution_count": 2,
   "id": "75a09c41-d5b1-4be1-afbf-2c4cb7a9928f",
   "metadata": {},
   "outputs": [
    {
     "name": "stdout",
     "output_type": "stream",
     "text": [
      "7\n",
      "0.77\n",
      "0\n"
     ]
    }
   ],
   "source": [
    "#Solution:\n",
    "def unique(numbers):\n",
    "    # Use a dictionary to count occurrences of each number\n",
    "    count_dict = {}\n",
    "    for num in numbers:\n",
    "        count_dict[num] = count_dict.get(num, 0) + 1\n",
    "\n",
    "    # Find the unique number with count equal to 1\n",
    "    unique_number = next(key for key, value in count_dict.items() if value == 1)\n",
    "\n",
    "    return unique_number\n",
    "\n",
    "# Test cases\n",
    "print(unique([3, 3, 3, 7, 3, 3]))          # 7\n",
    "print(unique([0, 0, 0.77, 0, 0]))          # 0.77\n",
    "print(unique([0, 1, 1, 1, 1, 1, 1, 1]))    # 0"
   ]
  },
  {
   "cell_type": "code",
   "execution_count": null,
   "id": "d6abe08e-d017-43c1-b2fc-15e8f7bc290e",
   "metadata": {},
   "outputs": [],
   "source": [
    "Question3\n",
    "Your task is to create a Circle constructor that creates a circle with a radius provided by an\n",
    "argument. The circles constructed must have two getters getArea() (PIr^2) and\n",
    "getPerimeter() (2PI*r) which give both respective areas and perimeter (circumference).\n",
    "\n",
    "For help with this class, I have provided you with a Rectangle constructor which you can use\n",
    "as a base example.\n",
    "Examples\n",
    "circy = Circle(11)\n",
    "circy.getArea()\n",
    "# Should return 380.132711084365\n",
    "circy = Circle(4.44)\n",
    "circy.getPerimeter()\n",
    "# Should return 27.897342763877365\n",
    "Notes\n",
    "Round results up to the nearest integer."
   ]
  },
  {
   "cell_type": "code",
   "execution_count": 3,
   "id": "5d6cedb0-1f6d-4692-b5fc-ee619eeb1b4b",
   "metadata": {},
   "outputs": [
    {
     "name": "stdout",
     "output_type": "stream",
     "text": [
      "380\n",
      "69\n",
      "62\n",
      "28\n"
     ]
    }
   ],
   "source": [
    "#Solution:\n",
    "import math\n",
    "\n",
    "class Circle:\n",
    "    def __init__(self, radius):\n",
    "        self.radius = radius\n",
    "\n",
    "    def getArea(self):\n",
    "        # Calculate and return the area of the circle\n",
    "        area = math.pi * self.radius**2\n",
    "        return round(area)\n",
    "\n",
    "    def getPerimeter(self):\n",
    "        # Calculate and return the perimeter (circumference) of the circle\n",
    "        perimeter = 2 * math.pi * self.radius\n",
    "        return round(perimeter)\n",
    "\n",
    "# Example usage\n",
    "circy = Circle(11)\n",
    "print(circy.getArea())       # Should return 380\n",
    "print(circy.getPerimeter())  # Should return 69\n",
    "\n",
    "circy = Circle(4.44)\n",
    "print(circy.getArea())       # Should return 62\n",
    "print(circy.getPerimeter())  # Should return 28"
   ]
  },
  {
   "cell_type": "code",
   "execution_count": null,
   "id": "30909c4a-729d-4e0c-bd43-7e976a4dce63",
   "metadata": {},
   "outputs": [],
   "source": [
    "Question4\n",
    "Create a function that takes a list of strings and return a list, sorted from shortest to longest.\n",
    "Examples\n",
    "sort_by_length([\"Google\", \"Apple\", \"Microsoft\"])\n",
    "➞ [\"Apple\", \"Google\", \"Microsoft\"]\n",
    "sort_by_length([\"Leonardo\", \"Michelangelo\", \"Raphael\", \"Donatello\"])\n",
    "➞ [\"Raphael\", \"Leonardo\", \"Donatello\", \"Michelangelo\"]\n",
    "sort_by_length([\"Turing\", \"Einstein\", \"Jung\"])\n",
    "➞ [\"Jung\", \"Turing\", \"Einstein\"]\n",
    "Notes\n",
    "All test cases contain lists with strings of different lengths, so you won\"t have to deal with\n",
    "multiple strings of the same length."
   ]
  },
  {
   "cell_type": "code",
   "execution_count": 4,
   "id": "d4b7034b-090d-424d-b3ae-20630a387fa8",
   "metadata": {},
   "outputs": [
    {
     "name": "stdout",
     "output_type": "stream",
     "text": [
      "['Apple', 'Google', 'Microsoft']\n",
      "['Raphael', 'Leonardo', 'Donatello', 'Michelangelo']\n",
      "['Jung', 'Turing', 'Einstein']\n"
     ]
    }
   ],
   "source": [
    "#Solution:\n",
    "def sort_by_length(lst):\n",
    "    # Use the sorted() function with the key parameter to sort by string length\n",
    "    sorted_list = sorted(lst, key=len)\n",
    "    return sorted_list\n",
    "\n",
    "# Test cases\n",
    "print(sort_by_length([\"Google\", \"Apple\", \"Microsoft\"]))\n",
    "# Output: [\"Apple\", \"Google\", \"Microsoft\"]\n",
    "\n",
    "print(sort_by_length([\"Leonardo\", \"Michelangelo\", \"Raphael\", \"Donatello\"]))\n",
    "# Output: [\"Raphael\", \"Leonardo\", \"Donatello\", \"Michelangelo\"]\n",
    "\n",
    "print(sort_by_length([\"Turing\", \"Einstein\", \"Jung\"]))\n",
    "# Output: [\"Jung\", \"Turing\", \"Einstein\"]"
   ]
  },
  {
   "cell_type": "code",
   "execution_count": null,
   "id": "ac786760-b777-4ce1-bdfe-e93b1d903140",
   "metadata": {},
   "outputs": [],
   "source": [
    "Question5\n",
    "Create a function that validates whether three given integers form a Pythagorean triplet. The\n",
    "sum of the squares of the two smallest integers must equal the square of the largest number to\n",
    "be validated.\n",
    "\n",
    "Examples\n",
    "is_triplet(3, 4, 5) ➞ True\n",
    "# 3² + 4² = 25\n",
    "# 5² = 25\n",
    "is_triplet(13, 5, 12) ➞ True\n",
    "# 5² + 12² = 169\n",
    "# 13² = 169\n",
    "is_triplet(1, 2, 3) ➞ False\n",
    "# 1² + 2² = 5\n",
    "# 3² = 9\n",
    "Notes\n",
    "Numbers may not be given in a sorted order."
   ]
  },
  {
   "cell_type": "code",
   "execution_count": 5,
   "id": "815ea780-3ef3-4629-adf7-ac5aa25a3b90",
   "metadata": {},
   "outputs": [
    {
     "name": "stdout",
     "output_type": "stream",
     "text": [
      "True\n",
      "True\n",
      "False\n"
     ]
    }
   ],
   "source": [
    "#Solution:\n",
    "def is_triplet(a, b, c):\n",
    "    # Sort the numbers in ascending order\n",
    "    sorted_numbers = sorted([a, b, c])\n",
    "\n",
    "    # Check the Pythagorean triplet condition\n",
    "    return sorted_numbers[0]**2 + sorted_numbers[1]**2 == sorted_numbers[2]**2\n",
    "\n",
    "# Test cases\n",
    "print(is_triplet(3, 4, 5))    # True\n",
    "print(is_triplet(13, 5, 12))   # True\n",
    "print(is_triplet(1, 2, 3))     # False"
   ]
  }
 ],
 "metadata": {
  "kernelspec": {
   "display_name": "Python 3 (ipykernel)",
   "language": "python",
   "name": "python3"
  },
  "language_info": {
   "codemirror_mode": {
    "name": "ipython",
    "version": 3
   },
   "file_extension": ".py",
   "mimetype": "text/x-python",
   "name": "python",
   "nbconvert_exporter": "python",
   "pygments_lexer": "ipython3",
   "version": "3.10.6"
  }
 },
 "nbformat": 4,
 "nbformat_minor": 5
}
