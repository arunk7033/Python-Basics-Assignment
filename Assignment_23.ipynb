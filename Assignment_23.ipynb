{
 "cells": [
  {
   "cell_type": "markdown",
   "id": "48e27239-3301-46a0-92bd-f3d65a9c7e96",
   "metadata": {},
   "source": [
    "# Assignment_23"
   ]
  },
  {
   "cell_type": "markdown",
   "id": "4faf62a9-ce79-4510-8a29-d791173c1049",
   "metadata": {},
   "source": [
    "## 1. What is the result of the code, and explain?\n",
    "    >>> def func(a,b=6,c=8)\n",
    "            print(a,b,c)\n",
    "    >>> func(1,2)"
   ]
  },
  {
   "cell_type": "code",
   "execution_count": 7,
   "id": "4c417cde-405c-4c89-bfd6-41e30c00cfaf",
   "metadata": {},
   "outputs": [
    {
     "name": "stdout",
     "output_type": "stream",
     "text": [
      "1 2 8\n"
     ]
    }
   ],
   "source": [
    "#Solution\n",
    "def func(a, b=6, c=8):\n",
    "    print(a, b, c)\n",
    "func(1, 2)\n",
    "#Result of the above code is:\n",
    "#1 2 8\n",
    "#When func(1,2) is called, it will assign a=1, b=2 and c=8 since no argument is given for \"c\" it will assign default value of c i.e.. 8 automatically"
   ]
  },
  {
   "cell_type": "markdown",
   "id": "2b7528e3-58ea-4cd5-a127-4980d65ce939",
   "metadata": {},
   "source": [
    "## 2. What is the result of the code, and explain?\n",
    "    >>> def func(a,b,c=5)\n",
    "            print(a,b,c)\n",
    "    >>> func(1,c=3,b=2)"
   ]
  },
  {
   "cell_type": "code",
   "execution_count": 17,
   "id": "0f143459-5ac5-4aa6-a075-93fc9b71b637",
   "metadata": {},
   "outputs": [
    {
     "name": "stdout",
     "output_type": "stream",
     "text": [
      "1 2 3\n"
     ]
    }
   ],
   "source": [
    "#Solution\n",
    "def func(a, b, c=5):\n",
    "    print(a, b, c)\n",
    "func(1, c=3, b=2)\n",
    "    # Result of the above code is:\n",
    "    # 1 2 3\n",
    "    # In this function call, when we are passing the arguments in a way that uses keyword arguments to specify the parameter values. Here's how the arguments are assigned:\n",
    "    # 1 is assigned to a.\n",
    "    # c=3 specifies that 3 is assigned to c.\n",
    "    # b=2 specifies that 2 is assigned to b.\n",
    "    # Since we explicitly specified the values for b and c using keyword arguments, these values override any default values specified in the function definition.So, the function will print the values of a, b, and c as follows:\n",
    "    # 1 2 3"
   ]
  },
  {
   "cell_type": "markdown",
   "id": "5b09d94a-46b3-40a6-be8e-13035e6b9da7",
   "metadata": {},
   "source": [
    "# 3. How about this code: what is its result, and why?\n",
    "    >>> def func(a,*pargs)\n",
    "            print(a,pargs)\n",
    "    >>> func(1,2,3)"
   ]
  },
  {
   "cell_type": "code",
   "execution_count": 18,
   "id": "865c934e-d550-4512-9f30-1a03a022189e",
   "metadata": {},
   "outputs": [
    {
     "name": "stdout",
     "output_type": "stream",
     "text": [
      "1 (2, 3)\n"
     ]
    }
   ],
   "source": [
    "#Solution\n",
    "def func(a, *pargs):\n",
    "    print(a, pargs)\n",
    "func(1, 2, 3)\n",
    "# Result of the above code is:\n",
    "# 1 (2,3)\n",
    "# func with a mandatory positional parameter a and a *pargs parameter, which collects any extra positional arguments into a tuple. When the function is called with func(1, 2, 3), 1 is assigned to a, and the remaining arguments, 2 and 3, are collected into the pargs tuple. As a result, the function prints \"1 (2, 3)\" to the console, with 1 as the value of a, and the tuple (2, 3)."
   ]
  },
  {
   "cell_type": "markdown",
   "id": "d284e2a8-8922-49a5-bd82-4027ac856d24",
   "metadata": {},
   "source": [
    "## 4. What does this code print, and why?\n",
    "    >>> def func(a,**kargs)\n",
    "            print(a,kargs)\n",
    "    >>> func(1,c=3,b=2)"
   ]
  },
  {
   "cell_type": "code",
   "execution_count": 19,
   "id": "122eec35-4891-44a7-b7ce-60cd5df3fc9c",
   "metadata": {},
   "outputs": [
    {
     "name": "stdout",
     "output_type": "stream",
     "text": [
      "1 {'c': 3, 'b': 2}\n"
     ]
    }
   ],
   "source": [
    "#Solution\n",
    "def func(a, **kargs):\n",
    "    print(a, kargs)\n",
    "func(1,c=3,b=2)\n",
    "# Result of the above code is:\n",
    "# 1 {'c': 3, 'b': 2}\n",
    "# In th function definition, func is defined with two parameters: a, which is a mandatory positional parameter, and **kargs, which collects any extra keyword arguments into a dictionary.In this function call, we are passing the arguments using keyword arguments. 1 is assigned to a, and the additional keyword arguments c=3 and b=2 are collected into the kargs dictionary.The value 1 is assigned to a, and kargs contains the additional keyword arguments in the form of a dictionary, with keys 'c' and 'b' and their respective values.Therefore, the result of the code is that it prints \"1 {'c': 3, 'b': 2}\" to the console."
   ]
  },
  {
   "cell_type": "markdown",
   "id": "684009f1-2934-4271-a744-bd56bfa5b206",
   "metadata": {},
   "source": [
    "## 5. What about this code—what’s the output, and why?\n",
    "    >>> def func(a,b,c=8,d=5):\n",
    "            print(a,b,c,d)\n",
    "    >>> func(1,*(5,6))"
   ]
  },
  {
   "cell_type": "code",
   "execution_count": 20,
   "id": "ff740012-260c-4138-84a2-c5fa69bbd614",
   "metadata": {},
   "outputs": [
    {
     "name": "stdout",
     "output_type": "stream",
     "text": [
      "1 5 6 5\n"
     ]
    }
   ],
   "source": [
    "#Solution\n",
    "def func(a, b, c=8, d=5):\n",
    "    print(a, b, c, d)\n",
    "func(1, *(5, 6))\n",
    "# Result of the above code is:\n",
    "# 1 5 6 5\n",
    "# func is defined with four parameters: a, b, c, and d, where c and d have default values of 8 and 5, respectively. The function call func(1, *(5, 6)) uses the * operator to unpack the tuple (5, 6) and pass its elements as arguments to the function. In the function call, 1 is assigned to a. The *(5, 6) syntax unpacks the tuple (5, 6) and passes its elements as individual arguments, so 5 is assigned to b, and 6 is assigned to c (since c is the third parameter), while d retains its default value of 5."
   ]
  },
  {
   "cell_type": "markdown",
   "id": "9b98a1f2-b5bd-4993-8424-48cf2267a473",
   "metadata": {},
   "source": [
    "## 6. what is the result of this, and explain?\n",
    "    >>> def func(a,b,c):\n",
    "            a=2\n",
    "            b[0]='x'\n",
    "            c['a']='y'\n",
    "            l=1\n",
    "            m=[1]\n",
    "            n={'a':0}      \n",
    "    >>> func(l,m,n)\n",
    "    >>> l,m,n"
   ]
  },
  {
   "cell_type": "code",
   "execution_count": 24,
   "id": "a594bfb2-135c-40f2-a0b0-ed7230313dd2",
   "metadata": {},
   "outputs": [
    {
     "data": {
      "text/plain": [
       "(1, ['x'], {'a': 'y'})"
      ]
     },
     "execution_count": 24,
     "metadata": {},
     "output_type": "execute_result"
    }
   ],
   "source": [
    "#Solution\n",
    "def func(a,b,c):\n",
    "            a=2\n",
    "            b[0]='x'\n",
    "            c['a']='y'\n",
    "l=1\n",
    "m=[1]\n",
    "n={'a':0}      \n",
    "func(l,m,n)\n",
    "l,m,n\n",
    "# Result of the above code is:\n",
    "# (1, ['x'], {'a': 'y'})\n",
    "# In this code, a function func is defined, which takes three parameters and modifies their values within the function. The function is then called with variables l, m, and n. After the function call, l remains 1, m becomes ['x'] because the first element of the list m is changed to 'x' within the function, and n becomes {'a': 'y'} as the dictionary n is modified to have the key'a'associated with the value'y' inside the function. These modified values of l, m, and n are printed after the function call."
   ]
  }
 ],
 "metadata": {
  "kernelspec": {
   "display_name": "Python 3 (ipykernel)",
   "language": "python",
   "name": "python3"
  },
  "language_info": {
   "codemirror_mode": {
    "name": "ipython",
    "version": 3
   },
   "file_extension": ".py",
   "mimetype": "text/x-python",
   "name": "python",
   "nbconvert_exporter": "python",
   "pygments_lexer": "ipython3",
   "version": "3.10.6"
  },
  "toc-showcode": true,
  "toc-showmarkdowntxt": true
 },
 "nbformat": 4,
 "nbformat_minor": 5
}
