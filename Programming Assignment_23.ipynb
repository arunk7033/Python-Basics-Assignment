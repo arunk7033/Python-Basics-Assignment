{
 "cells": [
  {
   "cell_type": "markdown",
   "id": "0cdc6190-882a-4b8e-ae89-dfda87c34f0a",
   "metadata": {},
   "source": [
    "## Programming Assignment_23"
   ]
  },
  {
   "cell_type": "code",
   "execution_count": null,
   "id": "c2afa538-47c9-4880-9719-d3c3ca1b956e",
   "metadata": {},
   "outputs": [],
   "source": [
    "Question 1\n",
    "Create a function that takes a number as an argument and returns True or False depending\n",
    "on whether the number is symmetrical or not. A number is symmetrical when it is the same as\n",
    "its reverse.\n",
    "Examples\n",
    "is_symmetrical(7227) ➞ True\n",
    "is_symmetrical(12567) ➞ False\n",
    "is_symmetrical(44444444) ➞ True\n",
    "is_symmetrical(9939) ➞ False\n",
    "is_symmetrical(1112111) ➞ True"
   ]
  },
  {
   "cell_type": "code",
   "execution_count": 1,
   "id": "249786c0-eda3-4f08-897f-7d3fa8eef16c",
   "metadata": {},
   "outputs": [
    {
     "name": "stdout",
     "output_type": "stream",
     "text": [
      "True\n",
      "False\n",
      "True\n",
      "False\n",
      "True\n"
     ]
    }
   ],
   "source": [
    "#Solution:\n",
    "def is_symmetrical(number):\n",
    "    # Convert the number to a string to easily reverse it\n",
    "    str_number = str(number)\n",
    "    \n",
    "    # Check if the reversed string is the same as the original string\n",
    "    return str_number == str_number[::-1]\n",
    "\n",
    "# Test cases\n",
    "print(is_symmetrical(7227))       # True\n",
    "print(is_symmetrical(12567))      # False\n",
    "print(is_symmetrical(44444444))   # True\n",
    "print(is_symmetrical(9939))       # False\n",
    "print(is_symmetrical(1112111))     # True"
   ]
  },
  {
   "cell_type": "code",
   "execution_count": null,
   "id": "04af6af6-baa5-4870-8f23-fc3e0fc5d4d6",
   "metadata": {},
   "outputs": [],
   "source": [
    "Question 2\n",
    "Given a string of numbers separated by a comma and space, return the product of the\n",
    "numbers.\n",
    "Examples\n",
    "multiply_nums(\"2, 3\") ➞ 6\n",
    "multiply_nums(\"1, 2, 3, 4\") ➞ 24\n",
    "multiply_nums(\"54, 75, 453, 0\") ➞ 0\n",
    "multiply_nums(\"10, -2\") ➞ -20"
   ]
  },
  {
   "cell_type": "code",
   "execution_count": 8,
   "id": "75a09c41-d5b1-4be1-afbf-2c4cb7a9928f",
   "metadata": {},
   "outputs": [
    {
     "name": "stdout",
     "output_type": "stream",
     "text": [
      "6\n",
      "24\n",
      "0\n",
      "-20\n"
     ]
    }
   ],
   "source": [
    "#Solution:\n",
    "def multiply_nums(numbers_str):\n",
    "    # Split the string into a list of numbers\n",
    "    numbers_list = [int(num) for num in numbers_str.split(', ')]\n",
    "\n",
    "    result = 1 \n",
    "    for num in numbers_list:\n",
    "        result *= num\n",
    "\n",
    "    return result\n",
    "\n",
    "# Test cases\n",
    "print(multiply_nums(\"2, 3\"))          # 6\n",
    "print(multiply_nums(\"1, 2, 3, 4\"))     # 24\n",
    "print(multiply_nums(\"54, 75, 453, 0\")) # 0\n",
    "print(multiply_nums(\"10, -2\"))         # -20"
   ]
  },
  {
   "cell_type": "code",
   "execution_count": null,
   "id": "d6abe08e-d017-43c1-b2fc-15e8f7bc290e",
   "metadata": {},
   "outputs": [],
   "source": [
    "Question 3\n",
    "Create a function that squares every digit of a number.\n",
    "Examples\n",
    "square_digits(9119) ➞ 811181\n",
    "square_digits(2483) ➞ 416649\n",
    "square_digits(3212) ➞ 9414\n",
    "Notes\n",
    "The function receives an integer and must return an integer."
   ]
  },
  {
   "cell_type": "code",
   "execution_count": 3,
   "id": "5d6cedb0-1f6d-4692-b5fc-ee619eeb1b4b",
   "metadata": {},
   "outputs": [
    {
     "name": "stdout",
     "output_type": "stream",
     "text": [
      "811181\n",
      "416649\n",
      "9414\n"
     ]
    }
   ],
   "source": [
    "#Solution:\n",
    "def square_digits(number):\n",
    "    # Convert the number to a list of digits\n",
    "    digits = [int(digit) for digit in str(number)]\n",
    "\n",
    "    # Square each digit and join them back into a number\n",
    "    result = int(''.join(str(digit**2) for digit in digits))\n",
    "\n",
    "    return result\n",
    "\n",
    "# Test cases\n",
    "print(square_digits(9119))  # 811181\n",
    "print(square_digits(2483))  # 416649\n",
    "print(square_digits(3212))  # 9414"
   ]
  },
  {
   "cell_type": "code",
   "execution_count": null,
   "id": "30909c4a-729d-4e0c-bd43-7e976a4dce63",
   "metadata": {},
   "outputs": [],
   "source": [
    "Question 4\n",
    "Create a function that sorts a list and removes all duplicate items from it.\n",
    "Examples\n",
    "setify([1, 3, 3, 5, 5]) ➞ [1, 3, 5]\n",
    "setify([4, 4, 4, 4]) ➞ [4]\n",
    "setify([5, 7, 8, 9, 10, 15]) ➞ [5, 7, 8, 9, 10, 15]\n",
    "setify([3, 3, 3, 2, 1]) ➞ [1, 2, 3]"
   ]
  },
  {
   "cell_type": "code",
   "execution_count": 4,
   "id": "d4b7034b-090d-424d-b3ae-20630a387fa8",
   "metadata": {},
   "outputs": [
    {
     "name": "stdout",
     "output_type": "stream",
     "text": [
      "[1, 3, 5]\n",
      "[4]\n",
      "[5, 7, 8, 9, 10, 15]\n",
      "[1, 2, 3]\n"
     ]
    }
   ],
   "source": [
    "#Solution:\n",
    "def setify(lst):\n",
    "    # Use sorted() to sort the list and set() to remove duplicates\n",
    "    unique_sorted_list = sorted(set(lst))\n",
    "    return unique_sorted_list\n",
    "\n",
    "# Test cases\n",
    "print(setify([1, 3, 3, 5, 5]))         # [1, 3, 5]\n",
    "print(setify([4, 4, 4, 4]))             # [4]\n",
    "print(setify([5, 7, 8, 9, 10, 15]))     # [5, 7, 8, 9, 10, 15]\n",
    "print(setify([3, 3, 3, 2, 1]))         # [1, 2, 3]"
   ]
  },
  {
   "cell_type": "code",
   "execution_count": null,
   "id": "ac786760-b777-4ce1-bdfe-e93b1d903140",
   "metadata": {},
   "outputs": [],
   "source": [
    "Question 5\n",
    "Create a function that returns the mean of all digits.\n",
    "Examples\n",
    "mean(42) ➞ 3\n",
    "mean(12345) ➞ 3\n",
    "mean(666) ➞ 6\n",
    "Notes\n",
    " The mean of all digits is the sum of digits / how many digits there are (e.g. mean of digits in\n",
    "512 is (5+1+2)/3(number of digits) = 8/3=2).\n",
    " The mean will always be an integer."
   ]
  },
  {
   "cell_type": "code",
   "execution_count": 5,
   "id": "5d0f6889-855c-4f37-ac5f-bad305ee1f45",
   "metadata": {},
   "outputs": [
    {
     "name": "stdout",
     "output_type": "stream",
     "text": [
      "3\n",
      "3\n",
      "6\n"
     ]
    }
   ],
   "source": [
    "#Solution:\n",
    "def mean(number):\n",
    "    # Convert the number to a string to easily access individual digits\n",
    "    str_number = str(number)\n",
    "\n",
    "    # Calculate the sum of digits and the count of digits\n",
    "    digit_sum = sum(int(digit) for digit in str_number)\n",
    "    digit_count = len(str_number)\n",
    "\n",
    "    # Calculate the mean\n",
    "    result = digit_sum // digit_count\n",
    "\n",
    "    return result\n",
    "\n",
    "# Test cases\n",
    "print(mean(42))      # 3\n",
    "print(mean(12345))   # 3\n",
    "print(mean(666))     # 6"
   ]
  },
  {
   "cell_type": "code",
   "execution_count": 6,
   "id": "7922f4d2-e06a-4c61-ba69-c98f4496ec16",
   "metadata": {},
   "outputs": [
    {
     "name": "stdout",
     "output_type": "stream",
     "text": [
      "6\n",
      "24\n",
      "0\n",
      "-20\n"
     ]
    }
   ],
   "source": [
    "#Solution:\n",
    "def multiply_nums(numbers_str):\n",
    "    # Split the string into a list of numbers\n",
    "    numbers_list = [int(num) for num in numbers_str.split(', ')]\n",
    "\n",
    "    result = 1 if not numbers_list else 1\n",
    "    for num in numbers_list:\n",
    "        result *= num\n",
    "\n",
    "    return result\n",
    "\n",
    "# Test cases\n",
    "print(multiply_nums(\"2, 3\"))          # 6\n",
    "print(multiply_nums(\"1, 2, 3, 4\"))     # 24\n",
    "print(multiply_nums(\"54, 75, 453, 0\")) # 0\n",
    "print(multiply_nums(\"10, -2\"))         # -20"
   ]
  },
  {
   "cell_type": "code",
   "execution_count": null,
   "id": "f2edf8d6-fd17-44f2-bfb5-3af9258aae16",
   "metadata": {},
   "outputs": [],
   "source": []
  }
 ],
 "metadata": {
  "kernelspec": {
   "display_name": "Python 3 (ipykernel)",
   "language": "python",
   "name": "python3"
  },
  "language_info": {
   "codemirror_mode": {
    "name": "ipython",
    "version": 3
   },
   "file_extension": ".py",
   "mimetype": "text/x-python",
   "name": "python",
   "nbconvert_exporter": "python",
   "pygments_lexer": "ipython3",
   "version": "3.10.6"
  }
 },
 "nbformat": 4,
 "nbformat_minor": 5
}
