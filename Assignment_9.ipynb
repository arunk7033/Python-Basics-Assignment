{
 "cells": [
  {
   "cell_type": "markdown",
   "id": "48e27239-3301-46a0-92bd-f3d65a9c7e96",
   "metadata": {},
   "source": [
    "# Assignment_9"
   ]
  },
  {
   "cell_type": "markdown",
   "id": "4faf62a9-ce79-4510-8a29-d791173c1049",
   "metadata": {},
   "source": [
    "##  1. To what does a relative path refer?"
   ]
  },
  {
   "cell_type": "code",
   "execution_count": null,
   "id": "2295f8d2-2db3-4031-a14b-e02c9f6b36d8",
   "metadata": {},
   "outputs": [],
   "source": [
    "#Solution\n",
    "A relative path refers to the location of a file or directory in relation to the current working directory or another reference point, without specifying the complete path from the root of the file system. It describes how to navigate from one location to another within a file system hierarchy.\n",
    "In a relative path, we typically use directory names and symbols like \"..\" (two dots) to represent the parent directory and \".\" (a single dot) to represent the current directory. Relative paths are context-dependent and can change based on our current working directory.\n",
    "For example:\n",
    "If we are in the directory \"C:\\Users\\John\\Documents\" on a Windows system, and we want to refer to a file named \"example.txt\" located in the \"Downloads\" directory, we can use a relative path like \"..\\Downloads\\example.txt\" because \"..\" refers to the parent directory (\"C:\\Users\\John\") and then we navigate to \"Downloads\" and specify the file.\n",
    "If we are in the directory \"/home/john/documents\" on a Unix-based system (like Linux), and we want to refer to a file named \"example.txt\" located in the \"Downloads\" directory, we can use a relative path like \"../Downloads/example.txt\" for the same reason.\n",
    "Relative paths are useful for specifying file and directory locations within a project or application without having to hard-code the entire file system path, which can vary between systems and environments. They provide a way to make our code more portable and flexible."
   ]
  },
  {
   "cell_type": "markdown",
   "id": "60927b6b-7adf-4b55-9aa9-f93c5ac54081",
   "metadata": {},
   "source": [
    "## 2. What does an absolute path start with your operating system?"
   ]
  },
  {
   "cell_type": "code",
   "execution_count": null,
   "id": "7053bfa3-3e24-4049-99d3-166000bcefab",
   "metadata": {},
   "outputs": [],
   "source": [
    "#Solution\n",
    "An absolute path starts with the root directory of our operating system. The root directory is the top-level directory in a file system hierarchy and is represented by a forward slash (\"/\") in Unix-like operating systems (e.g., Linux, macOS) and by a drive letter followed by a colon (e.g., \"C:\") in many Windows operating systems.\n",
    "Here are some examples of absolute paths in different operating systems:\n",
    "Unix-like (Linux, macOS):\n",
    "Absolute path to a directory: \"/home/user/documents\"\n",
    "Absolute path to a file: \"/var/log/syslog\"\n",
    "Windows:\n",
    "Absolute path to a directory on the C: drive: \"C:\\Users\\John\\Documents\"\n",
    "Absolute path to a file on the D: drive: \"D:\\Projects\\example.txt\"\n",
    "An absolute path provides the full and unambiguous location of a file or directory in the file system, starting from the root directory. Unlike relative paths, absolute paths do not depend on the current working directory and are the same regardless of where we are in the file system hierarchy."
   ]
  },
  {
   "cell_type": "markdown",
   "id": "639a0b20-e784-42f1-9a26-74fa2b31c18f",
   "metadata": {},
   "source": [
    "## 3. What do the functions os.getcwd() and os.chdir() do?"
   ]
  },
  {
   "cell_type": "code",
   "execution_count": null,
   "id": "203918f5-9c09-44df-bfbb-5c76c0aea9fb",
   "metadata": {},
   "outputs": [],
   "source": [
    "#Solution\n",
    "The functions os.getcwd() and os.chdir() are part of the Python os module and are used to interact with the file system and manage the current working directory in a Python script or program.\n",
    "1. os.getcwd(): This function stands for \"get current working directory.\" When we call os.getcwd(), it returns a string representing the current working directory of the Python process. The current working directory is the directory in the file system from which our Python script or program is currently executing.\n",
    "Here's an example of how to use os.getcwd():\n",
    "\n",
    "    import os\n",
    "\n",
    "    current_directory = os.getcwd()\n",
    "    print(\"Current working directory:\", current_directory)\n",
    "    \n",
    "This code will print the path to the current working directory.\n",
    "\n",
    "2. os.chdir(path): This function stands for \"change directory.\" It allows us to change the current working directory to the specified path. When we call os.chdir(path), Python will attempt to change the working directory to the directory specified in the path argument.\n",
    "Here's an example of how to use os.chdir():\n",
    "\n",
    "    import os\n",
    "\n",
    "    new_directory = \"/path/to/new/directory\"\n",
    "    os.chdir(new_directory)\n",
    "\n",
    "    current_directory = os.getcwd()\n",
    "    print(\"Current working directory:\", current_directory)\n",
    "    \n",
    "In this code, we first specify a new directory path in the new_directory variable and then use os.chdir() to change the current working directory to that path. After the change, we use os.getcwd() to confirm that the working directory has indeed been updated.\n",
    "These functions are helpful for managing file and directory operations within our Python scripts, as they allow us to navigate and manipulate the file system as needed for your application."
   ]
  },
  {
   "cell_type": "markdown",
   "id": "d284e2a8-8922-49a5-bd82-4027ac856d24",
   "metadata": {},
   "source": [
    "## 4. What are the . and .. folders?"
   ]
  },
  {
   "cell_type": "code",
   "execution_count": null,
   "id": "19821ff3-fcf4-449d-98ee-64907dbbf235",
   "metadata": {},
   "outputs": [],
   "source": [
    "#Solution\n",
    "In most file systems, including those used in Unix-like operating systems (Linux, macOS) and Windows, the \".\" and \"..\" folders are special directory entries that have specific meanings:\n",
    "\n",
    "1. \".\" (dot):\n",
    "The single dot, \".\", represents the current directory. When we see \".\" in a file path or directory listing, it refers to the directory we are currently in. It is a way to specify the current working directory in file paths.\n",
    "For example, if we are in the directory /home/user/documents and you refer to ./file.txt, it means the file file.txt in the current directory (/home/user/documents in this case).\n",
    "\n",
    "2. \"..\" (double dot):\n",
    "The double dot, \"..\", represents the parent directory. It allows us to refer to the directory immediately above the current directory in the file system hierarchy.\n",
    "For example, if we are in the directory /home/user/documents and we refer to ../downloads/file.txt, it means the file file.txt in the downloads directory, which is one level up from the current directory (/home/user in this case).\n",
    "\n",
    "These special directory entries are essential for navigating and referencing directories and files in a file system hierarchy using relative paths. They provide a way to move up and down the directory tree without needing to specify absolute paths, making it easier to write portable and flexible code."
   ]
  },
  {
   "cell_type": "markdown",
   "id": "684009f1-2934-4271-a744-bd56bfa5b206",
   "metadata": {},
   "source": [
    "## 5. In C:\\bacon\\eggs\\spam.txt, which part is the dir name, and which part is the base name?"
   ]
  },
  {
   "cell_type": "code",
   "execution_count": null,
   "id": "d2081e91-c2e6-4e7d-b452-72ab66d78167",
   "metadata": {},
   "outputs": [],
   "source": [
    "#Solution\n",
    "In the file path \"C:\\bacon\\eggs\\spam.txt,\" the following parts are commonly referred to:\n",
    "\n",
    "1. Directory Name:\n",
    "The directory name is the portion of the path that represents the containing directory or directories where the file is located. It includes all the directories leading up to the file itself.\n",
    "In this case, the directory name is \"C:\\bacon\\eggs.\"\n",
    "\n",
    "2. Base Name (or File Name):\n",
    "The base name, also known as the file name, is the actual name of the file without the path or directory information. It represents the file itself.\n",
    "In this case, the base name is \"spam.txt.\""
   ]
  },
  {
   "cell_type": "markdown",
   "id": "37067d0a-1973-440c-bbec-c467ddd13508",
   "metadata": {},
   "source": [
    "## 6. What are the three “mode” arguments that can be passed to the open() function?"
   ]
  },
  {
   "cell_type": "code",
   "execution_count": null,
   "id": "55450252-c545-4b46-93cf-4cc1ea6c1251",
   "metadata": {},
   "outputs": [],
   "source": [
    "#Solution\n",
    "The open() function in Python is used to open files, and it can accept several mode arguments that specify how the file should be opened. The three primary mode arguments are:\n",
    "\n",
    "1. Read Mode ('r'):\n",
    "This mode is used for reading files. When we open a file in read mode, we can only read its contents, and attempting to write to the file will result in an error.\n",
    "Example: open('file.txt', 'r')\n",
    "\n",
    "2. Write Mode ('w'):\n",
    "This mode is used for writing to files. When we open a file in write mode, it will create a new file or truncate (erase the contents of) an existing file. If the file does not exist, a new empty file will be created. Be cautious when using write mode because it will overwrite the existing content of the file.\n",
    "Example: open('file.txt', 'w')\n",
    "\n",
    "3. Append Mode ('a'):\n",
    "This mode is used for appending data to a file. When we open a file in append mode, it will create a new file if it doesn't exist or add data to the end of an existing file without truncating the existing content.\n",
    "Example: open('file.txt', 'a')\n",
    "\n",
    "These are the three most common modes used with the open() function. Additionally, there are variations and combinations of these modes, such as 'rb', 'wb', and 'ab', which are used for reading and writing binary data. we can also specify modes like 'x' (exclusive creation) and '+' (read and write) to further customize how the file is opened."
   ]
  },
  {
   "cell_type": "markdown",
   "id": "64e0602c-04e3-4ac5-9bcc-dcc6fd3d5e3b",
   "metadata": {},
   "source": [
    "## 7. What happens if an existing file is opened in write mode?"
   ]
  },
  {
   "cell_type": "code",
   "execution_count": null,
   "id": "5113e9e5-1ea1-4bd7-a945-3f57af6862d1",
   "metadata": {},
   "outputs": [],
   "source": [
    "#Solution\n",
    "If an existing file is opened in write mode ('w') using the open() function in Python, the following will happen:\n",
    "\n",
    "1. If the file exists:\n",
    "The contents of the existing file will be completely erased or truncated. In other words, all the data in the file will be deleted.\n",
    "The file will be opened as an empty file, ready for us to write new data to it.\n",
    "\n",
    "2. If the file does not exist:\n",
    "A new empty file will be created with the specified name.\n",
    "\n",
    "Here's an example of opening an existing file in write mode:\n",
    "\n",
    "    with open('existing_file.txt', 'w') as file:\n",
    "        file.write('This is new content.')\n",
    "\n",
    "In this example, if the file \"existing_file.txt\" already exists, its previous contents will be deleted, and the file will now contain only the text \"This is new content.\""
   ]
  },
  {
   "cell_type": "markdown",
   "id": "19eb2382-9b95-4386-8d78-0c632262dd1d",
   "metadata": {},
   "source": [
    "## 8. How do you tell the difference between read() and readlines()?"
   ]
  },
  {
   "cell_type": "code",
   "execution_count": null,
   "id": "d206ab0b-e473-4861-bb41-300b7eba1e07",
   "metadata": {},
   "outputs": [],
   "source": [
    "#Solution\n",
    "In Python, read() and readlines() are both methods used to read data from a file, but they behave differently and return different types of data. Here's how we can tell the difference between them:\n",
    "\n",
    "1. read():\n",
    "read() is a method that reads the entire content of the file as a single string or bytes object (depending on whether we're working with text or binary data).\n",
    "It reads from the current position of the file pointer until the end of the file, or until we specify a maximum number of characters to read.\n",
    "It returns the contents as a single string (text mode) or bytes object (binary mode).\n",
    "Example:\n",
    "    with open('file.txt', 'r') as file:\n",
    "        content = file.read()\n",
    "                                                                                                 \n",
    "2. readlines():\n",
    "readlines() is a method that reads the file line by line and returns a list of strings. Each string in the list corresponds to a line in the file.\n",
    "It reads from the current position of the file pointer until the end of the file, or until we specify a maximum number of lines to read.\n",
    "It returns a list of strings, where each string represents a line from the file.\n",
    "Example:\n",
    "    with open('file.txt', 'r') as file:\n",
    "        lines = file.readlines()                                                                                             "
   ]
  },
  {
   "cell_type": "markdown",
   "id": "6fa47096-0b96-441b-9210-439bf2162919",
   "metadata": {},
   "source": [
    "## 9. What data structure does a shelf value resemble?"
   ]
  },
  {
   "cell_type": "code",
   "execution_count": null,
   "id": "0c67f8c2-a0dd-4f6c-b536-416a56ece5b0",
   "metadata": {},
   "outputs": [],
   "source": [
    "#Solution\n",
    "A shelf value in Python's shelve module resembles a dictionary data structure. The shelve module is used for persistent storage of Python objects, and it provides a way to store and retrieve data in a key-value format, much like a dictionary.\n",
    "\n",
    "Here are the key characteristics of a shelf value:\n",
    "\n",
    "1. Key-Value Pairs: Similar to dictionaries, shelf values store data as key-value pairs. We can use keys to access and retrieve corresponding values.\n",
    "\n",
    "2. Persistence: Unlike regular dictionaries, the data stored in a shelf is persistent, meaning it can be saved to disk and retrieved even after the Python program has exited. This makes it useful for storing data between program runs.\n",
    "\n",
    "3. Serialization: Shelf values can store various Python objects, including complex data structures, as they are internally serialized (converted to a byte stream) using the pickle module.\n",
    "\n",
    "Here's an example of using shelve to work with a shelf value:\n",
    "\n",
    "    import shelve\n",
    "\n",
    "    # Open a shelf file for reading and writing\n",
    "    shelf = shelve.open('mydata')\n",
    "\n",
    "    # Store data\n",
    "    shelf['name'] = 'John'\n",
    "    shelf['age'] = 30\n",
    "\n",
    "    # Retrieve data\n",
    "    print(shelf['name'])\n",
    "    print(shelf['age'])\n",
    "\n",
    "    # Close the shelf\n",
    "    shelf.close()\n",
    "\n",
    "In this example, we create a shelf named 'mydata' and use it to store and retrieve data using keys, just like a dictionary. The data stored in the shelf can persist across program runs.\n",
    "Overall, a shelf value in Python's shelve module closely resembles a dictionary, but it adds persistence and serialization capabilities, making it suitable for storing and retrieving data across multiple program executions."
   ]
  }
 ],
 "metadata": {
  "kernelspec": {
   "display_name": "Python 3 (ipykernel)",
   "language": "python",
   "name": "python3"
  },
  "language_info": {
   "codemirror_mode": {
    "name": "ipython",
    "version": 3
   },
   "file_extension": ".py",
   "mimetype": "text/x-python",
   "name": "python",
   "nbconvert_exporter": "python",
   "pygments_lexer": "ipython3",
   "version": "3.10.6"
  }
 },
 "nbformat": 4,
 "nbformat_minor": 5
}
