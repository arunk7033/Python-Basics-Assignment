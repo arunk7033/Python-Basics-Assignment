{
 "cells": [
  {
   "cell_type": "code",
   "execution_count": null,
   "id": "3414a7d3-114b-4f5f-af51-12483f63ae7c",
   "metadata": {},
   "outputs": [],
   "source": [
    "1. In the below elements which of them are values or an expression? eg:- values can be\n",
    "integer or string and expressions will be mathematical operators.\n",
    "*\n",
    "'hello'\n",
    "-87.8\n",
    "-\n",
    "/\n",
    "+\n",
    "6"
   ]
  },
  {
   "cell_type": "code",
   "execution_count": null,
   "id": "3b34acdb-2c81-4254-9a7e-2596ce268b2c",
   "metadata": {},
   "outputs": [],
   "source": [
    "Solution:\n",
    "\n",
    "values:\n",
    "    'hello' \n",
    "    -87.8 \n",
    "    6\n",
    "\n",
    "expressions: \n",
    "    * \n",
    "    - \n",
    "    /\n",
    "    +"
   ]
  },
  {
   "cell_type": "code",
   "execution_count": null,
   "id": "359c2254-a7e7-46ad-862f-87244750a3b6",
   "metadata": {},
   "outputs": [],
   "source": [
    "2. What is the difference between string and variable?"
   ]
  },
  {
   "cell_type": "code",
   "execution_count": null,
   "id": "fd3d3abc-100e-4246-a28b-723dd3d15e76",
   "metadata": {},
   "outputs": [],
   "source": [
    "Solution:\n",
    "\n",
    "A string is a data type used to represent a sequence of characters. It is a collection of characters enclosed within quotation marks \n",
    "(either single or double quotes) or a triple quote for multi-line strings. For example:\n",
    "message = 'Hello, World!'\n",
    "name=\"123\"\n",
    "\n",
    "A variable, on the other hand, is a named storage location in a computer's memory that holds a value. It is used to store and manipulate\n",
    "data within a program. A variable can hold different types of data, including strings, numbers, booleans, and more. It allows you to \n",
    "assign a value to a name and refer to that value by the name throughout your program.For example:\n",
    "count = 10\n",
    "harry=5.7"
   ]
  },
  {
   "cell_type": "code",
   "execution_count": null,
   "id": "a285be8e-82f3-4e45-92f3-62b0d807df0a",
   "metadata": {},
   "outputs": [],
   "source": [
    "3. Describe three different data types?"
   ]
  },
  {
   "cell_type": "code",
   "execution_count": null,
   "id": "3c8a8a9e-e00d-42b5-925b-5460e71bbac2",
   "metadata": {},
   "outputs": [],
   "source": [
    "Solution:\n",
    "\n",
    "1. Integer (int): Integers represent whole numbers without any fractional or decimal part. They can be positive or negative.\n",
    "For example:\n",
    "    age = 25\n",
    "    In this case, age is a variable of type integer, assigned the value 25.\n",
    "2. String (str): Strings are used to represent textual data. They are sequences of characters enclosed in quotes (single or double). \n",
    "For example:\n",
    "    name = \"John Doe\"\n",
    "    Here, name is a variable of type string, storing the value \"John Doe\".\n",
    "3. Boolean (bool): Booleans represent the truth values True and False. They are often used in logical operations and control flow \n",
    "statements. For example:\n",
    "    is_valid = True\n",
    "    In this case, is_valid is a variable of type boolean, set to the value True."
   ]
  },
  {
   "cell_type": "code",
   "execution_count": null,
   "id": "d2701b25-23ad-4794-ba8b-6ba3a0b5ad2f",
   "metadata": {},
   "outputs": [],
   "source": [
    "4. What is an expression made up of? What do all expressions do?"
   ]
  },
  {
   "cell_type": "code",
   "execution_count": null,
   "id": "d9b52273-3813-4a8f-a9db-ff83e72df69a",
   "metadata": {},
   "outputs": [],
   "source": [
    "Solution:\n",
    "\n",
    "Expressions are combinations of values, variables, operators, and function calls that produce a single value when evaluated.\n",
    "They are used to perform computations and manipulate data within a program.\n",
    "For example, consider the following expression:\n",
    "result = 2 * (3 + 4)\n",
    "In this case, the expression (3 + 4) evaluates to 7, and then the expression 2 * 7 further evaluates to 14. The final result, 14, is \n",
    "assigned to the variable result."
   ]
  },
  {
   "cell_type": "code",
   "execution_count": null,
   "id": "fb560dc0-7d21-40ee-972f-748da173845d",
   "metadata": {},
   "outputs": [],
   "source": [
    "5. This assignment statements, like spam = 10. What is the difference between an expression and a statement?"
   ]
  },
  {
   "cell_type": "code",
   "execution_count": null,
   "id": "127a8f99-eda2-4d2f-96b9-daf102b1d066",
   "metadata": {},
   "outputs": [],
   "source": [
    "Solution:\n",
    "\n",
    "spam=10 is a statement & 10 is an expression.\n",
    "\n",
    "An expression is a combination of values, variables, operators, and function calls that evaluates to a single value. It produces a \n",
    "result when executed. Expressions can be used within larger expressions or as standalone entities. For example, 2 + 3 is an expression \n",
    "that evaluates to 5.\n",
    "\n",
    "A statement is a complete instruction or action that performs a specific task. It represents a line of code that carries out an\n",
    "operation or controls the flow of execution. Statements can consist of expressions, but they go beyond just producing a value. \n",
    "Statements often involve assignments, loops, conditionals, function definitions, and other control structures. spam = 10 is an example\n",
    "where the value 10 is assigned to the variable spam."
   ]
  },
  {
   "cell_type": "code",
   "execution_count": null,
   "id": "b2356b75-9f69-421f-9d31-d9a9877f4e5f",
   "metadata": {},
   "outputs": [],
   "source": [
    "6. After running the following code, what does the variable bacon contain?\n",
    "bacon = 22\n",
    "bacon + 1"
   ]
  },
  {
   "cell_type": "code",
   "execution_count": null,
   "id": "531fed53-ef18-477e-aa1a-545ae3d41417",
   "metadata": {},
   "outputs": [],
   "source": [
    "Solution:\n",
    "22"
   ]
  },
  {
   "cell_type": "code",
   "execution_count": null,
   "id": "76340de8-3f1f-4687-a3a0-def395c29e6d",
   "metadata": {},
   "outputs": [],
   "source": [
    "7. What should the values of the following two terms be?\n",
    "'spam'+'spamspam'\n",
    "'spam'*3"
   ]
  },
  {
   "cell_type": "code",
   "execution_count": null,
   "id": "54107e03-6542-46d6-a0c2-e9a8775498b1",
   "metadata": {},
   "outputs": [],
   "source": [
    "Solution:\n",
    "spamspamspam\n",
    "spamspamspam"
   ]
  },
  {
   "cell_type": "code",
   "execution_count": null,
   "id": "4cd4e3cd-5c96-466a-b196-101df443c561",
   "metadata": {},
   "outputs": [],
   "source": [
    "8. Why is eggs a valid variable name while 100 is invalid?"
   ]
  },
  {
   "cell_type": "code",
   "execution_count": null,
   "id": "48dbe29a-4f5e-43bc-8e3d-9b184b5d74a3",
   "metadata": {},
   "outputs": [],
   "source": [
    "Solution:\n",
    "\"eggs\" is a valid variable name because it starts with a letter and contains only valid characters. However, \"100\" is an invalid \n",
    "variable name because it starts with a digit, which is not allowed.\n",
    "A variable name has to compulsorily start with letter uppercase or lowercase  or _ it cannot start with number.      "
   ]
  },
  {
   "cell_type": "code",
   "execution_count": null,
   "id": "5bd0486e-4d22-46d3-8e7d-74774b04d72c",
   "metadata": {},
   "outputs": [],
   "source": [
    "9. What three functions can be used to get the integer, floating-point number, or string version of a value?"
   ]
  },
  {
   "cell_type": "code",
   "execution_count": null,
   "id": "8369a22f-2878-4040-8452-e5c499b97194",
   "metadata": {},
   "outputs": [],
   "source": [
    "int() function can be used to get the integer version of a value.\n",
    "\n",
    "Example:\n",
    "    \n",
    "number = 10.5\n",
    "integer_number = int(number)\n",
    "print(integer_number)  # Output: 10 \n",
    "\n",
    "The float() function converts a value to a floating-point number.\n",
    "\n",
    "Example:\n",
    "    \n",
    "number = \"3.14\"\n",
    "float_number = float(number)\n",
    "print(float_number)  # Output: 3.14\n",
    "\n",
    "The str() function is used to convert a value to its string representation. \n",
    "\n",
    "Example:\n",
    "\n",
    "number = 42\n",
    "string_number = str(number)\n",
    "print(string_number)  # Output: \"42\"\n"
   ]
  },
  {
   "cell_type": "code",
   "execution_count": null,
   "id": "1a9bc684-23f8-4904-940f-9856655d3875",
   "metadata": {},
   "outputs": [],
   "source": [
    "10. Why does this expression cause an error? How can you fix it?\n",
    "'I have eaten'+99+'buritos'"
   ]
  },
  {
   "cell_type": "code",
   "execution_count": null,
   "id": "346ab317-6189-4a2c-939f-765ac13d5603",
   "metadata": {},
   "outputs": [],
   "source": [
    "Solution:\n",
    "    \n",
    "Expression is causing an error because string can't be concatenated with integer\n",
    "'I have eaten' is a string\n",
    "99 is an integer\n",
    "'buritos' is a string\n",
    "The expression can be corrected as:\n",
    "'I have eaten'+'99'+'buritos' or  'I have eaten'+ str(99)+'buritos' \n",
    "99 is converted to string and now it's a valid expression since string can be concatenated with string."
   ]
  }
 ],
 "metadata": {
  "kernelspec": {
   "display_name": "Python 3 (ipykernel)",
   "language": "python",
   "name": "python3"
  },
  "language_info": {
   "codemirror_mode": {
    "name": "ipython",
    "version": 3
   },
   "file_extension": ".py",
   "mimetype": "text/x-python",
   "name": "python",
   "nbconvert_exporter": "python",
   "pygments_lexer": "ipython3",
   "version": "3.10.6"
  }
 },
 "nbformat": 4,
 "nbformat_minor": 5
}
