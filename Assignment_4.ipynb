{
 "cells": [
  {
   "cell_type": "markdown",
   "id": "305d0863-44f9-4eab-a0f7-fdbaa6ebff9f",
   "metadata": {},
   "source": [
    "# Assignment_4"
   ]
  },
  {
   "cell_type": "markdown",
   "id": "d3d72cd9-3d2a-48b5-af2b-31745f432871",
   "metadata": {},
   "source": [
    "### 1. What exactly is []?"
   ]
  },
  {
   "cell_type": "code",
   "execution_count": null,
   "id": "41a428f0-1827-4a5f-8cb9-b6d89f7c3174",
   "metadata": {},
   "outputs": [],
   "source": [
    "#Solution:\n",
    "[] represents an empty list."
   ]
  },
  {
   "cell_type": "markdown",
   "id": "9776a2e5-c252-411a-8f9b-85af71826978",
   "metadata": {},
   "source": [
    "### 2. In a list of values stored in a variable called spam, how would you assign the value &#39;hello&#39; as the third value? (Assume [2, 4, 6, 8, 10] are in spam.)"
   ]
  },
  {
   "cell_type": "code",
   "execution_count": 3,
   "id": "f3a75d1e-006b-4a86-aa0b-96b5839fa0e7",
   "metadata": {},
   "outputs": [
    {
     "data": {
      "text/plain": [
       "[2, 4, 'hello', 8, 10]"
      ]
     },
     "execution_count": 3,
     "metadata": {},
     "output_type": "execute_result"
    }
   ],
   "source": [
    "#Solution:\n",
    "spam = [2, 4, 6, 8, 10]\n",
    "spam[2] = \"hello\"\n",
    "spam"
   ]
  },
  {
   "cell_type": "markdown",
   "id": "b7f02bd1-7d87-4800-b9db-5c447c72e679",
   "metadata": {},
   "source": [
    "### Lets pretend the spam includes the list ['a','b','c','d'] for the next three queries."
   ]
  },
  {
   "cell_type": "markdown",
   "id": "3b4bd63f-4102-4af1-bb10-b54be867e212",
   "metadata": {},
   "source": [
    "### 3. What is the value of spam[int(int('3' * 2) / 11)]?"
   ]
  },
  {
   "cell_type": "code",
   "execution_count": 6,
   "id": "18cb7ec3-2794-4301-9c3b-6e770d2f2129",
   "metadata": {},
   "outputs": [
    {
     "data": {
      "text/plain": [
       "'d'"
      ]
     },
     "execution_count": 6,
     "metadata": {},
     "output_type": "execute_result"
    }
   ],
   "source": [
    "#Solution:\n",
    "spam=['a','b','c','d']\n",
    "spam[int(int('3' * 2) / 11)]"
   ]
  },
  {
   "cell_type": "markdown",
   "id": "39e20e11-1e03-4c0d-977c-9b25b2b08dce",
   "metadata": {},
   "source": [
    "### 4. What is the value of spam[-1]?"
   ]
  },
  {
   "cell_type": "code",
   "execution_count": 7,
   "id": "30f1a7af-1a88-409b-8a4e-b1aecdb277b4",
   "metadata": {},
   "outputs": [
    {
     "data": {
      "text/plain": [
       "'d'"
      ]
     },
     "execution_count": 7,
     "metadata": {},
     "output_type": "execute_result"
    }
   ],
   "source": [
    "#Solution:\n",
    "spam[-1]"
   ]
  },
  {
   "cell_type": "markdown",
   "id": "18c8a06e-6a41-4a02-9c04-67e1d42cd7d6",
   "metadata": {},
   "source": [
    "### 5. What is the value of spam[:2]?"
   ]
  },
  {
   "cell_type": "code",
   "execution_count": 8,
   "id": "09191926-7dc0-4751-8152-dea91bc15297",
   "metadata": {},
   "outputs": [
    {
     "data": {
      "text/plain": [
       "['a', 'b']"
      ]
     },
     "execution_count": 8,
     "metadata": {},
     "output_type": "execute_result"
    }
   ],
   "source": [
    "#Solution:\n",
    "spam[:2]"
   ]
  },
  {
   "cell_type": "markdown",
   "id": "63132e17-d22c-4690-8e56-a52dfcb5f56f",
   "metadata": {},
   "source": [
    "### Lets pretend bacon has the list [3.14,'cat',11,'cat',True] for the next three questions."
   ]
  },
  {
   "cell_type": "markdown",
   "id": "b98a7e96-ba7d-4591-9b46-dcb96a239e9a",
   "metadata": {},
   "source": [
    "### 6. What is the value of bacon.index('cat')? "
   ]
  },
  {
   "cell_type": "code",
   "execution_count": 13,
   "id": "b61a5d6d-b483-404d-8445-a0796df60982",
   "metadata": {},
   "outputs": [
    {
     "data": {
      "text/plain": [
       "1"
      ]
     },
     "execution_count": 13,
     "metadata": {},
     "output_type": "execute_result"
    }
   ],
   "source": [
    "#Solution:\n",
    "bacon=[3.14,'cat',11,'cat',True]\n",
    "bacon.index('cat')"
   ]
  },
  {
   "cell_type": "markdown",
   "id": "1cd0b6c7-2f9c-44d0-ae3b-e45df2a65ade",
   "metadata": {},
   "source": [
    "### 7. How does bacon.append(99) change the look of the list value in bacon?"
   ]
  },
  {
   "cell_type": "code",
   "execution_count": 14,
   "id": "93041948-7ed0-4958-9757-bce73050dbac",
   "metadata": {},
   "outputs": [
    {
     "data": {
      "text/plain": [
       "[3.14, 'cat', 11, 'cat', True, 99]"
      ]
     },
     "execution_count": 14,
     "metadata": {},
     "output_type": "execute_result"
    }
   ],
   "source": [
    "#Solution:\n",
    "bacon.append(99) #adds 99 as the last element in list\n",
    "bacon"
   ]
  },
  {
   "cell_type": "markdown",
   "id": "7383fd73-015a-4dd4-aac4-c1526a5a5d9d",
   "metadata": {},
   "source": [
    "### 8. How does bacon.remove('cat') change the look of the list in bacon?"
   ]
  },
  {
   "cell_type": "code",
   "execution_count": 15,
   "id": "8f40dca9-3181-4c64-a43c-6c73acdf57b9",
   "metadata": {},
   "outputs": [
    {
     "data": {
      "text/plain": [
       "[3.14, 11, 'cat', True, 99]"
      ]
     },
     "execution_count": 15,
     "metadata": {},
     "output_type": "execute_result"
    }
   ],
   "source": [
    "#Solution:\n",
    "bacon.remove('cat') #removes first element encountered as'cat' in the list\n",
    "bacon"
   ]
  },
  {
   "cell_type": "markdown",
   "id": "827adad1-8c0e-4312-9659-0af487ef8212",
   "metadata": {},
   "source": [
    "### 9. What are the list concatenation and list replication operators?"
   ]
  },
  {
   "cell_type": "code",
   "execution_count": null,
   "id": "bf5a25c6-527d-44a2-acc0-30a859a61047",
   "metadata": {},
   "outputs": [],
   "source": [
    "#Solution:\n",
    "\n",
    "List Concatenation (+):\n",
    "List concatenation allows us to combine two or more lists into a single list. Here's an example:\n",
    "    list1 = [1, 2, 3]\n",
    "    list2 = [4, 5, 6]\n",
    "    concatenated_list = list1 + list2\n",
    "    print(concatenated_list)  # Output: [1, 2, 3, 4, 5, 6]\n",
    "    \n",
    "List Replication (*):\n",
    "List replication allows us to create a new list by repeating the elements of an existing list a certain number of times. Here's an example:\n",
    "original_list = [1, 2, 3]\n",
    "replicated_list = original_list * 3\n",
    "print(replicated_list)  # Output: [1, 2, 3, 1, 2, 3, 1, 2, 3]"
   ]
  },
  {
   "cell_type": "markdown",
   "id": "0b16809d-e7c1-4294-a93d-566c4212dcec",
   "metadata": {},
   "source": [
    "### 10. What is difference between the list methods append() and insert()?"
   ]
  },
  {
   "cell_type": "code",
   "execution_count": null,
   "id": "21eee4dc-69ee-4c7a-bbe0-9448af07efc5",
   "metadata": {},
   "outputs": [],
   "source": [
    "#Solution:\n",
    "1.append() Method:\n",
    "The append() method is used to add an element to the end of a list. It takes one argument, which is the element we want to add. The added element becomes the last element of the list.\n",
    "    my_list = [1, 2, 3]\n",
    "    my_list.append(4)\n",
    "    print(my_list)  # Output: [1, 2, 3, 4]\n",
    "2. insert() Method:\n",
    "The insert() method is used to insert an element at a specific index in the list. It takes two arguments: the index at which we want to insert the element, and the element itself.\n",
    "    my_list = [1, 2, 3]\n",
    "    my_list.insert(1, 5)  # Insert 5 at index 1\n",
    "    print(my_list)  # Output: [1, 5, 2, 3]\n",
    "In this example, insert(1, 5) inserts the value 5 at index 1, shifting the existing elements to the right."
   ]
  },
  {
   "cell_type": "markdown",
   "id": "6bce412e-1c50-4acf-b4fe-7dfb8594af6c",
   "metadata": {},
   "source": [
    "### 11. What are the two methods for removing items from a list?"
   ]
  },
  {
   "cell_type": "code",
   "execution_count": null,
   "id": "f94bde1c-56ff-47a9-94a2-cd51dfdf17b7",
   "metadata": {},
   "outputs": [],
   "source": [
    "#Solution:\n",
    "\n",
    "1. remove() Method:\n",
    "The remove() method is used to remove the first occurrence of a specific value from the list. It takes one argument, which is the value we want to remove.\n",
    "\n",
    "    my_list = [1, 2, 3, 2, 4]\n",
    "    my_list.remove(2)  # Removes the first occurrence of 2\n",
    "    print(my_list)  # Output: [1, 3, 2, 4]\n",
    "If the value we're trying to remove doesn't exist in the list, this method raises a ValueError.\n",
    "\n",
    "2. pop() Method:\n",
    "The pop() method is used to remove an item at a specific index from the list. It takes one optional argument, which is the index of the element we want to remove. If no index is provided, it removes and returns the last element in the list.\n",
    "\n",
    "    my_list = [1, 2, 3, 4]\n",
    "    removed_item = my_list.pop(1)  # Removes and returns the item at index 1 (2)\n",
    "    print(my_list)  # Output: [1, 3, 4]\n",
    "    print(removed_item)  # Output: 2\n",
    "If we don't provide an index to the pop() method and the list is empty, it raises an IndexError.\n"
   ]
  },
  {
   "cell_type": "markdown",
   "id": "8268d630-9642-4794-a094-b96634bd236d",
   "metadata": {},
   "source": [
    "### 12. Describe how list values and string values are identical."
   ]
  },
  {
   "cell_type": "code",
   "execution_count": null,
   "id": "6ab6849e-2dad-4bee-b7b3-a1792ddf50d2",
   "metadata": {},
   "outputs": [],
   "source": [
    "#Solution:\n",
    "List values and string values share some similarities, particularly in how they handle indexing, slicing, and iteration. Here are some ways in which list values and string values are similar:\n",
    "1. Indexing and Slicing:\n",
    "Both lists and strings support indexing, allowing us to access individual elements or characters by their positions. Positive indexing starts from the beginning, while negative indexing starts from the end.\n",
    "Example for lists:\n",
    "    my_list = [10, 20, 30, 40]\n",
    "    print(my_list[0])   # Output: 10\n",
    "    print(my_list[-1])  # Output: 40\n",
    "Example for strings:\n",
    "    my_string = \"Hello\"\n",
    "    print(my_string[0])   # Output: 'H'\n",
    "    print(my_string[-1])  # Output: 'o'\n",
    "Both lists and strings also support slicing, which allows us to extract sublists or substrings using a range of indices.\n",
    "\n",
    "2. Iteration:\n",
    "We can iterate through both lists and strings using loops like for. This makes it easy to process each element or character in a sequence.\n",
    "Example for lists:\n",
    "    my_list = [10, 20, 30]\n",
    "    for item in my_list:\n",
    "        print(item)\n",
    "Example for strings:\n",
    "    my_string = \"Hello\"\n",
    "    for char in my_string:\n",
    "        print(char)\n",
    "    \n",
    "3. Length:\n",
    "Both lists and strings have a length that can be obtained using the len() function.\n",
    "Example for lists:\n",
    "    my_list = [1, 2, 3, 4, 5]\n",
    "    length = len(my_list)\n",
    "    print(length)  # Output: 5\n",
    "Example for strings:\n",
    "    my_string = \"Hello, World!\"\n",
    "    length = len(my_string)\n",
    "    print(length)  # Output: 13\n"
   ]
  },
  {
   "cell_type": "markdown",
   "id": "391d5c9b-a71e-4f10-ac09-8f7e9abb151b",
   "metadata": {},
   "source": [
    "### 13. What is the difference between tuples and lists?"
   ]
  },
  {
   "cell_type": "code",
   "execution_count": null,
   "id": "4b73ee1c-aa3e-4394-9e08-fc55f1029126",
   "metadata": {},
   "outputs": [],
   "source": [
    "#Solution:\n",
    "\n",
    "Tuples and lists are both data structures in programming used to store collections of items, but they have some key differences in terms of their properties and usage. Here's a breakdown of the main differences between tuples and lists:\n",
    "\n",
    "1. Mutability:\n",
    "Tuples: Tuples are immutable, meaning their elements cannot be changed after creation. Once a tuple is created, you cannot add, remove, or modify elements in it.\n",
    "Lists: Lists are mutable, allowing us to add, remove, and modify elements after creation. We can change individual elements, append new elements, or remove existing elements from a list.\n",
    "\n",
    "2. Syntax:\n",
    "Tuples: Tuples are typically defined using parentheses () and comma , to separate elements, like (1, 2, 3).\n",
    "Lists: Lists are usually defined using square brackets [] and commas , to separate elements, like [1, 2, 3].\n",
    "\n",
    "3. Performance:\n",
    "Tuples: Tuples are generally slightly more memory-efficient and faster to create compared to lists because of their immutability.\n",
    "Lists: Lists may have slightly higher memory overhead and creation time due to their mutable nature.\n",
    "\n",
    "4. Use Cases:\n",
    "Tuples: Tuples are often used when we have a fixed collection of items that won't change throughout the program's execution. They are suitable for representing things like coordinates (x, y), dates (year, month, day), and other structured data.\n",
    "Lists: Lists are used when we need a collection of items that may change, grow, or shrink during the program's execution. They are useful for tasks like maintaining dynamic lists of data, such as user inputs, database records, or processing sequences of items.\n",
    "\n",
    "5. Methods and Operations:\n",
    "Both tuples and lists have some common methods, like len() to get the number of elements, indexing to access elements, and slicing to extract subsets of elements.\n",
    "Lists have more built-in methods for modification, like append(), insert(), remove(), and pop(), which are not available for tuples due to their immutability."
   ]
  },
  {
   "cell_type": "markdown",
   "id": "f7212cb6-7675-4558-9ee7-a7ee1b386a1e",
   "metadata": {},
   "source": [
    "### 14. How do you type a tuple value that only contains the integer 42?"
   ]
  },
  {
   "cell_type": "code",
   "execution_count": 2,
   "id": "6baf7d42-c048-460b-a683-40ff14fed5fd",
   "metadata": {},
   "outputs": [
    {
     "data": {
      "text/plain": [
       "(42,)"
      ]
     },
     "execution_count": 2,
     "metadata": {},
     "output_type": "execute_result"
    }
   ],
   "source": [
    "#Solution:\n",
    "my_tuple = (42,)\n",
    "my_tuple"
   ]
  },
  {
   "cell_type": "markdown",
   "id": "3090877e-49eb-418e-86ff-47c95055056d",
   "metadata": {
    "tags": []
   },
   "source": [
    "### 15. How do you get a list value's tuple form? How do you get a tuple value's list form?"
   ]
  },
  {
   "cell_type": "code",
   "execution_count": null,
   "id": "8d01725d-36e2-466e-99d7-fc14ef74b012",
   "metadata": {},
   "outputs": [],
   "source": [
    "#Solution:\n",
    "We can easily convert between a list and a tuple using the list() and tuple() functions. Here's how to do it:\n",
    "# Converting List to Tuple\n",
    "my_list = [1, 2, 3, 4, 5]\n",
    "my_tuple = tuple(my_list)\n",
    "print(my_tuple)  # Output: (1, 2, 3, 4, 5)\n",
    "\n",
    "# Converting Tuple to List\n",
    "my_tuple = (10, 20, 30, 40, 50)\n",
    "my_list = list(my_tuple)\n",
    "print(my_list)   # Output: [10, 20, 30, 40, 50]\n"
   ]
  },
  {
   "cell_type": "markdown",
   "id": "306fd351-2504-401b-a26d-43f0afb1f640",
   "metadata": {},
   "source": [
    "## 16. Variables that \"contain\" list values are not necessarily lists themselves. Instead, what do they contain?"
   ]
  },
  {
   "cell_type": "code",
   "execution_count": null,
   "id": "b605486d-eae5-4349-a062-a84d843f7a8e",
   "metadata": {},
   "outputs": [],
   "source": [
    "#Solution:\n",
    "In Python, variables that \"contain\" list values (or other collections) do not actually contain the values themselves directly. Instead, they contain references or pointers to the memory locations where the actual values are stored. This is a fundamental concept in Python and is related to how memory management and object references work in the language.\n",
    "When we assign a list (or any other object) to a variable, the variable holds a reference to the memory location where the list's data is stored. This means that multiple variables can refer to the same list object, and modifications made through one variable will affect the list when accessed through other variables as well.\n",
    "\n",
    "Here's an example to illustrate this concept:\n",
    "# Creating a list and assigning it to two variables\n",
    "original_list = [1, 2, 3]\n",
    "another_reference = original_list\n",
    "# Modifying the list using one variable\n",
    "original_list.append(4)\n",
    "# Both variables reflect the modification\n",
    "print(original_list)        # Output: [1, 2, 3, 4]\n",
    "print(another_reference)    # Output: [1, 2, 3, 4]\n",
    "\n",
    "In this example, original_list and another_reference both reference the same list object. When we modify the list through original_list, the changes are reflected in another_reference as well because they both point to the same memory location."
   ]
  },
  {
   "cell_type": "markdown",
   "id": "f27d2520-9be1-4cac-8203-ed1e2ebefc83",
   "metadata": {},
   "source": [
    "### 17. How do you distinguish between copy.copy() and copy.deepcopy()?"
   ]
  },
  {
   "cell_type": "code",
   "execution_count": null,
   "id": "db12e7f1-c81c-4747-9b88-ae7cfa938609",
   "metadata": {},
   "outputs": [],
   "source": [
    "#Solution:\n",
    "In Python's copy module, both copy.copy() and copy.deepcopy() are used to create copies of objects, but they differ in terms of how they handle object references and nested objects.\n",
    "1. copy.copy():\n",
    "copy.copy() creates a shallow copy of an object. A shallow copy creates a new object, but if the object contains references to other objects (such as lists or other nested structures), the new copy will still refer to the same nested objects as the original.\n",
    "Shallow copying is useful when we want a new object that is a copy of the original, but we don't need the content of nested objects to be copied as well.\n",
    "Example:\n",
    "    import copy\n",
    "    original_list = [1, [2, 3]]\n",
    "    shallow_copy = copy.copy(original_list)\n",
    "    shallow_copy[1].append(4)\n",
    "    print(original_list)  # Output: [1, [2, 3, 4]]\n",
    "    print(shallow_copy)   # Output: [1, [2, 3, 4]]\n",
    "2. copy.deepcopy():\n",
    "copy.deepcopy() creates a deep copy of an object. A deep copy not only creates a new object but also recursively creates new copies of all the objects referenced by the original object, including nested objects.\n",
    "Deep copying is useful when we want a completely independent copy of the original object, including all its nested objects.\n",
    "Example:\n",
    "    import copy\n",
    "    original_list = [1, [2, 3]]\n",
    "    deep_copy = copy.deepcopy(original_list)\n",
    "    deep_copy[1].append(4)\n",
    "    print(original_list)  # Output: [1, [2, 3]]\n",
    "    print(deep_copy)      # Output: [1, [2, 3, 4]]\n",
    "In summary, we use copy.copy() when we want a new object that is a shallow copy of the original, and use copy.deepcopy() when we want a new object that is a deep, independent copy of the original, including all nested objects. The deep copying can be slower and more memory-intensive, especially for complex structures."
   ]
  }
 ],
 "metadata": {
  "kernelspec": {
   "display_name": "Python 3 (ipykernel)",
   "language": "python",
   "name": "python3"
  },
  "language_info": {
   "codemirror_mode": {
    "name": "ipython",
    "version": 3
   },
   "file_extension": ".py",
   "mimetype": "text/x-python",
   "name": "python",
   "nbconvert_exporter": "python",
   "pygments_lexer": "ipython3",
   "version": "3.10.6"
  }
 },
 "nbformat": 4,
 "nbformat_minor": 5
}
