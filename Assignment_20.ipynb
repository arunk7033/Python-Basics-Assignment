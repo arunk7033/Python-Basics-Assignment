{
 "cells": [
  {
   "cell_type": "markdown",
   "id": "48e27239-3301-46a0-92bd-f3d65a9c7e96",
   "metadata": {},
   "source": [
    "# Assignment_20"
   ]
  },
  {
   "cell_type": "markdown",
   "id": "4faf62a9-ce79-4510-8a29-d791173c1049",
   "metadata": {},
   "source": [
    "## 1. Set the variable test1 to the string &#39;This is a test of the emergency text system,&#39; and save test1 to a file named test.txt."
   ]
  },
  {
   "cell_type": "code",
   "execution_count": 1,
   "id": "4c417cde-405c-4c89-bfd6-41e30c00cfaf",
   "metadata": {},
   "outputs": [],
   "source": [
    "#Solution\n",
    "# Set the variable test1 to the string\n",
    "test1 = 'This is a test of the emergency text system,'\n",
    "\n",
    "# Specify the file name\n",
    "file_name = 'test.txt'\n",
    "\n",
    "# Open the file in write mode and write the contents of test1\n",
    "with open(file_name, 'w') as file:\n",
    "    file.write(test1)"
   ]
  },
  {
   "cell_type": "markdown",
   "id": "60927b6b-7adf-4b55-9aa9-f93c5ac54081",
   "metadata": {},
   "source": [
    "## 2. Read the contents of the file test.txt into the variable test2. Is there a difference between test 1 and test 2?"
   ]
  },
  {
   "cell_type": "code",
   "execution_count": 2,
   "id": "d6f19a52-0133-44ec-9234-a9a66ab0bbe6",
   "metadata": {},
   "outputs": [
    {
     "name": "stdout",
     "output_type": "stream",
     "text": [
      "There is no difference between test1 and test2.\n"
     ]
    }
   ],
   "source": [
    "#Solution\n",
    "# Specify the file name\n",
    "file_name = 'test.txt'\n",
    "\n",
    "# Initialize the test2 variable as an empty string\n",
    "test2 = ''\n",
    "\n",
    "# Open the file in read mode and read its contents into test2\n",
    "with open(file_name, 'r') as file:\n",
    "    test2 = file.read()\n",
    "\n",
    "# Check if there is a difference between test1 and test2\n",
    "if test1 == test2:\n",
    "    print(\"There is no difference between test1 and test2.\")\n",
    "else:\n",
    "    print(\"There is a difference between test1 and test2.\")\n"
   ]
  },
  {
   "cell_type": "markdown",
   "id": "639a0b20-e784-42f1-9a26-74fa2b31c18f",
   "metadata": {},
   "source": [
    "## 3. Create a CSV file called books.csv by using these lines: \n",
    "## title,author,year \n",
    "## The Weirdstone of Brisingamen,Alan Garner,1960\n",
    "## Perdido Street Station,China Miéville,2000\n",
    "## Thud!,Terry Pratchett,2005\n",
    "## The Spellman Files,Lisa Lutz,2007\n",
    "## Small Gods,Terry Pratchett,1992"
   ]
  },
  {
   "cell_type": "code",
   "execution_count": 3,
   "id": "4414db36-9b90-45a2-8f91-dd7171e2393c",
   "metadata": {},
   "outputs": [],
   "source": [
    "#Solution\n",
    "import csv\n",
    "\n",
    "# Data to write to the CSV file\n",
    "data = [\n",
    "    ['title', 'author', 'year'],\n",
    "    ['The Weirdstone of Brisingamen', 'Alan Garner', 1960],\n",
    "    ['Perdido Street Station', 'China Miéville', 2000],\n",
    "    ['Thud!', 'Terry Pratchett', 2005],\n",
    "    ['The Spellman Files', 'Lisa Lutz', 2007],\n",
    "    ['Small Gods', 'Terry Pratchett', 1992]\n",
    "]\n",
    "\n",
    "# Create and write to the CSV file\n",
    "with open('books.csv', 'w', newline='') as file:\n",
    "    writer = csv.writer(file)\n",
    "    writer.writerows(data)"
   ]
  },
  {
   "cell_type": "markdown",
   "id": "d284e2a8-8922-49a5-bd82-4027ac856d24",
   "metadata": {},
   "source": [
    "## 4. Use the sqlite3 module to create a SQLite database called books.db, and a table called books with these fields: title (text), author (text), and year (integer)."
   ]
  },
  {
   "cell_type": "code",
   "execution_count": 1,
   "id": "02c11197-ed43-4d1b-bb63-52502812bd85",
   "metadata": {},
   "outputs": [],
   "source": [
    "#Solution\n",
    "import sqlite3\n",
    "\n",
    "# Create a connection to the database (or create it if it doesn't exist)\n",
    "conn = sqlite3.connect(\"books.db\")\n",
    "\n",
    "# Create a cursor object to interact with the database\n",
    "cursor = conn.cursor()\n",
    "\n",
    "# Define the SQL statement to create the \"books\" table\n",
    "create_table_sql = '''\n",
    "    CREATE TABLE IF NOT EXISTS books (\n",
    "        title TEXT,\n",
    "        author TEXT,\n",
    "        year INTEGER\n",
    "    )\n",
    "'''\n",
    "\n",
    "# Execute the SQL statement to create the table\n",
    "cursor.execute(create_table_sql)\n",
    "\n",
    "# Commit the changes and close the connection\n",
    "conn.commit()\n",
    "conn.close()"
   ]
  },
  {
   "cell_type": "markdown",
   "id": "684009f1-2934-4271-a744-bd56bfa5b206",
   "metadata": {},
   "source": [
    "## 5. Read books.csv and insert its data into the book table."
   ]
  },
  {
   "cell_type": "code",
   "execution_count": null,
   "id": "7866e9f4-8e7c-4933-976a-716868ed0c07",
   "metadata": {},
   "outputs": [],
   "source": [
    "#Solution\n",
    "import sqlite3\n",
    "import csv\n",
    "\n",
    "# Create a connection to the database\n",
    "conn = sqlite3.connect(\"books.db\")\n",
    "cursor = conn.cursor()\n",
    "\n",
    "# Read data from the CSV file and insert it into the \"books\" table\n",
    "with open('books.csv', 'r') as csv_file:\n",
    "    csv_reader = csv.reader(csv_file)\n",
    "    next(csv_reader)  # Skip the header row if it exists\n",
    "\n",
    "    for row in csv_reader:\n",
    "        title, author, year = row\n",
    "        cursor.execute(\"INSERT INTO books (title, author, year) VALUES (?, ?, ?)\", (title, author, int(year)))\n",
    "\n",
    "# Commit the changes and close the connection\n",
    "conn.commit()\n",
    "conn.close()"
   ]
  },
  {
   "cell_type": "markdown",
   "id": "9b98a1f2-b5bd-4993-8424-48cf2267a473",
   "metadata": {},
   "source": [
    "## 6. Select and print the title column from the book table in alphabetical order."
   ]
  },
  {
   "cell_type": "code",
   "execution_count": null,
   "id": "39c435ac-24ae-4102-8597-877f5e0191e2",
   "metadata": {},
   "outputs": [],
   "source": [
    "#Solution\n",
    "import sqlite3\n",
    "\n",
    "# Create a connection to the database\n",
    "conn = sqlite3.connect(\"books.db\")\n",
    "cursor = conn.cursor()\n",
    "\n",
    "# Select the \"title\" column from the \"books\" table in alphabetical order\n",
    "cursor.execute(\"SELECT title FROM books ORDER BY title ASC\")\n",
    "\n",
    "# Fetch all the rows from the result set\n",
    "rows = cursor.fetchall()\n",
    "\n",
    "# Print the titles\n",
    "for row in rows:\n",
    "    print(row[0])\n",
    "\n",
    "# Close the connection\n",
    "conn.close()"
   ]
  },
  {
   "cell_type": "markdown",
   "id": "3a846c4f-b08d-413d-ba0a-e2bc0f10edd5",
   "metadata": {},
   "source": [
    "## 7. From the book table, select and print all columns in the order of publication."
   ]
  },
  {
   "cell_type": "code",
   "execution_count": null,
   "id": "bc782013-1cbd-4241-abd8-25daec4e2746",
   "metadata": {},
   "outputs": [],
   "source": [
    "#Solution\n",
    "import sqlite3\n",
    "\n",
    "# Create a connection to the database\n",
    "conn = sqlite3.connect(\"books.db\")\n",
    "cursor = conn.cursor()\n",
    "\n",
    "# Select all columns from the \"books\" table in the order of publication\n",
    "cursor.execute(\"SELECT * FROM books ORDER BY year ASC\")\n",
    "\n",
    "# Fetch all the rows from the result set\n",
    "rows = cursor.fetchall()\n",
    "\n",
    "# Print the rows\n",
    "for row in rows:\n",
    "    print(row)\n",
    "\n",
    "# Close the connection\n",
    "conn.close()\n"
   ]
  },
  {
   "cell_type": "markdown",
   "id": "b4f2df25-b828-47f0-ab09-af6bc648a1c1",
   "metadata": {},
   "source": [
    "## 8. Use the sqlalchemy module to connect to the sqlite3 database books.db that you just made in exercise 6."
   ]
  },
  {
   "cell_type": "code",
   "execution_count": null,
   "id": "89dda072-789a-4ec9-8617-c1e0d65e86f8",
   "metadata": {},
   "outputs": [],
   "source": [
    "#Solution\n",
    "To connect to the SQLite database \"books.db\" using the SQLAlchemy module in Python, we'll first need to install SQLAlchemy if we haven't already. We can install it using pip:\n",
    "\n",
    "pip install sqlalchemy\n",
    "\n",
    "Once we've installed SQLAlchemy, we can create a connection to the \"books.db\" database as follows:\n",
    "\n",
    "from sqlalchemy import create_engine\n",
    "\n",
    "# Create an SQLAlchemy database engine\n",
    "engine = create_engine('sqlite:///books.db')\n",
    "\n",
    "# Connect to the database\n",
    "connection = engine.connect()\n",
    "\n",
    "# Now we can use the 'connection' object to interact with the database\n",
    "  "
   ]
  },
  {
   "cell_type": "markdown",
   "id": "51f6ef13-78b0-4d41-91ca-96fce9c021a5",
   "metadata": {},
   "source": [
    "## 9. Install the Redis server and the Python redis library (pip install redis) on your computer. Create a Redis hash called test with the fields count (1) and name (&#39;Fester Bestertester&#39;). Print all the fields for test."
   ]
  },
  {
   "cell_type": "code",
   "execution_count": null,
   "id": "3db80c86-2573-4415-a3c2-64ed86592b6a",
   "metadata": {},
   "outputs": [],
   "source": [
    "#Solution\n",
    "Installing the Python redis library: We can install it using pip:\n",
    "    \n",
    "pip install redis\n",
    "\n",
    "Here's a Python script to create a Redis hash called \"test\" with the specified fields and then print all the fields:\n",
    "\n",
    "import redis\n",
    "\n",
    "# Connect to the Redis server\n",
    "# We create a connection to the local Redis server running on the default port (6379) and use the database with index 0.\n",
    "r = redis.Redis(host='localhost', port=6379, db=0)\n",
    "\n",
    "# Create a Redis hash called \"test\" with fields count and name\n",
    "r.hset('test', 'count', 1)\n",
    "r.hset('test', 'name', 'Fester Bestertester')\n",
    "\n",
    "# Retrieve all the fields and their values from the \"test\" hash\n",
    "test_data = r.hgetall('test')\n",
    "\n",
    "# Print the fields and their values\n",
    "for field, value in test_data.items():\n",
    "    print(f'{field.decode(\"utf-8\")}: {value.decode(\"utf-8\")}')"
   ]
  },
  {
   "cell_type": "markdown",
   "id": "1d0eb545-97d0-4924-8076-3f6e335eb927",
   "metadata": {},
   "source": [
    "## 10. Increment the count field of test and print it."
   ]
  },
  {
   "cell_type": "code",
   "execution_count": null,
   "id": "6cc02b19-d009-4b6f-bb8b-6f71b92c0d8f",
   "metadata": {},
   "outputs": [],
   "source": [
    "#Solution\n",
    "import redis\n",
    "\n",
    "# Connect to the Redis server\n",
    "r = redis.Redis(host='localhost', port=6379, db=0)\n",
    "\n",
    "# Increment the \"count\" field of the \"test\" hash\n",
    "incremented_value = r.hincrby('test', 'count', 1)\n",
    "\n",
    "# Print the updated count\n",
    "print(f'Updated count: {incremented_value}')"
   ]
  }
 ],
 "metadata": {
  "kernelspec": {
   "display_name": "Python 3 (ipykernel)",
   "language": "python",
   "name": "python3"
  },
  "language_info": {
   "codemirror_mode": {
    "name": "ipython",
    "version": 3
   },
   "file_extension": ".py",
   "mimetype": "text/x-python",
   "name": "python",
   "nbconvert_exporter": "python",
   "pygments_lexer": "ipython3",
   "version": "3.10.6"
  },
  "toc-showcode": true,
  "toc-showmarkdowntxt": true
 },
 "nbformat": 4,
 "nbformat_minor": 5
}
