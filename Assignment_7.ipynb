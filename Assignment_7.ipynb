{
 "cells": [
  {
   "cell_type": "markdown",
   "id": "48e27239-3301-46a0-92bd-f3d65a9c7e96",
   "metadata": {},
   "source": [
    "# Assignment_7"
   ]
  },
  {
   "cell_type": "markdown",
   "id": "4faf62a9-ce79-4510-8a29-d791173c1049",
   "metadata": {},
   "source": [
    "##  1. What is the name of the feature responsible for generating Regex objects?"
   ]
  },
  {
   "cell_type": "code",
   "execution_count": null,
   "id": "2295f8d2-2db3-4031-a14b-e02c9f6b36d8",
   "metadata": {},
   "outputs": [],
   "source": [
    "#Solution\n",
    "The feature responsible for generating regular expression (regex) objects is typically provided by a module or library. In Python, for example, the re module is responsible for working with regular expressions, and it provides functions and classes for creating and manipulating regex objects. One of the main functions for creating regex objects in the re module is re.compile(). This function compiles a regular expression pattern into a regex object that can then be used for pattern matching and manipulation.\n",
    "For example:\n",
    "import re\n",
    "pattern = re.compile(r'\\d+')  # Compiles a regex pattern to match one or more digits\n",
    "In this example, the re.compile() function is used to generate a regex object that can be used for matching sequences of one or more digits."
   ]
  },
  {
   "cell_type": "markdown",
   "id": "60927b6b-7adf-4b55-9aa9-f93c5ac54081",
   "metadata": {},
   "source": [
    "##  2. Why do raw strings often appear in Regex objects?"
   ]
  },
  {
   "cell_type": "code",
   "execution_count": null,
   "id": "7053bfa3-3e24-4049-99d3-166000bcefab",
   "metadata": {},
   "outputs": [],
   "source": [
    "#Solution\n",
    "Raw strings are commonly used in regex objects to avoid the need for excessive escaping of backslashes and other special characters. In regular expressions, backslashes have a special meaning, as they are used to escape characters or introduce special sequences. However, in Python string literals, backslashes are also used as escape characters. This can lead to a situation where we need to double-escape characters in regex patterns when using regular string literals.\n",
    "For example, let's say we want to create a regex pattern to match a backslash followed by a digit:\n",
    "pattern = '\\\\\\\\[0-9]'\n",
    "In this example, the first two backslashes \\\\ are used to escape the backslash character itself, so that the regex pattern can match a literal backslash followed by a digit. The use of double backslashes can quickly become confusing and error-prone, especially as patterns become more complex.\n",
    "By using raw strings, we can avoid this confusion and improve the readability of our regex patterns. In a raw string, backslashes are treated as literal characters, so we only need to escape characters that have special meaning in raw strings (e.g., a single quote in a single-quoted raw string).\n",
    "Here's how the above example would look using a raw string:\n",
    "pattern = r'\\\\[0-9]'\n",
    "In this case, the double backslash \\\\ is treated as a literal backslash in the raw string, which is exactly what we need in a regex pattern."
   ]
  },
  {
   "cell_type": "markdown",
   "id": "639a0b20-e784-42f1-9a26-74fa2b31c18f",
   "metadata": {},
   "source": [
    "## 3. What is the return value of the search() method?"
   ]
  },
  {
   "cell_type": "code",
   "execution_count": null,
   "id": "203918f5-9c09-44df-bfbb-5c76c0aea9fb",
   "metadata": {},
   "outputs": [],
   "source": [
    "#Solution\n",
    "The search() method in Python's re module is used to search for a pattern within a given string. It returns a match object if the pattern is found, and None if the pattern is not found in the string.\n",
    "The match object contains information about the first occurrence of the pattern in the string, such as the matched substring, its start and end positions in the string, and more. We can use the methods and attributes of the match object to access this information.\n",
    "Here's an example of using the search() method:\n",
    "    import re\n",
    "\n",
    "    text = \"The quick brown fox jumps over the lazy dog.\"\n",
    "\n",
    "    pattern = r'fox'\n",
    "\n",
    "    match = re.search(pattern, text)\n",
    "\n",
    "    if match:\n",
    "        print(\"Pattern found:\", match.group())\n",
    "        print(\"Start position:\", match.start())\n",
    "        print(\"End position:\", match.end())\n",
    "    else:\n",
    "        print(\"Pattern not found.\")\n",
    "Output:\n",
    "Pattern found: fox\n",
    "Start position: 16\n",
    "End position: 19\n",
    "In this example, the search() method searches for the pattern \"fox\" within the given text. Since the pattern is found in the text, the method returns a match object. The match.group() method retrieves the matched substring (\"fox\"), and the match.start() and match.end() methods give the start and end positions of the match within the original string."
   ]
  },
  {
   "cell_type": "markdown",
   "id": "d284e2a8-8922-49a5-bd82-4027ac856d24",
   "metadata": {},
   "source": [
    "## 4. From a Match item, how do you get the actual strings that match the pattern?"
   ]
  },
  {
   "cell_type": "code",
   "execution_count": null,
   "id": "19821ff3-fcf4-449d-98ee-64907dbbf235",
   "metadata": {},
   "outputs": [],
   "source": [
    "#Solution\n",
    "To get the actual strings that match the pattern from a Match object in Python's re module, we can use the group() method. The group() method returns the substring that was matched by the regular expression pattern. If capturing groups are used in the pattern, we can provide an argument to group() to specify which capturing group's match we want to retrieve.\n",
    "Here's an example:\n",
    "    import re\n",
    "\n",
    "    text = \"The price is $20 and the discount is $5.\"\n",
    "\n",
    "    # Pattern to match dollar amounts\n",
    "    pattern = r'\\$\\d+'\n",
    "\n",
    "    match = re.search(pattern, text)\n",
    "\n",
    "    if match:\n",
    "        matched_string = match.group()\n",
    "        print(\"Matched string:\", matched_string)\n",
    "    else:\n",
    "        print(\"Pattern not found.\")\n",
    "Output:\n",
    "Matched string: $20\n",
    "In this example, the search() method finds the first occurrence of a dollar amount using the pattern \\$\\d+, which matches a dollar sign followed by one or more digits. The match.group() method retrieves the matched substring, which is \"$20\" in this case.\n",
    "If we have capturing groups in our pattern (enclosed in parentheses), we can use numeric indices or names to refer to specific capturing groups. For example:\n",
    "    import re\n",
    "\n",
    "    text = \"John Doe: 25 years old, Jane Smith: 30 years old\"\n",
    "\n",
    "    # Pattern to match names and ages\n",
    "    pattern = r'(\\w+\\s\\w+): (\\d+) years old'\n",
    "\n",
    "    match = re.search(pattern, text)\n",
    "\n",
    "    if match:\n",
    "        name = match.group(1)\n",
    "        age = match.group(2)\n",
    "        print(\"Name:\", name)\n",
    "        print(\"Age:\", age)\n",
    "    else:\n",
    "        print(\"Pattern not found.\")\n",
    "Output:\n",
    "Name: John Doe\n",
    "Age: 25\n",
    "In this example, the pattern (\\w+\\s\\w+): (\\d+) years old captures both the name and age of individuals in the text. The match.group(1) retrieves the matched name, and match.group(2) retrieves the matched age."
   ]
  },
  {
   "cell_type": "markdown",
   "id": "684009f1-2934-4271-a744-bd56bfa5b206",
   "metadata": {},
   "source": [
    "## 5. In the regex which created from the r'(\\d\\d\\d)-(\\d\\d\\d-\\d\\d\\d\\d)';, what does group zero cover? Group 2? Group 1?"
   ]
  },
  {
   "cell_type": "code",
   "execution_count": null,
   "id": "d2081e91-c2e6-4e7d-b452-72ab66d78167",
   "metadata": {},
   "outputs": [],
   "source": [
    "#Solution\n",
    "In the regex pattern r'(\\d\\d\\d)-(\\d\\d\\d-\\d\\d\\d\\d)', the parentheses are used to define capturing groups within the pattern. Capturing groups allow us to extract specific portions of the matched string.\n",
    "In this pattern:\n",
    "1. Group 0 (also referred to as the whole match) covers the entire string that matches the pattern.\n",
    "2. Group 1 covers the portion matched by the first set of parentheses (\\d\\d\\d).\n",
    "3. Group 2 covers the portion matched by the second set of parentheses (\\d\\d\\d-\\d\\d\\d\\d).\n",
    "Here's an example to illustrate this:\n",
    "    import re\n",
    "\n",
    "    pattern = r'(\\d\\d\\d)-(\\d\\d\\d-\\d\\d\\d\\d)'\n",
    "    text = \"123-456-7890\"\n",
    "\n",
    "    match = re.match(pattern, text)\n",
    "\n",
    "    if match:\n",
    "        print(\"Group 0 (whole match):\", match.group(0))\n",
    "        print(\"Group 1:\", match.group(1))\n",
    "        print(\"Group 2:\", match.group(2))\n",
    "    else:\n",
    "        print(\"Pattern not found.\")\n",
    "Output:\n",
    "    Group 0 (whole match): 123-456-7890\n",
    "    Group 1: 123\n",
    "    Group 2: 456-7890\n",
    "In this example, the input text \"123-456-7890\" matches the pattern, and the groups are extracted as explained above. Group 0 (match.group(0)) covers the entire matched string, Group 1 (match.group(1)) corresponds to the first set of digits (123), and Group 2 (match.group(2)) corresponds to the second set of digits and hyphen (456-7890)."
   ]
  },
  {
   "cell_type": "markdown",
   "id": "37067d0a-1973-440c-bbec-c467ddd13508",
   "metadata": {},
   "source": [
    "## 6. In standard expression syntax, parentheses and intervals have distinct meanings. How can you tell a regex that you want it to fit real parentheses and periods?"
   ]
  },
  {
   "cell_type": "code",
   "execution_count": null,
   "id": "55450252-c545-4b46-93cf-4cc1ea6c1251",
   "metadata": {},
   "outputs": [],
   "source": []
  },
  {
   "cell_type": "markdown",
   "id": "64e0602c-04e3-4ac5-9bcc-dcc6fd3d5e3b",
   "metadata": {},
   "source": [
    "## 7.The findall() method returns a string list or a list of string tuples. What causes it to return one of the two options?"
   ]
  },
  {
   "cell_type": "code",
   "execution_count": null,
   "id": "5113e9e5-1ea1-4bd7-a945-3f57af6862d1",
   "metadata": {},
   "outputs": [],
   "source": []
  },
  {
   "cell_type": "markdown",
   "id": "e81a30d0-19fc-4f6c-9e27-ea6c0846bada",
   "metadata": {},
   "source": [
    "## 8.In standard expressions, what does the | character mean?"
   ]
  },
  {
   "cell_type": "code",
   "execution_count": null,
   "id": "57407a98-f3c5-4c69-b2c7-6b7d0ec46876",
   "metadata": {},
   "outputs": [],
   "source": []
  },
  {
   "cell_type": "markdown",
   "id": "8247c480-cbb0-4b00-ac81-9cc25a5ec706",
   "metadata": {},
   "source": [
    "## 9. In regular expressions, what does the character stand for?"
   ]
  },
  {
   "cell_type": "code",
   "execution_count": null,
   "id": "d2f490d5-7a22-4a01-a09d-bd9f5b416d80",
   "metadata": {},
   "outputs": [],
   "source": []
  },
  {
   "cell_type": "markdown",
   "id": "7b900b43-baab-4dc3-91a7-9e8273078664",
   "metadata": {},
   "source": [
    "## 10.In regular expressions, what is the difference between the + and * characters?"
   ]
  },
  {
   "cell_type": "code",
   "execution_count": null,
   "id": "958618db-e362-4366-a28f-fcc99cd050ea",
   "metadata": {},
   "outputs": [],
   "source": []
  },
  {
   "cell_type": "markdown",
   "id": "cc7b5807-cee6-46e5-8f13-6a2b1bc9142d",
   "metadata": {},
   "source": [
    "## 11. What is the difference between {4} and {4,5} in regular expression?"
   ]
  },
  {
   "cell_type": "code",
   "execution_count": null,
   "id": "9c3a2f06-eaad-4fb6-b55b-b0f960c3d64b",
   "metadata": {},
   "outputs": [],
   "source": []
  },
  {
   "cell_type": "markdown",
   "id": "f0110693-2ebc-49ad-95c7-2230e3b7a37b",
   "metadata": {},
   "source": [
    "## 12. What do you mean by the \\d, \\w, and \\s shorthand character classes signify in regular expressions?"
   ]
  },
  {
   "cell_type": "code",
   "execution_count": null,
   "id": "e14e855f-f2bb-4bd3-a4d6-dcae85965ec3",
   "metadata": {},
   "outputs": [],
   "source": []
  },
  {
   "cell_type": "markdown",
   "id": "ccede199-2071-44c3-a972-db27bd95fdd6",
   "metadata": {},
   "source": [
    "## 13. What do means by \\D, \\W, and \\S shorthand character classes signify in regular expressions?"
   ]
  },
  {
   "cell_type": "code",
   "execution_count": null,
   "id": "11b7fa92-c26a-41d3-8f3a-faf0531e943a",
   "metadata": {},
   "outputs": [],
   "source": []
  },
  {
   "cell_type": "markdown",
   "id": "1da98efd-3e3a-4309-8900-6efe08ab881c",
   "metadata": {},
   "source": [
    "## 14. What is the difference between . * ? and . * ?"
   ]
  },
  {
   "cell_type": "code",
   "execution_count": null,
   "id": "f418bde5-77e3-4d32-83d9-d3572cffb91d",
   "metadata": {},
   "outputs": [],
   "source": []
  },
  {
   "cell_type": "markdown",
   "id": "7d6ba379-85fc-47bd-b7b2-426214a937d1",
   "metadata": {},
   "source": [
    "## 15. What is the syntax for matching both numbers and lowercase letters with a character class?"
   ]
  },
  {
   "cell_type": "code",
   "execution_count": null,
   "id": "79afc3a5-e94b-4d96-bc65-1db3d7045d3b",
   "metadata": {},
   "outputs": [],
   "source": []
  },
  {
   "cell_type": "markdown",
   "id": "5712eed2-1af2-4968-9954-01acf9a0a2d7",
   "metadata": {},
   "source": [
    "## 16. What is the procedure for making a normal expression in regax case insensitive?"
   ]
  },
  {
   "cell_type": "code",
   "execution_count": null,
   "id": "e1c7ab0d-b0ee-405e-b0fc-3a2ca9443f35",
   "metadata": {},
   "outputs": [],
   "source": []
  },
  {
   "cell_type": "markdown",
   "id": "af220999-9926-48c8-955e-642a9ff7410a",
   "metadata": {},
   "source": [
    "## 17. What does the . character normally match? What does it match if re.DOTALL is passed as 2nd argument in re.compile()?"
   ]
  },
  {
   "cell_type": "code",
   "execution_count": null,
   "id": "e98ce001-fc95-45ce-8062-4c90d9f50143",
   "metadata": {},
   "outputs": [],
   "source": []
  },
  {
   "cell_type": "markdown",
   "id": "864436c3-d2c2-483f-ae75-8862bc7ddad8",
   "metadata": {},
   "source": [
    "## 18. If numReg = re.compile(r&#39;\\d+&#39;), what will numRegex.sub(&#39;X&#39;, &#39;11 drummers, 10 pipers, five rings, 4 hen&#39;) return?"
   ]
  },
  {
   "cell_type": "code",
   "execution_count": null,
   "id": "f8a810d9-6860-4a7a-9b93-81fa6bfa1694",
   "metadata": {},
   "outputs": [],
   "source": []
  },
  {
   "cell_type": "markdown",
   "id": "852c3176-c1d4-4521-ad91-600fbac5a63b",
   "metadata": {},
   "source": [
    "## 19. What does passing re.VERBOSE as the 2nd argument to re.compile() allow to do?"
   ]
  },
  {
   "cell_type": "code",
   "execution_count": null,
   "id": "0c892ab1-8394-4fa9-a6cc-34364b31aeed",
   "metadata": {},
   "outputs": [],
   "source": []
  },
  {
   "cell_type": "markdown",
   "id": "f06ef140-c7e7-4dfa-aa56-7c0f17b6ebe0",
   "metadata": {},
   "source": [
    "## 20. How would you write a regex that match a number with comma for every three digits? It must match the given following:\n",
    "    '42'\n",
    "    '1,234'\n",
    "    '6,368,745'\n",
    "    but not the following:\n",
    "    '12,34,567' (which has only two digits between the commas)\n",
    "    '1234'(which lacks commas)"
   ]
  },
  {
   "cell_type": "code",
   "execution_count": null,
   "id": "95321b33-7203-4dfe-bea6-236efc9d9bce",
   "metadata": {},
   "outputs": [],
   "source": []
  },
  {
   "cell_type": "markdown",
   "id": "a7fea930-7ba3-4311-b478-9139683ad9f8",
   "metadata": {},
   "source": [
    "## 21. How would you write a regex that matches the full name of someone whose last name is Watanabe? You can assume that the first name that comes before it will always be one word that begins with a capital letter. The regex must match the following:\n",
    "    'Haruto Watanabe'\n",
    "    'Alice Watanabe'\n",
    "    'RoboCop Watanabe'\n",
    "    but not the following:\n",
    "    'haruto Watanabe' (where the first name is not capitalized)\n",
    "    'Mr. Watanabe' (where the preceding word has a nonletter character)\n",
    "    'Watanabe' (which has no first name)\n",
    "    'Haruto watanabe' (where Watanabe is not capitalized)"
   ]
  },
  {
   "cell_type": "code",
   "execution_count": null,
   "id": "b3a4df1b-1c33-4fc1-b90b-93af923308aa",
   "metadata": {},
   "outputs": [],
   "source": []
  },
  {
   "cell_type": "markdown",
   "id": "8d1448e6-7ac8-4aa1-9790-7abfd1ea3a24",
   "metadata": {},
   "source": [
    "## 22. How would you write a regex that matches a sentence where the first word is either Alice, Bob, or Carol; the second word is either eats, pets, or throws; the third word is apples, cats, or baseballs; and the sentence ends with a period? This regex should be case-insensitive. It must match the following:\n",
    "    'Alice eats apples'\n",
    "    'Bob pets cats.'\n",
    "    'Carol throws baseballs'\n",
    "    'Alice throws Apples'\n",
    "    'BOB EATS CATS.'\n",
    "    but not the following:\n",
    "    'RoboCop eats apples'\n",
    "    'ALICE THROWS FOOTBALLS.'\n",
    "    'Carol eats 7 cats.'"
   ]
  },
  {
   "cell_type": "markdown",
   "id": "34df432e-82b0-4696-af87-d5f09cba47f9",
   "metadata": {},
   "source": []
  },
  {
   "cell_type": "code",
   "execution_count": null,
   "id": "2ae88793-78d3-46e4-b520-58c619e17496",
   "metadata": {},
   "outputs": [],
   "source": []
  }
 ],
 "metadata": {
  "kernelspec": {
   "display_name": "Python 3 (ipykernel)",
   "language": "python",
   "name": "python3"
  },
  "language_info": {
   "codemirror_mode": {
    "name": "ipython",
    "version": 3
   },
   "file_extension": ".py",
   "mimetype": "text/x-python",
   "name": "python",
   "nbconvert_exporter": "python",
   "pygments_lexer": "ipython3",
   "version": "3.10.6"
  }
 },
 "nbformat": 4,
 "nbformat_minor": 5
}
