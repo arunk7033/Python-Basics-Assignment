{
 "cells": [
  {
   "cell_type": "markdown",
   "id": "48e27239-3301-46a0-92bd-f3d65a9c7e96",
   "metadata": {},
   "source": [
    "# Assignment_8"
   ]
  },
  {
   "cell_type": "markdown",
   "id": "4faf62a9-ce79-4510-8a29-d791173c1049",
   "metadata": {},
   "source": [
    "##  1. Is the Python Standard Library included with PyInputPlus?"
   ]
  },
  {
   "cell_type": "code",
   "execution_count": null,
   "id": "2295f8d2-2db3-4031-a14b-e02c9f6b36d8",
   "metadata": {},
   "outputs": [],
   "source": [
    "#Solution\n",
    "PyInputPlus is not a part of the Python Standard Library, and it is not included with Python by default. It is a third-party library that provides enhanced input validation and handling for user inputs in Python programs. We need to install PyInputPlus separately if we want to use its features in our Python projects.\n",
    "We can install PyInputPlus using pip, a package manager for Python:\n",
    "    \n",
    "    pip install pyinputplus\n",
    "    \n",
    "Once installed, We can import and use PyInputPlus in our Python scripts to perform input validation and data type conversion with user inputs.\n",
    "    \n",
    "    import pyinputplus as pyip\n",
    "\n",
    "    # Example usage\n",
    "    result = pyip.inputNum(\"Enter a number: \")\n",
    "    print(\"You entered:\", result)"
   ]
  },
  {
   "cell_type": "markdown",
   "id": "60927b6b-7adf-4b55-9aa9-f93c5ac54081",
   "metadata": {},
   "source": [
    "## 2. Why is PyInputPlus commonly imported with import pyinputplus as pypi?"
   ]
  },
  {
   "cell_type": "code",
   "execution_count": null,
   "id": "7053bfa3-3e24-4049-99d3-166000bcefab",
   "metadata": {},
   "outputs": [],
   "source": [
    "#Solution\n",
    "PyInputPlus is commonly imported with the alias pyip (not pypi) for brevity and convenience. This alias allows us to use shorter and more concise code when working with PyInputPlus, making our code easier to read and write. It's a common convention in Python to use shorter aliases for frequently used libraries or modules to reduce typing and improve code readability."
   ]
  },
  {
   "cell_type": "markdown",
   "id": "639a0b20-e784-42f1-9a26-74fa2b31c18f",
   "metadata": {},
   "source": [
    "## 3. How do you distinguish between inputInt() and inputFloat()?"
   ]
  },
  {
   "cell_type": "code",
   "execution_count": null,
   "id": "203918f5-9c09-44df-bfbb-5c76c0aea9fb",
   "metadata": {},
   "outputs": [],
   "source": [
    "#Solution\n",
    "In PyInputPlus, we can use the inputInt() and inputFloat() functions to specifically ask the user for integer and floating-point (decimal) inputs, respectively. These functions have different validation rules for the types of input they accept.\n",
    "Here's how we can distinguish between inputInt() and inputFloat():\n",
    "\n",
    "1. inputInt(): This function is used when we want the user to provide an integer input. It will repeatedly prompt the user until they enter a valid integer (or a value that can be converted to an integer), and it won't accept decimal numbers or non-numeric input.\n",
    "Example:\n",
    "    import pyinputplus as pyip\n",
    "\n",
    "    integer_value = pyip.inputInt(\"Enter an integer: \")\n",
    "    print(\"You entered:\", integer_value)\n",
    "\n",
    "If the user enters a non-integer value or a decimal number, PyInputPlus will raise a pyinputplus.RetryLimitException by default after a few retries (we can customize the number of retries and error messages)\n",
    "\n",
    "2. inputFloat(): This function is used when you want the user to provide a floating-point (decimal) input. It will prompt the user for a valid float, accepting both integers and decimal numbers.\n",
    "Example:\n",
    "    import pyinputplus as pyip\n",
    "\n",
    "    float_value = pyip.inputFloat(\"Enter a float: \")\n",
    "    print(\"You entered:\", float_value)\n",
    "    \n",
    "inputFloat() allows the user to enter both integers and decimal numbers. If the user enters a non-numeric value, PyInputPlus will handle it according to its default or customized error handling behavior. "
   ]
  },
  {
   "cell_type": "markdown",
   "id": "d284e2a8-8922-49a5-bd82-4027ac856d24",
   "metadata": {},
   "source": [
    "## 4. Using PyInputPlus, how do you ensure that the user enters a whole number between 0 and 99?"
   ]
  },
  {
   "cell_type": "code",
   "execution_count": null,
   "id": "19821ff3-fcf4-449d-98ee-64907dbbf235",
   "metadata": {},
   "outputs": [],
   "source": [
    "#Solution\n",
    "We can use PyInputPlus to ensure that the user enters a whole number between 0 and 99 by specifying the min and max arguments in the inputInt() function. Here's an example of how to achieve this:\n",
    "\n",
    "import pyinputplus as pyip\n",
    "\n",
    "# Get input from the user, ensuring it's a whole number between 0 and 99\n",
    "user_input = pyip.inputInt(\"Enter a whole number between 0 and 99: \", min=0, max=99)\n",
    "\n",
    "# Print the user's valid input\n",
    "print(\"You entered:\", user_input)\n",
    "\n",
    "If the user enters a value outside the specified range (less than 0 or greater than 99), PyInputPlus will keep prompting the user until they provide a valid input within the specified range."
   ]
  },
  {
   "cell_type": "markdown",
   "id": "684009f1-2934-4271-a744-bd56bfa5b206",
   "metadata": {},
   "source": [
    "## 5. What is transferred to the keyword arguments allowRegexes and blockRegexes?"
   ]
  },
  {
   "cell_type": "code",
   "execution_count": null,
   "id": "d2081e91-c2e6-4e7d-b452-72ab66d78167",
   "metadata": {},
   "outputs": [],
   "source": [
    "#Solution\n",
    "In PyInputPlus, the allowRegexes and blockRegexes keyword arguments are used to specify regular expressions that control which input values are allowed and which are blocked. These arguments are used to define patterns that the user's input must match or not match, respectively.\n",
    "Here's an explanation of what is transferred to these keyword arguments:\n",
    "\n",
    "1. allowRegexes:\n",
    "* This keyword argument accepts a list of regular expressions (as strings).\n",
    "* We can provide one or more regular expressions that define patterns for allowed input values.\n",
    "* If the user's input matches any of the regular expressions provided in allowRegexes, it is considered valid.\n",
    "For example, if we want to allow inputs that start with the letter \"A\" or contain only digits, we can specify it like this:\n",
    "    \n",
    "    allowed_patterns = ['^A', '^\\d+$']\n",
    "    user_input = pyip.inputStr(\"Enter input: \", allowRegexes=allowed_patterns)\n",
    "    \n",
    "2. blockRegexes:\n",
    "* This keyword argument also accepts a list of regular expressions (as strings).\n",
    "* We can provide one or more regular expressions that define patterns for blocked input values.\n",
    "* If the user's input matches any of the regular expressions provided in blockRegexes, it is considered invalid, and PyInputPlus will keep prompting the user until they provide a valid input.\n",
    "For example, if we want to block inputs that contain any whitespace or special characters, we can specify it like this:\n",
    "    \n",
    "    blocked_patterns = ['\\s', '[!@#\\$%^&*()]']\n",
    "    user_input = pyip.inputStr(\"Enter input: \", blockRegexes=blocked_patterns)\n",
    "    "
   ]
  },
  {
   "cell_type": "markdown",
   "id": "37067d0a-1973-440c-bbec-c467ddd13508",
   "metadata": {},
   "source": [
    "## 6. If a blank input is entered three times, what does inputStr(limit=3) do?"
   ]
  },
  {
   "cell_type": "code",
   "execution_count": null,
   "id": "55450252-c545-4b46-93cf-4cc1ea6c1251",
   "metadata": {},
   "outputs": [],
   "source": [
    "#Solution\n",
    "If a blank input (empty string) is entered three times when using inputStr(limit=3), PyInputPlus will raise a pyinputplus.RetryLimitException after the third blank input. This exception is raised when the user exceeds the specified limit for retries without providing valid input.\n",
    "Here's an example of how inputStr(limit=3) behaves when three consecutive blank inputs are entered:\n",
    "\n",
    "    import pyinputplus as pyip\n",
    "\n",
    "    try:\n",
    "        user_input = pyip.inputStr(\"Enter input: \", limit=3)\n",
    "        print(\"You entered:\", user_input)\n",
    "    except pyip.RetryLimitException:\n",
    "        print(\"Retry limit exceeded. You did not provide valid input.\")\n",
    " \n",
    "If the user enters a blank input three times in a row, the pyinputplus.RetryLimitException will be raised, indicating that the retry limit has been exceeded."
   ]
  },
  {
   "cell_type": "markdown",
   "id": "64e0602c-04e3-4ac5-9bcc-dcc6fd3d5e3b",
   "metadata": {},
   "source": [
    "## 7. If blank input is entered three times, what does inputStr(limit=3, default=&#39;hello&#39;) do?"
   ]
  },
  {
   "cell_type": "code",
   "execution_count": null,
   "id": "5113e9e5-1ea1-4bd7-a945-3f57af6862d1",
   "metadata": {},
   "outputs": [],
   "source": [
    "#Solution\n",
    "If blank input is entered three times when using inputStr(limit=3, default='hello'), PyInputPlus will not raise a pyinputplus.RetryLimitException. Instead, it will return the default value, which is 'hello' in this case, after the third blank input.\n",
    "Here's an example of how inputStr(limit=3, default='hello') behaves when three consecutive blank inputs are entered:\n",
    "\n",
    "    import pyinputplus as pyip\n",
    "\n",
    "    user_input = pyip.inputStr(\"Enter input: \", limit=3, default='hello')\n",
    "    print(\"You entered:\", user_input)\n",
    "    \n",
    "If the user enters a blank input three times in a row, PyInputPlus will not raise a retry limit exception. Instead, it will return the default value 'hello'.\n",
    "Setting a default value allows us to provide a fallback option when the user doesn't provide valid input within the specified limit."
   ]
  }
 ],
 "metadata": {
  "kernelspec": {
   "display_name": "Python 3 (ipykernel)",
   "language": "python",
   "name": "python3"
  },
  "language_info": {
   "codemirror_mode": {
    "name": "ipython",
    "version": 3
   },
   "file_extension": ".py",
   "mimetype": "text/x-python",
   "name": "python",
   "nbconvert_exporter": "python",
   "pygments_lexer": "ipython3",
   "version": "3.10.6"
  }
 },
 "nbformat": 4,
 "nbformat_minor": 5
}
