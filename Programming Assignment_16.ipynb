{
 "cells": [
  {
   "cell_type": "markdown",
   "id": "0cdc6190-882a-4b8e-ae89-dfda87c34f0a",
   "metadata": {},
   "source": [
    "## Programming Assignment_16"
   ]
  },
  {
   "cell_type": "code",
   "execution_count": null,
   "id": "c2afa538-47c9-4880-9719-d3c3ca1b956e",
   "metadata": {},
   "outputs": [],
   "source": [
    "Question1. Write a function that stutters a word as if someone is struggling to read it. The\n",
    "first two letters are repeated twice with an ellipsis ... and space after each, and then the\n",
    "word is pronounced with a question mark ?.\n",
    "Examples\n",
    "stutter(\"incredible\") ➞ in... in... incredible?\n",
    "stutter(\"enthusiastic\") ➞ en... en... enthusiastic?\n",
    "stutter(\"outstanding\") ➞ ou... ou... outstanding?\n",
    "\n",
    "Hint :- Assume all input is in lower case and at least two characters long."
   ]
  },
  {
   "cell_type": "code",
   "execution_count": 1,
   "id": "1305856c-6a5b-4c03-9a3d-11f9a7c59451",
   "metadata": {},
   "outputs": [
    {
     "name": "stdout",
     "output_type": "stream",
     "text": [
      "in... in... incredible?\n",
      "en... en... enthusiastic?\n",
      "ou... ou... outstanding?\n"
     ]
    }
   ],
   "source": [
    "#Solution:\n",
    "def stutter(word):\n",
    "    if len(word) >= 2:\n",
    "        stuttered_word = f\"{word[:2]}... {word[:2]}... {word}?\"\n",
    "        return stuttered_word\n",
    "    else:\n",
    "        return \"Word should be at least two characters long.\"\n",
    "\n",
    "# Examples\n",
    "print(stutter(\"incredible\"))\n",
    "print(stutter(\"enthusiastic\"))\n",
    "print(stutter(\"outstanding\"))"
   ]
  },
  {
   "cell_type": "code",
   "execution_count": null,
   "id": "04af6af6-baa5-4870-8f23-fc3e0fc5d4d6",
   "metadata": {},
   "outputs": [],
   "source": [
    "Question 2.Create a function that takes an angle in radians and returns the corresponding\n",
    "angle in degrees rounded to one decimal place.\n",
    "Examples\n",
    "radians_to_degrees(1) ➞ 57.3\n",
    "radians_to_degrees(20) ➞ 1145.9\n",
    "radians_to_degrees(50) ➞ 2864.8"
   ]
  },
  {
   "cell_type": "code",
   "execution_count": 2,
   "id": "329f75c9-1871-4d7b-bd5e-a69079e024dd",
   "metadata": {},
   "outputs": [
    {
     "name": "stdout",
     "output_type": "stream",
     "text": [
      "57.3\n",
      "1145.9\n",
      "2864.8\n"
     ]
    }
   ],
   "source": [
    "#Solution:\n",
    "import math\n",
    "\n",
    "def radians_to_degrees(radians):\n",
    "    degrees = math.degrees(radians)\n",
    "    rounded_degrees = round(degrees, 1)\n",
    "    return rounded_degrees\n",
    "\n",
    "# Examples\n",
    "print(radians_to_degrees(1))\n",
    "print(radians_to_degrees(20))\n",
    "print(radians_to_degrees(50))"
   ]
  },
  {
   "cell_type": "code",
   "execution_count": null,
   "id": "d6abe08e-d017-43c1-b2fc-15e8f7bc290e",
   "metadata": {},
   "outputs": [],
   "source": [
    "Question 3. In this challenge, establish if a given integer num is a Curzon number. If 1 plus\n",
    "2 elevated to num is exactly divisible by 1 plus 2 multiplied by num, then num is a Curzon\n",
    "number.\n",
    "Given a non-negative integer num, implement a function that returns True if num is a Curzon\n",
    "number, or False otherwise.\n",
    "Examples\n",
    "is_curzon(5) ➞ True\n",
    "# 2 ** 5 + 1 = 33\n",
    "# 2 * 5 + 1 = 11\n",
    "# 33 is a multiple of 11\n",
    "is_curzon(10) ➞ False\n",
    "# 2 ** 10 + 1 = 1025\n",
    "# 2 * 10 + 1 = 21\n",
    "# 1025 is not a multiple of 21\n",
    "is_curzon(14) ➞ True\n",
    "# 2 ** 14 + 1 = 16385\n",
    "# 2 * 14 + 1 = 29\n",
    "# 16385 is a multiple of 29"
   ]
  },
  {
   "cell_type": "code",
   "execution_count": 3,
   "id": "3ddb9ff6-dfe5-41ca-bfa7-6c4b7091118e",
   "metadata": {},
   "outputs": [
    {
     "name": "stdout",
     "output_type": "stream",
     "text": [
      "True\n",
      "False\n",
      "True\n"
     ]
    }
   ],
   "source": [
    "#Solution:\n",
    "def is_curzon(num):\n",
    "    numerator = 2**num + 1\n",
    "    denominator = 2*num + 1\n",
    "\n",
    "    return numerator % denominator == 0\n",
    "\n",
    "# Examples\n",
    "print(is_curzon(5))  # True\n",
    "print(is_curzon(10))  # False\n",
    "print(is_curzon(14))  # True"
   ]
  },
  {
   "cell_type": "code",
   "execution_count": null,
   "id": "30909c4a-729d-4e0c-bd43-7e976a4dce63",
   "metadata": {},
   "outputs": [],
   "source": [
    "Question 4.Given the side length x find the area of a hexagon.\n",
    "Examples\n",
    "area_of_hexagon(1) ➞ 2.6\n",
    "area_of_hexagon(2) ➞ 10.4\n",
    "area_of_hexagon(3) ➞ 23.4"
   ]
  },
  {
   "cell_type": "code",
   "execution_count": 4,
   "id": "7a4c9ef8-e3cb-40f0-bb2c-98a9d0a0a42c",
   "metadata": {},
   "outputs": [
    {
     "name": "stdout",
     "output_type": "stream",
     "text": [
      "2.6\n",
      "10.4\n",
      "23.4\n"
     ]
    }
   ],
   "source": [
    "#Solution:\n",
    "import math\n",
    "\n",
    "def area_of_hexagon(x):\n",
    "    area = (3 * math.sqrt(3) / 2) * x**2\n",
    "    return round(area, 1)\n",
    "\n",
    "# Examples\n",
    "print(area_of_hexagon(1))  # 2.6\n",
    "print(area_of_hexagon(2))  # 10.4\n",
    "print(area_of_hexagon(3))  # 23.4"
   ]
  },
  {
   "cell_type": "code",
   "execution_count": null,
   "id": "ac786760-b777-4ce1-bdfe-e93b1d903140",
   "metadata": {},
   "outputs": [],
   "source": [
    "Question 5. Create a function that returns a base-2 (binary) representation of a base-10\n",
    "(decimal) string number. To convert is simple: ((2) means base-2 and (10) means base-10)\n",
    "010101001(2) = 1 + 8 + 32 + 128.\n",
    "Going from right to left, the value of the most right bit is 1, now from that every bit to the left\n",
    "will be x2 the value, value of an 8 bit binary numbers are (256, 128, 64, 32, 16, 8, 4, 2, 1).\n",
    "Examples\n",
    "binary(1) ➞ 1\n",
    "# 1*1 = 1\n",
    "binary(5) ➞ 101\n",
    "# 1*1 + 1*4 = 5\n",
    "binary(10) ➞ 1010\n",
    "# 1*2 + 1*8 = 10"
   ]
  },
  {
   "cell_type": "code",
   "execution_count": 5,
   "id": "a3a1dad9-8eb2-4c34-907c-c26de4f7f1ec",
   "metadata": {},
   "outputs": [
    {
     "name": "stdout",
     "output_type": "stream",
     "text": [
      "1\n",
      "101\n",
      "1010\n"
     ]
    }
   ],
   "source": [
    "#Solution:\n",
    "def binary(decimal):\n",
    "    if decimal == 0:\n",
    "        return \"0\"\n",
    "\n",
    "    binary_representation = \"\"\n",
    "    while decimal > 0:\n",
    "        remainder = decimal % 2\n",
    "        binary_representation = str(remainder) + binary_representation\n",
    "        decimal //= 2\n",
    "\n",
    "    return binary_representation\n",
    "\n",
    "# Examples\n",
    "print(binary(1))   # \"1\"\n",
    "print(binary(5))   # \"101\"\n",
    "print(binary(10))  # \"1010\""
   ]
  }
 ],
 "metadata": {
  "kernelspec": {
   "display_name": "Python 3 (ipykernel)",
   "language": "python",
   "name": "python3"
  },
  "language_info": {
   "codemirror_mode": {
    "name": "ipython",
    "version": 3
   },
   "file_extension": ".py",
   "mimetype": "text/x-python",
   "name": "python",
   "nbconvert_exporter": "python",
   "pygments_lexer": "ipython3",
   "version": "3.10.6"
  }
 },
 "nbformat": 4,
 "nbformat_minor": 5
}
