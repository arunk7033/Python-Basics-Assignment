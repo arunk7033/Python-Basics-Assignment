{
 "cells": [
  {
   "cell_type": "code",
   "execution_count": null,
   "id": "beb93ec5-656c-4206-ab5b-e8df5f03ba78",
   "metadata": {},
   "outputs": [],
   "source": [
    "1. Write a Python program to convert kilometers to miles?"
   ]
  },
  {
   "cell_type": "code",
   "execution_count": 4,
   "id": "1282dcd0-39fd-4b55-81f6-f4340c75c094",
   "metadata": {},
   "outputs": [
    {
     "name": "stdin",
     "output_type": "stream",
     "text": [
      "Enter the distance in kilometers:  2\n"
     ]
    },
    {
     "name": "stdout",
     "output_type": "stream",
     "text": [
      "Distance in miles: 1.242742\n"
     ]
    }
   ],
   "source": [
    "#Solution:\n",
    "    \n",
    "def km_to_miles(kilometers):\n",
    "    # Conversion factor for kilometers to miles\n",
    "    conversion_factor = 0.621371\n",
    "\n",
    "    # Calculate miles\n",
    "    miles = kilometers * conversion_factor\n",
    "\n",
    "    return miles\n",
    "\n",
    "# Get the distance in kilometers from the user\n",
    "kilometers = float(input(\"Enter the distance in kilometers: \"))\n",
    "\n",
    "# Convert kilometers to miles\n",
    "miles = km_to_miles(kilometers)\n",
    "\n",
    "# Print the converted distance in miles\n",
    "print(\"Distance in miles:\", miles)\n"
   ]
  },
  {
   "cell_type": "code",
   "execution_count": null,
   "id": "f1393895-145b-42d8-b2b8-b03532c342d0",
   "metadata": {},
   "outputs": [],
   "source": [
    "2. Write a Python program to convert Celsius to Fahrenheit?"
   ]
  },
  {
   "cell_type": "code",
   "execution_count": 8,
   "id": "fb635bfd-40ab-46c2-acae-2d9c3af37784",
   "metadata": {},
   "outputs": [
    {
     "name": "stdin",
     "output_type": "stream",
     "text": [
      "Enter the temperature in Celsius:  39\n"
     ]
    },
    {
     "name": "stdout",
     "output_type": "stream",
     "text": [
      "Temperature in Fahrenheit: 102.2\n"
     ]
    }
   ],
   "source": [
    "#Solution:\n",
    "\n",
    "def celsius_to_fahrenheit(celsius):\n",
    "    # Conversion formula for Celsius to Fahrenheit\n",
    "    fahrenheit = (celsius * 9/5) + 32\n",
    "    return fahrenheit\n",
    "\n",
    "# Get the temperature in Celsius from the user\n",
    "celsius = float(input(\"Enter the temperature in Celsius: \"))\n",
    "\n",
    "# Convert Celsius to Fahrenheit\n",
    "fahrenheit = celsius_to_fahrenheit(celsius)\n",
    "\n",
    "# Print the converted temperature in Fahrenheit\n",
    "print(\"Temperature in Fahrenheit:\", fahrenheit)\n"
   ]
  },
  {
   "cell_type": "code",
   "execution_count": null,
   "id": "4cc7da6f-5a27-43f5-a8c8-f1fdc864d551",
   "metadata": {},
   "outputs": [],
   "source": [
    "3. Write a Python program to display calendar?"
   ]
  },
  {
   "cell_type": "code",
   "execution_count": 9,
   "id": "0a0850d8-7926-4cba-8bb4-ba796738fad7",
   "metadata": {},
   "outputs": [
    {
     "name": "stdin",
     "output_type": "stream",
     "text": [
      "Enter the year:  2023\n",
      "Enter the month (1-12):  6\n"
     ]
    },
    {
     "name": "stdout",
     "output_type": "stream",
     "text": [
      "     June 2023\n",
      "Mo Tu We Th Fr Sa Su\n",
      "          1  2  3  4\n",
      " 5  6  7  8  9 10 11\n",
      "12 13 14 15 16 17 18\n",
      "19 20 21 22 23 24 25\n",
      "26 27 28 29 30\n",
      "\n"
     ]
    }
   ],
   "source": [
    "#Solution:\n",
    "    \n",
    "import calendar\n",
    "\n",
    "# Get the month and year from the user\n",
    "year = int(input(\"Enter the year: \"))\n",
    "month = int(input(\"Enter the month (1-12): \"))\n",
    "\n",
    "# Display the calendar\n",
    "print(calendar.month(year, month))\n"
   ]
  },
  {
   "cell_type": "code",
   "execution_count": null,
   "id": "28bcee49-5901-4ade-94c2-278d4575f756",
   "metadata": {},
   "outputs": [],
   "source": [
    "4. Write a Python program to solve quadratic equation?"
   ]
  },
  {
   "cell_type": "code",
   "execution_count": 13,
   "id": "0e04bbfd-56ac-422c-aa45-348bff45e849",
   "metadata": {},
   "outputs": [
    {
     "name": "stdin",
     "output_type": "stream",
     "text": [
      "Enter the coefficient of x^2:  1\n",
      "Enter the coefficient of x:  1\n",
      "Enter the constant term:  7\n"
     ]
    },
    {
     "name": "stdout",
     "output_type": "stream",
     "text": [
      "Root 1: (-0.5+2.598076211353316j)\n",
      "Root 2: (-0.5-2.598076211353316j)\n"
     ]
    }
   ],
   "source": [
    "#Solution:\n",
    "\n",
    "import cmath\n",
    "\n",
    "def solve_quadratic_equation(a, b, c):\n",
    "    # Calculate the discriminant\n",
    "    discriminant = (b ** 2) - (4 * a * c)\n",
    "\n",
    "    # Check if the equation has real roots\n",
    "    if discriminant >= 0:\n",
    "        # Calculate the two roots\n",
    "        root1 = (-b + cmath.sqrt(discriminant)) / (2 * a)\n",
    "        root2 = (-b - cmath.sqrt(discriminant)) / (2 * a)\n",
    "\n",
    "        return root1, root2\n",
    "\n",
    "    else:\n",
    "        # Calculate the two complex roots\n",
    "        real_part = -b / (2 * a)\n",
    "        imaginary_part = cmath.sqrt(-discriminant) / (2 * a)\n",
    "        complex_root1 = complex(real_part, imaginary_part)\n",
    "        complex_root2 = complex(real_part, -imaginary_part)\n",
    "\n",
    "        return complex_root1, complex_root2\n",
    "\n",
    "# Get the coefficients of the quadratic equation from the user\n",
    "a = float(input(\"Enter the coefficient of x^2: \"))\n",
    "b = float(input(\"Enter the coefficient of x: \"))\n",
    "c = float(input(\"Enter the constant term: \"))\n",
    "\n",
    "# Solve the quadratic equation\n",
    "roots = solve_quadratic_equation(a, b, c)\n",
    "\n",
    "# Print the roots of the equation\n",
    "print(\"Root 1:\", roots[0])\n",
    "print(\"Root 2:\", roots[1])"
   ]
  },
  {
   "cell_type": "code",
   "execution_count": null,
   "id": "5e62367e-49ba-4b7c-a96f-130b93c4ed9f",
   "metadata": {},
   "outputs": [],
   "source": [
    "5. Write a Python program to swap two variables without temp variable?"
   ]
  },
  {
   "cell_type": "code",
   "execution_count": 16,
   "id": "9f7d5eac-faf2-49cb-ba14-c42f4e9fd5c5",
   "metadata": {},
   "outputs": [
    {
     "name": "stdin",
     "output_type": "stream",
     "text": [
      "Enter the value of variable 1:  2\n",
      "Enter the value of variable 2:  4\n"
     ]
    },
    {
     "name": "stdout",
     "output_type": "stream",
     "text": [
      "Original values:\n",
      "Variable 1: 2\n",
      "Variable 2: 4\n",
      "Swapped values:\n",
      "Variable 1: 4\n",
      "Variable 2: 2\n"
     ]
    }
   ],
   "source": [
    "#Solution:\n",
    "def swap_variables(a, b):\n",
    "    a = a + b\n",
    "    b = a - b\n",
    "    a = a - b\n",
    "    return a, b\n",
    "\n",
    "# Get the values of the variables from the user\n",
    "variable1 = int(input(\"Enter the value of variable 1: \"))\n",
    "variable2 = int(input(\"Enter the value of variable 2: \"))\n",
    "\n",
    "# Print the original values of the variables\n",
    "print(\"Original values:\")\n",
    "print(\"Variable 1:\", variable1)\n",
    "print(\"Variable 2:\", variable2)\n",
    "\n",
    "# Swap the variables using the swap_variables function\n",
    "variable1, variable2 = swap_variables(variable1, variable2)\n",
    "\n",
    "# Print the swapped values of the variables\n",
    "print(\"Swapped values:\")\n",
    "print(\"Variable 1:\", variable1)\n",
    "print(\"Variable 2:\", variable2)\n"
   ]
  },
  {
   "cell_type": "code",
   "execution_count": null,
   "id": "19bdc2f5-24da-43cd-b474-b0977d3ad9c8",
   "metadata": {},
   "outputs": [],
   "source": []
  }
 ],
 "metadata": {
  "kernelspec": {
   "display_name": "Python 3 (ipykernel)",
   "language": "python",
   "name": "python3"
  },
  "language_info": {
   "codemirror_mode": {
    "name": "ipython",
    "version": 3
   },
   "file_extension": ".py",
   "mimetype": "text/x-python",
   "name": "python",
   "nbconvert_exporter": "python",
   "pygments_lexer": "ipython3",
   "version": "3.10.6"
  }
 },
 "nbformat": 4,
 "nbformat_minor": 5
}
