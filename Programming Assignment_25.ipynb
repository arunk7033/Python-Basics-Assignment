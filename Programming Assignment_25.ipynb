{
 "cells": [
  {
   "cell_type": "markdown",
   "id": "0cdc6190-882a-4b8e-ae89-dfda87c34f0a",
   "metadata": {},
   "source": [
    "## Programming Assignment_25"
   ]
  },
  {
   "cell_type": "code",
   "execution_count": null,
   "id": "c2afa538-47c9-4880-9719-d3c3ca1b956e",
   "metadata": {},
   "outputs": [],
   "source": [
    "Question1\n",
    "Create a function that takes three integer arguments (a, b, c) and returns the amount of\n",
    "integers which are of equal value.\n",
    "Examples\n",
    "equal(3, 4, 3) ➞ 2\n",
    "equal(1, 1, 1) ➞ 3\n",
    "equal(3, 4, 1) ➞ 0\n",
    "Notes\n",
    "Your function must return 0, 2 or 3."
   ]
  },
  {
   "cell_type": "code",
   "execution_count": 1,
   "id": "249786c0-eda3-4f08-897f-7d3fa8eef16c",
   "metadata": {},
   "outputs": [
    {
     "name": "stdout",
     "output_type": "stream",
     "text": [
      "2\n",
      "3\n",
      "0\n"
     ]
    }
   ],
   "source": [
    "#Solution:\n",
    "def equal(a, b, c):\n",
    "    # Check the equality of the three integers\n",
    "    if a == b == c:\n",
    "        return 3\n",
    "    elif a == b or a == c or b == c:\n",
    "        return 2\n",
    "    else:\n",
    "        return 0\n",
    "\n",
    "# Test cases\n",
    "print(equal(3, 4, 3))  # Output: 2\n",
    "print(equal(1, 1, 1))  # Output: 3\n",
    "print(equal(3, 4, 1))  # Output: 0"
   ]
  },
  {
   "cell_type": "code",
   "execution_count": null,
   "id": "04af6af6-baa5-4870-8f23-fc3e0fc5d4d6",
   "metadata": {},
   "outputs": [],
   "source": [
    "Question2\n",
    "Write a function that converts a dictionary into a list of keys-values tuples.\n",
    "Examples\n",
    "dict_to_list({\n",
    "\"D\": 1,\n",
    "\"B\": 2,\n",
    "\"C\": 3\n",
    "}) ➞ [(\"B\", 2), (\"C\", 3), (\"D\", 1)]\n",
    "dict_to_list({\n",
    "\"likes\": 2,\n",
    "\"dislikes\": 3,\n",
    "\"followers\": 10\n",
    "}) ➞ [(\"dislikes\", 3), (\"followers\", 10), (\"likes\", 2)]\n",
    "Notes\n",
    "Return the elements in the list in alphabetical order."
   ]
  },
  {
   "cell_type": "code",
   "execution_count": 2,
   "id": "75a09c41-d5b1-4be1-afbf-2c4cb7a9928f",
   "metadata": {},
   "outputs": [
    {
     "name": "stdout",
     "output_type": "stream",
     "text": [
      "[('B', 2), ('C', 3), ('D', 1)]\n",
      "[('dislikes', 3), ('followers', 10), ('likes', 2)]\n"
     ]
    }
   ],
   "source": [
    "#Solution:\n",
    "def dict_to_list(dictionary):\n",
    "    # Use sorted() to sort the dictionary items alphabetically\n",
    "    sorted_tuples = sorted(dictionary.items())\n",
    "    \n",
    "    return sorted_tuples\n",
    "\n",
    "# Test cases\n",
    "print(dict_to_list({\"D\": 1, \"B\": 2, \"C\": 3}))\n",
    "# Output: [(\"B\", 2), (\"C\", 3), (\"D\", 1)]\n",
    "\n",
    "print(dict_to_list({\"likes\": 2, \"dislikes\": 3, \"followers\": 10}))\n",
    "# Output: [(\"dislikes\", 3), (\"followers\", 10), (\"likes\", 2)]"
   ]
  },
  {
   "cell_type": "code",
   "execution_count": null,
   "id": "d6abe08e-d017-43c1-b2fc-15e8f7bc290e",
   "metadata": {},
   "outputs": [],
   "source": [
    "Question3\n",
    "Write a function that creates a dictionary with each (key, value) pair being the (lower case,\n",
    "upper case) versions of a letter, respectively.\n",
    "Examples\n",
    "mapping([\"p\", \"s\"]) ➞ { \"p\": \"P\", \"s\": \"S\" }\n",
    "mapping([\"a\", \"b\", \"c\"]) ➞ { \"a\": \"A\", \"b\": \"B\", \"c\": \"C\" }\n",
    "mapping([\"a\", \"v\", \"y\", \"z\"]) ➞ { \"a\": \"A\", \"v\": \"V\", \"y\": \"Y\", \"z\": \"Z\" }\n",
    "Notes\n",
    "All of the letters in the input list will always be lowercase."
   ]
  },
  {
   "cell_type": "code",
   "execution_count": 3,
   "id": "5d6cedb0-1f6d-4692-b5fc-ee619eeb1b4b",
   "metadata": {},
   "outputs": [
    {
     "name": "stdout",
     "output_type": "stream",
     "text": [
      "{'p': 'P', 's': 'S'}\n",
      "{'a': 'A', 'b': 'B', 'c': 'C'}\n",
      "{'a': 'A', 'v': 'V', 'y': 'Y', 'z': 'Z'}\n"
     ]
    }
   ],
   "source": [
    "#Solution:\n",
    "def mapping(letters):\n",
    "    # Use dictionary comprehension to create the mapping\n",
    "    result_dict = {letter: letter.upper() for letter in letters}\n",
    "    return result_dict\n",
    "\n",
    "# Test cases\n",
    "print(mapping([\"p\", \"s\"]))\n",
    "# Output: { \"p\": \"P\", \"s\": \"S\" }\n",
    "\n",
    "print(mapping([\"a\", \"b\", \"c\"]))\n",
    "# Output: { \"a\": \"A\", \"b\": \"B\", \"c\": \"C\" }\n",
    "\n",
    "print(mapping([\"a\", \"v\", \"y\", \"z\"]))\n",
    "# Output: { \"a\": \"A\", \"v\": \"V\", \"y\": \"Y\", \"z\": \"Z\" }"
   ]
  },
  {
   "cell_type": "code",
   "execution_count": null,
   "id": "30909c4a-729d-4e0c-bd43-7e976a4dce63",
   "metadata": {},
   "outputs": [],
   "source": [
    "Question4\n",
    "Write a function, that replaces all vowels in a string with a specified vowel.\n",
    "Examples\n",
    "vow_replace(\"apples and bananas\", \"u\") ➞ \"upplus und bununus\"\n",
    "vow_replace(\"cheese casserole\", \"o\") ➞ \"chooso cossorolo\"\n",
    "vow_replace(\"stuffed jalapeno poppers\", \"e\") ➞ \"steffed jelepene peppers\"\n",
    "Notes\n",
    "All words will be lowercase. Y is not considered a vowel."
   ]
  },
  {
   "cell_type": "code",
   "execution_count": 4,
   "id": "d4b7034b-090d-424d-b3ae-20630a387fa8",
   "metadata": {},
   "outputs": [
    {
     "name": "stdout",
     "output_type": "stream",
     "text": [
      "upplus und bununus\n",
      "chooso cossorolo\n",
      "steffed jelepene peppers\n"
     ]
    }
   ],
   "source": [
    "#Solution:\n",
    "def vow_replace(input_string, new_vowel):\n",
    "    # Use a list comprehension to replace vowels with the specified vowel\n",
    "    result_string = ''.join(new_vowel if char in 'aeiou' else char for char in input_string)\n",
    "    return result_string\n",
    "\n",
    "# Test cases\n",
    "print(vow_replace(\"apples and bananas\", \"u\"))\n",
    "# Output: \"upplus und bununus\"\n",
    "\n",
    "print(vow_replace(\"cheese casserole\", \"o\"))\n",
    "# Output: \"chooso cossorolo\"\n",
    "\n",
    "print(vow_replace(\"stuffed jalapeno poppers\", \"e\"))\n",
    "# Output: \"steffed jelepene peppers\""
   ]
  },
  {
   "cell_type": "code",
   "execution_count": null,
   "id": "ac786760-b777-4ce1-bdfe-e93b1d903140",
   "metadata": {},
   "outputs": [],
   "source": [
    "Question5\n",
    "Create a function that takes a string as input and capitalizes a letter if its ASCII code is even\n",
    "and returns its lower case version if its ASCII code is odd.\n",
    "Examples\n",
    "ascii_capitalize(\"to be or not to be!\") ➞ \"To Be oR NoT To Be!\"\n",
    "ascii_capitalize(\"THE LITTLE MERMAID\") ➞ \"THe LiTTLe meRmaiD\"\n",
    "ascii_capitalize(\"Oh what a beautiful morning\") ➞ \"oH wHaT a BeauTiFuL moRNiNg\""
   ]
  },
  {
   "cell_type": "code",
   "execution_count": 5,
   "id": "815ea780-3ef3-4629-adf7-ac5aa25a3b90",
   "metadata": {},
   "outputs": [
    {
     "name": "stdout",
     "output_type": "stream",
     "text": [
      "To Be oR NoT To Be!\n",
      "THe LiTTLe meRmaiD\n",
      "oH wHaT a BeauTiFuL moRNiNg\n"
     ]
    }
   ],
   "source": [
    "#Solution:\n",
    "def ascii_capitalize(input_string):\n",
    "    # Use a list comprehension to apply the capitalization logic\n",
    "    result_string = ''.join(char.upper() if ord(char) % 2 == 0 else char.lower() for char in input_string)\n",
    "    return result_string\n",
    "\n",
    "# Test cases\n",
    "print(ascii_capitalize(\"to be or not to be!\"))\n",
    "# Output: \"To Be oR NoT To Be!\"\n",
    "\n",
    "print(ascii_capitalize(\"THE LITTLE MERMAID\"))\n",
    "# Output: \"THe LiTTLe meRmaiD\"\n",
    "\n",
    "print(ascii_capitalize(\"Oh what a beautiful morning\"))\n",
    "# Output: \"oH wHaT a BeauTiFuL moRNiNg\""
   ]
  }
 ],
 "metadata": {
  "kernelspec": {
   "display_name": "Python 3 (ipykernel)",
   "language": "python",
   "name": "python3"
  },
  "language_info": {
   "codemirror_mode": {
    "name": "ipython",
    "version": 3
   },
   "file_extension": ".py",
   "mimetype": "text/x-python",
   "name": "python",
   "nbconvert_exporter": "python",
   "pygments_lexer": "ipython3",
   "version": "3.10.6"
  }
 },
 "nbformat": 4,
 "nbformat_minor": 5
}
