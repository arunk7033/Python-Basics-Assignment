{
 "cells": [
  {
   "cell_type": "markdown",
   "id": "48e27239-3301-46a0-92bd-f3d65a9c7e96",
   "metadata": {},
   "source": [
    "# Assignment_12"
   ]
  },
  {
   "cell_type": "markdown",
   "id": "4faf62a9-ce79-4510-8a29-d791173c1049",
   "metadata": {},
   "source": [
    "##  1. In what modes should the PdfFileReader() and PdfFileWriter() File objects will be opened?"
   ]
  },
  {
   "cell_type": "code",
   "execution_count": null,
   "id": "2295f8d2-2db3-4031-a14b-e02c9f6b36d8",
   "metadata": {},
   "outputs": [],
   "source": [
    "#Solution\n",
    "When working with the PdfFileReader() and PdfFileWriter() classes in Python's PyPDF2 library (or similar libraries for working with PDFs), we typically don't need to explicitly open the input PDF file in a specific mode. Instead, we provide the file name as an argument to the PdfFileReader() constructor, and the library handles the file opening and reading internally.\n",
    "Here's an example:\n",
    "\n",
    "    from PyPDF2 import PdfFileReader, PdfFileWriter\n",
    "\n",
    "    # Open the input PDF file in read-binary mode\n",
    "    pdf_reader = PdfFileReader(open('input.pdf', 'rb'))\n",
    "\n",
    "    # Create a PdfFileWriter object for writing output\n",
    "    pdf_writer = PdfFileWriter()\n",
    "    \n",
    "In the example above, we use the open() function to open the input PDF file in read-binary mode ('rb'). However, this is done outside the PdfFileReader() constructor. The PdfFileReader() constructor takes the already opened file object as an argument.\n",
    "The same principle applies when using the PdfFileWriter() class. We don't need to open the output PDF file explicitly in a specific mode. Instead, we create a PdfFileWriter() object and use its methods to add content and pages to it. When we're ready to save the output PDF file, we can open it in write-binary mode ('wb') using the open() function and write the data from the PdfFileWriter() object into it.\n",
    "\n",
    "Here's an example:\n",
    "\n",
    "    from PyPDF2 import PdfFileWriter\n",
    "\n",
    "    # Create a PdfFileWriter object for writing output\n",
    "    pdf_writer = PdfFileWriter()\n",
    "\n",
    "    # Add pages or content to pdf_writer\n",
    "\n",
    "    # Open the output PDF file in write-binary mode and write data\n",
    "    with open('output.pdf', 'wb') as output_pdf:\n",
    "        pdf_writer.write(output_pdf)\n",
    "        \n",
    "So, to summarize, we typically open the input PDF file in read-binary mode outside the PdfFileReader() constructor, and we open the output PDF file in write-binary mode using the open() function when we're ready to save the modified PDF created with PdfFileWriter().\n"
   ]
  },
  {
   "cell_type": "markdown",
   "id": "60927b6b-7adf-4b55-9aa9-f93c5ac54081",
   "metadata": {},
   "source": [
    "## 2. From a PdfFileReader object, how do you get a Page object for page 5?"
   ]
  },
  {
   "cell_type": "code",
   "execution_count": null,
   "id": "7053bfa3-3e24-4049-99d3-166000bcefab",
   "metadata": {},
   "outputs": [],
   "source": [
    "#Solution\n",
    "To get a Page object for a specific page, such as page 5, from a PdfFileReader object in Python's PyPDF2 library, we can use the getPage() method. Here's how we can do it:\n",
    "\n",
    "    from PyPDF2 import PdfFileReader\n",
    "\n",
    "    # Open the input PDF file in read-binary mode ('rb')\n",
    "    pdf_reader = PdfFileReader(open('input.pdf', 'rb'))\n",
    "\n",
    "    # Get a Page object for page 5 (pages are 0-indexed)\n",
    "    page_number = 4  # Page 5 corresponds to index 4\n",
    "    page = pdf_reader.getPage(page_number)\n",
    "\n",
    "    # Now you can work with the 'page' object\n",
    "\n",
    "In the example above, we first open the input PDF file in read-binary mode and create a PdfFileReader object (pdf_reader). Then, we use the getPage() method to retrieve the Page object for page 5. Note that page numbers are 0-indexed, so page 5 corresponds to index 4 in this case."
   ]
  },
  {
   "cell_type": "markdown",
   "id": "639a0b20-e784-42f1-9a26-74fa2b31c18f",
   "metadata": {},
   "source": [
    "## 3. What PdfFileReader variable stores the number of pages in the PDF document?"
   ]
  },
  {
   "cell_type": "code",
   "execution_count": null,
   "id": "203918f5-9c09-44df-bfbb-5c76c0aea9fb",
   "metadata": {},
   "outputs": [],
   "source": [
    "#Solution\n",
    "In Python's PyPDF2 library, the number of pages in a PDF document is stored in the numPages attribute of a PdfFileReader object. We can access this attribute to determine the total number of pages in the PDF document. Here's an example:\n",
    "\n",
    "    from PyPDF2 import PdfFileReader\n",
    "\n",
    "    # Open the input PDF file in read-binary mode ('rb')\n",
    "    pdf_reader = PdfFileReader(open('input.pdf', 'rb'))\n",
    "\n",
    "    # Get the number of pages in the PDF document\n",
    "    num_pages = pdf_reader.numPages\n",
    "\n",
    "    # Print the total number of pages\n",
    "    print(f'The PDF document contains {num_pages} pages.')\n",
    "    \n",
    "In the example above, we use the numPages attribute of the pdf_reader object to retrieve the total number of pages in the PDF document and then print it."
   ]
  },
  {
   "cell_type": "markdown",
   "id": "d284e2a8-8922-49a5-bd82-4027ac856d24",
   "metadata": {},
   "source": [
    "## 4. If a PdfFileReader object’s PDF is encrypted with the password swordfish, what must you do before you can obtain Page objects from it?"
   ]
  },
  {
   "cell_type": "code",
   "execution_count": null,
   "id": "19821ff3-fcf4-449d-98ee-64907dbbf235",
   "metadata": {},
   "outputs": [],
   "source": [
    "#Solution\n",
    "If a PdfFileReader object's PDF is encrypted with a password (e.g., \"swordfish\"), we need to decrypt it using that password before we can obtain Page objects from it. Here's how we can do it:\n",
    "\n",
    "    from PyPDF2 import PdfFileReader\n",
    "\n",
    "    # Open the input PDF file in read-binary mode ('rb')\n",
    "    pdf_reader = PdfFileReader(open('encrypted.pdf', 'rb'))\n",
    "\n",
    "    # Check if the PDF is encrypted\n",
    "    if pdf_reader.isEncrypted:\n",
    "        # Decrypt the PDF with the password\n",
    "        pdf_reader.decrypt('swordfish')\n",
    "\n",
    "    # Now we can obtain Page objects and work with the PDF\n"
   ]
  },
  {
   "cell_type": "markdown",
   "id": "684009f1-2934-4271-a744-bd56bfa5b206",
   "metadata": {},
   "source": [
    "## 5. What methods do you use to rotate a page?"
   ]
  },
  {
   "cell_type": "code",
   "execution_count": null,
   "id": "d2081e91-c2e6-4e7d-b452-72ab66d78167",
   "metadata": {},
   "outputs": [],
   "source": [
    "#Solution\n",
    "To rotate a page in a PDF using Python's PyPDF2 library (or similar libraries for working with PDFs), we can use the rotateClockwise() and rotateCounterClockwise() methods of a Page object. Here's how we can use these methods to rotate a page:\n",
    "\n",
    "from PyPDF2 import PdfFileReader, PdfFileWriter\n",
    "pdf_reader = PdfFileReader(open('input.pdf', 'rb'))\n",
    "page_number = 4  # Page 5 corresponds to index 4 (0-indexed)\n",
    "page = pdf_reader.getPage(page_number)\n",
    "# Rotate the page clockwise by 90 degrees\n",
    "page.rotateClockwise(90)\n",
    "# Rotate the page counterclockwise by 90 degrees\n",
    "page.rotateCounterClockwise(90)\n",
    "#Create a PdfFileWriter object and add the modified page to it\n",
    "pdf_writer = PdfFileWriter()\n",
    "pdf_writer.addPage(page)\n",
    "#Save the modified PDF to a new file:\n",
    "with open('output.pdf', 'wb') as output_pdf:\n",
    "    pdf_writer.write(output_pdf)"
   ]
  },
  {
   "cell_type": "markdown",
   "id": "9b98a1f2-b5bd-4993-8424-48cf2267a473",
   "metadata": {},
   "source": [
    "## 6. What is the difference between a Run object and a Paragraph object?"
   ]
  },
  {
   "cell_type": "code",
   "execution_count": null,
   "id": "24dd1954-58d2-4d13-a634-04fb069d9394",
   "metadata": {},
   "outputs": [],
   "source": [
    "#Solution\n",
    "In Python, when working with libraries or modules that provide access to Microsoft Word documents, such as the python-docx library, we'll encounter similar concepts of Run and Paragraph objects as in Microsoft Word's object model. However, the specific differences between Run and Paragraph objects in Python may depend on the library or module we're using. Let's discuss the general differences between Run and Paragraph objects in the context of the python-docx library, which is a popular Python library for working with Word documents.\n",
    "\n",
    "1. Paragraph Object (python-docx):\n",
    "In the python-docx library, a Paragraph object represents a single paragraph of text within a Word document, similar to Microsoft Word.\n",
    "A paragraph is a block of text that typically ends with a paragraph mark (newline character).\n",
    "We can access and manipulate various properties of a paragraph, such as its text content, alignment, indentation, and spacing.\n",
    "\n",
    "2. Run Object (python-docx):\n",
    "In python-docx, a Run object represents a contiguous run of text within a paragraph, much like in Microsoft Word.\n",
    "Runs are used to apply specific formatting attributes to a portion of text within a paragraph. For example, we can have a single paragraph with different runs to represent bold, italic, or colored text within the same paragraph.\n",
    "We can access and modify the formatting properties of a run, such as font size, style, and color.\n",
    "\n",
    "Here's a simplified example of how we might work with Paragraph and Run objects using the python-docx library:\n",
    "\n",
    "    from docx import Document\n",
    "\n",
    "    # Create a new Word document\n",
    "    doc = Document()\n",
    "\n",
    "    # Add a paragraph\n",
    "    paragraph = doc.add_paragraph('This is a paragraph.')\n",
    "\n",
    "    # Add a run within the paragraph with specific formatting\n",
    "    run = paragraph.add_run(' This is bold and italic text.')\n",
    "    run.bold = True\n",
    "    run.italic = True\n",
    "\n",
    "    # Save the document\n",
    "    doc.save('example.docx')\n",
    "    \n",
    "In this example, we first create a paragraph and then add a run within that paragraph to apply bold and italic formatting to a portion of the text."
   ]
  },
  {
   "cell_type": "markdown",
   "id": "3a846c4f-b08d-413d-ba0a-e2bc0f10edd5",
   "metadata": {},
   "source": [
    "## 7. How do you obtain a list of Paragraph objects for a Document object that’s stored in a variable named doc?"
   ]
  },
  {
   "cell_type": "code",
   "execution_count": null,
   "id": "09a1168f-c509-414e-9965-738a350342bd",
   "metadata": {},
   "outputs": [],
   "source": [
    "#Solution\n",
    "In the python-docx library, we can obtain a list of Paragraph objects for a Document object by iterating through the paragraphs in the document. Here's how we can do it:\n",
    "\n",
    "    import docx\n",
    "\n",
    "    # Load the document\n",
    "    doc = docx.Document(\"your_document.docx\")  # Replace with your document file path\n",
    "\n",
    "    # Initialize a list to store Paragraph objects\n",
    "    paragraphs = []\n",
    "\n",
    "    # Iterate through paragraphs and add them to the list\n",
    "    for paragraph in doc.paragraphs:\n",
    "        paragraphs.append(paragraph)\n",
    "\n",
    "    # Now, the 'paragraphs' list contains Paragraph objects from the document\n"
   ]
  },
  {
   "cell_type": "markdown",
   "id": "a8fd20ab-12d3-4b0f-b459-c36226aafa52",
   "metadata": {},
   "source": [
    "## 8. What type of object has bold, underline, italic, strike, and outline variables?"
   ]
  },
  {
   "cell_type": "code",
   "execution_count": null,
   "id": "a44ebbc3-8e63-4cc7-8cfd-5c7162fb3dac",
   "metadata": {},
   "outputs": [],
   "source": [
    "#Solution\n",
    "In Python, the object that typically has properties like bold, underline, italic, strike, and outline is a text formatting object within a document processing library or tool. These properties are commonly associated with text styling or formatting in documents, such as Microsoft Word documents (DOCX) or rich text documents.\n",
    "For example, if we are using the python-docx library to work with DOCX files, we would use a Run object to represent a run of text within a paragraph. A Run object has properties like bold, underline, italic, strike, and others to control text formatting. Here's an example of how we might use these properties:\n",
    "\n",
    "    from docx import Document\n",
    "    from docx.shared import Pt\n",
    "\n",
    "    # Create a new document\n",
    "    doc = Document()\n",
    "\n",
    "    # Add a paragraph with formatted text\n",
    "    paragraph = doc.add_paragraph()\n",
    "    run = paragraph.add_run(\"This is formatted text\")\n",
    "\n",
    "    # Apply formatting\n",
    "    run.bold = True\n",
    "    run.underline = True\n",
    "    run.italic = True\n",
    "    run.strike = True\n",
    "    run.font.size = Pt(12)\n",
    "\n",
    "In this example, run is a Run object, and we can use its properties to control the formatting of the text."
   ]
  },
  {
   "cell_type": "markdown",
   "id": "501e650d-fe25-4f66-a68c-1d034f429615",
   "metadata": {},
   "source": [
    "## 9. What is the difference between False, True, and None for the bold variable?"
   ]
  },
  {
   "cell_type": "code",
   "execution_count": null,
   "id": "8dc2c0cb-2dfa-4928-93d2-f747ec46719d",
   "metadata": {},
   "outputs": [],
   "source": [
    "#Solution\n",
    "In the context of text formatting, particularly when working with document processing libraries like python-docx for working with DOCX files, the bold variable can typically take three different values: True, False, and None. These values represent different states for the bold formatting of text:\n",
    "1. True: When we set bold to True, it indicates that the text should be displayed in a bold font. This means that the text will appear with thicker and darker characters, making it visually distinct from regular text. For example:\n",
    "    run = paragraph.add_run(\"This is bold text\")\n",
    "    run.bold = True\n",
    "    In this case, \"This is bold text\" will be displayed in a bold font.\n",
    "2. False: Setting bold to False explicitly specifies that the text should not be displayed in a bold font. This is the default state for text formatting, so if we don't set bold at all or set it to False, the text will be in a regular (non-bold) font.\n",
    "    run = paragraph.add_run(\"This is regular text\")\n",
    "    run.bold = False  # This is the default behavior, and you can omit this line.\n",
    "    In this case, \"This is regular text\" will be displayed without bold formatting.\n",
    "3. None: When we set bold to None, it often means that we want to inherit the formatting from the parent style or document default. If the parent style is bold, the text will appear bold; if the parent style is not bold, the text will appear as regular text.\n",
    "    run = paragraph.add_run(\"This inherits boldness from parent style\")\n",
    "    run.bold = None  # Inherits the formatting from the parent style.\n",
    "In this case, the boldness of the text depends on the parent style or document default style."
   ]
  },
  {
   "cell_type": "markdown",
   "id": "7a96bc42-0b45-4561-8c5e-bcc21137b074",
   "metadata": {},
   "source": [
    "## 10. How do you create a Document object for a new Word document?"
   ]
  },
  {
   "cell_type": "code",
   "execution_count": null,
   "id": "82e526fc-da9b-49f9-839f-49bc1f1c74cf",
   "metadata": {},
   "outputs": [],
   "source": [
    "#Solution\n",
    "\n",
    "#Install the python-docx library (if not already installed):\n",
    "#We can install the python-docx library using pip:\n",
    "\n",
    "pip install python-docx\n",
    "\n",
    "from docx import Document\n",
    "\n",
    "# Create a new Word document\n",
    "doc = Document()\n",
    "\n",
    "# Add content to the document\n",
    "doc.add_paragraph(\"This is a new Word document.\")\n",
    "doc.add_paragraph(\"We can add more paragraphs and elements here.\")\n",
    "\n",
    "# Save the document to a file\n",
    "doc.save(\"new_document.docx\")\n"
   ]
  },
  {
   "cell_type": "markdown",
   "id": "5bb5bee9-8eb5-4c99-86f5-d90e9cc78dc0",
   "metadata": {},
   "source": [
    "## 11. How do you add a paragraph with the text &#39;Hello, there!&#39; to a Document object stored in a variable named doc?"
   ]
  },
  {
   "cell_type": "code",
   "execution_count": null,
   "id": "f0096791-076a-4a31-a846-0ba8ddce782c",
   "metadata": {},
   "outputs": [],
   "source": [
    "#Solution\n",
    "from docx import Document\n",
    "\n",
    "# Assuming we have already created a Document object stored in the variable 'doc'\n",
    "\n",
    "# Add a paragraph with the desired text\n",
    "doc.add_paragraph('Hello, there!')\n"
   ]
  },
  {
   "cell_type": "markdown",
   "id": "4c440c58-ecd7-40dd-b7b5-270f1377f56f",
   "metadata": {},
   "source": [
    "## 12. What integers represent the levels of headings available in Word documents?"
   ]
  },
  {
   "cell_type": "code",
   "execution_count": null,
   "id": "2e160f4c-d12f-4f52-917e-eb365f81ab41",
   "metadata": {},
   "outputs": [],
   "source": [
    "#Solution\n",
    "In Word documents and many word processing applications, headings are typically organized into levels, with each level represented by an integer. The common convention for representing the levels of headings in Word documents is using integers ranging from 1 to 9. These integers correspond to the hierarchy of headings, where lower numbers indicate higher-level headings (main headings or section titles), and higher numbers represent lower-level headings (subheadings or subsections). Here's a typical breakdown:\n",
    "\n",
    "1. Heading 1: Level 1 (usually represented as \"1\" in most word processing software)\n",
    "2. Heading 2: Level 2 (usually represented as \"2\")\n",
    "3. Heading 3: Level 3 (usually represented as \"3\")\n",
    "4. Heading 4: Level 4 (usually represented as \"4\")\n",
    "5. Heading 5: Level 5 (usually represented as \"5\")\n",
    "6. Heading 6: Level 6 (usually represented as \"6\")\n",
    "7. Heading 7: Level 7 (usually represented as \"7\")\n",
    "8. Heading 8: Level 8 (usually represented as \"8\")\n",
    "9. Heading 9: Level 9 (usually represented as \"9\")\n",
    "\n",
    "These heading levels help organize the structure and hierarchy of a document, making it easier to create a table of contents, navigate through the document, and apply consistent formatting to different sections. The actual appearance and formatting of headings can vary depending on the document's style and formatting settings.\n"
   ]
  }
 ],
 "metadata": {
  "kernelspec": {
   "display_name": "Python 3 (ipykernel)",
   "language": "python",
   "name": "python3"
  },
  "language_info": {
   "codemirror_mode": {
    "name": "ipython",
    "version": 3
   },
   "file_extension": ".py",
   "mimetype": "text/x-python",
   "name": "python",
   "nbconvert_exporter": "python",
   "pygments_lexer": "ipython3",
   "version": "3.10.6"
  }
 },
 "nbformat": 4,
 "nbformat_minor": 5
}
