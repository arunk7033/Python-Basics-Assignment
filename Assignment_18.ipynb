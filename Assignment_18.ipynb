{
 "cells": [
  {
   "cell_type": "markdown",
   "id": "48e27239-3301-46a0-92bd-f3d65a9c7e96",
   "metadata": {},
   "source": [
    "# Assignment_18"
   ]
  },
  {
   "cell_type": "markdown",
   "id": "4faf62a9-ce79-4510-8a29-d791173c1049",
   "metadata": {},
   "source": [
    "## 1. Create a zoo.py file first. Define the hours() function, which prints the string &#39;Open 9-5 daily&#39;.Then, use the interactive interpreter to import the zoo module and call its hours() function. "
   ]
  },
  {
   "cell_type": "code",
   "execution_count": 5,
   "id": "b5b32687-a9fb-49ed-b824-2700aca5614c",
   "metadata": {},
   "outputs": [
    {
     "name": "stdout",
     "output_type": "stream",
     "text": [
      "Open 9-5 daily\n"
     ]
    }
   ],
   "source": [
    "#Solution\n",
    "Step 1: create zoo.py file , write the below code and save the file.\n",
    "\n",
    "def hours():\n",
    "    print(\"Open 9-5 daily\")\n",
    "    \n",
    "    \n",
    "Step 2: Now open Python interactive interpreter, import zoo module and call the hours() functions.   \n",
    "import zoo\n",
    "zoo.hours()\n"
   ]
  },
  {
   "cell_type": "markdown",
   "id": "60927b6b-7adf-4b55-9aa9-f93c5ac54081",
   "metadata": {},
   "source": [
    "## 2. In the interactive interpreter, import the zoo module as menagerie and call its hours() function."
   ]
  },
  {
   "cell_type": "code",
   "execution_count": 6,
   "id": "82de0493-67e2-41c6-b1c0-cad83d1f608d",
   "metadata": {},
   "outputs": [
    {
     "name": "stdout",
     "output_type": "stream",
     "text": [
      "Open 9-5 daily\n"
     ]
    }
   ],
   "source": [
    "#Solution\n",
    "import zoo as menagerie\n",
    "menagerie.hours()"
   ]
  },
  {
   "cell_type": "markdown",
   "id": "639a0b20-e784-42f1-9a26-74fa2b31c18f",
   "metadata": {},
   "source": [
    "## 3. Using the interpreter, explicitly import and call the hours() function from zoo."
   ]
  },
  {
   "cell_type": "code",
   "execution_count": 7,
   "id": "ef56377d-c78e-4e1f-86b7-e8255ff71d19",
   "metadata": {},
   "outputs": [
    {
     "name": "stdout",
     "output_type": "stream",
     "text": [
      "Open 9-5 daily\n"
     ]
    }
   ],
   "source": [
    "#Solution\n",
    "from zoo import hours\n",
    "\n",
    "hours()\n"
   ]
  },
  {
   "cell_type": "markdown",
   "id": "d284e2a8-8922-49a5-bd82-4027ac856d24",
   "metadata": {},
   "source": [
    "## 4. Import the hours() function as info and call it."
   ]
  },
  {
   "cell_type": "code",
   "execution_count": 8,
   "id": "0f112a77-c50b-4158-868a-431acfe1e2cb",
   "metadata": {},
   "outputs": [
    {
     "name": "stdout",
     "output_type": "stream",
     "text": [
      "Open 9-5 daily\n"
     ]
    }
   ],
   "source": [
    "#Solution\n",
    "from zoo import hours as info\n",
    "\n",
    "info()"
   ]
  },
  {
   "cell_type": "markdown",
   "id": "684009f1-2934-4271-a744-bd56bfa5b206",
   "metadata": {},
   "source": [
    "## 5. Create a plain dictionary with the key-value pairs &#39;a&#39;: 1, &#39;b&#39;: 2, and &#39;c&#39;: 3, and print it out."
   ]
  },
  {
   "cell_type": "code",
   "execution_count": 10,
   "id": "d27e1c57-945c-4ed2-8a58-3231de2db2d8",
   "metadata": {},
   "outputs": [
    {
     "name": "stdout",
     "output_type": "stream",
     "text": [
      "{'a': 1, 'b': 2, 'c': 3}\n"
     ]
    }
   ],
   "source": [
    "#Solution\n",
    "plain = {'a': 1, 'b': 2, 'c': 3}\n",
    "print(plain)"
   ]
  },
  {
   "cell_type": "markdown",
   "id": "9b98a1f2-b5bd-4993-8424-48cf2267a473",
   "metadata": {},
   "source": [
    "## 6.Make an OrderedDict called fancy from the same pairs listed in 5 and print it. Did it print in the same order as plain?"
   ]
  },
  {
   "cell_type": "code",
   "execution_count": 12,
   "id": "39c435ac-24ae-4102-8597-877f5e0191e2",
   "metadata": {},
   "outputs": [
    {
     "name": "stdout",
     "output_type": "stream",
     "text": [
      "OrderedDict([('a', 1), ('b', 2), ('c', 3)])\n"
     ]
    }
   ],
   "source": [
    "#Solution\n",
    "from collections import OrderedDict\n",
    "\n",
    "fancy = OrderedDict([('a', 1), ('b', 2), ('c', 3)])\n",
    "print(fancy)\n",
    "#Yes it printed in the same order as plain"
   ]
  },
  {
   "cell_type": "markdown",
   "id": "3a846c4f-b08d-413d-ba0a-e2bc0f10edd5",
   "metadata": {},
   "source": [
    "## 7. Make a default dictionary called dict_of_lists and pass it the argument list. Make the list dict_of_lists[&#39;a&#39;] and append the value &#39;something for a&#39; to it in one assignment. Print dict_of_lists[&#39;a&#39;]."
   ]
  },
  {
   "cell_type": "code",
   "execution_count": 13,
   "id": "ddbb3a9f-b031-4f4b-acf7-23411768ccc8",
   "metadata": {},
   "outputs": [
    {
     "name": "stdout",
     "output_type": "stream",
     "text": [
      "['something for a']\n"
     ]
    }
   ],
   "source": [
    "#Solution\n",
    "from collections import defaultdict\n",
    "\n",
    "# Create a defaultdict with a default value of a list\n",
    "dict_of_lists = defaultdict(list)\n",
    "\n",
    "# Append the value 'something for a' to the 'a' key in one assignment\n",
    "dict_of_lists['a'].append('something for a')\n",
    "\n",
    "# Print the value associated with the 'a' key\n",
    "print(dict_of_lists['a'])"
   ]
  }
 ],
 "metadata": {
  "kernelspec": {
   "display_name": "Python 3 (ipykernel)",
   "language": "python",
   "name": "python3"
  },
  "language_info": {
   "codemirror_mode": {
    "name": "ipython",
    "version": 3
   },
   "file_extension": ".py",
   "mimetype": "text/x-python",
   "name": "python",
   "nbconvert_exporter": "python",
   "pygments_lexer": "ipython3",
   "version": "3.10.6"
  },
  "toc-showcode": true,
  "toc-showmarkdowntxt": true
 },
 "nbformat": 4,
 "nbformat_minor": 5
}
