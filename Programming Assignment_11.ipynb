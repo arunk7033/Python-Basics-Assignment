{
 "cells": [
  {
   "cell_type": "markdown",
   "id": "0cdc6190-882a-4b8e-ae89-dfda87c34f0a",
   "metadata": {},
   "source": [
    "## Programming Assignment_11"
   ]
  },
  {
   "cell_type": "code",
   "execution_count": null,
   "id": "c2afa538-47c9-4880-9719-d3c3ca1b956e",
   "metadata": {},
   "outputs": [],
   "source": [
    "1. Write a Python program to find words which are greater than given length k?"
   ]
  },
  {
   "cell_type": "code",
   "execution_count": 1,
   "id": "3d40e141-c24b-478e-8bba-9d408909f6fc",
   "metadata": {},
   "outputs": [
    {
     "name": "stdout",
     "output_type": "stream",
     "text": [
      "Words greater than length 5: ['banana', 'orange', 'strawberry']\n"
     ]
    }
   ],
   "source": [
    "#Solution:\n",
    "def find_words_greater_than_k(word_list, k):\n",
    "    # Using a list comprehension to filter words greater than length k\n",
    "    result_words = [word for word in word_list if len(word) > k]\n",
    "    return result_words\n",
    "\n",
    "# Example usage:\n",
    "input_words = [\"apple\", \"banana\", \"orange\", \"grape\", \"kiwi\", \"strawberry\"]\n",
    "k_value = 5\n",
    "result = find_words_greater_than_k(input_words, k_value)\n",
    "\n",
    "print(f\"Words greater than length {k_value}: {result}\")"
   ]
  },
  {
   "cell_type": "code",
   "execution_count": null,
   "id": "4833e72c-400a-408e-bee4-d2f3fce6651d",
   "metadata": {},
   "outputs": [],
   "source": [
    "2. Write a Python program for removing i-th character from a string?"
   ]
  },
  {
   "cell_type": "code",
   "execution_count": 2,
   "id": "ebbdf9cc-c467-4493-ba02-50e9d0d3d913",
   "metadata": {},
   "outputs": [
    {
     "name": "stdout",
     "output_type": "stream",
     "text": [
      "String after removing the character at index 3: exaple\n"
     ]
    }
   ],
   "source": [
    "#Solution:\n",
    "def remove_ith_character(input_string, i):\n",
    "    # Using string slicing to remove the i-th character\n",
    "    result_string = input_string[:i] + input_string[i+1:]\n",
    "    return result_string\n",
    "\n",
    "# Example usage:\n",
    "original_string = \"example\"\n",
    "index_to_remove = 3\n",
    "result = remove_ith_character(original_string, index_to_remove)\n",
    "\n",
    "print(f\"String after removing the character at index {index_to_remove}: {result}\")"
   ]
  },
  {
   "cell_type": "code",
   "execution_count": null,
   "id": "d6abe08e-d017-43c1-b2fc-15e8f7bc290e",
   "metadata": {},
   "outputs": [],
   "source": [
    "3. Write a Python program to split and join a string?"
   ]
  },
  {
   "cell_type": "code",
   "execution_count": 3,
   "id": "8b8a57d0-d351-45d3-bf15-3c2efe59cb13",
   "metadata": {},
   "outputs": [
    {
     "name": "stdout",
     "output_type": "stream",
     "text": [
      "Original String: This is a sample string.\n",
      "Split Words: ['This', 'is', 'a', 'sample', 'string.']\n",
      "Joined String: This is a sample string.\n"
     ]
    }
   ],
   "source": [
    "#Solution:\n",
    "def split_and_join(input_string):\n",
    "    # Using the split() method to split the string into a list of words\n",
    "    words = input_string.split()\n",
    "\n",
    "    # Using the join() method to join the words into a new string\n",
    "    result_string = \" \".join(words)\n",
    "\n",
    "    return words, result_string\n",
    "\n",
    "# Example usage:\n",
    "original_string = \"This is a sample string.\"\n",
    "split_words, joined_string = split_and_join(original_string)\n",
    "\n",
    "print(f\"Original String: {original_string}\")\n",
    "print(f\"Split Words: {split_words}\")\n",
    "print(f\"Joined String: {joined_string}\")"
   ]
  },
  {
   "cell_type": "code",
   "execution_count": null,
   "id": "30909c4a-729d-4e0c-bd43-7e976a4dce63",
   "metadata": {},
   "outputs": [],
   "source": [
    "4. Write a Python to check if a given string is binary string or not?"
   ]
  },
  {
   "cell_type": "code",
   "execution_count": 4,
   "id": "9788388a-4f62-46a5-b7d1-c59b34781526",
   "metadata": {},
   "outputs": [
    {
     "name": "stdout",
     "output_type": "stream",
     "text": [
      "The string '101010101' is a binary string.\n"
     ]
    }
   ],
   "source": [
    "#Solution:\n",
    "def is_binary_string(input_string):\n",
    "    # Using set to check if the string contains only '0' and '1'\n",
    "    unique_characters = set(input_string)\n",
    "    \n",
    "    # If the set contains only '0' and '1', it's a binary string\n",
    "    return set(['0', '1']) == unique_characters or set(['0', '1', ' ']) == unique_characters\n",
    "\n",
    "# Example usage:\n",
    "binary_string = \"101010101\"\n",
    "result = is_binary_string(binary_string)\n",
    "\n",
    "if result:\n",
    "    print(f\"The string '{binary_string}' is a binary string.\")\n",
    "else:\n",
    "    print(f\"The string '{binary_string}' is not a binary string.\")"
   ]
  },
  {
   "cell_type": "code",
   "execution_count": null,
   "id": "ac786760-b777-4ce1-bdfe-e93b1d903140",
   "metadata": {},
   "outputs": [],
   "source": [
    "5. Write a Python program to find uncommon words from two Strings?"
   ]
  },
  {
   "cell_type": "code",
   "execution_count": 5,
   "id": "4e44adea-a610-4cfc-a530-e920b795b015",
   "metadata": {},
   "outputs": [
    {
     "name": "stdout",
     "output_type": "stream",
     "text": [
      "Uncommon words between the two strings: {'and', 'Hello', 'language', 'is', 'popular', 'programming', 'a', 'world'}\n"
     ]
    }
   ],
   "source": [
    "#Solution:\n",
    "def find_uncommon_words(str1, str2):\n",
    "    # Using set to store words from each string\n",
    "    set1 = set(str1.split())\n",
    "    set2 = set(str2.split())\n",
    "\n",
    "    # Finding uncommon words using symmetric difference\n",
    "    uncommon_words = set1.symmetric_difference(set2)\n",
    "\n",
    "    return uncommon_words\n",
    "\n",
    "# Example usage:\n",
    "string1 = \"Hello world and Python\"\n",
    "string2 = \"Python is a popular programming language\"\n",
    "\n",
    "result = find_uncommon_words(string1, string2)\n",
    "\n",
    "print(f\"Uncommon words between the two strings: {result}\")"
   ]
  },
  {
   "cell_type": "code",
   "execution_count": null,
   "id": "e7526052-01d3-4a78-83e0-ae7ad4b261f9",
   "metadata": {},
   "outputs": [],
   "source": [
    "6. Write a Python to find all duplicate characters in string?"
   ]
  },
  {
   "cell_type": "code",
   "execution_count": 6,
   "id": "34956d08-ed29-4760-a2ef-3a694ce81bea",
   "metadata": {},
   "outputs": [
    {
     "name": "stdout",
     "output_type": "stream",
     "text": [
      "Duplicate characters in the string 'programming': {'g', 'm', 'r'}\n"
     ]
    }
   ],
   "source": [
    "#Solution:\n",
    "def find_duplicate_characters(input_string):\n",
    "    # Using a set to store seen characters and a set to store duplicate characters\n",
    "    seen_characters = set()\n",
    "    duplicate_characters = set()\n",
    "\n",
    "    for char in input_string:\n",
    "        # If the character is already in seen_characters, it's a duplicate\n",
    "        if char in seen_characters:\n",
    "            duplicate_characters.add(char)\n",
    "        else:\n",
    "            seen_characters.add(char)\n",
    "\n",
    "    return duplicate_characters\n",
    "\n",
    "# Example usage:\n",
    "my_string = \"programming\"\n",
    "result = find_duplicate_characters(my_string)\n",
    "\n",
    "print(f\"Duplicate characters in the string '{my_string}': {result}\")"
   ]
  },
  {
   "cell_type": "code",
   "execution_count": null,
   "id": "e05cf9b6-09ba-4fec-a30e-21d28328c232",
   "metadata": {},
   "outputs": [],
   "source": [
    "7. Write a Python Program to check if a string contains any special character?"
   ]
  },
  {
   "cell_type": "code",
   "execution_count": null,
   "id": "a544d1ee-5720-494f-ac61-911963baf121",
   "metadata": {},
   "outputs": [],
   "source": [
    "#Solution:\n",
    "import string\n",
    "\n",
    "def contains_special_characters(input_string):\n",
    "    # Using string.punctuation to get a string containing all ASCII punctuation characters\n",
    "    special_characters = set(string.punctuation)\n",
    "\n",
    "    # Checking if any character in the input string is a special character\n",
    "    for char in input_string:\n",
    "        if char in special_characters:\n",
    "            return True\n",
    "\n",
    "    return False\n",
    "\n",
    "# Example usage:\n",
    "my_string = \"Hello, world!\"\n",
    "result = contains_special_characters(my_string)\n",
    "\n",
    "if result:\n",
    "    print(f\"The string '{my_string}' contains special characters.\")\n",
    "else:\n",
    "    print(f\"The string '{my_string}' does not contain any special characters.\")\n"
   ]
  }
 ],
 "metadata": {
  "kernelspec": {
   "display_name": "Python 3 (ipykernel)",
   "language": "python",
   "name": "python3"
  },
  "language_info": {
   "codemirror_mode": {
    "name": "ipython",
    "version": 3
   },
   "file_extension": ".py",
   "mimetype": "text/x-python",
   "name": "python",
   "nbconvert_exporter": "python",
   "pygments_lexer": "ipython3",
   "version": "3.10.6"
  }
 },
 "nbformat": 4,
 "nbformat_minor": 5
}
