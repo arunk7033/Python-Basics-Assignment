{
 "cells": [
  {
   "cell_type": "raw",
   "id": "3e72f8f1-41cf-4c46-ab7a-3a2e2154caa9",
   "metadata": {},
   "source": [
    "1.What are the two values of the Boolean data type? How do you write them?"
   ]
  },
  {
   "cell_type": "raw",
   "id": "d731819b-ac09-474b-94de-f7e0334f5789",
   "metadata": {},
   "source": [
    "Solution:\n",
    "\n",
    "    The two values of the Boolean data type are: True & False\n",
    "    Here's an example of assigning Boolean values to variables in Python:\n",
    "    x = True\n",
    "    y = False"
   ]
  },
  {
   "cell_type": "raw",
   "id": "15799614-32d5-400a-847a-a9b28ff8fadd",
   "metadata": {},
   "source": [
    "2. What are the three different types of Boolean operators?"
   ]
  },
  {
   "cell_type": "raw",
   "id": "2e4ab0ef-3f51-4ba1-a8cc-dac6e34c0170",
   "metadata": {},
   "source": [
    "Solution:\n",
    "    \n",
    "The three different types of Boolean operators are:\n",
    "    1. and operator\n",
    "        and operator:  The \"and\" operator returns True if both operands are True, and False in all other conditions.\n",
    "        For example:\n",
    "        x = True\n",
    "        y = False\n",
    "        result = x and y  # Evaluates to False\n",
    "    2. or operator\n",
    "        or operator: The \"or\" operator returns True if at least one of the operands is True, and False if both operands \n",
    "        are False.\n",
    "        For example:\n",
    "        x = True\n",
    "        y = False\n",
    "        result = x or y  # Evaluates to True\n",
    "\n",
    "    3. not operator\n",
    "        not operator: The \"not\" operator returns True if the operand is False, and False if the operand is True.\n",
    "        For example:\n",
    "        x = True\n",
    "        result = not x  # Evaluates to False"
   ]
  },
  {
   "cell_type": "raw",
   "id": "2f491eee-c8b5-4ccd-8c48-0e4a0de68191",
   "metadata": {},
   "source": [
    "3. Make a list of each Boolean operators truth tables (i.e. every possible combination of Boolean\n",
    "values for the operator and what it evaluate )."
   ]
  },
  {
   "cell_type": "raw",
   "id": "22b8ef44-99d2-4b14-be0e-e1709a7a25d0",
   "metadata": {},
   "source": [
    "Solution:\n",
    "    1. and operator\n",
    "    \n",
    "        | Operand 1 | Operand 2 | Result |\n",
    "        |-----------|-----------|--------|\n",
    "        |   False   |   False   | False  |\n",
    "        |   False   |   True    | False  |\n",
    "        |   True    |   False   | False  |\n",
    "        |   True    |   True    | True   |\n",
    "\n",
    "    \n",
    "    2. or operator\n",
    "    \n",
    "        | Operand 1 | Operand 2 | Result |\n",
    "        |-----------|-----------|--------|\n",
    "        |   False   |   False   | False  |\n",
    "        |   False   |   True    | True   |\n",
    "        |   True    |   False   | True   |\n",
    "        |   True    |   True    | True   |\n",
    "\n",
    "    3. not operator\n",
    "    \n",
    "        | Operand | Result |\n",
    "        |---------|--------|\n",
    "        |  False  |  True  |\n",
    "        |  True   | False  |\n",
    "\n"
   ]
  },
  {
   "cell_type": "raw",
   "id": "45c4a276-f232-4ee0-85e4-1e8e44e52254",
   "metadata": {},
   "source": [
    "4. What are the values of the following expressions?\n",
    "    (5 > 4) and (3 == 5)\n",
    "    not (5 > 4)\n",
    "    (5 > 4) or (3 == 5)\n",
    "    not ((5 > 4) or (3 == 5))\n",
    "    (True and True) and (True == False)\n",
    "    (not False) or (not True)"
   ]
  },
  {
   "cell_type": "raw",
   "id": "c82f5835-a524-43a1-adcb-4df6c5ced88c",
   "metadata": {},
   "source": [
    "Solution:\n",
    "    1.False\n",
    "    2.False\n",
    "    3.True\n",
    "    4.False\n",
    "    5.False\n",
    "    6.True"
   ]
  },
  {
   "cell_type": "raw",
   "id": "e6d3ce4e-57ee-4c87-bc0d-7518a000e5c8",
   "metadata": {},
   "source": [
    "5. What are the six comparison operators?"
   ]
  },
  {
   "cell_type": "raw",
   "id": "7007e7ad-9fe4-4a56-8894-e08645294958",
   "metadata": {},
   "source": [
    "Solution:\n",
    "    1. Equal to (==): This operator checks if the values on both sides are equal.\n",
    "\n",
    "    2. Not equal to (!=): This operator checks if the values on both sides are not equal.\n",
    "\n",
    "    3. Greater than (>): This operator checks if the value on the left side is greater than the value \n",
    "    on the right side.\n",
    "\n",
    "    4. Less than (<): This operator checks if the value on the left side is less than the value on the \n",
    "    right side.\n",
    "\n",
    "    5. Greater than or equal to (>=): This operator checks if the value on the left side is greater than\n",
    "    or equal to the value on the right side.\n",
    "\n",
    "    6.Less than or equal to (<=): This operator checks if the value on the left side is less than or equal\n",
    "    to the value on the right side"
   ]
  },
  {
   "cell_type": "raw",
   "id": "dc7fee19-426a-4f7c-bfb0-217aeef4ebfd",
   "metadata": {},
   "source": [
    "6. How do you tell the difference between the equal to and assignment operators? Describe a\n",
    "   condition and when you would use one."
   ]
  },
  {
   "cell_type": "raw",
   "id": "6ac24e9e-03d1-4b3a-bfe0-06101d23c64c",
   "metadata": {},
   "source": [
    "Solution:\n",
    "    The equal to operator (==) is a comparison operator used to check if two values are equal.\n",
    "    It compares the values on both sides of the operator and returns True if they are equal, and False otherwise.\n",
    "    \n",
    "    For example:\n",
    "        x = 5\n",
    "        y = 7\n",
    "        if x == y:\n",
    "            print(\"x and y are equal\")\n",
    "        else:\n",
    "            print(\"x and y are not equal\")\n",
    "            \n",
    "        In this example, the == operator is used to compare the values of x and y.\n",
    "        Since x and y have different values, the condition evaluates to False and the output will be\n",
    "        \"x and y are not equal\".\n",
    "        \n",
    "    On the other hand, the assignment operator (=) is used to assign a value to a variable.\n",
    "    It takes the value on the right side and assigns it to the variable on the left side.\n",
    "    \n",
    "    For example:\n",
    "        x = 5\n",
    "        y = x + 3\n",
    "        print(y)  # Output: 8\n",
    "        \n",
    "    In this example, the value of x + 3 is assigned to the variable y using the assignment operator.\n",
    "    The value of x (5) is added to 3, resulting in y being assigned the value 8."
   ]
  },
  {
   "cell_type": "raw",
   "id": "1ea4cf6e-47f3-40a2-9a8c-6c13e862bb99",
   "metadata": {},
   "source": [
    "7. Identify the three blocks in this code:\n",
    "spam = 0\n",
    "if spam == 10:\n",
    "print('eggs')\n",
    "if spam >= 5:\n",
    "print('bacon')\n",
    "else:\n",
    "print('ham')\n",
    "print('spam')\n",
    "print('spam')"
   ]
  },
  {
   "cell_type": "raw",
   "id": "cf82a807-a8e5-4630-b20d-77723542a3a3",
   "metadata": {},
   "source": [
    "Solution:\n",
    "    \n",
    "    Block 1:\n",
    "        if spam == 10:\n",
    "            print('eggs')\n",
    "            \n",
    "    Block 2:\n",
    "        if spam >= 5:\n",
    "            print('bacon') \n",
    "            \n",
    "    Block 3:\n",
    "        else:\n",
    "            print('ham')\n",
    "            print('spam')\n",
    "            print('spam')"
   ]
  },
  {
   "cell_type": "raw",
   "id": "dd68cbb3-e675-4b4b-b651-30958a7927c1",
   "metadata": {},
   "source": [
    "8. Write code that prints Hello if 1 is stored in spam, prints Howdy if 2 is stored in spam, and prints\n",
    "Greetings! if anything else is stored in spam.9.If your programme is stuck in an endless loop, what keys you’ll press?"
   ]
  },
  {
   "cell_type": "raw",
   "id": "5e44f158-708d-4cde-8e7a-ef9f5e3afa9a",
   "metadata": {},
   "source": [
    "Solution:\n",
    "    if spam==1:\n",
    "        print(\"Hello\")\n",
    "    elif spam==2:\n",
    "        print(\"Howdy\")\n",
    "    else:\n",
    "        print(\"Greetings!\")"
   ]
  },
  {
   "cell_type": "raw",
   "id": "2cb1f6bb-0774-4ffb-bf8c-be32778cb938",
   "metadata": {},
   "source": [
    "9.If your programme is stuck in an endless loop, what keys you’ll press?"
   ]
  },
  {
   "cell_type": "raw",
   "id": "fec867a7-2d65-4dcb-9282-2e57b726757a",
   "metadata": {},
   "source": [
    "Solution:\n",
    "    Ctrl+C"
   ]
  },
  {
   "cell_type": "raw",
   "id": "b103b660-d9a1-47ab-8c99-0d97003cb201",
   "metadata": {},
   "source": [
    "10. How can you tell the difference between break and continue?"
   ]
  },
  {
   "cell_type": "code",
   "execution_count": null,
   "id": "dc6e6d44-1b1b-4c8e-a7df-438d079980a0",
   "metadata": {},
   "outputs": [],
   "source": [
    "Solution:\n",
    "    "
   ]
  },
  {
   "cell_type": "code",
   "execution_count": 27,
   "id": "c413e285-7a83-4132-a484-f7949205f591",
   "metadata": {},
   "outputs": [
    {
     "ename": "SyntaxError",
     "evalue": "invalid syntax (801119960.py, line 4)",
     "output_type": "error",
     "traceback": [
      "\u001b[0;36m  Cell \u001b[0;32mIn [27], line 4\u001b[0;36m\u001b[0m\n\u001b[0;31m    continue:\u001b[0m\n\u001b[0m            ^\u001b[0m\n\u001b[0;31mSyntaxError\u001b[0m\u001b[0;31m:\u001b[0m invalid syntax\n"
     ]
    }
   ],
   "source": [
    "i=1\n",
    "if i<5:\n",
    "    print(\"ask\")\n",
    "    continue:"
   ]
  },
  {
   "cell_type": "code",
   "execution_count": null,
   "id": "56a3fa49-be96-475a-88f6-d51bfa7db1fa",
   "metadata": {},
   "outputs": [],
   "source": []
  }
 ],
 "metadata": {
  "kernelspec": {
   "display_name": "Python 3 (ipykernel)",
   "language": "python",
   "name": "python3"
  },
  "language_info": {
   "codemirror_mode": {
    "name": "ipython",
    "version": 3
   },
   "file_extension": ".py",
   "mimetype": "text/x-python",
   "name": "python",
   "nbconvert_exporter": "python",
   "pygments_lexer": "ipython3",
   "version": "3.10.6"
  }
 },
 "nbformat": 4,
 "nbformat_minor": 5
}
