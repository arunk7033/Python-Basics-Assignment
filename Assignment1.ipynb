{
 "cells": [
  {
   "cell_type": "raw",
   "id": "2d1d74c3-c0b1-4f1d-9869-6b9eb29a56dd",
   "metadata": {},
   "source": [
    "1. In the below elements which of them are values or an expression? eg:- values can be\n",
    "integer or string and expressions will be mathematical operators.\n",
    "*\n",
    "'hello'\n",
    "-87.8\n",
    "-\n",
    "/\n",
    "+\n",
    "6"
   ]
  },
  {
   "cell_type": "raw",
   "id": "4654e4ce-063a-4861-90a7-2dba03756e90",
   "metadata": {},
   "source": [
    "Solution:\n",
    "\n",
    "values:\n",
    "    'hello' \n",
    "    -87.8 \n",
    "    6\n",
    "\n",
    "expressions: \n",
    "    * \n",
    "    - \n",
    "    /\n",
    "    +"
   ]
  },
  {
   "cell_type": "raw",
   "id": "9f9e8879-598f-4b66-a1b3-5ba903d91676",
   "metadata": {},
   "source": [
    "2. What is the difference between string and variable?"
   ]
  },
  {
   "cell_type": "raw",
   "id": "1c45e78c-96bc-4d31-9268-b0e58c8d95f3",
   "metadata": {},
   "source": [
    "Solution:\n",
    "\n",
    "A string is a data type used to represent a sequence of characters. It is a collection of characters enclosed within quotation marks (either single or double quotes) or a triple quote for multi-line strings. For example:\n",
    "message = 'Hello, World!'\n",
    "name=\"123\"\n",
    "\n",
    "A variable, on the other hand, is a named storage location in a computer's memory that holds a value. It is used to store and manipulate data within a program. A variable can hold different types of data, including strings, numbers, booleans, and more. It allows you to assign a value to a name and refer to that value by the name throughout your program.For example:\n",
    "count = 10\n",
    "harry=5.7"
   ]
  },
  {
   "cell_type": "raw",
   "id": "7a5b026e-8f96-4fa8-8b50-85fe3f0809e3",
   "metadata": {},
   "source": [
    "3. Describe three different data types?"
   ]
  },
  {
   "cell_type": "raw",
   "id": "9f0be3eb-dbed-4c50-b15a-db45367cebb5",
   "metadata": {},
   "source": [
    "Solution:\n",
    "\n",
    "1. Integer (int): Integers represent whole numbers without any fractional or decimal part. They can be positive or negative. For example:\n",
    "    age = 25\n",
    "    In this case, age is a variable of type integer, assigned the value 25.\n",
    "2. String (str): Strings are used to represent textual data. They are sequences of characters enclosed in quotes (single or double). For example:\n",
    "    name = \"John Doe\"\n",
    "    Here, name is a variable of type string, storing the value \"John Doe\".\n",
    "3. Boolean (bool): Booleans represent the truth values True and False. They are often used in logical operations and control flow statements. For example:\n",
    "    is_valid = True\n",
    "    In this case, is_valid is a variable of type boolean, set to the value True."
   ]
  },
  {
   "cell_type": "raw",
   "id": "c52d71f6-bfa0-4485-ab1e-e136edc3565d",
   "metadata": {},
   "source": [
    "4. What is an expression made up of? What do all expressions do?"
   ]
  },
  {
   "cell_type": "raw",
   "id": "8922fcb6-3752-4315-8ac5-62e7d1086786",
   "metadata": {},
   "source": [
    "Solution:\n",
    "\n",
    "Expressions are combinations of values, variables, operators, and function calls that produce a single value when evaluated. They are used to perform computations and manipulate data within a program.\n",
    "For example, consider the following expression:\n",
    "result = 2 * (3 + 4)\n",
    "In this case, the expression (3 + 4) evaluates to 7, and then the expression 2 * 7 further evaluates to 14. The final result, 14, is assigned to the variable result."
   ]
  },
  {
   "cell_type": "raw",
   "id": "e827bcde-4802-433d-b863-29eab548a4ae",
   "metadata": {},
   "source": [
    "5. This assignment statements, like spam = 10. What is the difference between an expression and a statement?"
   ]
  },
  {
   "cell_type": "raw",
   "id": "3fda895e-495d-4127-ac62-ac961b19a272",
   "metadata": {},
   "source": [
    "Solution:\n",
    "\n",
    "spam=10 is a statement & 10 is an expression.\n",
    "\n",
    "An expression is a combination of values, variables, operators, and function calls that evaluates to a single value. It produces a result when executed. Expressions can be used within larger expressions or as standalone entities. For example, 2 + 3 is an expression that evaluates to 5.\n",
    "\n",
    "A statement is a complete instruction or action that performs a specific task. It represents a line of code that carries out an operation or controls the flow of execution. Statements can consist of expressions, but they go beyond just producing a value. Statements often involve assignments, loops, conditionals, function definitions, and other control structures. spam = 10 is an example where the value 10 is assigned to the variable spam."
   ]
  },
  {
   "cell_type": "raw",
   "id": "370480c4-3e63-4d96-90c0-415c4a034665",
   "metadata": {},
   "source": [
    "6. After running the following code, what does the variable bacon contain?\n",
    "bacon = 22\n",
    "bacon + 1"
   ]
  },
  {
   "cell_type": "raw",
   "id": "abe285b4-6bc7-4382-add1-3e37eee4d642",
   "metadata": {},
   "source": [
    "Solution:\n",
    "22"
   ]
  },
  {
   "cell_type": "raw",
   "id": "c51ae7d8-883e-4739-8cc9-f7be1b5737ce",
   "metadata": {},
   "source": [
    "7. What should the values of the following two terms be?\n",
    "'spam'+'spamspam'\n",
    "'spam'*3"
   ]
  },
  {
   "cell_type": "code",
   "execution_count": null,
   "id": "54107e03-6542-46d6-a0c2-e9a8775498b1",
   "metadata": {},
   "outputs": [],
   "source": [
    "Solution:\n",
    "spamspamspam\n",
    "spamspamspam"
   ]
  },
  {
   "cell_type": "raw",
   "id": "161777e3-66b6-432e-8308-9513e46ed281",
   "metadata": {},
   "source": [
    "8. Why is eggs a valid variable name while 100 is invalid?"
   ]
  },
  {
   "cell_type": "raw",
   "id": "e9078b8a-3ec0-4974-80c6-184315e105c8",
   "metadata": {},
   "source": [
    "Solution:\n",
    "\"eggs\" is a valid variable name because it starts with a letter and contains only valid characters. However, \"100\" is an invalid variable name because it starts with a digit, which is not allowed.\n",
    "A variable name has to compulsorily start with letter uppercase or lowercase  or _ it cannot start with number.      "
   ]
  },
  {
   "cell_type": "raw",
   "id": "2bf49d87-f8ef-4524-9c60-86638f61da03",
   "metadata": {},
   "source": [
    "9. What three functions can be used to get the integer, floating-point number, or string version of a value?"
   ]
  },
  {
   "cell_type": "raw",
   "id": "dc24be04-7878-49fe-9ae7-2822ab914e0c",
   "metadata": {},
   "source": [
    "int() function can be used to get the integer version of a value.\n",
    "\n",
    "Example:\n",
    "    \n",
    "number = 10.5\n",
    "integer_number = int(number)\n",
    "print(integer_number)  # Output: 10 \n",
    "\n",
    "The float() function converts a value to a floating-point number.\n",
    "\n",
    "Example:\n",
    "    \n",
    "number = \"3.14\"\n",
    "float_number = float(number)\n",
    "print(float_number)  # Output: 3.14\n",
    "\n",
    "The str() function is used to convert a value to its string representation. \n",
    "\n",
    "Example:\n",
    "\n",
    "number = 42\n",
    "string_number = str(number)\n",
    "print(string_number)  # Output: \"42\"\n"
   ]
  },
  {
   "cell_type": "raw",
   "id": "2bab1442-9c58-4c7e-a221-48df7f2ab43e",
   "metadata": {},
   "source": [
    "10. Why does this expression cause an error? How can you fix it?\n",
    "'I have eaten'+99+'buritos'"
   ]
  },
  {
   "cell_type": "raw",
   "id": "70fdfbf5-9c8b-4326-9d13-5688e843e021",
   "metadata": {},
   "source": [
    "Solution:\n",
    "    \n",
    "Expression is causing an error because string can't be concatenated with integer\n",
    "'I have eaten' is a string\n",
    "99 is an integer\n",
    "'buritos' is a string\n",
    "The expression can be corrected as:\n",
    "'I have eaten'+'99'+'buritos' or  'I have eaten'+ str(99)+'buritos' \n",
    "99 is converted to string and now it's a valid expression since string can be concatenated with string."
   ]
  }
 ],
 "metadata": {
  "kernelspec": {
   "display_name": "Python 3 (ipykernel)",
   "language": "python",
   "name": "python3"
  },
  "language_info": {
   "codemirror_mode": {
    "name": "ipython",
    "version": 3
   },
   "file_extension": ".py",
   "mimetype": "text/x-python",
   "name": "python",
   "nbconvert_exporter": "python",
   "pygments_lexer": "ipython3",
   "version": "3.10.6"
  }
 },
 "nbformat": 4,
 "nbformat_minor": 5
}
