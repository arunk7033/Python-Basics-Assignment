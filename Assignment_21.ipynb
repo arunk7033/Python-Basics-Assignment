{
 "cells": [
  {
   "cell_type": "markdown",
   "id": "48e27239-3301-46a0-92bd-f3d65a9c7e96",
   "metadata": {},
   "source": [
    "# Assignment_21"
   ]
  },
  {
   "cell_type": "markdown",
   "id": "4faf62a9-ce79-4510-8a29-d791173c1049",
   "metadata": {},
   "source": [
    "## 1. Add the current date to the text file today.txt as a string."
   ]
  },
  {
   "cell_type": "code",
   "execution_count": 1,
   "id": "4c417cde-405c-4c89-bfd6-41e30c00cfaf",
   "metadata": {},
   "outputs": [],
   "source": [
    "#Solution\n",
    "from datetime import datetime\n",
    "\n",
    "# Get the current date as a string\n",
    "current_date = datetime.now().strftime(\"%Y-%m-%d %H:%M:%S\")\n",
    "\n",
    "# Specify the file path\n",
    "file_path = \"today.txt\"\n",
    "\n",
    "# Open the file in append mode and write the current date\n",
    "with open(file_path, \"a\") as file:\n",
    "    file.write(current_date + \"\\n\")"
   ]
  },
  {
   "cell_type": "markdown",
   "id": "60927b6b-7adf-4b55-9aa9-f93c5ac54081",
   "metadata": {},
   "source": [
    "## 2. Read the text file today.txt into the string today_string"
   ]
  },
  {
   "cell_type": "code",
   "execution_count": 2,
   "id": "96cbdf1e-dbc4-4040-93aa-0217c8f60983",
   "metadata": {},
   "outputs": [
    {
     "name": "stdout",
     "output_type": "stream",
     "text": [
      "2023-10-29 07:59:39\n",
      "\n"
     ]
    }
   ],
   "source": [
    "#Solution\n",
    "# Specify the file path\n",
    "file_path = \"today.txt\"\n",
    "\n",
    "# Initialize the today_string variable\n",
    "today_string = \"\"\n",
    "\n",
    "# Open the file and read its contents\n",
    "with open(file_path, \"r\") as file:\n",
    "    today_string = file.read()\n",
    "\n",
    "# Print the content to verify\n",
    "print(today_string)"
   ]
  },
  {
   "cell_type": "markdown",
   "id": "1f165555-2c57-4942-a775-084de2591a71",
   "metadata": {},
   "source": [
    "# 3. Parse the date from today_string."
   ]
  },
  {
   "cell_type": "code",
   "execution_count": 7,
   "id": "4414db36-9b90-45a2-8f91-dd7171e2393c",
   "metadata": {},
   "outputs": [
    {
     "name": "stdout",
     "output_type": "stream",
     "text": [
      "2023-10-29\n"
     ]
    }
   ],
   "source": [
    "#Solution\n",
    "from datetime import datetime\n",
    "\n",
    "date_string = today_string.split()[0]  # Extract the date part\n",
    "\n",
    "print(date_string)"
   ]
  },
  {
   "cell_type": "markdown",
   "id": "d284e2a8-8922-49a5-bd82-4027ac856d24",
   "metadata": {},
   "source": [
    "## 4. List the files in your current directory"
   ]
  },
  {
   "cell_type": "code",
   "execution_count": 1,
   "id": "02c11197-ed43-4d1b-bb63-52502812bd85",
   "metadata": {},
   "outputs": [
    {
     "name": "stdout",
     "output_type": "stream",
     "text": [
      "Assignment_20-Copy1.ipynb\n",
      "Untitled Folder\n",
      ".git\n",
      "Assignment_20.ipynb\n",
      "image2.png\n",
      "__pycache__\n",
      "books.db\n",
      "Untitled.ipynb\n",
      ".ipynb_checkpoints\n",
      "today.txt\n",
      "books.csv\n"
     ]
    }
   ],
   "source": [
    "#Solution\n",
    "import os\n",
    "\n",
    "# Get the current directory\n",
    "current_directory = os.getcwd()\n",
    "\n",
    "# List the files in the current directory\n",
    "file_list = os.listdir(current_directory)\n",
    "\n",
    "# Print the list of files\n",
    "for file in file_list:\n",
    "    print(file)"
   ]
  },
  {
   "cell_type": "markdown",
   "id": "684009f1-2934-4271-a744-bd56bfa5b206",
   "metadata": {},
   "source": [
    "## 5. Create a list of all of the files in your parent directory (minimum five files should be available)."
   ]
  },
  {
   "cell_type": "code",
   "execution_count": 2,
   "id": "7866e9f4-8e7c-4933-976a-716868ed0c07",
   "metadata": {},
   "outputs": [
    {
     "name": "stdout",
     "output_type": "stream",
     "text": [
      "Files in the parent directory:\n",
      ".profile\n",
      ".bash_logout\n",
      ".bashrc\n",
      ".ipython\n",
      ".cache\n"
     ]
    }
   ],
   "source": [
    "#Solution\n",
    "\n",
    "import os\n",
    "\n",
    "# Get the current directory path\n",
    "current_directory = os.getcwd()\n",
    "\n",
    "# Get the parent directory path\n",
    "parent_directory = os.path.abspath(os.path.join(current_directory, os.pardir))\n",
    "\n",
    "# List files in the parent directory\n",
    "files_in_parent_directory = os.listdir(parent_directory)\n",
    "\n",
    "# Display the first five files\n",
    "print(\"Files in the parent directory:\")\n",
    "for file in files_in_parent_directory[:5]:\n",
    "    print(file)\n"
   ]
  },
  {
   "cell_type": "markdown",
   "id": "9b98a1f2-b5bd-4993-8424-48cf2267a473",
   "metadata": {},
   "source": [
    "## 6. Use multiprocessing to create three separate processes. Make each one wait a random number of seconds between one and five, print the current time, and then exit."
   ]
  },
  {
   "cell_type": "code",
   "execution_count": 3,
   "id": "39c435ac-24ae-4102-8597-877f5e0191e2",
   "metadata": {},
   "outputs": [
    {
     "name": "stdout",
     "output_type": "stream",
     "text": [
      "Current time: 06:32:58, Process ID: 598\n",
      "Current time: 06:32:59, Process ID: 599\n",
      "Current time: 06:33:00, Process ID: 600\n"
     ]
    }
   ],
   "source": [
    "#Solution\n",
    "import multiprocessing\n",
    "import time\n",
    "import random\n",
    "from datetime import datetime\n",
    "\n",
    "# Function to execute by each process\n",
    "def print_current_time():\n",
    "    # Generate a random sleep time between 1 and 5 seconds\n",
    "    sleep_time = random.randint(1, 5)\n",
    "    \n",
    "    # Wait for the random time\n",
    "    time.sleep(sleep_time)\n",
    "    \n",
    "    # Print the current time after sleeping\n",
    "    current_time = datetime.now().strftime(\"%H:%M:%S\")\n",
    "    print(f\"Current time: {current_time}, Process ID: {multiprocessing.current_process().pid}\")\n",
    "\n",
    "# Create three separate processes\n",
    "processes = []\n",
    "for _ in range(3):\n",
    "    process = multiprocessing.Process(target=print_current_time)\n",
    "    processes.append(process)\n",
    "    process.start()\n",
    "\n",
    "# Wait for all processes to complete\n",
    "for process in processes:\n",
    "    process.join()\n"
   ]
  },
  {
   "cell_type": "markdown",
   "id": "3a846c4f-b08d-413d-ba0a-e2bc0f10edd5",
   "metadata": {},
   "source": [
    "## 7. Create a date object of your day of birth."
   ]
  },
  {
   "cell_type": "code",
   "execution_count": 4,
   "id": "bc782013-1cbd-4241-abd8-25daec4e2746",
   "metadata": {},
   "outputs": [
    {
     "name": "stdout",
     "output_type": "stream",
     "text": [
      "Date of Birth: 1995-01-12\n"
     ]
    }
   ],
   "source": [
    "#Solution\n",
    "from datetime import date\n",
    "\n",
    "my_date_of_birth = date(1995, 1, 12)  # Example: Jan 12, 1995\n",
    "\n",
    "print(\"Date of Birth:\", my_date_of_birth)\n"
   ]
  },
  {
   "cell_type": "markdown",
   "id": "b4f2df25-b828-47f0-ab09-af6bc648a1c1",
   "metadata": {},
   "source": [
    "## 8. What day of the week was your day of birth?"
   ]
  },
  {
   "cell_type": "code",
   "execution_count": 5,
   "id": "89dda072-789a-4ec9-8617-c1e0d65e86f8",
   "metadata": {},
   "outputs": [
    {
     "name": "stdout",
     "output_type": "stream",
     "text": [
      "The day of the week for the date of birth (12 Jan 1995) was: Thursday\n"
     ]
    }
   ],
   "source": [
    "#Solution\n",
    "from datetime import datetime\n",
    "\n",
    "# Create a datetime object for the date of birth\n",
    "date_of_birth = datetime(1995, 1, 12)\n",
    "\n",
    "# Find the day of the week (0 = Monday, 1 = Tuesday, ..., 6 = Sunday)\n",
    "day_of_week = date_of_birth.weekday()\n",
    "\n",
    "# Define a list of days of the week\n",
    "days_of_week = [\"Monday\", \"Tuesday\", \"Wednesday\", \"Thursday\", \"Friday\", \"Saturday\", \"Sunday\"]\n",
    "\n",
    "# Get the day of the week name\n",
    "day_name = days_of_week[day_of_week]\n",
    "\n",
    "print(f\"The day of the week for the date of birth (12 Jan 1995) was: {day_name}\")"
   ]
  },
  {
   "cell_type": "markdown",
   "id": "51f6ef13-78b0-4d41-91ca-96fce9c021a5",
   "metadata": {},
   "source": [
    "## 9. When will you be (or when were you) 10,000 days old?"
   ]
  },
  {
   "cell_type": "code",
   "execution_count": 7,
   "id": "3db80c86-2573-4415-a3c2-64ed86592b6a",
   "metadata": {},
   "outputs": [
    {
     "name": "stdout",
     "output_type": "stream",
     "text": [
      "I would have been 10,000 days old on: 2022-05-30\n"
     ]
    }
   ],
   "source": [
    "#Solution\n",
    "from datetime import datetime, timedelta\n",
    "\n",
    "date_of_birth = datetime(1995, 1, 12)  \n",
    "\n",
    "# Calculate the date 10,000 days from the date of birth\n",
    "ten_thousand_days = date_of_birth + timedelta(days=10000)\n",
    "\n",
    "print(f\"I would have been 10,000 days old on: {ten_thousand_days.date()}\")\n"
   ]
  }
 ],
 "metadata": {
  "kernelspec": {
   "display_name": "Python 3 (ipykernel)",
   "language": "python",
   "name": "python3"
  },
  "language_info": {
   "codemirror_mode": {
    "name": "ipython",
    "version": 3
   },
   "file_extension": ".py",
   "mimetype": "text/x-python",
   "name": "python",
   "nbconvert_exporter": "python",
   "pygments_lexer": "ipython3",
   "version": "3.10.6"
  },
  "toc-showcode": true,
  "toc-showmarkdowntxt": true
 },
 "nbformat": 4,
 "nbformat_minor": 5
}
