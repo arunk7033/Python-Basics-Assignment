{
 "cells": [
  {
   "cell_type": "markdown",
   "id": "44d39ed7-2825-427e-be9e-cdc85ae2bfd6",
   "metadata": {},
   "source": [
    "### Assignment_5"
   ]
  },
  {
   "cell_type": "markdown",
   "id": "27ab7d77-168d-44ed-b8bb-63f74197b284",
   "metadata": {},
   "source": [
    "## 1. What does an empty dictionary&#39;s code look like?"
   ]
  },
  {
   "cell_type": "code",
   "execution_count": null,
   "id": "f74db6e8-70cd-4e0a-abce-fc250e3a324c",
   "metadata": {},
   "outputs": [],
   "source": [
    "#Solution\n",
    "empty_dict = {}"
   ]
  },
  {
   "cell_type": "markdown",
   "id": "a311bf4b-8625-4880-af53-5a31a99f9dd9",
   "metadata": {},
   "source": [
    "## 2. What is the value of a dictionary value with the key &#39;foo&#39; and the value 42?"
   ]
  },
  {
   "cell_type": "code",
   "execution_count": null,
   "id": "a70f7bf9-9291-4536-960f-41426de45fce",
   "metadata": {},
   "outputs": [],
   "source": [
    "#Solution\n",
    "If we have a dictionary with the key 'foo' and the value 42, the value associated with the key 'foo' would be 42. Here's how we could define and access it:\n",
    "    my_dict = {'foo': 42}\n",
    "    value_of_foo = my_dict['foo']\n",
    "    print(value_of_foo)  # Output: 42"
   ]
  },
  {
   "cell_type": "markdown",
   "id": "f8864a03-20f2-4f37-b872-c687da0bee89",
   "metadata": {},
   "source": [
    "## 3. What is the most significant distinction between a dictionary and a list?"
   ]
  },
  {
   "cell_type": "code",
   "execution_count": null,
   "id": "5fd431f1-58b9-4540-9fd8-d04fecb90642",
   "metadata": {},
   "outputs": [],
   "source": [
    "#Solution\n",
    "The most significant distinction between a dictionary and a list in Python is how they store and organize data.\n",
    "1. Data Organization:\n",
    "   Dictionary: A dictionary is an unordered collection of key-value pairs. Each key in a dictionary maps to a specific value, and we can use keys to quickly look up corresponding values. Keys within a dictionary are unique, meaning that each key can appear only once in the dictionary.\n",
    "   List: A list is an ordered collection of elements. Elements in a list are ordered based on their positions, and we access elements using indices. Lists allow duplicate values, and the order of elements is maintained.\n",
    "2. Accessing Data:\n",
    "   Dictionary: In a dictionary, we access values using their associated keys. This provides fast look-up times when we know the key we're looking for.\n",
    "   List: In a list, we access elements using their indices. The index indicates the position of the element in the list.\n",
    "3. Use Cases:\n",
    "   Dictionary: Dictionaries are ideal for scenarios where we want to associate data with specific labels (keys). For example, we might use a dictionary to represent a person's attributes (name, age, address) with keys being the labels for each attribute.\n",
    "   List: Lists are suitable for sequences of data where the order of elements matters. For instance, we could use a list to represent a series of numbers, a list of items in a shopping cart, or a log of events.\n",
    "4. Syntax:\n",
    "   Dictionary: Dictionaries are defined using curly braces {} and key-value pairs separated by colons, like {'key1': value1, 'key2': value2}.\n",
    "   List: Lists are defined using square brackets [] and elements separated by commas, like [element1, element2, element3].   "
   ]
  },
  {
   "cell_type": "markdown",
   "id": "d969ee29-e71e-465f-9030-46349efa0b35",
   "metadata": {},
   "source": [
    "## 4. What happens if you try to access spam['foo'] if spam is {'bar': 100}?"
   ]
  },
  {
   "cell_type": "code",
   "execution_count": 1,
   "id": "9c998cfe-40e8-411a-8311-5f8853f434c1",
   "metadata": {},
   "outputs": [
    {
     "ename": "KeyError",
     "evalue": "'foo'",
     "output_type": "error",
     "traceback": [
      "\u001b[0;31m---------------------------------------------------------------------------\u001b[0m",
      "\u001b[0;31mKeyError\u001b[0m                                  Traceback (most recent call last)",
      "Cell \u001b[0;32mIn [1], line 5\u001b[0m\n\u001b[1;32m      2\u001b[0m spam \u001b[38;5;241m=\u001b[39m {\u001b[38;5;124m'\u001b[39m\u001b[38;5;124mbar\u001b[39m\u001b[38;5;124m'\u001b[39m: \u001b[38;5;241m100\u001b[39m}\n\u001b[1;32m      4\u001b[0m \u001b[38;5;66;03m# This will raise a KeyError because 'foo' is not a key in the dictionary\u001b[39;00m\n\u001b[0;32m----> 5\u001b[0m value \u001b[38;5;241m=\u001b[39m \u001b[43mspam\u001b[49m\u001b[43m[\u001b[49m\u001b[38;5;124;43m'\u001b[39;49m\u001b[38;5;124;43mfoo\u001b[39;49m\u001b[38;5;124;43m'\u001b[39;49m\u001b[43m]\u001b[49m\n",
      "\u001b[0;31mKeyError\u001b[0m: 'foo'"
     ]
    }
   ],
   "source": [
    "#Solution\n",
    "spam = {'bar': 100}\n",
    "\n",
    "# This will raise a KeyError because 'foo' is not a key in the dictionary\n",
    "value = spam['foo']\n"
   ]
  },
  {
   "cell_type": "markdown",
   "id": "bec7b475-b41b-4990-ae2a-96e5147789fa",
   "metadata": {},
   "source": [
    "## 5. If a dictionary is stored in spam, what is the difference between the expressions 'cat' in spam and 'cat' in spam.keys()? "
   ]
  },
  {
   "cell_type": "code",
   "execution_count": null,
   "id": "6bc05aff-13a0-457b-b41c-6add2c9818d9",
   "metadata": {},
   "outputs": [],
   "source": [
    "#Solution\n",
    "The expressions 'cat' in spam and 'cat' in spam.keys() both check for the presence of the key 'cat' in the dictionary stored in the variable spam. However, there is a slight difference in their behavior:\n",
    "1. 'cat' in spam:\n",
    "This expression checks if the key 'cat' exists in the dictionary spam. It returns a boolean value, True if the key exists, and False otherwise. This check is performed directly on the keys of the dictionary.  \n",
    "    spam = {'cat': 42, 'dog': 73}\n",
    "    print('cat' in spam)  # Output: True\n",
    "    print('elephant' in spam)  # Output: False\n",
    "2. 'cat' in spam.keys():\n",
    "This expression explicitly checks if the key 'cat' exists in the list of keys obtained using the keys() method of the dictionary. It also returns a boolean value, True if the key exists, and False otherwise. While this approach is less common, it can be useful when we want to work with just the keys separately.\n",
    "    spam = {'cat': 42, 'dog': 73}\n",
    "    print('cat' in spam.keys())  # Output: True\n",
    "    print('elephant' in spam.keys())  # Output: False"
   ]
  },
  {
   "cell_type": "markdown",
   "id": "6c862e48-4b02-4c52-a0b9-52fd2589cb86",
   "metadata": {},
   "source": [
    "## 6. If a dictionary is stored in spam, what is the difference between the expressions 'cat' in spam and 'cat' in spam.values()?"
   ]
  },
  {
   "cell_type": "code",
   "execution_count": null,
   "id": "1e7504ac-c452-4611-8089-f0bbce5bfe54",
   "metadata": {},
   "outputs": [],
   "source": [
    "#Solution\n",
    "1. 'cat' in spam checks for the presence of the key 'cat' in the dictionary's keys.\n",
    "    Example:\n",
    "    spam = {'animal': 'cat', 'color': 'blue'}\n",
    "    print('cat' in spam.values())  # Output: True\n",
    "    print('dog' in spam.values())  # Output: False\n",
    "\n",
    "2. 'cat' in spam.values() checks for the presence of the value 'cat' in the dictionary's values.\n",
    "    Example:\n",
    "    spam = {'animal': 'cat', 'color': 'blue'}\n",
    "    print('cat' in spam.values())  # Output: True\n",
    "    print('dog' in spam.values())  # Output: False"
   ]
  },
  {
   "cell_type": "markdown",
   "id": "1d315249-9370-43fa-8a43-ba39c55443b8",
   "metadata": {},
   "source": [
    "## 7. What is a shortcut for the following code?\n",
    "## if 'color' not in spam:\n",
    "## spam['color'] ='black'"
   ]
  },
  {
   "cell_type": "code",
   "execution_count": 3,
   "id": "b85f6138-f8df-417b-9db4-fe8bc5de60c1",
   "metadata": {},
   "outputs": [
    {
     "ename": "SyntaxError",
     "evalue": "unterminated string literal (detected at line 4) (3051000969.py, line 4)",
     "output_type": "error",
     "traceback": [
      "\u001b[0;36m  Cell \u001b[0;32mIn [3], line 4\u001b[0;36m\u001b[0m\n\u001b[0;31m    The setdefault() method checks if the key 'color' exists in the dictionary spam. If it doesn't exist, it adds the key with the specified default value 'black'. If the key already exists, it does nothing.\u001b[0m\n\u001b[0m                                                                                                                                                                 ^\u001b[0m\n\u001b[0;31mSyntaxError\u001b[0m\u001b[0;31m:\u001b[0m unterminated string literal (detected at line 4)\n"
     ]
    }
   ],
   "source": [
    "#Solution\n",
    "The shortcut for the code you provided, using the setdefault() method, would be as follows:\n",
    "    spam.setdefault('color', 'black')\n",
    "The setdefault() method checks if the key 'color' exists in the dictionary spam. If it doesn't exist, it adds the key with the specified default value 'black'. If the key already exists, it does nothing."
   ]
  },
  {
   "cell_type": "markdown",
   "id": "edbbae26-97d2-4591-a698-f2def8ce19ed",
   "metadata": {},
   "source": [
    "## 8. How do you 'pretty print' dictionary values using which module and function?"
   ]
  },
  {
   "cell_type": "code",
   "execution_count": null,
   "id": "d154c80d-eef9-48d4-9ed0-4164d8be3ae0",
   "metadata": {},
   "outputs": [],
   "source": [
    "#Solution\n",
    "\n",
    "To \"pretty print\" dictionary values in Python, we can use the pprint module, which stands for \"pretty print.\" The pprint module provides a function called pprint() that formats and displays data structures, including dictionaries, in a more human-readable and organized format. This is particularly useful for printing nested and complex structures.\n",
    "Here's how you can use the pprint() function from the pprint module to pretty print a dictionary:\n",
    "    import pprint\n",
    "\n",
    "    my_dict = {\n",
    "        'name': 'John',\n",
    "        'age': 30,\n",
    "        'address': {\n",
    "            'street': '123 Main St',\n",
    "            'city': 'Anytown',\n",
    "            'state': 'CA'\n",
    "        }\n",
    "    }\n",
    "\n",
    "    pprint.pprint(my_dict)\n",
    "This will output the dictionary in a formatted and indented manner that makes it easier to read, especially when dealing with nested dictionaries or other complex structures."
   ]
  },
  {
   "cell_type": "code",
   "execution_count": 2,
   "id": "6362bbe0-a061-48ba-863f-0893d7826d10",
   "metadata": {},
   "outputs": [
    {
     "name": "stdout",
     "output_type": "stream",
     "text": [
      "{'address': {'city': 'Anytown', 'state': 'CA', 'street': '123 Main St'},\n",
      " 'age': 30,\n",
      " 'name': 'John'}\n"
     ]
    }
   ],
   "source": [
    "import pprint\n",
    "\n",
    "my_dict = {\n",
    "    'name': 'John',\n",
    "    'age': 30,\n",
    "    'address': {\n",
    "        'street': '123 Main St',\n",
    "        'city': 'Anytown',\n",
    "        'state': 'CA'\n",
    "    }\n",
    "}\n",
    "\n",
    "pprint.pprint(my_dict)\n"
   ]
  }
 ],
 "metadata": {
  "kernelspec": {
   "display_name": "Python 3 (ipykernel)",
   "language": "python",
   "name": "python3"
  },
  "language_info": {
   "codemirror_mode": {
    "name": "ipython",
    "version": 3
   },
   "file_extension": ".py",
   "mimetype": "text/x-python",
   "name": "python",
   "nbconvert_exporter": "python",
   "pygments_lexer": "ipython3",
   "version": "3.10.6"
  }
 },
 "nbformat": 4,
 "nbformat_minor": 5
}
