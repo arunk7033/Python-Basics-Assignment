{
 "cells": [
  {
   "cell_type": "markdown",
   "id": "48e27239-3301-46a0-92bd-f3d65a9c7e96",
   "metadata": {},
   "source": [
    "# Assignment_10"
   ]
  },
  {
   "cell_type": "markdown",
   "id": "4faf62a9-ce79-4510-8a29-d791173c1049",
   "metadata": {},
   "source": [
    "##  1. How do you distinguish between shutil.copy() and shutil.copytree()?"
   ]
  },
  {
   "cell_type": "code",
   "execution_count": null,
   "id": "2295f8d2-2db3-4031-a14b-e02c9f6b36d8",
   "metadata": {},
   "outputs": [],
   "source": [
    "#Solution\n",
    "shutil.copy() and shutil.copytree() are two functions in the Python shutil module used for copying files and directories, respectively. Here's how we can distinguish between them:\n",
    "\n",
    "1. shutil.copy(src, dst):\n",
    "shutil.copy() is used to copy a single file from the source path (src) to the destination path (dst).\n",
    "It creates a copy of the source file at the destination location, but it does not copy directories or their contents.\n",
    "If the destination is an existing file, it will be overwritten. If it's a directory, it will raise an error.\n",
    "Example:\n",
    "    import shutil\n",
    "    shutil.copy(\"source_file.txt\", \"destination_file.txt\")\n",
    "    \n",
    "2. shutil.copytree(src, dst, symlinks=False, ignore=None):\n",
    "shutil.copytree() is used to copy an entire directory tree from the source directory (src) to the destination directory (dst).\n",
    "It copies the source directory, along with all its subdirectories and files, to the destination location. It creates a new directory structure that mirrors the source.\n",
    "By default, symbolic links within the source tree are not followed (symlinks=False), but we can set this to True if we want to follow them.\n",
    "We can also specify an optional ignore argument to provide a callable that determines which files or directories to ignore during the copy operation.\n",
    "Example:\n",
    "    import shutil\n",
    "    shutil.copytree(\"source_directory\", \"destination_directory\")\n",
    "    \n",
    "In summary, shutil.copy() is used for copying individual files, while shutil.copytree() is used for copying entire directory trees, including all their contents. The appropriate function to use depends on whether we need to copy a single file or a directory with its contents."
   ]
  },
  {
   "cell_type": "markdown",
   "id": "60927b6b-7adf-4b55-9aa9-f93c5ac54081",
   "metadata": {},
   "source": [
    "## 2. What function is used to rename files??"
   ]
  },
  {
   "cell_type": "code",
   "execution_count": null,
   "id": "7053bfa3-3e24-4049-99d3-166000bcefab",
   "metadata": {},
   "outputs": [],
   "source": [
    "#Solution\n",
    "To rename files in Python, we can use the os.rename() function from the os module. Here's how we can use it:\n",
    "\n",
    "    import os\n",
    "\n",
    "    # Define the current file name and the new file name\n",
    "    current_file_name = \"old_file.txt\"\n",
    "    new_file_name = \"new_file.txt\"\n",
    "\n",
    "    # Use os.rename to rename the file\n",
    "    os.rename(current_file_name, new_file_name)\n",
    "\n",
    "In this example, os.rename() takes two arguments: the current file name (including its path if necessary) and the new file name (including its path if necessary). It renames the file specified by current_file_name to the new name specified by new_file_name."
   ]
  },
  {
   "cell_type": "markdown",
   "id": "639a0b20-e784-42f1-9a26-74fa2b31c18f",
   "metadata": {},
   "source": [
    "## 3. What is the difference between the delete functions in the send2trash and shutil modules?"
   ]
  },
  {
   "cell_type": "code",
   "execution_count": null,
   "id": "203918f5-9c09-44df-bfbb-5c76c0aea9fb",
   "metadata": {},
   "outputs": [],
   "source": [
    "#Solution\n",
    "Both the send2trash and shutil modules in Python provide functions to delete files and directories, but they have some differences in terms of their behavior and purpose:\n",
    "1. send2trash Module:\n",
    "Purpose: The primary purpose of the send2trash module is to move files and directories to the system's trash or recycle bin instead of permanently deleting them. This module is useful when we want to give users a chance to recover deleted files, similar to how files are moved to the trash/recycle bin when deleted through a file manager.\n",
    "Function: The primary function in the send2trash module is send2trash().\n",
    "Behavior: When you use send2trash(), it sends the specified file or directory to the trash or recycle bin, making it possible to recover the item later if needed. This provides a level of safety, as the deletion is not permanent.\n",
    "Example:\n",
    "    from send2trash import send2trash\n",
    "    send2trash(\"file_to_delete.txt\")\n",
    "    \n",
    "2. shutil Module:\n",
    "Purpose: The shutil module is more focused on file and directory operations like copying, moving, and deleting, but its shutil.rmtree() function can be used to permanently delete directories and their contents.\n",
    "Function: The relevant function in the shutil module for deleting directories is shutil.rmtree().\n",
    "Behavior: shutil.rmtree() is used to delete a directory and all its contents, including subdirectories and files, permanently. It doesn't move items to the trash or recycle bin; they are gone for good.\n",
    "Example:\n",
    "    import shutil\n",
    "    shutil.rmtree(\"directory_to_delete\")"
   ]
  },
  {
   "cell_type": "markdown",
   "id": "d284e2a8-8922-49a5-bd82-4027ac856d24",
   "metadata": {},
   "source": [
    "## 4.ZipFile objects have a close() method just like File objects’ close() method. What ZipFile method is equivalent to File objects’ open() method?"
   ]
  },
  {
   "cell_type": "code",
   "execution_count": null,
   "id": "19821ff3-fcf4-449d-98ee-64907dbbf235",
   "metadata": {},
   "outputs": [],
   "source": [
    "#Solution\n",
    "The equivalent method in the zipfile module to File objects' open() method is the zipfile.ZipFile() constructor. This constructor is used to create a ZipFile object, which allows us to work with ZIP archive files.\n",
    "Here's how we typically use it:\n",
    "\n",
    "    import zipfile\n",
    "\n",
    "    # Open a ZIP file for reading (you can also use 'w' for writing or 'a' for appending)\n",
    "    with zipfile.ZipFile('example.zip', 'r') as zip_file:\n",
    "        # Perform operations on the ZIP file using the zip_file object\n",
    "        # ...\n",
    "    # The ZIP file is automatically closed when the 'with' block is exited\n",
    "    \n",
    "In the example above, zipfile.ZipFile('example.zip', 'r') is equivalent to File objects' open() method for opening a file. It creates a ZipFile object that we can use to read, write, or manipulate the contents of the ZIP archive. The 'example.zip' argument specifies the path to the ZIP file, and 'r' indicates that the file should be opened for reading.\n",
    "Remember to use the with statement as shown in the example to ensure that the ZipFile is properly closed when we're done with it, just like we would with regular file objects."
   ]
  },
  {
   "cell_type": "markdown",
   "id": "684009f1-2934-4271-a744-bd56bfa5b206",
   "metadata": {},
   "source": [
    "## 5. Create a programme that searches a folder tree for files with a certain file extension (such as .pdf or .jpg). Copy these files from whatever location they are in to a new folder."
   ]
  },
  {
   "cell_type": "code",
   "execution_count": null,
   "id": "d2081e91-c2e6-4e7d-b452-72ab66d78167",
   "metadata": {},
   "outputs": [],
   "source": [
    "#Solution\n",
    "import os\n",
    "import shutil\n",
    "\n",
    "def copy_files_with_extension(source_folder, destination_folder, extension):\n",
    "    try:\n",
    "        # Create the destination folder if it doesn't exist\n",
    "        if not os.path.exists(destination_folder):\n",
    "            os.makedirs(destination_folder)\n",
    "\n",
    "        # Walk through the source folder and its subdirectories\n",
    "        for foldername, subfolders, filenames in os.walk(source_folder):\n",
    "            for filename in filenames:\n",
    "                if filename.endswith(extension):\n",
    "                    source_path = os.path.join(foldername, filename)\n",
    "                    destination_path = os.path.join(destination_folder, filename)\n",
    "\n",
    "                    # Copy the file to the destination folder\n",
    "                    shutil.copy(source_path, destination_path)\n",
    "                    print(f\"Copying: {source_path} -> {destination_path}\")\n",
    "\n",
    "        print(\"Files copied successfully!\")\n",
    "\n",
    "    except Exception as e:\n",
    "        print(f\"An error occurred: {str(e)}\")\n",
    "\n",
    "if __name__ == \"__main__\":\n",
    "    source_folder = \"/path/to/source_folder\"  #source folder path\n",
    "    destination_folder = \"/path/to/destination_folder\"  # destination folder path\n",
    "    extension = \".pdf\"  # file extension we want to search for\n",
    "\n",
    "    copy_files_with_extension(source_folder, destination_folder, extension)"
   ]
  }
 ],
 "metadata": {
  "kernelspec": {
   "display_name": "Python 3 (ipykernel)",
   "language": "python",
   "name": "python3"
  },
  "language_info": {
   "codemirror_mode": {
    "name": "ipython",
    "version": 3
   },
   "file_extension": ".py",
   "mimetype": "text/x-python",
   "name": "python",
   "nbconvert_exporter": "python",
   "pygments_lexer": "ipython3",
   "version": "3.10.6"
  }
 },
 "nbformat": 4,
 "nbformat_minor": 5
}
