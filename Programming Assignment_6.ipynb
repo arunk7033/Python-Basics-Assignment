{
 "cells": [
  {
   "cell_type": "code",
   "execution_count": null,
   "id": "5e7b56c9-3fd3-41dd-8bf7-cc06ffe97090",
   "metadata": {},
   "outputs": [],
   "source": [
    "1. Write a Python Program to Display Fibonacci Sequence Using Recursion?"
   ]
  },
  {
   "cell_type": "code",
   "execution_count": null,
   "id": "c99583d4-6d85-43e3-b352-d34ba269978b",
   "metadata": {},
   "outputs": [],
   "source": [
    "#Solution:\n",
    "def fibonacci(n):\n",
    "    if n <= 0:\n",
    "        return []\n",
    "    elif n == 1:\n",
    "        return [0]\n",
    "    elif n == 2:\n",
    "        return [0, 1]\n",
    "    else:\n",
    "        sequence = fibonacci(n - 1)\n",
    "        sequence.append(sequence[-1] + sequence[-2])\n",
    "        return sequence\n",
    "\n",
    "# Get the input from the user\n",
    "terms = int(input(\"Enter the number of terms: \"))\n",
    "\n",
    "# Call the fibonacci function and display the sequence\n",
    "fib_seq = fibonacci(terms)\n",
    "print(\"Fibonacci Sequence:\")\n",
    "print(fib_seq)\n"
   ]
  },
  {
   "cell_type": "code",
   "execution_count": null,
   "id": "117e1f78-84ae-4089-8df3-2b944ca6e2a2",
   "metadata": {},
   "outputs": [],
   "source": [
    "2. Write a Python Program to Find Factorial of Number Using Recursion?"
   ]
  },
  {
   "cell_type": "code",
   "execution_count": 1,
   "id": "3f5bd7ed-1ba5-40d7-912e-e24b4304a4ea",
   "metadata": {},
   "outputs": [
    {
     "name": "stdin",
     "output_type": "stream",
     "text": [
      "Enter the number of terms:  5\n"
     ]
    },
    {
     "name": "stdout",
     "output_type": "stream",
     "text": [
      "Fibonacci Sequence:\n",
      "[0, 1, 1, 2, 3]\n"
     ]
    }
   ],
   "source": [
    "#Solution:\n",
    "def fibonacci(n):\n",
    "    if n <= 0:\n",
    "        return []\n",
    "    elif n == 1:\n",
    "        return [0]\n",
    "    elif n == 2:\n",
    "        return [0, 1]\n",
    "    else:\n",
    "        sequence = fibonacci(n - 1)\n",
    "        sequence.append(sequence[-1] + sequence[-2])\n",
    "        return sequence\n",
    "\n",
    "# Get the input from the user\n",
    "terms = int(input(\"Enter the number of terms: \"))\n",
    "\n",
    "# Call the fibonacci function and display the sequence\n",
    "fib_seq = fibonacci(terms)\n",
    "print(\"Fibonacci Sequence:\")\n",
    "print(fib_seq)"
   ]
  },
  {
   "cell_type": "code",
   "execution_count": null,
   "id": "7a1a0f10-68b0-437d-8270-c417654ddd48",
   "metadata": {},
   "outputs": [],
   "source": [
    "3. Write a Python Program to calculate your Body Mass Index?"
   ]
  },
  {
   "cell_type": "code",
   "execution_count": null,
   "id": "dd212b4c-d348-4883-8ee1-36f4d7caa3fa",
   "metadata": {},
   "outputs": [],
   "source": [
    "#Solution:\n",
    "def calculate_bmi(weight, height):\n",
    "    bmi = weight / (height ** 2)\n",
    "    return bmi\n",
    "\n",
    "# Get the input from the user\n",
    "weight = float(input(\"Enter your weight in kilograms: \"))\n",
    "height = float(input(\"Enter your height in meters: \"))\n",
    "\n",
    "# Calculate the BMI\n",
    "bmi = calculate_bmi(weight, height)\n",
    "\n",
    "# Display the BMI\n",
    "print(\"Your Body Mass Index (BMI) is:\", bmi)\n"
   ]
  },
  {
   "cell_type": "code",
   "execution_count": null,
   "id": "ba73131f-1f77-4186-8316-4ee6a375e1da",
   "metadata": {},
   "outputs": [],
   "source": [
    "4. Write a Python Program to calculate the natural logarithm of any number?"
   ]
  },
  {
   "cell_type": "code",
   "execution_count": 2,
   "id": "e45f526f-b11e-4cba-8ded-f7d6e6f758b3",
   "metadata": {},
   "outputs": [
    {
     "name": "stdin",
     "output_type": "stream",
     "text": [
      "Enter a number:  12\n"
     ]
    },
    {
     "name": "stdout",
     "output_type": "stream",
     "text": [
      "The natural logarithm of 12.0 is 2.4849066497880004\n"
     ]
    }
   ],
   "source": [
    "#Solution:\n",
    "import math\n",
    "\n",
    "number = float(input(\"Enter a number: \"))\n",
    "\n",
    "natural_log = math.log(number)\n",
    "\n",
    "print(\"The natural logarithm of\", number, \"is\", natural_log)"
   ]
  },
  {
   "cell_type": "code",
   "execution_count": null,
   "id": "2efdcf86-1b20-4361-92e4-16e4c2ba1a76",
   "metadata": {},
   "outputs": [],
   "source": [
    "5. Write a Python Program for cube sum of first n natural numbers?"
   ]
  },
  {
   "cell_type": "code",
   "execution_count": null,
   "id": "9fcab44b-bb05-4809-8b88-9c87257cf2b8",
   "metadata": {},
   "outputs": [],
   "source": [
    "#Solution:\n",
    "def cube_sum(n):\n",
    "    sum_of_cubes = 0\n",
    "    for i in range(1, n+1):\n",
    "        sum_of_cubes += i ** 3\n",
    "    return sum_of_cubes\n",
    "\n",
    "# Get the input from the user\n",
    "n = int(input(\"Enter the value of n: \"))\n",
    "\n",
    "# Calculate the cube sum\n",
    "result = cube_sum(n)\n",
    "\n",
    "# Display the result\n",
    "print(\"The cube sum of the first\", n, \"natural numbers is:\", result)"
   ]
  },
  {
   "cell_type": "code",
   "execution_count": null,
   "id": "73d48ba6-a63a-4cac-ba04-85795c2cdfc8",
   "metadata": {},
   "outputs": [],
   "source": []
  }
 ],
 "metadata": {
  "kernelspec": {
   "display_name": "Python 3 (ipykernel)",
   "language": "python",
   "name": "python3"
  },
  "language_info": {
   "codemirror_mode": {
    "name": "ipython",
    "version": 3
   },
   "file_extension": ".py",
   "mimetype": "text/x-python",
   "name": "python",
   "nbconvert_exporter": "python",
   "pygments_lexer": "ipython3",
   "version": "3.10.6"
  }
 },
 "nbformat": 4,
 "nbformat_minor": 5
}
